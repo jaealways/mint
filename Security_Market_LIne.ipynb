{
 "cells": [
  {
   "cell_type": "code",
   "execution_count": 12,
   "metadata": {
    "collapsed": true
   },
   "outputs": [],
   "source": [
    "from pymongo import MongoClient\n",
    "import pandas as pd\n",
    "import numpy as np\n"
   ]
  },
  {
   "cell_type": "code",
   "execution_count": 13,
   "outputs": [],
   "source": [
    "client = MongoClient('localhost', 27017)\n",
    "\n",
    "db1 = client.music_cow\n",
    "col1 = db1.daily_music_cow\n",
    "col2 = db1.MCPI"
   ],
   "metadata": {
    "collapsed": false,
    "pycharm": {
     "name": "#%%\n"
    }
   }
  },
  {
   "cell_type": "code",
   "execution_count": 14,
   "outputs": [],
   "source": [
    "list_price = col1.find({}, {'num': {\"$slice\": [1, 1]}})\n",
    "list_index = col2.find({}, {'num': {\"$slice\": [1, 1]}})\n",
    "\n",
    "data = []\n",
    "df_price = pd.DataFrame(data, columns=['num'])\n",
    "df_index = pd.DataFrame(data, columns=['num'])"
   ],
   "metadata": {
    "collapsed": false,
    "pycharm": {
     "name": "#%%\n"
    }
   }
  },
  {
   "cell_type": "code",
   "execution_count": 19,
   "outputs": [],
   "source": [
    "for x in list_price:\n",
    "    temp_price = x.copy()\n",
    "    # del(temp_price['num'], temp_price['_id'], temp_price['song_title'], temp_price['song_artist'])\n",
    "    temp_price.pop('num'), temp_price.pop('_id'), temp_price.pop('song_title'), temp_price.pop('song_artist')\n",
    "    temp_date = {}\n",
    "    for key, value in temp_price.items():\n",
    "        temp_date[key] = value['price']\n",
    "    temp_date['num'] = x['num']\n",
    "    df_price = df_price.append(temp_date, ignore_index=True)"
   ],
   "metadata": {
    "collapsed": false,
    "pycharm": {
     "name": "#%%\n"
    }
   }
  },
  {
   "cell_type": "code",
   "execution_count": 16,
   "outputs": [],
   "source": [
    "for y in list_index:\n",
    "    df_index = df_index.append(y, ignore_index=True)"
   ],
   "metadata": {
    "collapsed": false,
    "pycharm": {
     "name": "#%%\n"
    }
   }
  },
  {
   "cell_type": "code",
   "execution_count": 17,
   "outputs": [
    {
     "name": "stdout",
     "output_type": "stream",
     "text": [
      "                             _id   song_title song_artist          2021-06-03  \\\n",
      "num                                                                             \n",
      "26.0    60b8d3d89e56625d44278ac3  I'm in love          라디  {'price': '29000'}   \n",
      "27.0    60b8d3d89e56625d44278ac4         연애시대         이승기  {'price': '26000'}   \n",
      "28.0    60b8d3d99e56625d44278ac5           엄마          라디  {'price': '24000'}   \n",
      "29.0    60b8d3d99e56625d44278ac6      I Can't         2PM  {'price': '52800'}   \n",
      "30.0    60b8d3d99e56625d44278ac7        오랜만이죠          라디  {'price': '13500'}   \n",
      "...                          ...          ...         ...                 ...   \n",
      "1550.0  60f422a51060c941e0888446         그 길에         임한별                 NaN   \n",
      "1551.0  60f422a51060c941e0888448           너를          이우                 NaN   \n",
      "1556.0  60f422a51060c941e088844a        Hello          소향                 NaN   \n",
      "1558.0  60f422a51060c941e088844c       돌아버리겠네         아웃렛                 NaN   \n",
      "1559.0  60f422a51060c941e088844e   She's Gone    G-DRAGON                 NaN   \n",
      "\n",
      "                2021-06-04          2021-06-05          2021-06-06  \\\n",
      "num                                                                  \n",
      "26.0    {'price': '29000'}  {'price': '29000'}  {'price': '28500'}   \n",
      "27.0    {'price': '26000'}  {'price': '26000'}  {'price': '26000'}   \n",
      "28.0    {'price': '24000'}  {'price': '23700'}  {'price': '23500'}   \n",
      "29.0    {'price': '52800'}  {'price': '52800'}  {'price': '52800'}   \n",
      "30.0    {'price': '13500'}  {'price': '13500'}  {'price': '13500'}   \n",
      "...                    ...                 ...                 ...   \n",
      "1550.0                 NaN                 NaN                 NaN   \n",
      "1551.0                 NaN                 NaN                 NaN   \n",
      "1556.0                 NaN                 NaN                 NaN   \n",
      "1558.0                 NaN                 NaN                 NaN   \n",
      "1559.0                 NaN                 NaN                 NaN   \n",
      "\n",
      "                2021-06-07          2021-06-08          2021-06-09  ...  \\\n",
      "num                                                                 ...   \n",
      "26.0    {'price': '29100'}  {'price': '29100'}  {'price': '27700'}  ...   \n",
      "27.0    {'price': '26000'}  {'price': '26000'}  {'price': '26000'}  ...   \n",
      "28.0    {'price': '24900'}  {'price': '24900'}  {'price': '24900'}  ...   \n",
      "29.0    {'price': '52800'}  {'price': '52800'}  {'price': '52800'}  ...   \n",
      "30.0    {'price': '13500'}  {'price': '13500'}  {'price': '13500'}  ...   \n",
      "...                    ...                 ...                 ...  ...   \n",
      "1550.0                 NaN                 NaN                 NaN  ...   \n",
      "1551.0                 NaN                 NaN                 NaN  ...   \n",
      "1556.0                 NaN                 NaN                 NaN  ...   \n",
      "1558.0                 NaN                 NaN                 NaN  ...   \n",
      "1559.0                 NaN                 NaN                 NaN  ...   \n",
      "\n",
      "                 2021-10-21           2021-10-22           2021-10-23  \\\n",
      "num                                                                     \n",
      "26.0     {'price': '37900'}   {'price': '36500'}   {'price': '37000'}   \n",
      "27.0     {'price': '40200'}   {'price': '40200'}   {'price': '40200'}   \n",
      "28.0     {'price': '30000'}   {'price': '33300'}   {'price': '30100'}   \n",
      "29.0    {'price': '105000'}  {'price': '122000'}  {'price': '122000'}   \n",
      "30.0     {'price': '32200'}   {'price': '30000'}   {'price': '30000'}   \n",
      "...                     ...                  ...                  ...   \n",
      "1550.0   {'price': '19000'}   {'price': '19000'}   {'price': '18900'}   \n",
      "1551.0   {'price': '22200'}   {'price': '20500'}   {'price': '24500'}   \n",
      "1556.0   {'price': '41000'}   {'price': '52900'}   {'price': '49700'}   \n",
      "1558.0   {'price': '20000'}   {'price': '18800'}   {'price': '19600'}   \n",
      "1559.0   {'price': '19900'}   {'price': '19900'}   {'price': '19900'}   \n",
      "\n",
      "                 2021-10-24           2021-10-25           2021-10-26  \\\n",
      "num                                                                     \n",
      "26.0     {'price': '36900'}   {'price': '36900'}   {'price': '36500'}   \n",
      "27.0     {'price': '40200'}   {'price': '47000'}   {'price': '47000'}   \n",
      "28.0     {'price': '30200'}   {'price': '33300'}   {'price': '33300'}   \n",
      "29.0    {'price': '122000'}  {'price': '122000'}  {'price': '122000'}   \n",
      "30.0     {'price': '38000'}   {'price': '38000'}   {'price': '30100'}   \n",
      "...                     ...                  ...                  ...   \n",
      "1550.0   {'price': '17500'}   {'price': '17500'}   {'price': '17700'}   \n",
      "1551.0   {'price': '25000'}   {'price': '23800'}   {'price': '24500'}   \n",
      "1556.0   {'price': '49700'}   {'price': '49700'}   {'price': '42000'}   \n",
      "1558.0   {'price': '20400'}   {'price': '20000'}   {'price': '19000'}   \n",
      "1559.0   {'price': '18500'}   {'price': '18500'}   {'price': '17800'}   \n",
      "\n",
      "                 2021-10-27           2021-10-28           2021-10-29  \\\n",
      "num                                                                     \n",
      "26.0     {'price': '36700'}   {'price': '36500'}   {'price': '34200'}   \n",
      "27.0     {'price': '40300'}   {'price': '40300'}   {'price': '40300'}   \n",
      "28.0     {'price': '33300'}   {'price': '33300'}   {'price': '30000'}   \n",
      "29.0    {'price': '103100'}  {'price': '103100'}  {'price': '103100'}   \n",
      "30.0     {'price': '30000'}   {'price': '30000'}   {'price': '30000'}   \n",
      "...                     ...                  ...                  ...   \n",
      "1550.0   {'price': '17700'}   {'price': '17700'}   {'price': '15800'}   \n",
      "1551.0   {'price': '23600'}   {'price': '21100'}   {'price': '21500'}   \n",
      "1556.0   {'price': '49800'}   {'price': '45000'}   {'price': '45000'}   \n",
      "1558.0   {'price': '20400'}   {'price': '18700'}   {'price': '18800'}   \n",
      "1559.0   {'price': '18900'}   {'price': '18900'}   {'price': '18700'}   \n",
      "\n",
      "                 2021-10-30  \n",
      "num                          \n",
      "26.0     {'price': '34200'}  \n",
      "27.0     {'price': '40300'}  \n",
      "28.0     {'price': '30100'}  \n",
      "29.0    {'price': '103100'}  \n",
      "30.0     {'price': '30000'}  \n",
      "...                     ...  \n",
      "1550.0   {'price': '17900'}  \n",
      "1551.0   {'price': '21500'}  \n",
      "1556.0   {'price': '53100'}  \n",
      "1558.0   {'price': '18900'}  \n",
      "1559.0   {'price': '18700'}  \n",
      "\n",
      "[814 rows x 153 columns]\n",
      "                        _id  \\\n",
      "0  614dd29ba5dcfb21284b307d   \n",
      "\n",
      "                                                  19  \\\n",
      "0  [None, None, None, None, None, None, None, Non...   \n",
      "\n",
      "                                                  20  \\\n",
      "0  [None, None, None, None, None, None, None, Non...   \n",
      "\n",
      "                                                  21 Title  \n",
      "0  {'01': [None, None, None, None, None, None, No...  MCPI  \n"
     ]
    }
   ],
   "source": [
    "df_price.to_pickle('df_price.pkl')\n",
    "df_index.to_pickle('df_index.pkl')\n",
    "\n",
    "print(df_price)\n",
    "print(df_index)\n"
   ],
   "metadata": {
    "collapsed": false,
    "pycharm": {
     "name": "#%%\n"
    }
   }
  }
 ],
 "metadata": {
  "kernelspec": {
   "name": "pycharm-8f91120b",
   "language": "python",
   "display_name": "PyCharm (music_cow)"
  },
  "language_info": {
   "codemirror_mode": {
    "name": "ipython",
    "version": 2
   },
   "file_extension": ".py",
   "mimetype": "text/x-python",
   "name": "python",
   "nbconvert_exporter": "python",
   "pygments_lexer": "ipython2",
   "version": "2.7.6"
  }
 },
 "nbformat": 4,
 "nbformat_minor": 0
}