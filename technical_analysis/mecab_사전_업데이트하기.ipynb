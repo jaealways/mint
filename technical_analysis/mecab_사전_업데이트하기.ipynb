{
 "cells": [
  {
   "cell_type": "code",
   "execution_count": null,
   "id": "cb385710",
   "metadata": {},
   "outputs": [],
   "source": [
    "# user-dic 폴더의 사전 업데이트\n",
    "from pymongo import MongoClient\n",
    "client = MongoClient('localhost', 27017)\n",
    "db = client.music_cow\n",
    "col = db.genie_list\n",
    "import csv\n",
    "\n",
    "\n",
    "data = col.find({}, {'num':{'$slice':[1, 1]}})\n",
    "append = list(map(lambda x:x['song_title'],data))\n",
    "f = open('C:/mecab/user-dic/nnp.csv', 'w', newline='', encoding='utf8')\n",
    "\n",
    "for i in append:\n",
    "    print(i)\n",
    "    text = '{0},,,,NNP,*,F,{0},*,*,*,*,*'.format(i)\n",
    "    wr=csv.writer(f,delimiter=' ',escapechar=' ', quoting=csv.QUOTE_NONE)\n",
    "    wr.writerow([text])\n",
    "    \n",
    "f.close()\n",
    "\n",
    "f = open('C:/mecab/user-dic/nnp.csv', 'r', newline='', encoding='utf8')\n",
    "\n",
    "rdr = csv.reader(f)\n",
    "lines = []\n",
    "for line in rdr:\n",
    "    \n",
    "    line[0] = line[0].replace('  ',' ')\n",
    "    line[7] = line[7].replace('  ',' ')\n",
    "    print(line)\n",
    "    lines.append(line)\n",
    "    \n",
    "f = open('C:/mecab/user-dic/nnp.csv', 'w', newline='', encoding='utf8')\n",
    "wr = csv.writer(f)\n",
    "wr.writerows(lines)\n",
    "\n",
    "\n",
    "data = col.find({}, {'num':{'$slice':[1, 1]}})\n",
    "append = list(map(lambda x:x['song_artist'],data))\n",
    "append = set(append)\n",
    "f = open('C:/mecab/user-dic/person.csv', 'w', newline='', encoding='utf8')\n",
    "for i in append:\n",
    "    print(i)\n",
    "    text = '{0},,,,NNP,*,F,{0},*,*,*,*,*'.format(i)\n",
    "    wr=csv.writer(f,delimiter=' ',escapechar=' ', quoting=csv.QUOTE_NONE)\n",
    "    wr.writerow([text])\n"
   ]
  },
  {
   "cell_type": "markdown",
   "id": "0bfaa219",
   "metadata": {},
   "source": [
    "#####  1. user-dic 폴더의 nnp, person 열어서 잘 추가되었나 확인\n",
    "#####  2. powershell 을 관리자 권한으로 실행\n",
    "#####  3. https://joyhong.tistory.com/128  powershell 조작부분 가이드라인 따라하면 됨!"
   ]
  },
  {
   "cell_type": "code",
   "execution_count": null,
   "id": "815367d7",
   "metadata": {},
   "outputs": [],
   "source": [
    "from konlpy.tag import Mecab\n",
    "mecab = Mecab(dicpath = r'C:\\mecab\\mecab-ko-dic')\n",
    "print(mecab.nouns('둘만 아는 말투'))\n",
    "print(mecab.nouns('MC몽')) ## 둘 다 그대로 나오면 완료"
   ]
  }
 ],
 "metadata": {
  "kernelspec": {
   "display_name": "Python 3",
   "language": "python",
   "name": "python3"
  },
  "language_info": {
   "codemirror_mode": {
    "name": "ipython",
    "version": 3
   },
   "file_extension": ".py",
   "mimetype": "text/x-python",
   "name": "python",
   "nbconvert_exporter": "python",
   "pygments_lexer": "ipython3",
   "version": "3.8.8"
  }
 },
 "nbformat": 4,
 "nbformat_minor": 5
}
