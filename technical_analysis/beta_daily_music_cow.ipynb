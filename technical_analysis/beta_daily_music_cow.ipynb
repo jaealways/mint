{
 "cells": [
  {
   "cell_type": "code",
   "execution_count": 13,
   "id": "4bd908ef",
   "metadata": {},
   "outputs": [],
   "source": [
    "import sys\n",
    "\n",
    "sys.path.append(\"..\")\n",
    "\n",
    "import pandas as pd\n",
    "import numpy as np\n",
    "import matplotlib.pyplot as plt\n",
    "\n",
    "from data_modeling.correlation_index import Beta"
   ]
  },
  {
   "cell_type": "code",
   "execution_count": 14,
   "id": "33defc5e",
   "metadata": {},
   "outputs": [],
   "source": [
    "df_price = pd.read_pickle(\"../storage/df_raw_data/df_price_17-01-01_23-12-31.pkl\")\n",
    "df_mcpi = pd.read_pickle(\"../storage/df_raw_data/df_mcpi_17-01-01_23-12-31.pkl\")"
   ]
  },
  {
   "cell_type": "code",
   "execution_count": 15,
   "id": "2b8fe747",
   "metadata": {},
   "outputs": [],
   "source": [
    "# 베타계수 구하기\n",
    "# duration = 365\n",
    "# df_beta = Beta().beta_index(duration, df_mcpi, df_price)"
   ]
  },
  {
   "cell_type": "code",
   "execution_count": 16,
   "id": "9eda6b48",
   "metadata": {},
   "outputs": [],
   "source": [
    "df_beta = pd.read_pickle(\"../storage/df_raw_data/df_beta.pkl\")"
   ]
  },
  {
   "cell_type": "code",
   "execution_count": 17,
   "id": "5a7b88d8",
   "metadata": {},
   "outputs": [
    {
     "data": {
      "image/png": "[encoded data removed]",
      "text/plain": [
       "<Figure size 432x288 with 1 Axes>"
      ]
     },
     "metadata": {
      "needs_background": "light"
     },
     "output_type": "display_data"
    }
   ],
   "source": [
    "plt.hist(df_beta, bins=100)\n",
    "plt.show()"
   ]
  },
  {
   "cell_type": "markdown",
   "id": "2b78515b",
   "metadata": {},
   "source": [
    "Beta와 PER의 관계 plot"
   ]
  },
  {
   "cell_type": "code",
   "execution_count": 18,
   "id": "56a611b9",
   "metadata": {},
   "outputs": [],
   "source": [
    "df_beta = pd.read_pickle(\"../storage/df_raw_data/df_beta.pkl\")\n",
    "df_per_12 = pd.read_pickle(\"../storage/df_raw_data/df_per_month_12.pkl\")\n",
    "df_list = pd.read_pickle(\"../storage/df_raw_data/df_list_song_artist.pkl\")\n",
    "\n",
    "df_per = pd.DataFrame(df_per_12.iloc[:, -1]).dropna(axis=0)"
   ]
  },
  {
   "cell_type": "code",
   "execution_count": 19,
   "id": "720cd914",
   "metadata": {},
   "outputs": [],
   "source": [
    "def not_outliers_iqr(data):\n",
    "    q1, q3 = np.percentile(data, [25, 75])\n",
    "    iqr = q3 - q1\n",
    "    ub, lb = q1 + (1.5 * iqr), q1 - (1.5 * iqr)\n",
    "\n",
    "    return np.where((data < ub) & (data >= lb))"
   ]
  },
  {
   "cell_type": "code",
   "execution_count": 20,
   "id": "46ff2b11",
   "metadata": {},
   "outputs": [],
   "source": [
    "idx_beta, idx_per = not_outliers_iqr(df_beta)[0], not_outliers_iqr(df_per)[0]\n",
    "df_beta = df_beta.iloc[idx_beta]\n",
    "df_per = df_per.iloc[idx_per]"
   ]
  },
  {
   "cell_type": "code",
   "execution_count": 21,
   "id": "34dd2b09",
   "metadata": {},
   "outputs": [],
   "source": [
    "df_plot = pd.concat([df_beta.T, df_per.T], join='inner')\n",
    "df_plot.index = ['beta', 'per']\n",
    "df_temp = df_plot.T.copy()"
   ]
  },
  {
   "cell_type": "code",
   "execution_count": 22,
   "id": "092d46d1",
   "metadata": {},
   "outputs": [],
   "source": [
    "def onclick(event):\n",
    "    df_temp['beta'] = (df_plot.T['beta']-event.xdata).abs() * 10\n",
    "    df_temp['per'] = (df_temp['per'] - event.ydata).abs()\n",
    "\n",
    "    song_num = df_plot.T.iloc[df_temp.sum(axis=1).argsort()[:1]].index[0]\n",
    "    temp = df_list.loc[song_num].tolist()\n",
    "    title, artist = temp[0], temp[1]\n",
    "    print('song_num=%s, artist=%s, title=%s beta=%f, per=%f' % (song_num, artist, title, event.xdata, event.ydata))"
   ]
  },
  {
   "cell_type": "code",
   "execution_count": 23,
   "id": "2bed2bdb",
   "metadata": {},
   "outputs": [
    {
     "data": {
      "image/png": "[encoded data removed]",
      "text/plain": [
       "<Figure size 432x288 with 1 Axes>"
      ]
     },
     "metadata": {
      "needs_background": "light"
     },
     "output_type": "display_data"
    }
   ],
   "source": [
    "# pycharm 에서 실행시켜주세요! plot 클릭하면 song_num 출력되는 코드\n",
    "\n",
    "fig, ax = plt.subplots(1)\n",
    "\n",
    "plt.xlabel('BETA')\n",
    "plt.ylabel('PER')\n",
    "fig.canvas.callbacks.connect('button_press_event', onclick)\n",
    "plt.show()"
   ]
  },
  {
   "cell_type": "code",
   "execution_count": null,
   "id": "a90736f1",
   "metadata": {},
   "outputs": [],
   "source": []
  }
 ],
 "metadata": {
  "kernelspec": {
   "display_name": "Python 3 (ipykernel)",
   "language": "python",
   "name": "python3"
  },
  "language_info": {
   "codemirror_mode": {
    "name": "ipython",
    "version": 3
   },
   "file_extension": ".py",
   "mimetype": "text/x-python",
   "name": "python",
   "nbconvert_exporter": "python",
   "pygments_lexer": "ipython3",
   "version": "3.8.8"
  }
 },
 "nbformat": 4,
 "nbformat_minor": 5
}
