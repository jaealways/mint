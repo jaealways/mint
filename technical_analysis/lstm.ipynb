{
 "cells": [
  {
   "cell_type": "code",
   "execution_count": 806,
   "id": "1fda97c3",
   "metadata": {},
   "outputs": [],
   "source": [
    "# 라이브러리 임포트\n",
    "import pandas as pd\n",
    "import numpy as np\n",
    "import seaborn as sns\n",
    "import matplotlib.pyplot as plt\n",
    "import tensorflow as tf\n",
    "import warnings\n",
    "warnings.filterwarnings(action = 'ignore')"
   ]
  },
  {
   "cell_type": "code",
   "execution_count": 807,
   "id": "8b144a03",
   "metadata": {
    "scrolled": true
   },
   "outputs": [],
   "source": [
    "df = pd.read_pickle('df_title.pkl')"
   ]
  },
  {
   "cell_type": "code",
   "execution_count": 808,
   "id": "2e5c7581",
   "metadata": {},
   "outputs": [
    {
     "data": {
      "text/html": [
       "<div>\n",
       "<style scoped>\n",
       "    .dataframe tbody tr th:only-of-type {\n",
       "        vertical-align: middle;\n",
       "    }\n",
       "\n",
       "    .dataframe tbody tr th {\n",
       "        vertical-align: top;\n",
       "    }\n",
       "\n",
       "    .dataframe thead th {\n",
       "        text-align: right;\n",
       "    }\n",
       "</style>\n",
       "<table border=\"1\" class=\"dataframe\">\n",
       "  <thead>\n",
       "    <tr style=\"text-align: right;\">\n",
       "      <th></th>\n",
       "      <th>song_num</th>\n",
       "      <th>date</th>\n",
       "      <th>title</th>\n",
       "      <th>label</th>\n",
       "    </tr>\n",
       "  </thead>\n",
       "  <tbody>\n",
       "    <tr>\n",
       "      <th>0</th>\n",
       "      <td>26</td>\n",
       "      <td>2021-08-06</td>\n",
       "      <td>라디, 싱글 '화풀어' 9일 발매…가창자는 민서</td>\n",
       "      <td>1.0</td>\n",
       "    </tr>\n",
       "    <tr>\n",
       "      <th>1</th>\n",
       "      <td>26</td>\n",
       "      <td>2021-09-01</td>\n",
       "      <td>수현·온유, 정인 '오르막길'에 \"우리 무대 방송 안 나가도 돼\" (바라던 바다...</td>\n",
       "      <td>1.0</td>\n",
       "    </tr>\n",
       "    <tr>\n",
       "      <th>2</th>\n",
       "      <td>26</td>\n",
       "      <td>2021-10-11</td>\n",
       "      <td>싱어송라이터 라디, 새 프로듀싱 싱글 'Easy love' 금일 발표</td>\n",
       "      <td>0.0</td>\n",
       "    </tr>\n",
       "    <tr>\n",
       "      <th>3</th>\n",
       "      <td>28</td>\n",
       "      <td>2021-06-05</td>\n",
       "      <td>[N초점] \"그 시절 최애곡\" 여름 타고 온 리메이크 붐..왜?</td>\n",
       "      <td>1.0</td>\n",
       "    </tr>\n",
       "    <tr>\n",
       "      <th>4</th>\n",
       "      <td>28</td>\n",
       "      <td>2021-07-01</td>\n",
       "      <td>\"가수 활동 중단하겠다\"던 라디, 프로듀싱 음원 '유' 발표</td>\n",
       "      <td>1.0</td>\n",
       "    </tr>\n",
       "    <tr>\n",
       "      <th>...</th>\n",
       "      <td>...</td>\n",
       "      <td>...</td>\n",
       "      <td>...</td>\n",
       "      <td>...</td>\n",
       "    </tr>\n",
       "    <tr>\n",
       "      <th>14308</th>\n",
       "      <td>1558</td>\n",
       "      <td>2021-09-21</td>\n",
       "      <td>‘노래가 좋아’ 아웃렛, 3인 3색의 청량한 매력 ‘시선 강탈’</td>\n",
       "      <td>1.0</td>\n",
       "    </tr>\n",
       "    <tr>\n",
       "      <th>14309</th>\n",
       "      <td>1558</td>\n",
       "      <td>2021-09-21</td>\n",
       "      <td>아울렛 '노래가 좋아'서 3인 3색 청량 매력 발산</td>\n",
       "      <td>1.0</td>\n",
       "    </tr>\n",
       "    <tr>\n",
       "      <th>14310</th>\n",
       "      <td>1558</td>\n",
       "      <td>2021-09-21</td>\n",
       "      <td>아웃렛(OUTLET), ‘노래가 좋아’ 평정한 3인 3색의 ‘청량한 매력’</td>\n",
       "      <td>1.0</td>\n",
       "    </tr>\n",
       "    <tr>\n",
       "      <th>14311</th>\n",
       "      <td>1558</td>\n",
       "      <td>2021-09-21</td>\n",
       "      <td>‘노래가 좋아’ 아웃렛, 상큼한 추석 인사</td>\n",
       "      <td>1.0</td>\n",
       "    </tr>\n",
       "    <tr>\n",
       "      <th>14312</th>\n",
       "      <td>1558</td>\n",
       "      <td>2021-10-20</td>\n",
       "      <td>\"송가인이 내 은인\"…안성훈, 재데뷔 사연 고백 '감동'</td>\n",
       "      <td>0.0</td>\n",
       "    </tr>\n",
       "  </tbody>\n",
       "</table>\n",
       "<p>14313 rows × 4 columns</p>\n",
       "</div>"
      ],
      "text/plain": [
       "      song_num        date                                            title  \\\n",
       "0           26  2021-08-06                       라디, 싱글 '화풀어' 9일 발매…가창자는 민서   \n",
       "1           26  2021-09-01  수현·온유, 정인 '오르막길'에 \"우리 무대 방송 안 나가도 돼\" (바라던 바다...   \n",
       "2           26  2021-10-11           싱어송라이터 라디, 새 프로듀싱 싱글 'Easy love' 금일 발표   \n",
       "3           28  2021-06-05              [N초점] \"그 시절 최애곡\" 여름 타고 온 리메이크 붐..왜?   \n",
       "4           28  2021-07-01                \"가수 활동 중단하겠다\"던 라디, 프로듀싱 음원 '유' 발표   \n",
       "...        ...         ...                                              ...   \n",
       "14308     1558  2021-09-21              ‘노래가 좋아’ 아웃렛, 3인 3색의 청량한 매력 ‘시선 강탈’   \n",
       "14309     1558  2021-09-21                     아울렛 '노래가 좋아'서 3인 3색 청량 매력 발산   \n",
       "14310     1558  2021-09-21        아웃렛(OUTLET), ‘노래가 좋아’ 평정한 3인 3색의 ‘청량한 매력’   \n",
       "14311     1558  2021-09-21                          ‘노래가 좋아’ 아웃렛, 상큼한 추석 인사   \n",
       "14312     1558  2021-10-20                  \"송가인이 내 은인\"…안성훈, 재데뷔 사연 고백 '감동'   \n",
       "\n",
       "       label  \n",
       "0        1.0  \n",
       "1        1.0  \n",
       "2        0.0  \n",
       "3        1.0  \n",
       "4        1.0  \n",
       "...      ...  \n",
       "14308    1.0  \n",
       "14309    1.0  \n",
       "14310    1.0  \n",
       "14311    1.0  \n",
       "14312    0.0  \n",
       "\n",
       "[14313 rows x 4 columns]"
      ]
     },
     "execution_count": 808,
     "metadata": {},
     "output_type": "execute_result"
    }
   ],
   "source": [
    "df"
   ]
  },
  {
   "cell_type": "code",
   "execution_count": 809,
   "id": "a76e5d7d",
   "metadata": {},
   "outputs": [
    {
     "name": "stdout",
     "output_type": "stream",
     "text": [
      "train shape : (14313,)\n"
     ]
    },
    {
     "data": {
      "text/plain": [
       "0                         라디, 싱글 '화풀어' 9일 발매…가창자는 민서\n",
       "1    수현·온유, 정인 '오르막길'에 \"우리 무대 방송 안 나가도 돼\" (바라던 바다...\n",
       "2             싱어송라이터 라디, 새 프로듀싱 싱글 'Easy love' 금일 발표\n",
       "3                [N초점] \"그 시절 최애곡\" 여름 타고 온 리메이크 붐..왜?\n",
       "4                  \"가수 활동 중단하겠다\"던 라디, 프로듀싱 음원 '유' 발표\n",
       "Name: title, dtype: object"
      ]
     },
     "execution_count": 809,
     "metadata": {},
     "output_type": "execute_result"
    }
   ],
   "source": [
    "# 데이터 크기 및 샘플 확인\n",
    "print('train shape :', df.title.shape)\n",
    "df.title.head()"
   ]
  },
  {
   "cell_type": "code",
   "execution_count": 810,
   "id": "28a1cfe2",
   "metadata": {},
   "outputs": [
    {
     "data": {
      "text/plain": [
       "1.0    7205\n",
       "0.0    7108\n",
       "Name: label, dtype: int64"
      ]
     },
     "execution_count": 810,
     "metadata": {},
     "output_type": "execute_result"
    }
   ],
   "source": [
    "# 레이블별 개수\n",
    "cnt = df['label'].value_counts()\n",
    "cnt"
   ]
  },
  {
   "cell_type": "code",
   "execution_count": 811,
   "id": "5fa97cc6",
   "metadata": {},
   "outputs": [
    {
     "data": {
      "text/plain": [
       "<AxesSubplot:xlabel='label', ylabel='count'>"
      ]
     },
     "execution_count": 811,
     "metadata": {},
     "output_type": "execute_result"
    },
    {
     "data": {
      "image/png": "[encoded data removed]",
      "text/plain": [
       "<Figure size 432x288 with 1 Axes>"
      ]
     },
     "metadata": {
      "needs_background": "light"
     },
     "output_type": "display_data"
    }
   ],
   "source": [
    "sns.countplot(df['label'])"
   ]
  },
  {
   "cell_type": "code",
   "execution_count": 812,
   "id": "341d88e3",
   "metadata": {},
   "outputs": [
    {
     "data": {
      "text/plain": [
       "0"
      ]
     },
     "execution_count": 812,
     "metadata": {},
     "output_type": "execute_result"
    }
   ],
   "source": [
    "# 결측치 확인\n",
    "data.isnull().sum()"
   ]
  },
  {
   "cell_type": "code",
   "execution_count": 813,
   "id": "c9fbd029",
   "metadata": {},
   "outputs": [
    {
     "data": {
      "image/png": "[encoded data removed]",
      "text/plain": [
       "<Figure size 720x360 with 2 Axes>"
      ]
     },
     "metadata": {
      "needs_background": "light"
     },
     "output_type": "display_data"
    }
   ],
   "source": [
    "# 레이블별 텍스트 길이\n",
    "fig,(ax1, ax2) = plt.subplots(1,2,figsize=(10,5))\n",
    "data_len = df[df['label']==1]['title'].str.len()\n",
    "ax1.hist(data_len)\n",
    "ax1.set_title('positive')\n",
    "\n",
    "data_len=df[df['label']==0]['title'].str.len()\n",
    "ax2.hist(data_len)\n",
    "ax2.set_title('negative')\n",
    "fig.suptitle('Number of characters')\n",
    "plt.show()"
   ]
  },
  {
   "cell_type": "code",
   "execution_count": 814,
   "id": "9367f004",
   "metadata": {},
   "outputs": [],
   "source": [
    "#mecab 임포트\n",
    "from konlpy.tag import Mecab\n",
    "mecab = Mecab(dicpath = r\"C:\\mecab\\mecab-ko-dic\")"
   ]
  },
  {
   "cell_type": "code",
   "execution_count": 816,
   "id": "d678df36",
   "metadata": {},
   "outputs": [
    {
     "data": {
      "text/plain": [
       "0                    라디 싱글 화풀어 일 발매가창자는 민서\n",
       "1    수현온유 정인 오르막길에 우리 무대 방송 안 나가도 돼 바라던 바다\n",
       "2      싱어송라이터 라디 새 프로듀싱 싱글 Easy love 금일 발표\n",
       "3           [N초점] 그 시절 최애곡 여름 타고 온 리메이크 붐왜\n",
       "4             가수 활동 중단하겠다던 라디 프로듀싱 음원 유 발표\n",
       "Name: title, dtype: object"
      ]
     },
     "execution_count": 816,
     "metadata": {},
     "output_type": "execute_result"
    }
   ],
   "source": [
    "#스페이스바 제외 특수 문자 제거\n",
    "df['title'] = df['title'].str.replace(\"[^A-za-z가-힣ㄱ-ㅎㅏㅡㅣ ]\",\"\")\n",
    "df['title'].head()"
   ]
  },
  {
   "cell_type": "code",
   "execution_count": 7,
   "id": "e8fc7593",
   "metadata": {},
   "outputs": [],
   "source": [
    "# stop_words=[]\n",
    "# with open(\"한국어불용어100.txt\",\"r\",encoding='utf8') as f:\n",
    "#   for i in f.readlines():\n",
    "#      stop_words.append(i)"
   ]
  },
  {
   "cell_type": "code",
   "execution_count": 8,
   "id": "6b1f1a85",
   "metadata": {},
   "outputs": [],
   "source": [
    "# temp = map(lambda x : x.split('\\t')[0], stop_words)"
   ]
  },
  {
   "cell_type": "code",
   "execution_count": 872,
   "id": "15880bf8",
   "metadata": {
    "scrolled": true
   },
   "outputs": [],
   "source": [
    "# stop_words = list(temp)\n",
    "# stop_words"
   ]
  },
  {
   "cell_type": "code",
   "execution_count": 817,
   "id": "20d0d196",
   "metadata": {},
   "outputs": [
    {
     "data": {
      "text/plain": [
       "0               [라디, 싱글, 화, 일, 발매, 창자, 민서]\n",
       "1       [수현, 온유, 정인, 오르막길, 우리, 무대, 방송, 바다]\n",
       "2     [싱어, 송라이터, 라디, 프로, 듀, 싱, 싱글, 금일, 발표]\n",
       "3                [초점, 시절, 애곡, 여름, 리메이크, 붐]\n",
       "4    [가수, 활동, 중단, 라디, 프로, 듀, 싱, 음원, 유, 발표]\n",
       "Name: title, dtype: object"
      ]
     },
     "execution_count": 817,
     "metadata": {},
     "output_type": "execute_result"
    }
   ],
   "source": [
    "#불용어 제거\n",
    "def word_tokenization(text):\n",
    "    stop_words = ['는','을','를','이','가','의','던','고','하','다','은','에','들','지','게','도']\n",
    "    return [word for word in mecab.nouns(text) if word not in stop_words]\n",
    "data = df['title'].apply(lambda x : word_tokenization(x))\n",
    "data.head()"
   ]
  },
  {
   "cell_type": "code",
   "execution_count": 818,
   "id": "9f48681a",
   "metadata": {},
   "outputs": [
    {
     "data": {
      "text/plain": [
       "0                   [라디, 싱글, 화, 일, 발매, 창자, 민서]\n",
       "1           [수현, 온유, 정인, 오르막길, 우리, 무대, 방송, 바다]\n",
       "2         [싱어, 송라이터, 라디, 프로, 듀, 싱, 싱글, 금일, 발표]\n",
       "3                    [초점, 시절, 애곡, 여름, 리메이크, 붐]\n",
       "4        [가수, 활동, 중단, 라디, 프로, 듀, 싱, 음원, 유, 발표]\n",
       "                         ...                  \n",
       "14308          [노래, 아웃렛, 인, 색, 청량, 매력, 시선, 강탈]\n",
       "14309              [아울렛, 노래, 인, 색, 청량, 매력, 발산]\n",
       "14310              [아웃렛, 노래, 평정, 인, 색, 청량, 매력]\n",
       "14311                        [노래, 아웃렛, 추석, 인사]\n",
       "14312         [송가, 내, 은인, 안성훈, 데뷔, 사연, 고백, 감동]\n",
       "Name: title, Length: 14313, dtype: object"
      ]
     },
     "execution_count": 818,
     "metadata": {},
     "output_type": "execute_result"
    }
   ],
   "source": [
    "# '[' 와 ']' 제거\n",
    "def del_noise(text):\n",
    "    noise = ['[',']']\n",
    "    \n",
    "    for word in text:\n",
    "        if word in noise:\n",
    "            text.remove(word)\n",
    "    return text\n",
    "\n",
    "data.apply(lambda x : del_noise(x))"
   ]
  },
  {
   "cell_type": "code",
   "execution_count": 819,
   "id": "d0597ae2",
   "metadata": {},
   "outputs": [
    {
     "data": {
      "text/html": [
       "<div>\n",
       "<style scoped>\n",
       "    .dataframe tbody tr th:only-of-type {\n",
       "        vertical-align: middle;\n",
       "    }\n",
       "\n",
       "    .dataframe tbody tr th {\n",
       "        vertical-align: top;\n",
       "    }\n",
       "\n",
       "    .dataframe thead th {\n",
       "        text-align: right;\n",
       "    }\n",
       "</style>\n",
       "<table border=\"1\" class=\"dataframe\">\n",
       "  <thead>\n",
       "    <tr style=\"text-align: right;\">\n",
       "      <th></th>\n",
       "      <th>song_num</th>\n",
       "      <th>date</th>\n",
       "      <th>title</th>\n",
       "      <th>label</th>\n",
       "    </tr>\n",
       "  </thead>\n",
       "  <tbody>\n",
       "    <tr>\n",
       "      <th>0</th>\n",
       "      <td>26</td>\n",
       "      <td>2021-08-06</td>\n",
       "      <td>[라디, 싱글, 화, 일, 발매, 창자, 민서]</td>\n",
       "      <td>1.0</td>\n",
       "    </tr>\n",
       "    <tr>\n",
       "      <th>1</th>\n",
       "      <td>26</td>\n",
       "      <td>2021-09-01</td>\n",
       "      <td>[수현, 온유, 정인, 오르막길, 우리, 무대, 방송, 바다]</td>\n",
       "      <td>1.0</td>\n",
       "    </tr>\n",
       "    <tr>\n",
       "      <th>2</th>\n",
       "      <td>26</td>\n",
       "      <td>2021-10-11</td>\n",
       "      <td>[싱어, 송라이터, 라디, 프로, 듀, 싱, 싱글, 금일, 발표]</td>\n",
       "      <td>0.0</td>\n",
       "    </tr>\n",
       "    <tr>\n",
       "      <th>3</th>\n",
       "      <td>28</td>\n",
       "      <td>2021-06-05</td>\n",
       "      <td>[초점, 시절, 애곡, 여름, 리메이크, 붐]</td>\n",
       "      <td>1.0</td>\n",
       "    </tr>\n",
       "    <tr>\n",
       "      <th>4</th>\n",
       "      <td>28</td>\n",
       "      <td>2021-07-01</td>\n",
       "      <td>[가수, 활동, 중단, 라디, 프로, 듀, 싱, 음원, 유, 발표]</td>\n",
       "      <td>1.0</td>\n",
       "    </tr>\n",
       "    <tr>\n",
       "      <th>...</th>\n",
       "      <td>...</td>\n",
       "      <td>...</td>\n",
       "      <td>...</td>\n",
       "      <td>...</td>\n",
       "    </tr>\n",
       "    <tr>\n",
       "      <th>14308</th>\n",
       "      <td>1558</td>\n",
       "      <td>2021-09-21</td>\n",
       "      <td>[노래, 아웃렛, 인, 색, 청량, 매력, 시선, 강탈]</td>\n",
       "      <td>1.0</td>\n",
       "    </tr>\n",
       "    <tr>\n",
       "      <th>14309</th>\n",
       "      <td>1558</td>\n",
       "      <td>2021-09-21</td>\n",
       "      <td>[아울렛, 노래, 인, 색, 청량, 매력, 발산]</td>\n",
       "      <td>1.0</td>\n",
       "    </tr>\n",
       "    <tr>\n",
       "      <th>14310</th>\n",
       "      <td>1558</td>\n",
       "      <td>2021-09-21</td>\n",
       "      <td>[아웃렛, 노래, 평정, 인, 색, 청량, 매력]</td>\n",
       "      <td>1.0</td>\n",
       "    </tr>\n",
       "    <tr>\n",
       "      <th>14311</th>\n",
       "      <td>1558</td>\n",
       "      <td>2021-09-21</td>\n",
       "      <td>[노래, 아웃렛, 추석, 인사]</td>\n",
       "      <td>1.0</td>\n",
       "    </tr>\n",
       "    <tr>\n",
       "      <th>14312</th>\n",
       "      <td>1558</td>\n",
       "      <td>2021-10-20</td>\n",
       "      <td>[송가, 내, 은인, 안성훈, 데뷔, 사연, 고백, 감동]</td>\n",
       "      <td>0.0</td>\n",
       "    </tr>\n",
       "  </tbody>\n",
       "</table>\n",
       "<p>14313 rows × 4 columns</p>\n",
       "</div>"
      ],
      "text/plain": [
       "      song_num        date                                  title  label\n",
       "0           26  2021-08-06             [라디, 싱글, 화, 일, 발매, 창자, 민서]    1.0\n",
       "1           26  2021-09-01     [수현, 온유, 정인, 오르막길, 우리, 무대, 방송, 바다]    1.0\n",
       "2           26  2021-10-11   [싱어, 송라이터, 라디, 프로, 듀, 싱, 싱글, 금일, 발표]    0.0\n",
       "3           28  2021-06-05              [초점, 시절, 애곡, 여름, 리메이크, 붐]    1.0\n",
       "4           28  2021-07-01  [가수, 활동, 중단, 라디, 프로, 듀, 싱, 음원, 유, 발표]    1.0\n",
       "...        ...         ...                                    ...    ...\n",
       "14308     1558  2021-09-21        [노래, 아웃렛, 인, 색, 청량, 매력, 시선, 강탈]    1.0\n",
       "14309     1558  2021-09-21            [아울렛, 노래, 인, 색, 청량, 매력, 발산]    1.0\n",
       "14310     1558  2021-09-21            [아웃렛, 노래, 평정, 인, 색, 청량, 매력]    1.0\n",
       "14311     1558  2021-09-21                      [노래, 아웃렛, 추석, 인사]    1.0\n",
       "14312     1558  2021-10-20       [송가, 내, 은인, 안성훈, 데뷔, 사연, 고백, 감동]    0.0\n",
       "\n",
       "[14313 rows x 4 columns]"
      ]
     },
     "execution_count": 819,
     "metadata": {},
     "output_type": "execute_result"
    }
   ],
   "source": [
    "df['title'] = data\n",
    "df"
   ]
  },
  {
   "cell_type": "code",
   "execution_count": 820,
   "id": "fc306c9e",
   "metadata": {},
   "outputs": [],
   "source": [
    "#훈련, 검증 셋 분리\n",
    "x_train, x_test, y_train, y_test = train_test_split(df['title'], df['label'], shuffle = True,\n",
    "                                                   stratify = df['label'], random_state = 101)"
   ]
  },
  {
   "cell_type": "code",
   "execution_count": 821,
   "id": "8567b346",
   "metadata": {},
   "outputs": [
    {
     "name": "stdout",
     "output_type": "stream",
     "text": [
      "총 단어 개수: 12147\n",
      "vocab_size : 12147\n"
     ]
    }
   ],
   "source": [
    "from tensorflow.keras.preprocessing.text import Tokenizer\n",
    "from tensorflow.keras.preprocessing.sequence import pad_sequences\n",
    "\n",
    "tokenizer = Tokenizer()\n",
    "tokenizer.fit_on_texts(x_train)\n",
    "print('총 단어 개수:', len(tokenizer.word_index))\n",
    "\n",
    "def get_vocab_size(threshold):\n",
    "    cnt = 0\n",
    "    for x in tokenizer.word_counts.values():\n",
    "        if x >= threshold:\n",
    "            cnt += 1\n",
    "    return cnt\n",
    "\n",
    "vocab_size = get_vocab_size(1)\n",
    "print('vocab_size :', vocab_size)"
   ]
  },
  {
   "cell_type": "code",
   "execution_count": 825,
   "id": "895a851c",
   "metadata": {},
   "outputs": [
    {
     "name": "stdout",
     "output_type": "stream",
     "text": [
      "{'<OOV>': 1, '일': 2, '년': 3, '위': 4, '사랑': 5, '공개': 6, '종합': 7, '만': 8, '오늘': 9, '발매': 10, '임영웅': 11, '월': 12, '가수': 13, '공식': 14, '팬': 15, '차트': 16, '원': 17, '곡': 18, '신곡': 19, '브레이브걸스': 20, '컴백': 21, '무대': 22, '것': 23, '빅마마': 24, '억': 25, '국민': 26, '콘서트': 27, '콜': 28, '뮤직': 29, '음악': 30, '데뷔': 31, '인터뷰': 32, '발표': 33, '팀': 34, '중': 35, '내': 36, '비투비': 37, '센타': 38, '나': 39, '등': 40, '백지영': 41, '거미': 42, '그룹': 43, '스타': 44, '노래': 45, '후': 46, '코로나': 47, '말': 48, '워너비': 49, '출격': 50, '유': 51, '출연': 52, '최고': 53, '라이브': 54, '개': 55, '주년': 56, '트': 57, '방탄소년단': 58, '리메이크': 59, '감성': 60, '차': 61, '번': 62, '개최': 63, '한국': 64, '앨범': 65, '확정': 66, '집': 67, '운세': 68, '수': 69, '우리': 70, '끝': 71, '아이돌': 72, '걸': 73, '전문': 74, '이찬원': 75, '돌': 76, '감독': 77, '아이유': 78, '눈물': 79, '저작': 80, '전': 81, '이영현': 82, '단독': 83, '영탁': 84, '예고': 85, '완전체': 86, '명': 87, '음원': 88, '때': 89, '탄소': 90, '추석': 91, '딸': 92, '시': 93, '급': 94, '별': 95, '황치열': 96, '가온': 97, '회': 98, '주': 99, '최초': 100, '출신': 101, '달': 102, '미팅': 103, '결혼': 104, '퀴즈': 105, '개월': 106, '행복': 107, '순위': 108, '도전': 109, '세계': 110, '이유': 111, '게임': 112, '영상': 113, '사람': 114, '속': 115, '현장': 116, '방송': 117, '여자': 118, '권순욱': 119, '인': 120, '출시': 121, '사': 122, '쇼': 123, '아이': 124, '참여': 125, '제로': 126, '주차': 127, '듀엣': 128, '방역': 129, '브': 130, '계약': 131, '시장': 132, '선': 133, '이재명': 134, '홍지윤': 135, '이별': 136, '기후': 137, '퀸': 138, '성공': 139, '드라마': 140, '뷰': 141, '서울': 142, '글로벌': 143, '역대': 144, '가을': 145, '도시락': 146, '연속': 147, '대표': 148, '논란': 149, '너': 150, '정부': 151, '티저': 152, '트롯': 153, '시작': 154, '활동': 155, '지원': 156, '오픈': 157, '브랜드': 158, '료': 159, '우주': 160, '씨': 161, '등장': 162, '최다': 163, '소리': 164, '멤버': 165, '감동': 166, '에이핑크': 167, '별세': 168, '소녀': 169, '이마트': 170, '기업': 171, '조정석': 172, '위반': 173, '사진': 174, '심사': 175, '공연': 176, '트로트': 177, '꿈': 178, '선물': 179, '법': 180, '국내': 181, '인기': 182, '대통령': 183, '귀': 184, '라랜드': 185, '폭발': 186, '레전드': 187, '경제': 188, '대상': 189, '이야기': 190, '화보': 191, '시대': 192, '프로젝트': 193, '송가': 194, '눈': 195, '고백': 196, '세대': 197, '역주행': 198, '랜드': 199, '건강': 200, '가능': 201, '중립': 202, '특별': 203, '라인업': 204, '문화': 205, '기대': 206, '온라인': 207, '뮤': 208, '왕': 209, '프로': 210, '작곡가': 211, '영화': 212, '송하예': 213, '우승': 214, '풍류': 215, '마음': 216, '도시': 217, '이벤트': 218, '금융': 219, '스페셜': 220, '진행': 221, '투병': 222, '세': 223, '응원': 224, '대장': 225, '정상': 226, '포토': 227, '수칙': 228, '사과': 229, '시간': 230, '밤': 231, '랄': 232, '별자리': 233, '매력': 234, '투자': 235, '캠페인': 236, '보이스': 237, '톱': 238, '진입': 239, '보컬': 240, '돌파': 241, '탄생': 242, '여름': 243, '성': 244, '오빠': 245, '드': 246, '감사': 247, '이슈': 248, '롤린': 249, '마지막': 250, '이무진': 251, '숭': 252, '분': 253, '백신': 254, '남편': 255, '백': 256, '극': 257, '워즈': 258, '김태호': 259, '위기': 260, '화제': 261, '가왕': 262, '변신': 263, '조': 264, '사콜': 265, '바': 266, '학당': 267, '정규': 268, '모델': 269, '조선': 270, '뉴스': 271, '서머': 272, '특집': 273, '청년': 274, '생활': 275, '당신': 276, '김희재': 277, '카우': 278, '치맛바람': 279, '방': 280, '미': 281, '유튜브': 282, '매진': 283, '공약': 284, '시즌': 285, '시청': 286, '투': 287, '대': 288, '향년': 289, '판매': 290, '기록': 291, '웹툰': 292, '주행': 293, '점': 294, '멜론': 295, '지원금': 296, '예능': 297, '편성': 298, '지역': 299, '배우': 300, '이상': 301, '올해': 302, '변화': 303, '트랙': 304, '컬': 305, '솔로': 306, '연애': 307, '사업': 308, '미래': 309, '일문일답': 310, '카카오': 311, '친구': 312, '사장': 313, '우파': 314, '선언': 315, '슈퍼주니어': 316, '가족': 317, '복면': 318, '즈': 319, '김종국': 320, '아이콘': 321, '하나': 322, '날': 323, '세븐': 324, '완벽': 325, '버스': 326, '사회': 327, '산업': 328, '세상': 329, '표': 330, '대선': 331, '건': 332, '주간': 333, '디지털': 334, '종': 335, '합류': 336, '추천': 337, '발라드': 338, '롯': 339, '광고': 340, '라운드': 341, '내년': 342, '소식': 343, '히트': 344, '비주얼': 345, '미니': 346, '정책': 347, '플': 348, '싱어': 349, '소속': 350, '어반자카파': 351, '명곡': 352, '리뷰': 353, '팝': 354, '프로필': 355, '이번': 356, '싱': 357, '준비': 358, '뭐하니': 359, '버': 360, '목소리': 361, '연중': 362, '진출': 363, '대결': 364, '오징어': 365, '커버': 366, '경찰': 367, '입장': 368, '성시경': 369, '다비치': 370, '컴': 371, '생각': 372, '인생': 373, '선정': 374, '선사': 375, '전석': 376, '골프': 377, '정은지': 378, '놀토': 379, '헬로': 380, '발': 381, '투표': 382, '아웃렛': 383, '홍보': 384, '상승': 385, '간': 386, '넷플릭스': 387, '앞': 388, '배': 389, '부동산': 390, '친환경': 391, '장': 392, '가요': 393, '틴': 394, '기념': 395, '시절': 396, '유재석': 397, '추진': 398, '공': 399, '보험': 400, '리스트': 401, '타임': 402, '후보': 403, '희망': 404, '장민호': 405, '그대': 406, '천': 407, '오': 408, '열': 409, '식당': 410, '국악': 411, '칼럼': 412, '미스트': 413, '의원': 414, '내일': 415, '티켓': 416, '미스': 417, '호흡': 418, '뮤지컬': 419, '킹': 420, '아티스트': 421, '기부': 422, '반전': 423, '정동원': 424, '송혜교': 425, '지민': 426, '빌보드': 427, '삶': 428, '투게더': 429, '최대': 430, '연하': 431, '올림픽': 432, '개발': 433, '중국': 434, '네이버': 435, '감정': 436, '리': 437, '러브': 438, '특급': 439, '살': 440, '파워': 441, '최종': 442, '전달': 443, '목표': 444, '부': 445, '키스': 446, '경영': 447, '골목': 448, '대회': 449, '홍준표': 450, '스포츠': 451, '약속': 452, '병원': 453, '술': 454, '호': 455, '언니': 456, '정일훈': 457, '동원': 458, '스테이': 459, '밴드': 460, '대박': 461, '스토리': 462, '공감': 463, '윤석열': 464, '위드': 465, '자체': 466, '선수': 467, '정': 468, '에너지': 469, '행사': 470, '복귀': 471, '바다': 472, '연기': 473, '도입': 474, '예술': 475, '이홍기': 476, '길': 477, '독자': 478, '고객': 479, '공공': 480, '추억': 481, '소유': 482, '양요섭': 483, '필요': 484, '누구': 485, '아내': 486, '성장': 487, '송': 488, '제회': 489, '노': 490, '안희연': 491, '포스터': 492, '국제': 493, '사망': 494, '플러스': 495, '회장': 496, '연예인': 497, '애': 498, '측': 499, '태': 500, '정보': 501, '하루': 502, '힐링': 503, '케미': 504, '골': 505, '부부': 506, '여성': 507, '발탁': 508, '낮': 509, '소환': 510, '비': 511, '걸스': 512, '비정규직': 513, '주자': 514, '마무리': 515, '선택': 516, '회복': 517, '앤': 518, '이해리': 519, '포인트': 520, '수상': 521, '싱글': 522, '돈': 523, '여행': 524, '아들': 525, '힘': 526, '문': 527, '반성': 528, '블랙': 529, '가구': 530, '완료': 531, '센터': 532, '타운': 533, '명품': 534, '전쟁': 535, '강화': 536, '순간': 537, '비디오': 538, '나이': 539, '챌린지': 540, '하이틴': 541, '남자': 542, '기억': 543, '미국': 544, '관': 545, '거': 546, '주기': 547, '암': 548, '주택': 549, '박근태': 550, '종료': 551, '호강': 552, '대전': 553, '엠': 554, '유영선': 555, '에디션': 556, '정치': 557, '결정': 558, '공모전': 559, '국감': 560, '자랑': 561, '교육': 562, '친오빠': 563, '판': 564, '별사': 565, '부모': 566, '예매': 567, '외': 568, '사이': 569, '춤': 570, '리그': 571, '고민': 572, '퍼플': 573, '주식': 574, '김호중': 575, '맘': 576, '월일': 577, '지속': 578, '김': 579, '비하인드': 580, '나인': 581, '복막암': 582, '투더': 583, '수업': 584, '경기': 585, '일상': 586, '전환': 587, '플라스틱': 588, '물': 589, '관심': 590, '어디': 591, '전설': 592, '띠': 593, '의혹': 594, '달성': 595, '시리즈': 596, '빅': 597, '승자': 598, '이민혁': 599, '대마': 600, '강': 601, '촬영': 602, '축구': 603, '페스티벌': 604, '뉴': 605, '유정': 606, '야구': 607, '만남': 608, '스트릿': 609, '파이터': 610, '기사': 611, '접종': 612, '양지': 613, '공장': 614, '소감': 615, '가은': 616, '애프터스쿨': 617, '중단': 618, '최': 619, '손': 620, '붐': 621, '신인': 622, '확대': 623, '동참': 624, '가창력': 625, '워': 626, '신규': 627, '줄': 628, '국가': 629, '제주': 630, '태연': 631, '자두': 632, '영국': 633, '양지은': 634, '천만': 635, '환경': 636, '기': 637, '캐릭터': 638, '인도': 639, '전국': 640, '산': 641, '다이': 642, '의료': 643, '얼굴': 644, '자동차': 645, '디': 646, '혐의': 647, '데이': 648, '형제': 649, '김현식': 650, '문명': 651, '연말': 652, '코': 653, '초점': 654, '영업': 655, '인천': 656, '꽃': 657, '김밥': 658, '종가': 659, '은행': 660, '아빠': 661, '핫': 662, '컷': 663, '하모니': 664, '숨': 665, '진해성': 666, '지헤': 667, '전남': 668, '남': 669, '롯데': 670, '다운로드': 671, '조승우': 672, '귀환': 673, '라우': 674, '보이': 675, '부산': 676, '콘셉트': 677, '빽': 678, '자유': 679, '완성': 680, '전속': 681, '사용': 682, '바이든': 683, '인터': 684, '조용필': 685, '악': 686, '신호등': 687, '아웃사이더': 688, '팔': 689, '논의': 690, '나사': 691, '녹음': 692, '캔디': 693, '조국': 694, '토요일': 695, '노력': 696, '겨울': 697, '시민': 698, '이상순': 699, '개막': 700, '김준수': 701, '기자': 702, '크루': 703, '대한민국': 704, '롤': 705, '청춘': 706, '이스': 707, '제시': 708, '사전': 709, '울산': 710, '손나은': 711, '조세호': 712, '태양광': 713, '입증': 714, '릴레이': 715, '자매': 716, '콘텐츠': 717, '추모': 718, '공사': 719, '년차': 720, '진심': 721, '승기': 722, '몸': 723, '원미연': 724, '미모': 725, '처음': 726, '대구': 727, '이젠': 728, '엑스': 729, '웃음': 730, '이후': 731, '신혼': 732, '이미지': 733, '관광': 734, '해': 735, '노래방': 736, '업': 737, '합의': 738, '안': 739, '여기': 740, '스': 741, '제안': 742, '모집': 743, '시선': 744, '코리아': 745, '홍': 746, '저격': 747, '이수현': 748, '오디션': 749, '승부': 750, '디셈버': 751, '상품': 752, '군': 753, '패션': 754, '수능': 755, '문제': 756, '인간': 757, '근황': 758, '가창': 759, '솔': 760, '눈길': 761, '기적': 762, '주일': 763, '극찬': 764, '라디오': 765, '체념': 766, '이병찬': 767, '스타쉽': 768, '언론': 769, '장식': 770, '반응': 771, '금': 772, '싸이월드': 773, '후원': 774, '포르쉐': 775, '참시': 776, '브레이브': 777, '동시': 778, '공동': 779, '책임': 780, '불후': 781, '청량': 782, '학교': 783, '녀': 784, '부문': 785, '아모레': 786, '작곡': 787, '데': 788, '책': 789, '체결': 790, '형': 791, '한화': 792, '수익': 793, '재해석': 794, '망': 795, '무엇': 796, '협약': 797, '킬링': 798, '피네': 799, '건설': 800, '록': 801, '민혁': 802, '적': 803, '수험': 804, '캐스팅': 805, '저소득': 806, '피': 807, '환상': 808, '의사': 809, '장기': 810, '김용준': 811, '유리': 812, '포맨': 813, '프랑스': 814, '키즈': 815, '위원': 816, '노조': 817, '슈퍼': 818, '해방': 819, '총리': 820, '시설': 821, '라인': 822, '김성규': 823, '평판': 824, '존': 825, '판스': 826, '흥행': 827, '기술': 828, '전격': 829, '고고': 830, '경쟁': 831, '상급': 832, '병실': 833, '폼': 834, '포함': 835, '댄스': 836, '피해': 837, '박장현': 838, '발전': 839, '데이터': 840, '채널': 841, '스튜디오': 842, '정리': 843, '회의': 844, '김치': 845, '배출': 846, '합동': 847, '기획': 848, '플레이': 849, '오하영': 850, '민': 851, '캐스퍼': 852, '노미': 853, '슈퍼밴드': 854, '김범수': 855, '김태연': 856, '지수': 857, '탈퇴': 858, '폭': 859, '대신': 860, '김연경': 861, '현실': 862, '커피': 863, '우먼': 864, '양파': 865, '미션': 866, '국회': 867, '방민아': 868, '방문': 869, '과': 870, '몰입': 871, '대응': 872, '기관': 873, '작사': 874, '카': 875, '이선빈': 876, '한선화': 877, '김동욱': 878, '서인국': 879, '계획': 880, '박': 881, '일자리': 882, '보장': 883, '폭력': 884, '전문가': 885, '대출': 886, '기회': 887, '천기': 888, '미소': 889, '최근': 890, '김선호': 891, '안방': 892, '레드': 893, '펜': 894, '위원회': 895, '한계': 896, '핏': 897, '승리': 898, '도쿄': 899, '규모': 900, '효': 901, '타이틀': 902, '한정': 903, '제작': 904, '퇴사': 905, '종영': 906, '콘': 907, '이하늬': 908, '금토': 909, '군필': 910, '집중': 911, '다음': 912, '관리': 913, '대세': 914, '팝업': 915, '기고': 916, '접수': 917, '결과': 918, '플랫': 919, '김태우': 920, '멸망': 921, '포': 922, '업계': 923, '예비': 924, '치치': 925, '돼지': 926, '핑크': 927, '수록': 928, '듯': 929, '사이버': 930, '로맨스': 931, '연습생': 932, '모습': 933, '작가': 934, '증명': 935, '토트넘': 936, '광산업': 937, '스판덱스': 938, '태양': 939, '투데이': 940, '자신': 941, '교수': 942, '네이트': 943, '해외': 944, '단체': 945, '주인공': 946, '김다현': 947, '합격': 948, '분위기': 949, '부담': 950, '제도': 951, '독보': 952, '열풍': 953, '슈': 954, '사연': 955, '김남길': 956, '카드': 957, '편': 958, '사설': 959, '효과': 960, '청소년': 961, '전지현': 962, '썸머': 963, '부활': 964, '운영': 965, '변경': 966, '포항': 967, '진영': 968, '루미너스': 969, '프리': 970, '영지': 971, '분석': 972, '입': 973, '예약': 974, '승': 975, '콜라보': 976, '방법': 977, '확보': 978, '유통': 979, '일부': 980, '이색': 981, '참치': 982, '공무원': 983, '머니': 984, '김유정': 985, '삼각': 986, '예방': 987, '갈등': 988, '퍼포먼스': 989, '키': 990, '환자': 991, '모바일': 992, '실시': 993, '저작권료': 994, '인방': 995, '온유': 996, '현대': 997, '엘라': 998, '육성재': 999, '임현식': 1000, '여신': 1001, '구조': 1002, '매드': 1003, '클라운': 1004, '컴퍼니': 1005, '박구윤': 1006, '북마크': 1007, '열창': 1008, '완화': 1009, '패스': 1010, '외모': 1011, '스텔라': 1012, '여동생': 1013, '주연': 1014, '소미': 1015, '경험': 1016, '프로듀서': 1017, '주요': 1018, '치료': 1019, '불법': 1020, '정동하': 1021, '리더': 1022, '소송': 1023, '로켓': 1024, '곳': 1025, '예산': 1026, '대사': 1027, '평가': 1028, '지구': 1029, '가슴': 1030, '퍼시픽': 1031, '임정희': 1032, '케이윌': 1033, '뷔': 1034, '태평양': 1035, '홈': 1036, '청순': 1037, '전북': 1038, '마누라': 1039, '실천': 1040, '맛': 1041, '댓글': 1042, '본격': 1043, '채정안': 1044, '윤태현': 1045, '안전': 1046, '적극': 1047, '이석훈': 1048, '신상': 1049, '영': 1050, '정체': 1051, '안효섭': 1052, '전략': 1053, '이용': 1054, '지명': 1055, '전면': 1056, '경신': 1057, '엔터': 1058, '연인': 1059, '계속': 1060, '주도': 1061, '이혼': 1062, '톡': 1063, '풀': 1064, '오상욱': 1065, '제': 1066, '재단': 1067, '모두': 1068, '수취인불명': 1069, '조인성': 1070, '이지훈': 1071, '초': 1072, '의미': 1073, '티': 1074, '전원': 1075, '자생': 1076, '상생': 1077, '충격': 1078, '배틀': 1079, '누': 1080, '한정판': 1081, '애플': 1082, '자축': 1083, '민주': 1084, '손흥민': 1085, '제품': 1086, '내달': 1087, '박명수': 1088, '변호사': 1089, '마라': 1090, '이주연': 1091, '인증': 1092, '사건': 1093, '민주당': 1094, '펀치': 1095, '입술': 1096, '열정': 1097, '관련': 1098, '데이트': 1099, '금지': 1100, '칭': 1101, '감축': 1102, '결성': 1103, '테크': 1104, '선배': 1105, '인사': 1106, '컵': 1107, '해명': 1108, '경북': 1109, '준결승': 1110, '에스파': 1111, '현대차': 1112, '호소': 1113, '회담': 1114, '기본': 1115, '버전': 1116, '평소': 1117, '삼성': 1118, '해결': 1119, '중요': 1120, '체크': 1121, '주목': 1122, '우려': 1123, '프로모션': 1124, '칼': 1125, '항소심': 1126, '무료': 1127, '금호': 1128, '스티어': 1129, '광': 1130, '재개': 1131, '임창정': 1132, '공명': 1133, '회수': 1134, '상반기': 1135, '대학': 1136, '이낙연': 1137, '그래픽': 1138, '열독': 1139, '예': 1140, '누적': 1141, '역사': 1142, '개인': 1143, '박창근': 1144, '규제': 1145, '할인': 1146, '세트': 1147, '메들리': 1148, '신고': 1149, '뮤지션': 1150, '압도': 1151, '환희': 1152, '이제': 1153, '에센스': 1154, '불나방': 1155, '광주': 1156, '기준': 1157, '운동': 1158, '거짓말': 1159, '토크': 1160, '블라스트': 1161, '티키': 1162, '타카': 1163, '장애': 1164, '노총': 1165, '장인': 1166, '이우': 1167, '취임': 1168, '이효리': 1169, '정세균': 1170, '개국': 1171, '요정': 1172, '수란': 1173, '위위': 1174, '활약': 1175, '의지': 1176, '아시아': 1177, '출마': 1178, '전자': 1179, '색': 1180, '소': 1181, '극복': 1182, '글': 1183, '구': 1184, '가치': 1185, '울림': 1186, '재결합': 1187, '생일': 1188, '저스틴': 1189, '비버': 1190, '새': 1191, '규현': 1192, '프로그램': 1193, '출발': 1194, '사태': 1195, '충남': 1196, '실현': 1197, '결심': 1198, '공판': 1199, '가격': 1200, '넷': 1201, '정식': 1202, '강서': 1203, '공급': 1204, '김경남': 1205, '폐지': 1206, '원희룡': 1207, '손호영': 1208, '경남': 1209, '김유하': 1210, '인포': 1211, '싸이': 1212, '한승연': 1213, '박성연': 1214, '월드': 1215, '노스': 1216, '엄마': 1217, '아동': 1218, '사용료': 1219, '상승세': 1220, '시티': 1221, '게임즈': 1222, '전현무': 1223, '현아': 1224, '팬덤': 1225, '듀': 1226, '기대감': 1227, '영원': 1228, '고스트': 1229, '품': 1230, '진초': 1231, '바람': 1232, '수도': 1233, '사실': 1234, '더원': 1235, '법원': 1236, '통합': 1237, '비첩': 1238, '과학': 1239, '슬기': 1240, '입담': 1241, '노틸러스': 1242, '전기차': 1243, '민영': 1244, '인정': 1245, '생명': 1246, '다이아': 1247, '차별': 1248, '본선': 1249, '투어': 1250, '하반기': 1251, '쓰레기': 1252, '대책': 1253, '임신': 1254, '식품': 1255, '지금': 1256, '무학': 1257, '청하': 1258, '콜드': 1259, '대중': 1260, '트렌드': 1261, '리포트': 1262, '매출': 1263, '확인': 1264, '인연': 1265, '테일즈런너': 1266, '정신': 1267, '도경완': 1268, '상공': 1269, '설운도': 1270, '전체': 1271, '지침': 1272, '진단': 1273, '개시': 1274, '지아': 1275, '발간': 1276, '소름': 1277, '발언': 1278, '마켓': 1279, '결승전': 1280, '허민호': 1281, '재계약': 1282, '제외': 1283, '지방': 1284, '언서': 1285, '얘기': 1286, '강조': 1287, '옥주현': 1288, '마마': 1289, '마련': 1290, '최선': 1291, '두산': 1292, '린': 1293, '서울시': 1294, '신': 1295, '일본': 1296, '한가위': 1297, '어제': 1298, '청약': 1299, '한류': 1300, '권민아': 1301, '하이브리드': 1302, '황': 1303, '이행': 1304, '하이라이트': 1305, '반려': 1306, '킹덤': 1307, '참석': 1308, '연초': 1309, '연구': 1310, '난': 1311, '선도': 1312, '문재인': 1313, '유엔': 1314, '함양': 1315, '하우스': 1316, '범죄': 1317, '금잔디': 1318, '고현정': 1319, '키워드': 1320, '동생': 1321, '초월': 1322, '샷': 1323, '호스트': 1324, '감염': 1325, '정석원': 1326, '뒤': 1327, '서비스': 1328, '땐': 1329, '동안': 1330, '야생': 1331, '베': 1332, '관계': 1333, '취소': 1334, '국정': 1335, '백제': 1336, '개선': 1337, '어린이': 1338, '남친': 1339, '이보람': 1340, '의회': 1341, '맞': 1342, '타': 1343, '전여': 1344, '공모': 1345, '활용': 1346, '데스매치': 1347, '감탄': 1348, '도약': 1349, '국': 1350, '유일': 1351, '팀워크': 1352, '쿼드': 1353, '조수혁': 1354, '본업': 1355, '미쉐린': 1356, '축제': 1357, '장관': 1358, '실력': 1359, '우영': 1360, '총출동': 1361, '연휴': 1362, '편의점': 1363, '촉구': 1364, '빵': 1365, '안정': 1366, '행정': 1367, '걸스데이': 1368, '직원': 1369, '치열': 1370, '빚': 1371, '반': 1372, '곽': 1373, '커플': 1374, '준공': 1375, '기분': 1376, '블': 1377, '장나라': 1378, '학회': 1379, '인조': 1380, '송라이터': 1381, '유치': 1382, '유희열': 1383, '사고': 1384, '뱅크': 1385, '마을': 1386, '극장': 1387, '이달': 1388, '케이': 1389, '자기': 1390, '이적': 1391, '성황리': 1392, '신동엽': 1393, '연': 1394, '페이': 1395, '샤론': 1396, '식': 1397, '돌입': 1398, '앱': 1399, '신한': 1400, '산삼': 1401, '영화제': 1402, '절': 1403, '윤상': 1404, '티빙': 1405, '아침': 1406, '랩': 1407, '메이커': 1408, '회사': 1409, '택트': 1410, '업체': 1411, '이름': 1412, '강사': 1413, '칭찬': 1414, '검토': 1415, '넌': 1416, '꼬미': 1417, '미주': 1418, '박민혜': 1419, '징역': 1420, '슬': 1421, '성과': 1422, '혁신': 1423, '학생': 1424, '단계': 1425, '고문': 1426, '행보': 1427, '소림': 1428, '기간': 1429, '써드': 1430, '촬영장': 1431, '연희': 1432, '해체': 1433, '메시지': 1434, '영웅': 1435, '씨야': 1436, '샤이니': 1437, '런던': 1438, '행운': 1439, '방학': 1440, '패자': 1441, '컬투쇼': 1442, '서로': 1443, '시행': 1444, '희나리': 1445, '개방': 1446, '재난': 1447, '습관': 1448, '솔로몬': 1449, '봉구': 1450, '김재환': 1451, '대면': 1452, '자연': 1453, '요리': 1454, '주말': 1455, '시크': 1456, '빗': 1457, '누가': 1458, '불만제로': 1459, '비밀': 1460, '현직': 1461, '엠스': 1462, '은퇴': 1463, '성희롱': 1464, '코드': 1465, '걱정': 1466, '이것': 1467, '오케이': 1468, '노동자': 1469, '비결': 1470, '힙합': 1471, '혁': 1472, '은혁': 1473, '정도': 1474, '경고': 1475, '캠': 1476, '박용진': 1477, '팬클럽': 1478, '감소': 1479, '로봇': 1480, '막': 1481, '원작': 1482, '협력': 1483, '마스크': 1484, '확진': 1485, '외국인': 1486, '전웅': 1487, '음색': 1488, '개코': 1489, '협회': 1490, '당황': 1491, '나라': 1492, '아파트': 1493, '화이자': 1494, '체': 1495, '심평': 1496, '투모': 1497, '우바이': 1498, '초호': 1499, '녹색': 1500, '김한결': 1501, '둘': 1502, '워너': 1503, '막내': 1504, '가입': 1505, '다양': 1506, '정수정': 1507, '혼인': 1508, '엑스포': 1509, '조합': 1510, '시청자': 1511, '공간': 1512, '수소': 1513, '솔지': 1514, '차길영': 1515, '대리점': 1516, '리호': 1517, '감량': 1518, '원조': 1519, '긍정': 1520, '유진': 1521, '시인': 1522, '삼': 1523, '운수': 1524, '피날레': 1525, '씨스타': 1526, '조정': 1527, '적재': 1528, '배구': 1529, '축하': 1530, '엔딩': 1531, '맛집': 1532, '겨냥': 1533, '트레이': 1534, '집값': 1535, '장범준': 1536, '창업': 1537, '부영': 1538, '무한': 1539, '운': 1540, '비전': 1541, '배치기': 1542, '신보라': 1543, '수입': 1544, '월급': 1545, '자리': 1546, '차예련': 1547, '임': 1548, '상대': 1549, '전통': 1550, '다크': 1551, '결승': 1552, '지하': 1553, '천억': 1554, '자영업': 1555, '여야': 1556, '파크': 1557, '자극': 1558, '소비자': 1559, '애정': 1560, '묘': 1561, '헌혈': 1562, '김준현': 1563, '도상우': 1564, '편지': 1565, '뭐': 1566, '고은성': 1567, '성사': 1568, '다니엘': 1569, '온실가스': 1570, '체험': 1571, '조사': 1572, '포토북': 1573, '떼': 1574, '골든': 1575, '심상정': 1576, '신청': 1577, '광희': 1578, '솔빈': 1579, '재미': 1580, '이동': 1581, '이변': 1582, '인텔': 1583, '신보': 1584, '이선희': 1585, '오프': 1586, '모임': 1587, '빅스': 1588, '서장훈': 1589, '리얼': 1590, '단신': 1591, '합': 1592, '왁스': 1593, '오진혁': 1594, '긴급': 1595, '신화': 1596, '머리': 1597, '실패': 1598, '엄지': 1599, '파격': 1600, '카라': 1601, '골키퍼': 1602, '플래닛': 1603, '제출': 1604, '벨벳': 1605, '경연': 1606, '무명': 1607, '치킨': 1608, '폴': 1609, '킴': 1610, '생존': 1611, '협업': 1612, '언급': 1613, '구성': 1614, '런닝맨': 1615, '대본': 1616, '구글': 1617, '호날두': 1618, '한국어': 1619, '무빙': 1620, '한예슬': 1621, '저': 1622, '재산': 1623, '부상': 1624, '물결': 1625, '넥슨': 1626, '주장': 1627, '퍼즐': 1628, '김고은': 1629, '선출': 1630, '항노': 1631, '구속': 1632, '가상': 1633, '개발자': 1634, '옷': 1635, '아이오': 1636, '한솥밥': 1637, '가지마': 1638, '장르': 1639, '에일리': 1640, '반대': 1641, '뽕': 1642, '재판': 1643, '낭만': 1644, '십': 1645, '피크닉': 1646, '핫샷': 1647, '남승민': 1648, '확장': 1649, '이승철': 1650, '이나영': 1651, '완주군': 1652, '효린': 1653, '닭': 1654, '미안': 1655, '상': 1656, '학': 1657, '정권': 1658, '포커스': 1659, '연모': 1660, '목': 1661, '추미애': 1662, '클래스': 1663, '불꽃': 1664, '놈': 1665, '분노': 1666, '무': 1667, '미디어': 1668, '처벌': 1669, '스펙트럼': 1670, '지급': 1671, '임영': 1672, '금전': 1673, '정운': 1674, '우수': 1675, '심장': 1676, '예정': 1677, '러닝': 1678, '스마일게이트': 1679, '김희': 1680, '포기': 1681, '발찌': 1682, '다섯': 1683, '모가디슈': 1684, '명절': 1685, '과거': 1686, '코미디': 1687, '순수': 1688, '아트': 1689, '청': 1690, '소원': 1691, '영향': 1692, '공유': 1693, '절친': 1694, '퇴근': 1695, '영준': 1696, '검사': 1697, '유회': 1698, '유럽': 1699, '강칠구': 1700, '장군': 1701, '아프간': 1702, '여왕': 1703, '뉴욕': 1704, '복지': 1705, '자작곡': 1706, '뱀': 1707, '부사장': 1708, '속도': 1709, '시상식': 1710, '뿐': 1711, '유지': 1712, '신용재': 1713, '정국': 1714, '김정은': 1715, '쇼핑': 1716, '추가': 1717, '아모르': 1718, '가이드': 1719, '이준석': 1720, '증권': 1721, '청와대': 1722, '종시': 1723, '군수': 1724, '출범': 1725, '수사': 1726, '오세훈': 1727, '윤경': 1728, '윤보미': 1729, '우정': 1730, '점검': 1731, '민간': 1732, '김수희': 1733, '고발': 1734, '그': 1735, '터보': 1736, '덕': 1737, '기능': 1738, '흥': 1739, '상황': 1740, '개그': 1741, '소통': 1742, '항소': 1743, '배철수': 1744, '존중': 1745, '바보': 1746, '대학교': 1747, '겜': 1748, '무모': 1749, '심': 1750, '가지': 1751, '꿀': 1752, '베트남': 1753, '미녀': 1754, '팩': 1755, '정규직': 1756, '손담비': 1757, '비망록': 1758, '제약': 1759, '독서': 1760, '대행': 1761, '윤계상': 1762, '조용병': 1763, '권순관': 1764, '탑': 1765, '메타': 1766, '혼산': 1767, '결국': 1768, '컴투스': 1769, '원주': 1770, '유나': 1771, '르노삼성': 1772, '놀자': 1773, '배상': 1774, '발인': 1775, '거위': 1776, '실망': 1777, '미쓰': 1778, '랭크': 1779, '폭소': 1780, '토': 1781, '불만': 1782, '시네마': 1783, '운명': 1784, '켈리': 1785, '안성훈': 1786, '클럽': 1787, '다솜': 1788, '피해자': 1789, '보수': 1790, '양': 1791, '김경수': 1792, '김동현': 1793, '거부': 1794, '행진': 1795, '관객': 1796, '작': 1797, '검찰': 1798, '지리산': 1799, '발견': 1800, '혼령': 1801, '곡명': 1802, '실수': 1803, '처분': 1804, '터': 1805, '경선': 1806, '소화': 1807, '마스터': 1808, '위협': 1809, '청구': 1810, '포레': 1811, '운애': 1812, '자': 1813, '연차': 1814, '구단': 1815, '폭풍': 1816, '산다라박': 1817, '죽음': 1818, '때문': 1819, '포천시': 1820, '미스터': 1821, '어른': 1822, '성금': 1823, '건보': 1824, '시사': 1825, '아울렛': 1826, '일간': 1827, '음식': 1828, '오후': 1829, '브랜뉴': 1830, '범벅': 1831, '오프닝': 1832, '강민경': 1833, '유미': 1834, '위로': 1835, '리사': 1836, '폭탄': 1837, '금일': 1838, '신간': 1839, '장마': 1840, '동기': 1841, '존재': 1842, '페스타': 1843, '상습': 1844, '초대': 1845, '경품': 1846, '오프라인': 1847, '기소': 1848, '홀릭': 1849, '쁘띠': 1850, '백화점': 1851, '체계': 1852, '전화': 1853, '미연': 1854, '전기': 1855, '이민재': 1856, '지옥': 1857, '송유진': 1858, '비즈니스': 1859, '아버지': 1860, '사상': 1861, '승소': 1862, '설': 1863, '위치': 1864, '우린': 1865, '이동휘': 1866, '프리뷰': 1867, '무드': 1868, '노트': 1869, '백종원': 1870, '남궁민': 1871, '파': 1872, '우림': 1873, '스타일': 1874, '용품': 1875, '어머니': 1876, '만큼': 1877, '타인': 1878, '중대': 1879, '게릴라': 1880, '아이디어': 1881, '구교환': 1882, '이상형': 1883, '구형': 1884, '그림': 1885, '서바이벌': 1886, '흥부': 1887, '신설': 1888, '양궁': 1889, '성우': 1890, '계약금': 1891, '표시': 1892, '관절': 1893, '집사부': 1894, '스토어': 1895, '병': 1896, '차세대': 1897, '고양이': 1898, '조기': 1899, '심서': 1900, '척': 1901, '요청': 1902, '증시': 1903, '서약': 1904, '이게': 1905, '경기도': 1906, '국정원': 1907, '노을': 1908, '근대': 1909, '틱톡': 1910, '은지': 1911, '소유진': 1912, '러브스토리': 1913, '실황': 1914, '위험': 1915, '천상': 1916, '인공': 1917, '장수원': 1918, '마감': 1919, '라이엇': 1920, '기안': 1921, '하늘': 1922, '블럭': 1923, '거리': 1924, '동네': 1925, '설리': 1926, '대장동': 1927, '성범죄': 1928, '가요무대': 1929, '인디': 1930, '당국': 1931, '반성문': 1932, '스탠바이': 1933, '도움': 1934, '완주': 1935, '교체': 1936, '크라임': 1937, '윤종신': 1938, '리더십': 1939, '정면': 1940, '처': 1941, '헤드': 1942, '라이너': 1943, '급변': 1944, '펜싱': 1945, '집회': 1946, '아기': 1947, '인권': 1948, '과제': 1949, '라포': 1950, '효도': 1951, '창간': 1952, '수수료': 1953, '테러': 1954, '유명': 1955, '응원가': 1956, '연습': 1957, '교회': 1958, '목사': 1959, '행동': 1960, '스트리밍': 1961, '고영': 1962, '조혜련': 1963, '먹방': 1964, '킥': 1965, '실버': 1966, '열기': 1967, '전성시대': 1968, '스마트': 1969, '세금': 1970, '연봉': 1971, '벨': 1972, '올': 1973, '중심': 1974, '보도': 1975, '유니세프': 1976, '기부금': 1977, '드루': 1978, '과시': 1979, '조명': 1980, '음력': 1981, '부자': 1982, '랜': 1983, '로시': 1984, '감격': 1985, '터치': 1986, '실험': 1987, '매운맛': 1988, '스타트업': 1989, '신문': 1990, '사각지대': 1991, '주민': 1992, '정인': 1993, '화천': 1994, '동물': 1995, '사기': 1996, '의무': 1997, '과징금': 1998, '두훈': 1999, '틀': 2000, '하차': 2001, '톤': 2002, '시진핑': 2003, '걸음': 2004, '고개': 2005, '선거': 2006, '재위': 2007, '보고서': 2008, '질환': 2009, '공단': 2010, '상향': 2011, '한혜진': 2012, '행위': 2013, '인사이드': 2014, '개정': 2015, '식스': 2016, '명불허전': 2017, '여친': 2018, '메이크업': 2019, '방출': 2020, '얼마': 2021, '신경전': 2022, '맞대결': 2023, '애프터': 2024, '수퍼': 2025, '바이오': 2026, '땅': 2027, '파티': 2028, '주역': 2029, '오디오북': 2030, '감': 2031, '픽': 2032, '소득': 2033, '크로스': 2034, '레이스': 2035, '레드카': 2036, '펫': 2037, '박재정': 2038, '시발점': 2039, '오리지널': 2040, '오브': 2041, '작품': 2042, '국방부': 2043, '상상': 2044, '아이튠즈': 2045, '장바구니': 2046, '김필': 2047, '스토킹': 2048, '김구라': 2049, '밥': 2050, '확산': 2051, '일기': 2052, '나인뮤지스': 2053, '해피': 2054, '트럼프': 2055, '보증': 2056, '신부': 2057, '크레이지': 2058, '홈경기': 2059, '수술': 2060, '도서관': 2061, '향후': 2062, '신작': 2063, '역량': 2064, '천재': 2065, '추화': 2066, '싸움': 2067, '세포': 2068, '조억': 2069, '진실': 2070, '황태': 2071, '양미리': 2072, '석탄': 2073, '호선': 2074, '임대': 2075, '견': 2076, '설비': 2077, '테일': 2078, '열광': 2079, '원슈': 2080, '순천': 2081, '향대': 2082, '보호': 2083, '커넥트': 2084, '다큐': 2085, '개편': 2086, '화면': 2087, '사생팬': 2088, '분양': 2089, '스케치북': 2090, '기시다': 2091, '포스트': 2092, '풍력': 2093, '창': 2094, '타워': 2095, '그레이': 2096, '시너지': 2097, '악재': 2098, '의자': 2099, '필승': 2100, '오피셜': 2101, '농구': 2102, '문성유': 2103, '장기용': 2104, '흡연': 2105, '연예계': 2106, '후회': 2107, '자신감': 2108, '하이키': 2109, '탈라': 2110, '낫': 2111, '프렌즈': 2112, '영입': 2113, '불가': 2114, '창단': 2115, '김정현': 2116, '화': 2117, '김제덕': 2118, '조성': 2119, '국회의원': 2120, '전수': 2121, '수식어': 2122, '게이밍': 2123, '참가자': 2124, '비타민': 2125, '쿤스': 2126, '연상': 2127, '스타일리스트': 2128, '교사': 2129, '제한': 2130, '결별': 2131, '출간': 2132, '믹': 2133, '총괄': 2134, '공인': 2135, '마케팅': 2136, '도서': 2137, '창사': 2138, '서포터': 2139, '포스코': 2140, '예산안': 2141, '항공': 2142, '군사': 2143, '팀장': 2144, '주의': 2145, '요원': 2146, '방안': 2147, '초읽기': 2148, '기반': 2149, '편견': 2150, '인물': 2151, '자산': 2152, '거래소': 2153, '미도': 2154, '생애': 2155, '연락': 2156, '젝스키스': 2157, '더빙': 2158, '사항': 2159, '직전': 2160, '스틸': 2161, '예림': 2162, '전우성': 2163, '널': 2164, '플랫폼': 2165, '이사': 2166, '무한도전': 2167, '제공': 2168, '눈물바다': 2169, '웹': 2170, '초등': 2171, '장윤정': 2172, '클래식': 2173, '권수현': 2174, '순항': 2175, '단속': 2176, '정상급': 2177, '연승': 2178, '최강': 2179, '홍기': 2180, '유니버스': 2181, '지프': 2182, '상용': 2183, '총파업': 2184, '출산': 2185, '포럼': 2186, '강자': 2187, '표현': 2188, '영면': 2189, '고향': 2190, '벤츠': 2191, '노제': 2192, '공부': 2193, '플로': 2194, '반발': 2195, '서동주': 2196, '최예나': 2197, '만족': 2198, '군대': 2199, '장병': 2200, '범': 2201, '보훈': 2202, '라라': 2203, '간담회': 2204, '강남': 2205, '광장': 2206, '다운': 2207, '솜': 2208, '어벤져스': 2209, '시스템': 2210, '공항': 2211, '역전': 2212, '역할': 2213, '브리핑': 2214, '러블리': 2215, '김종민': 2216, '혼자': 2217, '경서': 2218, '연대': 2219, '막강': 2220, '트라이': 2221, '분만': 2222, '찰떡': 2223, '까닭': 2224, '중앙': 2225, '취약': 2226, '대유': 2227, '힙': 2228, '업무': 2229, '보호구역': 2230, '주정차': 2231, '첫날': 2232, '그라운드': 2233, '네트워크': 2234, '리스크': 2235, '훈': 2236, '맞춤': 2237, '디즈니': 2238, '임시회': 2239, '개회': 2240, '캠프': 2241, '공민지': 2242, '부채': 2243, '송편': 2244, '지연': 2245, '정의': 2246, '동상이몽': 2247, '냥': 2248, '약': 2249, '중계': 2250, '비아이지': 2251, '샤워': 2252, '사랑가': 2253, '한국인': 2254, '혹평': 2255, '교육청': 2256, '몸값': 2257, '회견': 2258, '긴장': 2259, '편승엽': 2260, '숫자': 2261, '랭킹': 2262, '한글': 2263, '폐기물': 2264, '증가': 2265, '도토리': 2266, '라스': 2267, '손자': 2268, '에너지부': 2269, '이병헌': 2270, '매치': 2271, '전성기': 2272, '위클리': 2273, '나얼': 2274, '길구': 2275, '전상근': 2276, '정석': 2277, '아스트': 2278, '대비': 2279, '뷰티': 2280, '암투병': 2281, '저스틴비버': 2282, '출사표': 2283, '피플': 2284, '인상': 2285, '듀오': 2286, '임원': 2287, '정통': 2288, '재해': 2289, '호텔': 2290, '음중': 2291, '김정민': 2292, '심경': 2293, '연결': 2294, '방치': 2295, '수첩': 2296, '강철': 2297, '부대': 2298, '괴물': 2299, '헤드뱅잉': 2300, '신세계': 2301, '스승': 2302, '헤이즈': 2303, '게스트': 2304, '이전': 2305, '경차': 2306, '여권': 2307, '크': 2308, '해남': 2309, '리마': 2310, '스터링': 2311, '심의': 2312, '아이즈': 2313, '밀워키': 2314, '노인': 2315, '안테나': 2316, '원주시': 2317, '표정': 2318, '이정욱': 2319, '신신애': 2320, '이천수': 2321, '관광공사': 2322, '견본': 2323, '운전': 2324, '카운트': 2325, '선생': 2326, '젠틀맨': 2327, '세월': 2328, '값': 2329, '전망': 2330, '동전': 2331, '조직': 2332, '축소': 2333, '유이': 2334, '새벽': 2335, '빛': 2336, '해법': 2337, '봉태규': 2338, '황동준': 2339, '이태승': 2340, '하림': 2341, '본인': 2342, '어린이집': 2343, '이탈': 2344, '금요일': 2345, '유세윤': 2346, '제네시스': 2347, '쿨': 2348, '발굴': 2349, '시동': 2350, '이모티콘': 2351, '영제': 2352, '진화': 2353, '앳': 2354, '영현': 2355, '언제': 2356, '우드': 2357, '근거': 2358, '실적': 2359, '취향': 2360, '커머스': 2361, '천국': 2362, '소아마비': 2363, '지사': 2364, '수원': 2365, '커뮤니티': 2366, '자금': 2367, '송민호': 2368, '강국': 2369, '이지영': 2370, '안마': 2371, '아이드': 2372, '문경': 2373, '목토': 2374, '억만': 2375, '고통': 2376, '녹화': 2377, '장현수': 2378, '인기상': 2379, '억제': 2380, '윤지': 2381, '실화': 2382, '최시원': 2383, '마약': 2384, '박남정': 2385, '김경록': 2386, '판타지': 2387, '댄서': 2388, '히어로': 2389, '슈퍼카': 2390, '보조금': 2391, '소개팅': 2392, '설현': 2393, '야호': 2394, '쌈디': 2395, '애니': 2396, '불': 2397, '등판': 2398, '야유': 2399, '설치': 2400, '수준': 2401, '투자자': 2402, '격려': 2403, '학대': 2404, '상담': 2405, '예감': 2406, '첨단': 2407, '팬데': 2408, '부담감': 2409, '여': 2410, '안무': 2411, '롱런': 2412, '윈': 2413, '수시': 2414, '이래': 2415, '보영': 2416, '매형': 2417, '기아': 2418, '협의': 2419, '황광희': 2420, '서프라이즈': 2421, '조치': 2422, '대처': 2423, '본예산': 2424, '육아': 2425, '주류': 2426, '대화': 2427, '유야': 2428, '도장': 2429, '메신저': 2430, '차태현': 2431, '재생': 2432, '요구': 2433, '수원시': 2434, '체제': 2435, '삼성증권': 2436, '투수': 2437, '교통비': 2438, '테': 2439, '별송': 2440, '농업': 2441, '메가': 2442, '한때': 2443, '외교': 2444, '거래': 2445, '솔루션': 2446, '중소기업': 2447, '볼보': 2448, '도로': 2449, '창원시': 2450, '중임': 2451, '어레스': 2452, '아산': 2453, '공헌': 2454, '퓨처': 2455, '호평': 2456, '논스톱': 2457, '이지아': 2458, '이동욱': 2459, '음주': 2460, '고품격': 2461, '어쿠스틱': 2462, '루프': 2463, '위너': 2464, '합격자': 2465, '초심': 2466, '흐름': 2467, '독려': 2468, '안녕': 2469, '통령': 2470, '김지은': 2471, '물음표': 2472, '라켓': 2473, '퇴원': 2474, '베테랑': 2475, '레이': 2476, '통산': 2477, '아스트로': 2478, '침해': 2479, '명예': 2480, '래': 2481, '정희': 2482, '판결': 2483, '진주': 2484, '이중': 2485, '연비': 2486, '딜라이트': 2487, '홍주현': 2488, '방탄': 2489, '그녀': 2490, '격돌': 2491, '랭': 2492, '크랙': 2493, '포트': 2494, '락': 2495, '고막': 2496, '위문': 2497, '나태주': 2498, '알': 2499, '립': 2500, '모녀': 2501, '호주': 2502, '탈락': 2503, '엑': 2504, '김정환': 2505, '영기': 2506, '진보': 2507, '기존': 2508, '보이비': 2509, '시각': 2510, '지난주': 2511, '민심': 2512, '고속': 2513, '입학': 2514, '봉사': 2515, '마당': 2516, '성덕': 2517, '최민수': 2518, '하트': 2519, '게임빌': 2520, '재테크': 2521, '전공': 2522, '저감': 2523, '덕분': 2524, '웅위': 2525, '재즈': 2526, '리정': 2527, '소비': 2528, '울진군': 2529, '션': 2530, '아이템': 2531, '버터': 2532, '닥터': 2533, '면': 2534, '비상': 2535, '사격': 2536, '백만': 2537, '곽상': 2538, '맨': 2539, '퇴장': 2540, '예상': 2541, '징계': 2542, '내역': 2543, '가정': 2544, '생태': 2545, '출전': 2546, '최성훈': 2547, '혼': 2548, '트리플': 2549, '권': 2550, '발산': 2551, '박경혜': 2552, '해남군': 2553, '장악': 2554, '여제': 2555, '김두관': 2556, '토론회': 2557, '어게인': 2558, '홈즈': 2559, '김조한': 2560, '인형': 2561, '트레이너': 2562, '김현성': 2563, '가사': 2564, '웨어': 2565, '유발': 2566, '들꽃': 2567, '네': 2568, '멜로디': 2569, '롯데제과': 2570, '투애니원': 2571, '구축': 2572, '처리': 2573, '라스트': 2574, '개관': 2575, '스토': 2576, '쿠팡': 2577, '결말': 2578, '김해시': 2579, '구현모': 2580, '여부': 2581, '상작': 2582, '고려': 2583, '썸': 2584, '모디': 2585, '발표회': 2586, '파업': 2587, '선상': 2588, '명사': 2589, '특강': 2590, '숙미': 2591, '해독': 2592, '치마': 2593, '과정': 2594, '오현우': 2595, '라디': 2596, '탄소세': 2597, '당시': 2598, '일회용': 2599, '정숙': 2600, '전세금': 2601, '지정': 2602, '여주': 2603, '가짜': 2604, '국고': 2605, '가발': 2606, '써니': 2607, '유니폼': 2608, '등록': 2609, '로드': 2610, '자원': 2611, '블랑': 2612, '구매': 2613, '임박': 2614, '박물관': 2615, '고용': 2616, '증': 2617, '기증': 2618, '옆': 2619, '레딧': 2620, '중간': 2621, '신용': 2622, '손잡고': 2623, '케인': 2624, '라이언': 2625, '준': 2626, '생산': 2627, '눈빛': 2628, '달리': 2629, '감자탕': 2630, '군단': 2631, '티아라': 2632, '트위터': 2633, '트윗': 2634, '초동': 2635, '사이언스': 2636, '와일드': 2637, '전주': 2638, '스쿨': 2639, '채용': 2640, '마디': 2641, '공원': 2642, '유연석': 2643, '카리스마': 2644, '절반': 2645, '더블': 2646, '디바': 2647, '노동': 2648, '스크린': 2649, '동아리': 2650, '김예림': 2651, '서베이': 2652, '대형': 2653, '김원주': 2654, '차기': 2655, '노선': 2656, '나우': 2657, '보비': 2658, '연간': 2659, '과학자': 2660, '농협': 2661, '근무': 2662, '가스공사': 2663, '소이현': 2664, '로즈': 2665, '컬렉션': 2666, '주거': 2667, '한방': 2668, '선발': 2669, '세종': 2670, '선포': 2671, '퇴치': 2672, '신민아': 2673, '통': 2674, '밖': 2675, '풀잎': 2676, '코칭': 2677, '낙태': 2678, '난민': 2679, '김경욱': 2680, '순대': 2681, '민선기': 2682, '풍경': 2683, '패러다임': 2684, '태국': 2685, '마법': 2686, '지진희': 2687, '집단': 2688, '정비': 2689, '인사이트': 2690, '아쉬움': 2691, '반박': 2692, '기온': 2693, '보': 2694, '한림': 2695, '김형중': 2696, '연출': 2697, '안산': 2698, '김영대': 2699, '의견': 2700, '영내': 2701, '비바': 2702, '조이': 2703, '계층': 2704, '임세영': 2705, '문경시': 2706, '은사': 2707, '참가': 2708, '창작': 2709, '이유리': 2710, '내용': 2711, '오산': 2712, '건우': 2713, '빈': 2714, '아이스크림': 2715, '끝판': 2716, '외부': 2717, '연세': 2718, '발사': 2719, '선후배': 2720, '부탁': 2721, '민희': 2722, '타이어': 2723, '연예': 2724, '여전': 2725, '수상자': 2726, '연장': 2727, '자녀': 2728, '니덤': 2729, '승진': 2730, '삭감': 2731, '소상': 2732, '이현': 2733, '파트너': 2734, '사인': 2735, '독설': 2736, '재정': 2737, '스포티지': 2738, '완': 2739, '키드': 2740, '라로이': 2741, '철파': 2742, '예선': 2743, '저력': 2744, '진료': 2745, '일월': 2746, '치명': 2747, '대미': 2748, '탐방': 2749, '양성': 2750, '전형': 2751, '바이브': 2752, '북': 2753, '허용': 2754, '요양': 2755, '재킷': 2756, '출근': 2757, '자부심': 2758, '단식': 2759, '퇴출': 2760, '벤': 2761, '해양': 2762, '의정부': 2763, '위아': 2764, '설운': 2765, '디자인': 2766, '다일': 2767, '탄원서': 2768, '소방': 2769, '훈련': 2770, '맹활약': 2771, '애니메이션': 2772, '보고회': 2773, '보컬리스트': 2774, '대권': 2775, '그램': 2776, '유승민': 2777, '검증': 2778, '성적': 2779, '용기': 2780, '차차차': 2781, '직업': 2782, '정모': 2783, '종자': 2784, '소설': 2785, '이하': 2786, '면제': 2787, '논쟁': 2788, '후배': 2789, '벌': 2790, '질문': 2791, '안양': 2792, '급증': 2793, '대기실': 2794, '민관': 2795, '성숙': 2796, '결제': 2797, '알리': 2798, '독립': 2799, '코어': 2800, '데일리': 2801, '한판': 2802, '노브레인': 2803, '자세': 2804, '경찰대': 2805, '영향력': 2806, '드림콘서트': 2807, '그리움': 2808, '은가': 2809, '전역': 2810, '추리': 2811, '유기': 2812, '소년단': 2813, '미숙아': 2814, '무단': 2815, '환불': 2816, '뿌리': 2817, '유승준': 2818, '사우디': 2819, '요아리': 2820, '요소': 2821, '대란': 2822, '씨네': 2823, '소년': 2824, '실력파': 2825, '남매': 2826, '타투': 2827, '국세청': 2828, '이형주': 2829, '토종': 2830, '스페이스': 2831, '변진섭': 2832, '끼': 2833, '목포': 2834, '메이트': 2835, '이걸': 2836, '굴뚝': 2837, '남녀': 2838, '주문': 2839, '김태희': 2840, '탈출': 2841, '대부분': 2842, '불화': 2843, '임금': 2844, '김준호': 2845, '수진': 2846, '공백': 2847, '음악회': 2848, '괴산': 2849, '헤드라인': 2850, '화채': 2851, '작업': 2852, '야간': 2853, '이터널': 2854, '성추행': 2855, '실망감': 2856, '성남시': 2857, '풍성': 2858, '레벨': 2859, '조민': 2860, '혼란': 2861, '백기': 2862, '답': 2863, '과태료': 2864, '차지': 2865, '해소': 2866, '각오': 2867, '강주은': 2868, '라': 2869, '감수': 2870, '인식': 2871, '스케일': 2872, '가문': 2873, '난리': 2874, '쟁점': 2875, '연구원': 2876, '영풍': 2877, '석포': 2878, '제련소': 2879, '김자옥': 2880, '연극': 2881, '업그레이드': 2882, '지니': 2883, '지스타': 2884, '말론': 2885, '김우빈': 2886, '안팎': 2887, '업데이트': 2888, '유재환': 2889, '김창규': 2890, '제천': 2891, '홀': 2892, '김윤지': 2893, '이현이': 2894, '중재법': 2895, '박기훈': 2896, '오열': 2897, '더위': 2898, '밥상': 2899, '민찬기': 2900, '여심': 2901, '창립': 2902, '와치': 2903, '장소': 2904, '허경영': 2905, '노출': 2906, '소재': 2907, '농부': 2908, '건물': 2909, '인터넷': 2910, '인천시': 2911, '일반': 2912, '잠정': 2913, '좌': 2914, '메': 2915, '가비': 2916, '울트라': 2917, '장학금': 2918, '석권': 2919, '오랜만': 2920, '스팟': 2921, '의학': 2922, '상장': 2923, '숲': 2924, '독일': 2925, '한인': 2926, '광역': 2927, '동화': 2928, '모': 2929, '윌라': 2930, '날개': 2931, '라면': 2932, '심리': 2933, '노형욱': 2934, '유겸': 2935, '고수': 2936, '비티': 2937, '여배우': 2938, '성동': 2939, '오산시': 2940, '관람': 2941, '농가': 2942, '도착': 2943, '미술': 2944, '코치': 2945, '반환': 2946, '선곡': 2947, '뭉클': 2948, '폐막': 2949, '예측': 2950, '복': 2951, '사커': 2952, '배동현': 2953, '순환': 2954, '화사': 2955, '인류': 2956, '견제': 2957, '운용': 2958, '입단': 2959, '메시': 2960, '스메': 2961, '명현관': 2962, '영양군': 2963, '한': 2964, '박사': 2965, '텍스': 2966, '청소': 2967, '런': 2968, '격세': 2969, '김진호': 2970, '밀': 2971, '충북': 2972, '국무총리': 2973, '롱': 2974, '스릴러': 2975, '챔피언': 2976, '센스': 2977, '윤은혜': 2978, '배터리': 2979, '금호건설': 2980, '웨이': 2981, '컴퓨팅': 2982, '독': 2983, '오키': 2984, '태그': 2985, '애경': 2986, '대체': 2987, '라디오스타': 2988, '싸가': 2989, '학술': 2990, '김재화': 2991, '신사': 2992, '박완규': 2993, '회전': 2994, '파열': 2995, '유주': 2996, '진': 2997, '뮤지엄': 2998, '손해': 2999, '삼촌': 3000, '아베스': 3001, '한숨': 3002, '전력': 3003, '이특': 3004, '직': 3005, '늦둥이': 3006, '정점': 3007, '오딘': 3008, '스킬': 3009, '원형': 3010, '시내버스': 3011, '숙박': 3012, '입문서': 3013, '부인': 3014, '파월': 3015, '허리둘레': 3016, '피하': 3017, '상금': 3018, '뭘': 3019, '공주': 3020, '화살': 3021, '회원': 3022, '내레이션': 3023, '빈곤': 3024, '에비뉴': 3025, '환호': 3026, '에델': 3027, '클랑': 3028, '하이브': 3029, '저녁': 3030, '심금': 3031, '단어': 3032, '최고점': 3033, '가스': 3034, '산재': 3035, '절차': 3036, '절감': 3037, '망고': 3038, '잡스': 3039, '벌레': 3040, '세리': 3041, '아이코닉': 3042, '구제': 3043, '신형': 3044, '하교': 3045, '모금': 3046, '부당': 3047, '푸드': 3048, '마블': 3049, '분야': 3050, '에스': 3051, '판단': 3052, '질타': 3053, '달러': 3054, '정재형': 3055, '이웃': 3056, '빨강': 3057, '구두': 3058, '이내': 3059, '거짓': 3060, '이상해': 3061, '김영임': 3062, '손실': 3063, '완전': 3064, '요즘': 3065, '라이프': 3066, '정태우': 3067, '리노': 3068, '나이스': 3069, '단결': 3070, '커밍': 3071, '대법': 3072, '나훈아': 3073, '부정수': 3074, '한효주': 3075, '공략': 3076, '주인': 3077, '통제': 3078, '연상호': 3079, '슈주': 3080, '공격': 3081, '홈런': 3082, '윤': 3083, '탈': 3084, '브리검': 3085, '논문': 3086, '정성': 3087, '금리': 3088, '압박': 3089, '롯데마트': 3090, '가희': 3091, '자료': 3092, '밸리': 3093, '불복': 3094, '동료': 3095, '오타니': 3096, '파일': 3097, '장수': 3098, '오해': 3099, '박효신': 3100, '외면': 3101, '최재구': 3102, '박혜경': 3103, '평생': 3104, '박람회': 3105, '입지': 3106, '계절': 3107, '소울': 3108, '치어리더': 3109, '인하': 3110, '영예': 3111, '망돌': 3112, '센': 3113, '크러쉬': 3114, '환경부': 3115, '종목': 3116, '라이징': 3117, '고조': 3118, '자보': 3119, '최희서': 3120, '시점': 3121, '불발': 3122, '공소장': 3123, '겸': 3124, '대만': 3125, '드라이브': 3126, '출연진': 3127, '졸업': 3128, '소개': 3129, '평': 3130, '욕': 3131, '영광': 3132, '이건': 3133, '결산': 3134, '스테이지': 3135, '욕심': 3136, '구봉': 3137, '갑': 3138, '무더위': 3139, '음악중심': 3140, '통신': 3141, '회관': 3142, '장비': 3143, '광역권': 3144, '해운대': 3145, '형량': 3146, '데이브레이크': 3147, '개혁': 3148, '정산': 3149, '파라솔': 3150, '직격': 3151, '동메달': 3152, '액세스': 3153, '만대': 3154, '화답': 3155, '고음': 3156, '날씨': 3157, '관중': 3158, '이해': 3159, '설아': 3160, '만점': 3161, '모빌리티': 3162, '보아': 3163, '전도연': 3164, '차이': 3165, '속보': 3166, '이수근': 3167, '골반': 3168, '팁': 3169, '세기': 3170, '사면': 3171, '협': 3172, '신예': 3173, '육성': 3174, '일침': 3175, '왕따': 3176, '하현': 3177, '원곡': 3178, '활성': 3179, '탤런트': 3180, '결선': 3181, '보답': 3182, '푸': 3183, '헬스': 3184, '창출': 3185, '갯마을': 3186, '자우림': 3187, '윤여정': 3188, '정예': 3189, '기타리스트': 3190, '위원장': 3191, '전시회': 3192, '기쁨': 3193, '세로': 3194, '발생': 3195, '할머니': 3196, '의리': 3197, '케이스': 3198, '승패': 3199, '곁': 3200, '파도': 3201, '마이': 3202, '임직원': 3203, '적용': 3204, '모먼트': 3205, '인턴': 3206, '육군': 3207, '나무': 3208, '일야': 3209, '둘째': 3210, '셋째': 3211, '박진영': 3212, '보안': 3213, '김민석': 3214, '남성': 3215, '여러분': 3216, '컨': 3217, '가동': 3218, '극단': 3219, '엔진': 3220, '멘토': 3221, '열전': 3222, '토론': 3223, '건축': 3224, '사우': 3225, '신유': 3226, '조언': 3227, '무비': 3228, '앤드': 3229, '듀얼': 3230, '문학': 3231, '아동학': 3232, '쌍둥이': 3233, '반값': 3234, '견인': 3235, '차태': 3236, '현진영': 3237, '롤스로이스': 3238, '배지': 3239, '사수': 3240, '여름밤': 3241, '정조준': 3242, '사례': 3243, '버레': 3244, '이익': 3245, '제조': 3246, '당장': 3247, '해제': 3248, '응수': 3249, '품질': 3250, '노사': 3251, '주제': 3252, '옥스팜': 3253, '워커': 3254, '도마': 3255, '한전': 3256, '요태': 3257, '카페': 3258, '장악력': 3259, '친분': 3260, '벌금': 3261, '김도혁': 3262, '품격': 3263, '성남': 3264, '발롱도르': 3265, '평균': 3266, '최장': 3267, '연금': 3268, '고교': 3269, '도사': 3270, '쇄도': 3271, '김원준': 3272, '작별': 3273, '참견': 3274, '분당': 3275, '이재영': 3276, '소셜': 3277, '국방': 3278, '보석': 3279, '마': 3280, '협의회': 3281, '하디': 3282, '먹거리': 3283, '유니콘': 3284, '럽': 3285, '희비': 3286, '충돌': 3287, '프로야구': 3288, '슈퍼스타즈': 3289, '횡령': 3290, '곳곳': 3291, '만능': 3292, '엔터테이너': 3293, '추신수': 3294, '보고': 3295, '세단': 3296, '방향': 3297, '충만': 3298, '무인': 3299, '양품': 3300, '심신': 3301, '안착': 3302, '패치': 3303, '르': 3304, '전액': 3305, '다정': 3306, '네이처': 3307, '칸타빌레': 3308, '향수': 3309, '집합': 3310, '위프': 3311, '렉스': 3312, '푸마': 3313, '메달': 3314, '소란': 3315, '본부': 3316, '최소': 3317, '서건': 3318, '김민규': 3319, '참패': 3320, '구역': 3321, '비난': 3322, '능청': 3323, '뼈': 3324, '정수': 3325, '문재': 3326, '선결': 3327, '경부고속도로': 3328, '해설': 3329, '모드': 3330, '총': 3331, '신뢰': 3332, '뿔': 3333, '바통': 3334, '발목': 3335, '충전': 3336, '티즈': 3337, '랜섬': 3338, '느낌': 3339, '취재': 3340, '동남아': 3341, '거물': 3342, '오단': 3343, '모리': 3344, '중독': 3345, '경형': 3346, '씨엘': 3347, '전년': 3348, '신장': 3349, '인성': 3350, '수산': 3351, '특례': 3352, '수혜': 3353, '하지원': 3354, '미술관': 3355, '조원': 3356, '속출': 3357, '감경': 3358, '수사대': 3359, '프로포폴': 3360, '투약': 3361, '이케아': 3362, '정상훈': 3363, '보살': 3364, '피아노': 3365, '필통': 3366, '마리': 3367, '박지원': 3368, '결혼식': 3369, '성운': 3370, '밀양': 3371, '승부수': 3372, '아연': 3373, '국토': 3374, '연합': 3375, '코인': 3376, '크레이그': 3377, '권익': 3378, '성동구': 3379, '몸신': 3380, '제대': 3381, '중국인': 3382, '서린': 3383, '제목': 3384, '정준일': 3385, '명소': 3386, '철회': 3387, '앞날': 3388, '아티스': 3389, '틱': 3390, '선진국': 3391, '템': 3392, '셋': 3393, '동향': 3394, '용납': 3395, '강점': 3396, '시나리오': 3397, '민사': 3398, '클린': 3399, '리커': 3400, '신차': 3401, '장사': 3402, '족': 3403, '넷마블': 3404, '인프라': 3405, '사퇴': 3406, '감사패': 3407, '조롱': 3408, '현역': 3409, '허가': 3410, '안철수': 3411, '정조': 3412, '메리어': 3413, '인터내셔널': 3414, '조례': 3415, '경찰청': 3416, '지분': 3417, '재현': 3418, '고령': 3419, '경악': 3420, '리벤지': 3421, '송지효': 3422, '다이어트': 3423, '보디가드': 3424, '수행': 3425, '아키텍처': 3426, '리프트': 3427, '신임': 3428, '작년': 3429, '질': 3430, '성매매': 3431, '서': 3432, '아이폰': 3433, '애수': 3434, '올스타': 3435, '성범죄자': 3436, '연료': 3437, '선박': 3438, '윤희숙': 3439, '심수봉': 3440, '비화': 3441, '최우선': 3442, '유한준': 3443, '박서': 3444, '의장': 3445, '자이로': 3446, '합병증': 3447, '이찬': 3448, '강탈': 3449, '바지': 3450, '덤': 3451, '경계': 3452, '어저께': 3453, '안내': 3454, '우선': 3455, '총력': 3456, '벨소리': 3457, '최애': 3458, '탕': 3459, '바비': 3460, '약사회': 3461, '발전소': 3462, '매직': 3463, '경기장': 3464, '차질': 3465, '타임아웃': 3466, '수출': 3467, '항만': 3468, '성폭력': 3469, '밀착': 3470, '점수': 3471, '대가': 3472, '핵심': 3473, '진격': 3474, '균형발전': 3475, '추세': 3476, '산타클로스': 3477, '믿음': 3478, '허성': 3479, '무표': 3480, '정당': 3481, '옹': 3482, '기금': 3483, '더블유': 3484, '신비': 3485, '메인': 3486, '워치': 3487, '얼리': 3488, '진해': 3489, '약국': 3490, '존재감': 3491, '갯': 3492, '월드컵': 3493, '개봉': 3494, '속옷': 3495, '벽': 3496, '실감': 3497, '가게': 3498, '폐기': 3499, '일정': 3500, '밍키': 3501, '인천공항공사': 3502, '과즙': 3503, '컨퍼런스': 3504, '스티브': 3505, '아래': 3506, '비하': 3507, '트레저': 3508, '바닷가': 3509, '초등학생': 3510, '간접': 3511, '클릭': 3512, '양형': 3513, '법안': 3514, '경쟁력': 3515, '이하이': 3516, '얼음': 3517, '황제': 3518, '동대문': 3519, '신정호': 3520, '벨라루스': 3521, '선교사': 3522, '메이다니': 3523, '유다': 3524, '페퍼톤스': 3525, '랄라': 3526, '강력': 3527, '지혜': 3528, '입주민': 3529, '윤정희': 3530, '김민경': 3531, '탈환': 3532, '돌풍': 3533, '막걸리': 3534, '씬': 3535, '헬': 3536, '광주시': 3537, '지난해': 3538, '한강': 3539, '영웅시대': 3540, '기량': 3541, '불참': 3542, '조권': 3543, '퍼스널': 3544, '이면': 3545, '속아': 3546, '꿈결': 3547, '캠퍼스': 3548, '뻔': 3549, '종말': 3550, '모색': 3551, '사춘기': 3552, '패키지': 3553, '멋': 3554, '호칭': 3555, '쌍': 3556, '장례': 3557, '르포': 3558, '셀': 3559, '며느리': 3560, '표출': 3561, '도중': 3562, '전세': 3563, '필수': 3564, '킹메이커': 3565, '제자리': 3566, '드림': 3567, '비리': 3568, '연료전지': 3569, '스캔들': 3570, '강남구': 3571, '음반': 3572, '빠': 3573, '조용기': 3574, '돈방석': 3575, '가처분': 3576, '차례': 3577, '김영옥': 3578, '마차도': 3579, '식구': 3580, '내게': 3581, '탐사': 3582, '프리즘': 3583, '공포': 3584, '화재': 3585, '형성': 3586, '통증': 3587, '베일': 3588, '에세이': 3589, '바닷속': 3590, '조각': 3591, '수여': 3592, '탓': 3593, '대기록': 3594, '무게': 3595, '박지훈': 3596, '뽀뽀': 3597, '제주도': 3598, '주먹': 3599, '학습': 3600, '짐': 3601, '박훈': 3602, '현빈': 3603, '비극': 3604, '대부': 3605, '네이션': 3606, '이재훈': 3607, '펀드': 3608, '신접': 3609, '유스케': 3610, '계단': 3611, '신호': 3612, '재발': 3613, '부작용': 3614, '살인': 3615, '최백호': 3616, '꼰대': 3617, '안보현': 3618, '무역': 3619, '하유': 3620, '인력': 3621, '성능': 3622, '예전': 3623, '방울토마토': 3624, '불씨': 3625, '이도진': 3626, '해석': 3627, '훈풍': 3628, '검색': 3629, '투명': 3630, '스폰서': 3631, '코빅': 3632, '류전': 3633, '이찬형': 3634, '활기': 3635, '헌신': 3636, '고은': 3637, '균형': 3638, '농성': 3639, '신봉선': 3640, '재범': 3641, '당진시': 3642, '염기훈': 3643, '풍': 3644, '메뉴': 3645, '사학': 3646, '베스트': 3647, '보람': 3648, '봉': 3649, '최동원': 3650, '화두': 3651, '장혜리': 3652, '각종': 3653, '현금': 3654, '승인': 3655, '보상': 3656, '공짜': 3657, '꼬마': 3658, '주변': 3659, '형사': 3660, '철칙': 3661, '공격수': 3662, '에이스': 3663, '마크': 3664, '서민': 3665, '몸매': 3666, '지세희': 3667, '자네': 3668, '저탄소': 3669, '오너': 3670, '대구시': 3671, '잠룡': 3672, '송소희': 3673, '원더': 3674, '소풍': 3675, '계보': 3676, '새소년': 3677, '약식': 3678, '방식': 3679, '의문': 3680, '상속': 3681, '정호연': 3682, '집권': 3683, '배신': 3684, '단일': 3685, '가전': 3686, '창원': 3687, '삼성전자': 3688, '동점': 3689, '구멍': 3690, '림': 3691, '처녀': 3692, '박정현': 3693, '모양': 3694, '농민': 3695, '가혹': 3696, '선녀': 3697, '협상': 3698, '동요': 3699, '전영수': 3700, '엑소': 3701, '리릭': 3702, '고혈압': 3703, '연구자': 3704, '제자': 3705, '안성준': 3706, '통과': 3707, '체인지': 3708, '기구': 3709, '사주': 3710, '일수': 3711, '권리': 3712, '소수자': 3713, '화상': 3714, '누나': 3715, '우리말': 3716, '박수': 3717, '위촉': 3718, '미접': 3719, '서령': 3720, '단위': 3721, '상품권': 3722, '추구': 3723, '초기': 3724, '태도': 3725, '매': 3726, '의기투합': 3727, '하영': 3728, '질주': 3729, '정세운': 3730, '동거': 3731, '놀이터': 3732, '팬텀': 3733, '복수': 3734, '댓': 3735, '도지사': 3736, '옛날': 3737, '전시': 3738, '조명탄': 3739, '실형': 3740, '가속': 3741, '강인권': 3742, '스물': 3743, '수성': 3744, '방시혁': 3745, '수정': 3746, '쑥': 3747, '포문': 3748, '국악인': 3749, '초반': 3750, '공태현': 3751, '안백': 3752, '서울대': 3753, '무리': 3754, '소멸': 3755, '김완선': 3756, '삭제': 3757, '인수': 3758, '뉴런': 3759, '본능': 3760, '예능인': 3761, '델': 3762, '전혜빈': 3763, '가시': 3764, '더우먼': 3765, '봄': 3766, '스킨십': 3767, '책정': 3768, '손가락': 3769, '두려움': 3770, '침': 3771, '개헌': 3772, '웨이스트': 3773, '친형': 3774, '상위': 3775, '불안': 3776, '고급': 3777, '클라우드': 3778, '실효': 3779, '마트': 3780, '브릿지': 3781, '짜증': 3782, '지미': 3783, '임기': 3784, '아픔': 3785, '진성': 3786, '북한': 3787, '뉴딜': 3788, '멜': 3789, '호응': 3790, '그때': 3791, '통장': 3792, '자이언티': 3793, '발사체': 3794, '종이': 3795, '채동하': 3796, '물품': 3797, '룩': 3798, '프로세서': 3799, '신나': 3800, '공세': 3801, '주지사': 3802, '면모': 3803, '오페라': 3804, '크리스마스': 3805, '수용': 3806, '레시피': 3807, '박스': 3808, '플렉스': 3809, '지도자': 3810, '정초': 3811, '박성우': 3812, '라떼': 3813, '박항서': 3814, '자율': 3815, '벌크': 3816, '선대위': 3817, '향기': 3818, '맘고생': 3819, '김장': 3820, '여종': 3821, '종전': 3822, '첼시': 3823, '특정': 3824, '사죄': 3825, '리즈': 3826, '레이첼': 3827, '금메달': 3828, '본방': 3829, '민노총': 3830, '마이걸': 3831, '지적': 3832, '수집': 3833, '훼손': 3834, '죄': 3835, '도래': 3836, '성악': 3837, '이노베이션': 3838, '접전': 3839, '착취': 3840, '유방암': 3841, '프리미엄': 3842, '성경': 3843, '제기': 3844, '엘리트': 3845, '고아': 3846, '움직임': 3847, '추격전': 3848, '특검': 3849, '이대형': 3850, '결실': 3851, '마부': 3852, '인플레': 3853, '준우승': 3854, '목포시': 3855, '센치': 3856, '이대목동병원': 3857, '열차': 3858, '데프콘': 3859, '그날': 3860, '니다': 3861, '위법': 3862, '직후': 3863, '대납': 3864, '표준': 3865, '스와': 3866, '아침마당': 3867, '주입': 3868, '괌': 3869, '이수만': 3870, '존슨': 3871, '만화': 3872, '독점': 3873, '허점': 3874, '황희': 3875, '럭키': 3876, '강호동': 3877, '그늘집': 3878, '전지': 3879, '동영상': 3880, '정치인': 3881, '이원석': 3882, '전두환': 3883, '심층': 3884, '기계': 3885, '에버': 3886, '눈앞': 3887, '공포증': 3888, '유흥': 3889, '하동근': 3890, '전영록': 3891, '획득': 3892, '포브스': 3893, '월요일': 3894, '어스': 3895, '톰': 3896, '혈세': 3897, '조간': 3898, '구미': 3899, '대잔치': 3900, '농': 3901, '납득': 3902, '데스크': 3903, '세계관': 3904, '변동': 3905, '배려': 3906, '섬': 3907, '이재용': 3908, '자전거': 3909, '캐딜락': 3910, '농정': 3911, '미드': 3912, '채훈': 3913, '경상북도': 3914, '스윗': 3915, '설정': 3916, '민선': 3917, '상륙': 3918, '간호사': 3919, '둥지': 3920, '목격': 3921, '읍': 3922, '고심': 3923, '김동한': 3924, '철도': 3925, '도우': 3926, '보건': 3927, '이태훈': 3928, '병원장': 3929, '권한': 3930, '화운': 3931, '유빈': 3932, '탁구': 3933, '불순물': 3934, '금의환향': 3935, '군위': 3936, '강릉': 3937, '스토브': 3938, '별빛': 3939, '연경': 3940, '앓': 3941, '현재': 3942, '인자': 3943, '빅리그': 3944, '잼': 3945, '에이비': 3946, '백예린': 3947, '삼자대면': 3948, '피부': 3949, '카인드': 3950, '춘천': 3951, '김현정': 3952, '럼블피쉬': 3953, '조건': 3954, '최영재': 3955, '남동': 3956, '소래': 3957, '아트홀': 3958, '이승윤': 3959, '유료': 3960, '에이': 3961, '바퀴': 3962, '본격화': 3963, '하니': 3964, '정선': 3965, '준결승전': 3966, '다문화가정': 3967, '오연수': 3968, '시국': 3969, '탈세': 3970, '민낯': 3971, '박영규': 3972, '명단': 3973, '이주천': 3974, '측정': 3975, '맛바람': 3976, '인문': 3977, '진진': 3978, '밤바다': 3979, '화합': 3980, '관광객': 3981, '이글리': 3982, '작전': 3983, '미라클': 3984, '경위': 3985, '스웨덴': 3986, '전당': 3987, '김혜수': 3988, '몽': 3989, '혀': 3990, '류준열': 3991, '선제': 3992, '아비바': 3993, '노타임': 3994, '유닛': 3995, '호화': 3996, '원칙': 3997, '군납': 3998, '인센티브': 3999, '누리꾼': 4000, '러시': 4001, '테슬라': 4002, '앙코르': 4003, '한수민': 4004, '소멸시효': 4005, '점유': 4006, '여섯': 4007, '원정': 4008, '아제르바이잔': 4009, '편의': 4010, '개도국': 4011, '애칭': 4012, '윤철': 4013, '학원': 4014, '시립': 4015, '양기대': 4016, '마운드': 4017, '모독': 4018, '리콜': 4019, '온정': 4020, '통화': 4021, '퇴직금': 4022, '이거': 4023, '자치': 4024, '샴페인': 4025, '모터': 4026, '소방관': 4027, '인문학': 4028, '사유': 4029, '작사가': 4030, '대학가': 4031, '예보': 4032, '금액': 4033, '응모': 4034, '춘추': 4035, '탐구': 4036, '쾌': 4037, '여정': 4038, '홍인규': 4039, '앤디': 4040, '강다나': 4041, '박진': 4042, '땡': 4043, '직고': 4044, '율': 4045, '산협': 4046, '엄정화': 4047, '샵': 4048, '사계': 4049, '스위스': 4050, '성폭행': 4051, '살해': 4052, '할아버지': 4053, '사나이': 4054, '붕괴': 4055, '주가': 4056, '가곡': 4057, '복합': 4058, '석유': 4059, '박명호': 4060, '스파': 4061, '안영미': 4062, '신경': 4063, '매트': 4064, '아스널': 4065, '신입': 4066, '화이트': 4067, '킬러': 4068, '어젯밤': 4069, '만호': 4070, '허당': 4071, '당미': 4072, '워라': 4073, '대생': 4074, '인공지능': 4075, '은하': 4076, '리브': 4077, '믹스': 4078, '후속': 4079, '정아': 4080, '브이': 4081, '제의': 4082, '유채': 4083, '광복': 4084, '냉소': 4085, '정밀': 4086, '노무현': 4087, '타이': 4088, '신라호텔': 4089, '수석': 4090, '법률': 4091, '갱신': 4092, '타파': 4093, '코로': 4094, '리허설': 4095, '귀호': 4096, '황수경': 4097, '무장': 4098, '작심': 4099, '전후': 4100, '코튼': 4101, '지드래곤': 4102, '어깨': 4103, '양상국': 4104, '먹': 4105, '튀': 4106, '최악': 4107, '신발': 4108, '고군분투': 4109, '수요일': 4110, '양보': 4111, '데니안': 4112, '한국가스공사': 4113, '개막전': 4114, '고도': 4115, '태관': 4116, '장도연': 4117, '맥주': 4118, '시현': 4119, '코노': 4120, '공예': 4121, '송중기': 4122, '급상승': 4123, '뚝심': 4124, '챈슬러': 4125, '월간': 4126, '공생': 4127, '연준': 4128, '물가': 4129, '미얀마': 4130, '총동원': 4131, '생방송': 4132, '특파원': 4133, '강요': 4134, '층': 4135, '한눈': 4136, '감각': 4137, '결의': 4138, '품절': 4139, '필름': 4140, '스피릿': 4141, '딥': 4142, '클로즈업': 4143, '오마': 4144, '스케치': 4145, '점서': 4146, '인테리어': 4147, '불량': 4148, '뒷이야기': 4149, '개설': 4150, '아카이브': 4151, '스태프': 4152, '주이': 4153, '직접': 4154, '글래스고': 4155, '과장': 4156, '치유': 4157, '고유진': 4158, '동': 4159, '최장수': 4160, '규명': 4161, '찜': 4162, '경로당': 4163, '메츠': 4164, '북구': 4165, '지구촌': 4166, '고기': 4167, '입대': 4168, '귀작': 4169, '폭스바겐': 4170, '이영애': 4171, '펀딩': 4172, '외전': 4173, '압승': 4174, '불닭': 4175, '능': 4176, '내게도': 4177, '마리아': 4178, '깨': 4179, '아시안': 4180, '여고': 4181, '미키': 4182, '유도': 4183, '메르켈': 4184, '기탁': 4185, '박윤재': 4186, '발행': 4187, '싱글즈': 4188, '모닝': 4189, '조춘': 4190, '정반대': 4191, '신랑': 4192, '진구': 4193, '사운드': 4194, '응답': 4195, '노하우': 4196, '선미': 4197, '어버이': 4198, '유감': 4199, '정재욱': 4200, '건립': 4201, '착공': 4202, '멘탈': 4203, '코믹': 4204, '가톨릭': 4205, '레이블': 4206, '동양': 4207, '개입': 4208, '추모식': 4209, '부정': 4210, '리티': 4211, '국보': 4212, '훗날': 4213, '광화문': 4214, '연가': 4215, '비틀': 4216, '쥬스': 4217, '월화드라마': 4218, '줄거리': 4219, '화해': 4220, '급환': 4221, '수액': 4222, '희생': 4223, '한잔': 4224, '출연자': 4225, '혜': 4226, '아재': 4227, '종연': 4228, '창피': 4229, '신공': 4230, '세대공감': 4231, '임한별': 4232, '패러디': 4233, '부친상': 4234, '빈소': 4235, '유류': 4236, '최신': 4237, '시론': 4238, '건재': 4239, '콘솔': 4240, '김소연': 4241, '미우': 4242, '패': 4243, '신명': 4244, '옛말': 4245, '황금': 4246, '안보': 4247, '출구': 4248, '스위치': 4249, '대장정': 4250, '세무': 4251, '경부': 4252, '김다솜': 4253, '장동': 4254, '국산': 4255, '판정': 4256, '전참': 4257, '시서': 4258, '매니저': 4259, '박범계': 4260, '행': 4261, '구미시': 4262, '하이테크': 4263, '순이': 4264, '설문': 4265, '방과': 4266, '버스터': 4267, '나이키': 4268, '도핑': 4269, '내산': 4270, '리조트': 4271, '매각': 4272, '겸손': 4273, '쿤': 4274, '동갑': 4275, '리틀': 4276, '대마초': 4277, '흡입': 4278, '긴장감': 4279, '땀': 4280, '콤비네이션': 4281, '해지': 4282, '비용': 4283, '실업': 4284, '급여': 4285, '감자': 4286, '아야네': 4287, '카를로스': 4288, '실력자': 4289, '근본': 4290, '정엽': 4291, '교제': 4292, '요인': 4293, '기여': 4294, '소민': 4295, '아크': 4296, '세액': 4297, '임대료': 4298, '스트레스': 4299, '반복': 4300, '마이클': 4301, '이장희': 4302, '잰걸음': 4303, '사원': 4304, '근로': 4305, '예외': 4306, '혼설': 4307, '챌린저': 4308, '우': 4309, '잠시': 4310, '결': 4311, '칠': 4312, '제시카': 4313, '지지': 4314, '이혜정': 4315, '닷컴': 4316, '문체': 4317, '조시영': 4318, '박상민': 4319, '화성시': 4320, '겸재': 4321, '인기가요': 4322, '활전': 4323, '격차': 4324, '박빙': 4325, '금감원': 4326, '재조명': 4327, '크림': 4328, '포켓몬': 4329, '공익': 4330, '가맹점': 4331, '부족': 4332, '러쉬': 4333, '라임': 4334, '비판': 4335, '공론': 4336, '파리': 4337, '재명': 4338, '반란': 4339, '린다': 4340, '퍼거슨': 4341, '왕자': 4342, '채택': 4343, '미흡': 4344, '호감': 4345, '호러': 4346, '레볼루션': 4347, '안정환': 4348, '이동국': 4349, '수직': 4350, '펀': 4351, '발할라': 4352, '겁니다': 4353, '여론': 4354, '청주시': 4355, '김혜민': 4356, '향연': 4357, '요람': 4358, '단락': 4359, '월호': 4360, '맥스': 4361, '변': 4362, '경월': 4363, '대우': 4364, '우승자': 4365, '도발': 4366, '페이커': 4367, '강제': 4368, '쿠키': 4369, '조작': 4370, '권인하': 4371, '로이': 4372, '고소': 4373, '조정민': 4374, '양희은': 4375, '개인전': 4376, '액션': 4377, '가죽': 4378, '리듬파워': 4379, '영빈': 4380, '우빈': 4381, '최진희': 4382, '전반': 4383, '실종': 4384, '남양유업': 4385, '일리': 4386, '가인': 4387, '야구장': 4388, '찬스': 4389, '직장': 4390, '손진욱': 4391, '워싱': 4392, '하인': 4393, '축가': 4394, '만장': 4395, '민생': 4396, '편식': 4397, '데스': 4398, '류현진': 4399, '시경': 4400, '색안경': 4401, '무선': 4402, '권태': 4403, '굿': 4404, '칠레': 4405, '딩': 4406, '릉': 4407, '사사건건': 4408, '치료제': 4409, '박종원': 4410, '부지사': 4411, '대안': 4412, '우월': 4413, '최경주': 4414, '코스': 4415, '주의보': 4416, '문화예술': 4417, '연합회': 4418, '코카': 4419, '투기': 4420, '김무열': 4421, '뒷얘기': 4422, '과다': 4423, '위상': 4424, '위즈': 4425, '함박웃음': 4426, '차전': 4427, '격동': 4428, '수필': 4429, '최준': 4430, '좌절': 4431, '현황': 4432, '무주택자': 4433, '보전': 4434, '파의': 4435, '국유지': 4436, '러브데이': 4437, '꼼수': 4438, '속내': 4439, '유산': 4440, '친절': 4441, '일요일': 4442, '장영란': 4443, '저스트': 4444, '커리어': 4445, '대축제': 4446, '알레그로': 4447, '김이나': 4448, '혜택': 4449, '정원': 4450, '리코': 4451, '대전환': 4452, '비치': 4453, '케이시': 4454, '수급': 4455, '연과': 4456, '아나운서': 4457, '제작진': 4458, '고정': 4459, '공습': 4460, '당뇨': 4461, '도내': 4462, '할리우드': 4463, '홍색': 4464, '이닝': 4465, '홍대광': 4466, '아가씨': 4467, '미래소년': 4468, '부캐': 4469, '김지석': 4470, '지대': 4471, '두기': 4472, '개나리': 4473, '육': 4474, '스웨덴세탁소': 4475, '컨디션': 4476, '이민호': 4477, '공학': 4478, '로지텍': 4479, '삼청': 4480, '교육대': 4481, '영천': 4482, '수립': 4483, '학령': 4484, '리얼리티': 4485, '자살': 4486, '기염': 4487, '무늬': 4488, '연설': 4489, '최태원': 4490, '시선집중': 4491, '살림': 4492, '서도': 4493, '이프': 4494, '표차': 4495, '얼': 4496, '예사': 4497, '김성주': 4498, '평등': 4499, '낭독': 4500, '치매': 4501, '능력': 4502, '퀄리티': 4503, '일터': 4504, '창녕군': 4505, '윤동주': 4506, '실내': 4507, '유령': 4508, '거절': 4509, '극한': 4510, '돌파구': 4511, '궁': 4512, '무기': 4513, '출새': 4514, '드래프트': 4515, '프러포즈': 4516, '돌발': 4517, '새우': 4518, '지하철': 4519, '상순': 4520, '소담': 4521, '뜻밖': 4522, '진정': 4523, '클립': 4524, '원대': 4525, '리액션': 4526, '체중': 4527, '예찬': 4528, '선점': 4529, '청사': 4530, '덴마크': 4531, '지상': 4532, '정용': 4533, '로하': 4534, '김현수': 4535, '군무': 4536, '김영근': 4537, '질투': 4538, '익스': 4539, '피리': 4540, '언스': 4541, '사업자': 4542, '지식': 4543, '민족': 4544, '민서': 4545, '골든벨': 4546, '플립': 4547, '지킴': 4548, '수어': 4549, '젠더': 4550, '고성': 4551, '랜딩': 4552, '쿡': 4553, '건기': 4554, '경호': 4555, '나선': 4556, '교통': 4557, '실무': 4558, '우리나라': 4559, '영어': 4560, '원전': 4561, '살해범': 4562, '웰메이드': 4563, '한복': 4564, '대학생': 4565, '예리': 4566, '선판': 4567, '찬양': 4568, '고키': 4569, '유지태': 4570, '보완': 4571, '페어': 4572, '파전': 4573, '이어': 4574, '수확': 4575, '쌀': 4576, '불편': 4577, '이용호': 4578, '김용건': 4579, '쇼리': 4580, '자본': 4581, '그립': 4582, '붕어빵': 4583, '툰베리': 4584, '바비큐': 4585, '컬러': 4586, '매뉴얼': 4587, '선두': 4588, '음성': 4589, '신한은행': 4590, '흔들의자': 4591, '증상': 4592, '횟수': 4593, '시정': 4594, '효율': 4595, '실물': 4596, '삽입곡': 4597, '산책': 4598, '배당금': 4599, '편리': 4600, '감당': 4601, '오토': 4602, '스타트': 4603, '아웃': 4604, '악역': 4605, '원년': 4606, '소프트': 4607, '일회용품': 4608, '완승': 4609, '경질': 4610, '솔샤르': 4611, '학부': 4612, '눈높이': 4613, '오디세이': 4614, '합작': 4615, '목격담': 4616, '학비': 4617, '코스피': 4618, '매수': 4619, '슈가': 4620, '크래커': 4621, '옥천': 4622, '저희': 4623, '구미호': 4624, '명문': 4625, '바라기': 4626, '여의도': 4627, '호남': 4628, '중도': 4629, '나비': 4630, '몸무게': 4631, '릿': 4632, '시양': 4633, '네티즌': 4634, '택시': 4635, '환승': 4636, '재탄생': 4637, '지부': 4638, '비례': 4639, '격': 4640, '꼴찌': 4641, '운송': 4642, '브레이크': 4643, '옥': 4644, '전개': 4645, '테마': 4646, '김희진': 4647, '김신영': 4648, '술버릇': 4649, '기관차': 4650, '투하': 4651, '노벨상': 4652, '백악관': 4653, '한성민': 4654, '황연주': 4655, '권고': 4656, '초대석': 4657, '박일': 4658, '이상이': 4659, '가액': 4660, '민아': 4661, '총선': 4662, '무결': 4663, '단상': 4664, '생시': 4665, '자격': 4666, '험기': 4667, '노총각': 4668, '잠실': 4669, '이틀': 4670, '전라북도': 4671, '옴': 4672, '부즈': 4673, '퍼슨': 4674, '요요': 4675, '아이린': 4676, '송국': 4677, '코페': 4678, '아차': 4679, '범죄자': 4680, '공백기': 4681, '분리': 4682, '제임스': 4683, '휴가': 4684, '격리': 4685, '해리': 4686, '완청': 4687, '윤희': 4688, '김흥국': 4689, '진로': 4690, '김세정': 4691, '김종성': 4692, '사모': 4693, '체육': 4694, '선화': 4695, '경': 4696, '국무부': 4697, '천장': 4698, '랜더스': 4699, '초토': 4700, '아마존': 4701, '과잉': 4702, '메르세데스': 4703, '김동연': 4704, '부도': 4705, '재편': 4706, '스키': 4707, '샹치': 4708, '성형': 4709, '무관': 4710, '병영': 4711, '갓파더': 4712, '비교': 4713, '동호회': 4714, '종부': 4715, '숙면': 4716, '온도': 4717, '경동나비엔': 4718, '착용': 4719, '갈비뼈': 4720, '김하성': 4721, '내부': 4722, '보라매병원': 4723, '타보': 4724, '경과': 4725, '북좌': 4726, '최후': 4727, '오나미': 4728, '목장': 4729, '추': 4730, '노리플라이': 4731, '치': 4732, '최재형': 4733, '여개': 4734, '최대한': 4735, '전직': 4736, '루나': 4737, '거취': 4738, '캐나다': 4739, '레': 4740, '키트': 4741, '환수': 4742, '왕실': 4743, '시집': 4744, '배송': 4745, '예배': 4746, '세훈': 4747, '손예진': 4748, '선행': 4749, '듄': 4750, '외화': 4751, '경우': 4752, '계기': 4753, '실명': 4754, '마법사': 4755, '범위': 4756, '경찰관': 4757, '유서': 4758, '채연': 4759, '츠': 4760, '준박': 4761, '밑': 4762, '거주': 4763, '에미넴': 4764, '샤넬': 4765, '편집': 4766, '노동조합': 4767, '패배': 4768, '보호법': 4769, '뜻': 4770, '링': 4771, '화장품': 4772, '위안부': 4773, '마이너스': 4774, '지도': 4775, '위임': 4776, '대기': 4777, '서정': 4778, '공수': 4779, '광명': 4780, '시흥': 4781, '캐럿': 4782, '부산시': 4783, '샌드위치': 4784, '웨스트': 4785, '엔드': 4786, '케미스트리': 4787, '그게': 4788, '무죄': 4789, '검열': 4790, '철폐': 4791, '해당': 4792, '고마움': 4793, '러블': 4794, '류수정': 4795, '야마가타': 4796, '진호': 4797, '모터카': 4798, '시합': 4799, '몫': 4800, '패밀리': 4801, '개성': 4802, '코앞': 4803, '유관': 4804, '커스': 4805, '각인': 4806, '사로': 4807, '명운': 4808, '배드': 4809, '산적': 4810, '점심': 4811, '어벤저스': 4812, '호소력': 4813, '숯': 4814, '수백': 4815, '중소': 4816, '지탱': 4817, '사라': 4818, '하딩': 4819, '화려': 4820, '입영': 4821, '통지': 4822, '병무청': 4823, '완도': 4824, '컴팩트': 4825, '표절': 4826, '들통': 4827, '재앙': 4828, '범인': 4829, '명이': 4830, '관여': 4831, '나미': 4832, '기밀': 4833, '정주': 4834, '가요계': 4835, '하이밍': 4836, '보이콧': 4837, '트레일': 4838, '고잉': 4839, '법인': 4840, '입찰': 4841, '의결': 4842, '원정대': 4843, '라리': 4844, '사군': 4845, '툼': 4846, '공직자': 4847, '오프로드': 4848, '미라': 4849, '주체': 4850, '불발탄': 4851, '허니문': 4852, '가을밤': 4853, '호적': 4854, '파악': 4855, '전효성': 4856, '포장': 4857, '대량': 4858, '장면': 4859, '김현철': 4860, '문단': 4861, '토요타': 4862, '라브': 4863, '주서': 4864, '구청장': 4865, '유승호': 4866, '은수미': 4867, '해임': 4868, '맥': 4869, '국민가요': 4870, '실리콘밸리': 4871, '태유': 4872, '어필': 4873, '판세': 4874, '사업주': 4875, '과세': 4876, '구본길': 4877, '메모': 4878, '폭로': 4879, '숙원': 4880, '경진': 4881, '고령자': 4882, '토요': 4883, '노후': 4884, '외침': 4885, '시향': 4886, '첼리스트': 4887, '김민주': 4888, '폭주': 4889, '장터': 4890, '중지': 4891, '구호': 4892, '올드보이': 4893, '대인': 4894, '미식': 4895, '감귤': 4896, '빼빼': 4897, '픽업': 4898, '노벨': 4899, '평화상': 4900, '노태우': 4901, '지조': 4902, '당': 4903, '경비원': 4904, '성과급': 4905, '시승': 4906, '드로버': 4907, '가솔린': 4908, '볼거리': 4909, '전천후': 4910, '계도': 4911, '표명': 4912, '하동': 4913, '보초': 4914, '교대': 4915, '얼짱': 4916, '머리띠': 4917, '포즈': 4918, '산하': 4919, '벌칙성': 4920, '부과금': 4921, '보조': 4922, '계진': 4923, '손상': 4924, '스트라이크': 4925, '병행': 4926, '새바람': 4927, '생계': 4928, '애마': 4929, '교실': 4930, '블루스퀘어': 4931, '유효': 4932, '카드뮴': 4933, '염수': 4934, '슬픔': 4935, '이석원': 4936, '이발관': 4937, '총망라': 4938, '종횡': 4939, '인피': 4940, '정의선': 4941, '공효진': 4942, '생수': 4943, '애인': 4944, '후륜': 4945, '라이벌': 4946, '잠': 4947, '틸': 4948, '스타일리시': 4949, '충성': 4950, '게요': 4951, '티칭': 4952, '문어': 4953, '김민우': 4954, '뉴스투데이': 4955, '용어': 4956, '생': 4957, '스칼렛': 4958, '요한슨': 4959, '홍성기': 4960, '금주': 4961, '홀로서기': 4962, '출장': 4963, '정지': 4964, '특사': 4965, '부여': 4966, '시급': 4967, '최형두': 4968, '상정': 4969, '위용': 4970, '메탄': 4971, '압수수색': 4972, '문소리': 4973, '처남': 4974, '다슬기': 4975, '부추': 4976, '수제비': 4977, '나물': 4978, '우럭': 4979, '탕수': 4980, '놀이': 4981, '봇물': 4982, '열혈': 4983, '바코': 4984, '에어컨': 4985, '장허': 4986, '교외': 4987, '체험학습': 4988, '메이플': 4989, '문구': 4990, '선전': 4991, '포고': 4992, '유전': 4993, '로코': 4994, '월말': 4995, '출연료': 4996, '낭': 4997, '신예진': 4998, '정추': 4999, '영우': 5000, '정오': 5001, '풀기': 5002, '개년': 5003, '사실무근': 5004, '서구': 5005, '강동구': 5006, '입양': 5007, '영양': 5008, '밤하늘': 5009, '문화유산': 5010, '외국어': 5011, '주부': 5012, '탄': 5013, '유가': 5014, '초가을': 5015, '환영': 5016, '가입자': 5017, '그분': 5018, '쪽': 5019, '양천구': 5020, '레이즈': 5021, '이미테이션': 5022, '딩고': 5023, '윤유선': 5024, '근육': 5025, '벨기에': 5026, '문화축제': 5027, '고속도': 5028, '입원': 5029, '만성': 5030, '표적': 5031, '투혼': 5032, '먼데이': 5033, '생이별': 5034, '진민': 5035, '산들': 5036, '스테디셀러': 5037, '월드콘': 5038, '미드나잇': 5039, '정석용': 5040, '포장재': 5041, '원스': 5042, '고아성': 5043, '조짐': 5044, '린치': 5045, '대들보': 5046, '예술가': 5047, '니': 5048, '이광수': 5049, '박기량': 5050, '모델료': 5051, '사생': 5052, '특별기': 5053, '풍물': 5054, '성황': 5055, '불사': 5056, '빗장': 5057, '이스라엘': 5058, '독도': 5059, '노스페이스': 5060, '권기백': 5061, '휘': 5062, '집행유예': 5063, '퍼니': 5064, '러시아': 5065, '재활': 5066, '청원': 5067, '허브': 5068, '황새': 5069, '양극': 5070, '중개업자': 5071, '거품': 5072, '골절': 5073, '울버': 5074, '햄튼': 5075, '피에르': 5076, '규민': 5077, '스피드': 5078, '혁명': 5079, '미래산업': 5080, '무효': 5081, '어부': 5082, '포항시': 5083, '최창근': 5084, '가필드': 5085, '최상': 5086, '도란': 5087, '비트': 5088, '잇': 5089, '퍼플레이': 5090, '그라': 5091, '라그나': 5092, '로크': 5093, '선우용녀': 5094, '민원': 5095, '무도': 5096, '액': 5097, '신문고': 5098, '남한산성': 5099, '직관': 5100, '이븐': 5101, '한마디': 5102, '농산물': 5103, '교훈': 5104, '대한항공': 5105, '솜씨': 5106, '교민': 5107, '술래': 5108, '중년': 5109, '터키': 5110, '묘목': 5111, '닉': 5112, '활자': 5113, '메이저': 5114, '연수': 5115, '염원': 5116, '김범석': 5117, '황충': 5118, '김민수': 5119, '문자': 5120, '단풍': 5121, '직장인': 5122, '레트': 5123, '텃밭': 5124, '스위밍': 5125, '실속': 5126, '유통망': 5127, '김헌식': 5128, '기아차': 5129, '라이온즈': 5130, '기협': 5131, '볼트': 5132, '원인': 5133, '비율': 5134, '연탄': 5135, '송영길': 5136, '국적': 5137, '리더스': 5138, '짓': 5139, '금빛': 5140, '그림자': 5141, '성장세': 5142, '둔화': 5143, '머신': 5144, '구도': 5145, '문턱': 5146, '의상': 5147, '가방': 5148, '매일': 5149, '선함': 5150, '미군': 5151, '기지': 5152, '다빈치': 5153, '여름휴가': 5154, '이글스': 5155, '조영철': 5156, '처방': 5157, '이견': 5158, '비스': 5159, '슬리피': 5160, '이력': 5161, '석매': 5162, '진완': 5163, '마니아': 5164, '게시': 5165, '프랜차이즈': 5166, '약물': 5167, '공권력': 5168, '남용': 5169, '전제': 5170, '닌': 5171, '피로': 5172, '예비역': 5173, '수십': 5174, '악몽': 5175, '바닥': 5176, '한우': 5177, '충고': 5178, '타격': 5179, '거론': 5180, '글자': 5181, '강인한': 5182, '박규영': 5183, '다인': 5184, '의약품': 5185, '원격': 5186, '근절': 5187, '곽용환': 5188, '재연': 5189, '조준': 5190, '섬머': 5191, '순삭': 5192, '은황': 5193, '서천군': 5194, '재벌': 5195, '류기훈': 5196, '선망': 5197, '하남': 5198, '무실점': 5199, '모의고사': 5200, '캠핑': 5201, '현무기': 5202, '뒷주머니': 5203, '신드롬': 5204, '판매량': 5205, '클라이언트': 5206, '익산시': 5207, '명회': 5208, '타입': 5209, '스가': 5210, '추적': 5211, '나침반': 5212, '파오': 5213, '리누': 5214, '상식': 5215, '관록': 5216, '포괄': 5217, '연기자': 5218, '보라': 5219, '박준형': 5220, '색조': 5221, '근로자': 5222, '연쇄': 5223, '잔혹': 5224, '경영학': 5225, '세세': 5226, '기습': 5227, '빈대떡': 5228, '김지현': 5229, '언더': 5230, '장아': 5231, '총회': 5232, '소예': 5233, '에이티': 5234, '마무': 5235, '시트콤': 5236, '담비': 5237, '아로': 5238, '순욱': 5239, '허벅지': 5240, '라미': 5241, '말렉': 5242, '연구소': 5243, '고혹': 5244, '라운': 5245, '경로': 5246, '계열사': 5247, '만추': 5248, '구단주': 5249, '아동복': 5250, '등극': 5251, '빙의': 5252, '운정역': 5253, '주상': 5254, '고화질': 5255, '약사법': 5256, '무혐': 5257, '송치': 5258, '지붕': 5259, '도민': 5260, '서명': 5261, '배당': 5262, '성수기': 5263, '설득': 5264, '사업소': 5265, '기로': 5266, '강의': 5267, '패소': 5268, '박서준': 5269, '소장품': 5270, '천박': 5271, '경력': 5272, '청년층': 5273, '장자': 5274, '경사': 5275, '전념': 5276, '보유': 5277, '이성경': 5278, '필독': 5279, '묵상': 5280, '병동': 5281, '이모': 5282, '이성미': 5283, '김지': 5284, '장착': 5285, '극장가': 5286, '인교진': 5287, '동맹국': 5288, '보배': 5289, '유나이티': 5290, '캡틴': 5291, '전조': 5292, '예판': 5293, '주근깨': 5294, '폐업': 5295, '결사': 5296, '유신': 5297, '시야': 5298, '너희': 5299, '좀비': 5300, '이베이': 5301, '번가': 5302, '최광훈': 5303, '최적': 5304, '난임': 5305, '시술': 5306, '저니': 5307, '불명': 5308, '이금희': 5309, '상자': 5310, '플러그인': 5311, '버그': 5312, '고증': 5313, '보관': 5314, '체육관': 5315, '브라더': 5316, '합창': 5317, '울린': 5318, '라이': 5319, '완패': 5320, '몸살': 5321, '지코': 5322, '단체전': 5323, '서막': 5324, '포미닛': 5325, '프레시': 5326, '강간': 5327, '신연아': 5328, '해수부': 5329, '김종수': 5330, '결요': 5331, '이상곤': 5332, '너스레': 5333, '오싱': 5334, '별명': 5335, '어르신': 5336, '캐': 5337, '불법체류': 5338, '소병철': 5339, '방지': 5340, '손길': 5341, '의외': 5342, '최기': 5343, '충청': 5344, '포부': 5345, '천사': 5346, '위조': 5347, '콜라보레이션': 5348, '그림책': 5349, '내친김': 5350, '서호정': 5351, '폐암': 5352, '위키': 5353, '캔': 5354, '멘붕': 5355, '역선택': 5356, '푸틴': 5357, '폴란드': 5358, '알펜시아': 5359, '신정윤': 5360, '지지율': 5361, '배수진': 5362, '사막': 5363, '인플레이션': 5364, '유키카': 5365, '양정원': 5366, '니스': 5367, '공매도': 5368, '기견': 5369, '변광용': 5370, '현안': 5371, '류승완': 5372, '대립': 5373, '평행선': 5374, '쇼터': 5375, '셧다운': 5376, '김건희': 5377, '허위': 5378, '심대': 5379, '방울': 5380, '득점': 5381, '시큐리티': 5382, '전미도': 5383, '쾌척': 5384, '유민상': 5385, '녀석': 5386, '니콜': 5387, '에프': 5388, '알씨': 5389, '트윈스': 5390, '북극': 5391, '오감': 5392, '상습범': 5393, '판사': 5394, '막사': 5395, '밤바': 5396, '특수': 5397, '라비': 5398, '씩': 5399, '공신': 5400, '최고상': 5401, '이소영': 5402, '순': 5403, '정진운': 5404, '윤종훈': 5405, '심플리': 5406, '오마이': 5407, '깊이': 5408, '최소한': 5409, '토베': 5410, '얀손': 5411, '정기석': 5412, '피로감': 5413, '위증': 5414, '회기': 5415, '성립': 5416, '윤도현': 5417, '인제군': 5418, '숏': 5419, '동해': 5420, '스프링': 5421, '욱': 5422, '교육부': 5423, '발자취': 5424, '텔': 5425, '포지션': 5426, '등교': 5427, '백현': 5428, '성탄절': 5429, '김종서': 5430, '한나': 5431, '비법': 5432, '라틴': 5433, '유력': 5434, '각국': 5435, '회비': 5436, '내복': 5437, '아바': 5438, '알뜰': 5439, '표창원': 5440, '팝콘': 5441, '신상품': 5442, '축산': 5443, '단발': 5444, '호정': 5445, '지각': 5446, '히스토리': 5447, '치아': 5448, '델타': 5449, '한동안': 5450, '소명': 5451, '하원': 5452, '우울': 5453, '자본주의': 5454, '거버넌스': 5455, '활': 5456, '비달': 5457, '유저': 5458, '구로': 5459, '발돋움': 5460, '매곡': 5461, '최정윤': 5462, '지영': 5463, '세다': 5464, '차원': 5465, '별곡': 5466, '블러디': 5467, '존경심': 5468, '김민정': 5469, '육아법': 5470, '정기': 5471, '사교육': 5472, '봉준호': 5473, '혜지': 5474, '학술지': 5475, '끝자락': 5476, '맥심': 5477, '당구': 5478, '김연아': 5479, '봉동읍': 5480, '브레드': 5481, '수제': 5482, '고의': 5483, '연체': 5484, '파문': 5485, '브로드웨이': 5486, '자찬': 5487, '진통제': 5488, '격정': 5489, '형서': 5490, '김유연': 5491, '왓': 5492, '챠': 5493, '아저씨': 5494, '중고': 5495, '넥스트': 5496, '라바': 5497, '리니': 5498, '콤비': 5499, '김광석': 5500, '촉': 5501, '사안': 5502, '보아오': 5503, '샘': 5504, '항소장': 5505, '김우진': 5506, '영장': 5507, '김광현': 5508, '예식': 5509, '맹공': 5510, '통신사': 5511, '진땀': 5512, '대봉산': 5513, '휴양': 5514, '가맹': 5515, '결론': 5516, '일요': 5517, '참전': 5518, '폭행': 5519, '선수단': 5520, '봉작': 5521, '예술제': 5522, '허락': 5523, '강승윤': 5524, '신동': 5525, '예린': 5526, '명과': 5527, '공정': 5528, '쇼핑몰': 5529, '로제': 5530, '인지': 5531, '저하': 5532, '젝': 5533, '원디': 5534, '유나킴': 5535, '고은영': 5536, '공제': 5537, '혹사': 5538, '할로윈': 5539, '분장': 5540, '유영석': 5541, '대현동': 5542, '평화': 5543, '규정': 5544, '루머': 5545, '참사': 5546, '존경': 5547, '유랑': 5548, '변곡점': 5549, '제예': 5550, '술대': 5551, '나머지': 5552, '웨일스': 5553, '스틸러스': 5554, '파트너십': 5555, '이태구': 5556, '아름': 5557, '접촉': 5558, '사활': 5559, '아무': 5560, '소코': 5561, '회전목마': 5562, '확률': 5563, '불문': 5564, '재조': 5565, '텔레콤': 5566, '채찍': 5567, '감사장': 5568, '맨체스터': 5569, '피카': 5570, '델리': 5571, '우상': 5572, '구동진': 5573, '이은하': 5574, '청간정': 5575, '일류': 5576, '철퇴': 5577, '골프장': 5578, '유용': 5579, '이지스': 5580, '레알': 5581, '박건우': 5582, '등급': 5583, '국곡': 5584, '에어': 5585, '컨버스': 5586, '흑백': 5587, '시험대': 5588, '오리온': 5589, '정희정': 5590, '증정': 5591, '기도': 5592, '페이퍼': 5593, '중후': 5594, '접목': 5595, '체질': 5596, '공중': 5597, '케이블': 5598, '송출': 5599, '분수': 5600, '스팅어': 5601, '엠블럼': 5602, '릭': 5603, '비주': 5604, '일금': 5605, '세이': 5606, '음악분수': 5607, '추영': 5608, '의료진': 5609, '가계': 5610, '모아': 5611, '연착륙': 5612, '이용료': 5613, '의식': 5614, '자제': 5615, '대담': 5616, '철저': 5617, '최지만': 5618, '사드': 5619, '세련': 5620, '참': 5621, '장범': 5622, '인순이': 5623, '부분': 5624, '김천': 5625, '투입': 5626, '마통': 5627, '오전': 5628, '통보': 5629, '어서': 5630, '신사임당': 5631, '성비': 5632, '요양원': 5633, '김은희': 5634, '마라톤': 5635, '김용균': 5636, '쿵': 5637, '국공': 5638, '강혜연': 5639, '루다': 5640, '반딧불': 5641, '성년': 5642, '휘성': 5643, '총재': 5644, '이례': 5645, '이용자': 5646, '막말': 5647, '뱅': 5648, '성당': 5649, '총감독': 5650, '밥벌이': 5651, '위주': 5652, '스나이퍼': 5653, '아반떼': 5654, '스펙': 5655, '인재': 5656, '무식': 5657, '욕자': 5658, '창릉': 5659, '난항': 5660, '첫인상': 5661, '수익금': 5662, '개통': 5663, '마초': 5664, '루커스': 5665, '피싱': 5666, '장년층': 5667, '어나더': 5668, '키노': 5669, '법무부': 5670, '공조': 5671, '강훈식': 5672, '영감': 5673, '김태형': 5674, '해태': 5675, '백혜련': 5676, '안위': 5677, '슈타인': 5678, '이소선': 5679, '금자탑': 5680, '백세': 5681, '진흥': 5682, '낙하': 5683, '목요일': 5684, '박은빈': 5685, '군가': 5686, '메이드': 5687, '괴기': 5688, '숀': 5689, '연기력': 5690, '오나라': 5691, '커피차': 5692, '퇴직': 5693, '강세': 5694, '닝': 5695, '신동아': 5696, '그해': 5697, '제약사': 5698, '보스': 5699, '베이비': 5700, '데어': 5701, '조력': 5702, '상사': 5703, '조진웅': 5704, '군위읍': 5705, '리모컨': 5706, '입체': 5707, '영혼': 5708, '모니카': 5709, '대망': 5710, '맞불': 5711, '쟈': 5712, '술자리': 5713, '전향': 5714, '양정숙': 5715, '전통문화': 5716, '결방': 5717, '임화영': 5718, '박성동': 5719, '경험담': 5720, '허니패밀리': 5721, '확': 5722, '누누': 5723, '박세리': 5724, '링크스': 5725, '로고': 5726, '외국': 5727, '리제이': 5728, '입점': 5729, '부고': 5730, '오메가': 5731, '제철': 5732, '허구연': 5733, '레트로': 5734, '소개서': 5735, '대우건설': 5736, '요건': 5737, '재탄': 5738, '내곡': 5739, '미분양': 5740, '특권': 5741, '준석': 5742, '베란다': 5743, '달소': 5744, '루트': 5745, '연임': 5746, '실질': 5747, '태극': 5748, '박진주': 5749, '생지옥': 5750, '걸까': 5751, '샤': 5752, '윤홍근': 5753, '스마일': 5754, '부작': 5755, '소년중앙': 5756, '무예': 5757, '창녕': 5758, '경찰서': 5759, '콤마': 5760, '단': 5761, '김아름': 5762, '헝다': 5763, '바대': 5764, '알바': 5765, '활력': 5766, '강성훈': 5767, '혼다': 5768, '병역': 5769, '선명': 5770, '산시': 5771, '장벽': 5772, '베니': 5773, '비디': 5774, '황창규': 5775, '언론인': 5776, '특전': 5777, '테이퍼': 5778, '명중': 5779, '이니셔티브': 5780, '재혼': 5781, '행안': 5782, '일화': 5783, '토로': 5784, '격월': 5785, '중외': 5786, '통풍': 5787, '제조법': 5788, '특허': 5789, '무지개': 5790, '축복': 5791, '애교': 5792, '웨스트엔드': 5793, '고성군': 5794, '정풍': 5795, '포그바': 5796, '산초': 5797, '식탁': 5798, '블록': 5799, '지라도': 5800, '선발전': 5801, '이계훈': 5802, '한샘': 5803, '수영': 5804, '개미': 5805, '부회장': 5806, '명창': 5807, '진기': 5808, '포상': 5809, '면허': 5810, '김태진': 5811, '준수': 5812, '왜곡': 5813, '반기문': 5814, '총장': 5815, '경축': 5816, '연우': 5817, '후유증': 5818, '완치': 5819, '엄벌': 5820, '유병재': 5821, '무임승차': 5822, '댐': 5823, '신중': 5824, '회상': 5825, '수처': 5826, '후퇴': 5827, '중반': 5828, '임백천': 5829, '진미령': 5830, '발급': 5831, '수면': 5832, '내안': 5833, '정소민': 5834, '정년': 5835, '다한': 5836, '인천국제공항공사': 5837, '올드': 5838, '호피': 5839, '몸짱': 5840, '현주소': 5841, '중개': 5842, '조립': 5843, '본회': 5844, '학년': 5845, '신세경': 5846, '복제': 5847, '김홍장': 5848, '당진': 5849, '대상자': 5850, '스핀': 5851, '백마': 5852, '홈플러스': 5853, '양승조': 5854, '리뉴': 5855, '내년도': 5856, '깐': 5857, '환': 5858, '직격탄': 5859, '시식': 5860, '국어': 5861, '쇄신': 5862, '찰나': 5863, '대타': 5864, '밑줄': 5865, '달째': 5866, '예우': 5867, '유예': 5868, '수저': 5869, '양국': 5870, '보물': 5871, '파산': 5872, '자문': 5873, '한편': 5874, '구독자': 5875, '앞머리': 5876, '핑퐁': 5877, '스타일링': 5878, '세찰': 5879, '간파': 5880, '멜로': 5881, '맵': 5882, '캄보디아': 5883, '도로교통공단': 5884, '주상욱': 5885, '공감대': 5886, '찬사': 5887, '경완': 5888, '거대': 5889, '바탕': 5890, '자초': 5891, '미니모': 5892, '애플렉': 5893, '복비': 5894, '와리': 5895, '유윤': 5896, '특단': 5897, '맹폭': 5898, '종류': 5899, '벅스': 5900, '다이어리': 5901, '꽃길': 5902, '누군가': 5903, '귀신': 5904, '파트': 5905, '과열': 5906, '나치': 5907, '기조연설': 5908, '파배우': 5909, '오우철': 5910, '대왕': 5911, '백아연': 5912, '모교': 5913, '이미영': 5914, '김서형': 5915, '컬리': 5916, '계좌': 5917, '금지법': 5918, '취득': 5919, '부장': 5920, '은혜': 5921, '채인택': 5922, '나노': 5923, '임지수': 5924, '면역': 5925, '거주자': 5926, '마녀': 5927, '미나리': 5928, '팩토리': 5929, '상위권': 5930, '전방': 5931, '공기': 5932, '크다': 5933, '이동은': 5934, '증여': 5935, '창자': 5936, '처우': 5937, '깡패': 5938, '내공': 5939, '대장금': 5940, '파죽지세': 5941, '유해': 5942, '볼리비아': 5943, '찬반': 5944, '효문': 5945, '화진': 5946, '흥원': 5947, '이강철': 5948, '유종': 5949, '테크놀로지': 5950, '최자': 5951, '송도': 5952, '감옥': 5953, '채림': 5954, '기본소득': 5955, '재치': 5956, '사표': 5957, '살롱': 5958, '시범': 5959, '시분': 5960, '엔쿠': 5961, '과일': 5962, '사제': 5963, '지간': 5964, '여진': 5965, '직무': 5966, '불기소': 5967, '봉쇄': 5968, '카드깡': 5969, '박영진': 5970, '목적': 5971, '잔망': 5972, '목록': 5973, '디렉터': 5974, '노랫말': 5975, '강백호': 5976, '이경규': 5977, '나탈리': 5978, '포트만': 5979, '라이더': 5980, '누굴': 5981, '리핑': 5982, '종식': 5983, '미공개': 5984, '촌': 5985, '잔치': 5986, '명반': 5987, '김효진': 5988, '재식': 5989, '깡': 5990, '셀프': 5991, '잔': 5992, '춘자': 5993, '미련': 5994, '마이티마우스': 5995, '득녀': 5996, '다로': 5997, '공방': 5998, '일곱': 5999, '쇼크': 6000, '홍은희': 6001, '추소': 6002, '산호수': 6003, '특혜': 6004, '제이': 6005, '소형': 6006, '화순': 6007, '레터': 6008, '이강인': 6009, '삼겹살': 6010, '천문학': 6011, '초면': 6012, '용감한': 6013, '숙소': 6014, '헬기': 6015, '고액': 6016, '치료비': 6017, '속무': 6018, '정차': 6019, '불친절': 6020, '공모주': 6021, '박차': 6022, '블루': 6023, '스나': 6024, '위암': 6025, '균': 6026, '소화기': 6027, '토론토': 6028, '자선': 6029, '발라': 6030, '리버풀': 6031, '발등': 6032, '독창': 6033, '박보연': 6034, '역': 6035, '메탈': 6036, '채권': 6037, '우의': 6038, '체조': 6039, '류': 6040, '대원': 6041, '빌딩': 6042, '유혹': 6043, '득': 6044, '반쪽': 6045, '체전': 6046, '충성심': 6047, '바이': 6048, '검': 6049, '박일남': 6050, '계행': 6051, '일본어': 6052, '개그맨': 6053, '강일홍': 6054, '윤박': 6055, '목전': 6056, '주위': 6057, '부진': 6058, '류진': 6059, '중악': 6060, '성신': 6061, '사후': 6062, '수혈': 6063, '포천': 6064, '서장': 6065, '승률': 6066, '필드': 6067, '쌍방': 6068, '이혜리': 6069, '동반': 6070, '종교': 6071, '수홍': 6072, '지표': 6073, '도원': 6074, '중창단': 6075, '박지영': 6076, '갑론을박': 6077, '아인슈타인': 6078, '현': 6079, '갬': 6080, '함안군': 6081, '효주': 6082, '타이밍': 6083, '색깔': 6084, '모모': 6085, '쌍용': 6086, '맹추격': 6087, '명암': 6088, '박난': 6089, '에드': 6090, '시런': 6091, '재충전': 6092, '특가': 6093, '딜리': 6094, '정의당': 6095, '혐오': 6096, '패션쇼': 6097, '친한파': 6098, '의왕시': 6099, '토마토': 6100, '큐': 6101, '맞손': 6102, '설의': 6103, '하하호': 6104, '마비': 6105, '정광호': 6106, '불공정': 6107, '수주': 6108, '페이스북': 6109, '펄': 6110, '어비스': 6111, '도깨비': 6112, '도덕': 6113, '팔불출': 6114, '동일': 6115, '라이스페이퍼': 6116, '목청': 6117, '기법': 6118, '내사': 6119, '모공': 6120, '석과': 6121, '법리': 6122, '꽃잎': 6123, '디피': 6124, '굴욕': 6125, '끈': 6126, '중견': 6127, '방송국': 6128, '레프': 6129, '민폐': 6130, '연출가': 6131, '첫째': 6132, '윌리': 6133, '팡': 6134, '여름날': 6135, '안중근': 6136, '조카며느리': 6137, '후손': 6138, '수치': 6139, '뒤태': 6140, '오형제': 6141, '구자욱': 6142, '트로피': 6143, '아태': 6144, '미사일': 6145, '궁의': 6146, '북미': 6147, '조코비치': 6148, '시사점': 6149, '불멸': 6150, '무산': 6151, '회의소': 6152, '닻': 6153, '광수': 6154, '에픽하이': 6155, '불장난': 6156, '환장': 6157, '판도': 6158, '가난': 6159, '장흥': 6160, '사생활': 6161, '강구': 6162, '임용': 6163, '단기': 6164, '안동': 6165, '어워드': 6166, '최저': 6167, '수지': 6168, '수요': 6169, '왕좌': 6170, '스푼': 6171, '뒷바퀴': 6172, '일차': 6173, '김민종': 6174, '김희석': 6175, '임신부': 6176, '리디아': 6177, '오류': 6178, '성적표': 6179, '저출산': 6180, '짝사랑': 6181, '재회': 6182, '영화광': 6183, '전신': 6184, '객석': 6185, '통일': 6186, '그린': 6187, '소외': 6188, '시니어': 6189, '일색': 6190, '상처': 6191, '라벨': 6192, '황현식': 6193, '안상수': 6194, '회색': 6195, '핼러윈': 6196, '재발견': 6197, '안타': 6198, '제압': 6199, '끝장': 6200, '더비': 6201, '패권': 6202, '러버': 6203, '윤종규': 6204, '살인범': 6205, '철': 6206, '부과': 6207, '차승원': 6208, '웨딩': 6209, '애통': 6210, '도전장': 6211, '코미디언': 6212, '신지': 6213, '순정': 6214, '그놈': 6215, '신여': 6216, '시큐어': 6217, '김선아': 6218, '초미': 6219, '숙아': 6220, '박문': 6221, '레바논': 6222, '황의조': 6223, '오른발': 6224, '감기': 6225, '프리지아': 6226, '조지': 6227, '심리학': 6228, '조승': 6229, '우통': 6230, '역가': 6231, '수고': 6232, '스님': 6233, '불교': 6234, '똥': 6235, '트라우마': 6236, '임윤성': 6237, '트래픽': 6238, '킬라': 6239, '익종': 6240, '외인': 6241, '줌': 6242, '제차': 6243, '화수분': 6244, '벼랑': 6245, '설계사': 6246, '공룡': 6247, '울상': 6248, '멀티': 6249, '미움': 6250, '인교': 6251, '태권도': 6252, '유산균': 6253, '싱크로': 6254, '히': 6255, '낙원': 6256, 'ㅣ': 6257, '스바루': 6258, '셔': 6259, '결합': 6260, '위생': 6261, '템포': 6262, '풍요': 6263, '타임리스': 6264, '콜롬비아': 6265, '복숭아': 6266, '지젤': 6267, '플레이어': 6268, '테디': 6269, '재판서': 6270, '쿠데타': 6271, '승차감': 6272, '기본기': 6273, '김도헌': 6274, '고척': 6275, '끌': 6276, '폴리': 6277, '텍': 6278, '나프': 6279, '기상': 6280, '청장': 6281, '교통사고': 6282, '로망스': 6283, '서원': 6284, '응급실': 6285, '손수호': 6286, '임사': 6287, '클로저': 6288, '입법': 6289, '늪': 6290, '후원금': 6291, '애사': 6292, '최종문': 6293, '차관': 6294, '강행군': 6295, '발자국': 6296, '증발': 6297, '인색': 6298, '회복기': 6299, '편집장': 6300, '김희애': 6301, '민국': 6302, '혈당': 6303, '약관': 6304, '여력': 6305, '연구회': 6306, '소장': 6307, '김선영': 6308, '나스닥': 6309, '비트코인': 6310, '패널': 6311, '요지경': 6312, '수산업': 6313, '물리': 6314, '이유영': 6315, '아일랜드': 6316, '원장': 6317, '우보': 6318, '혹': 6319, '성대': 6320, '인류세': 6321, '시전': 6322, '윌리엄스': 6323, '역경': 6324, '엄현경': 6325, '부산대': 6326, '품절남': 6327, '대열': 6328, '성장통': 6329, '주한': 6330, '해답': 6331, '경주': 6332, '언정': 6333, '서른': 6334, '신기록': 6335, '전부': 6336, '이스트': 6337, '원작자': 6338, '흥미': 6339, '묘수': 6340, '조심': 6341, '쑥대머리': 6342, '강행': 6343, '여점': 6344, '바에즈': 6345, '머스': 6346, '강석화': 6347, '고생': 6348, '시도': 6349, '변질': 6350, '도치': 6351, '파카': 6352, '소시': 6353, '과소평가': 6354, '집착': 6355, '아프가니스탄': 6356, '탈레반': 6357, '양원제': 6358, '공정위': 6359, '상당': 6360, '실격': 6361, '혼돈': 6362, '로지': 6363, '장모': 6364, '르브론': 6365, '상표': 6366, '협정': 6367, '외야수': 6368, '마침표': 6369, '능감': 6370, '급식': 6371, '물량': 6372, '경이': 6373, '윤시윤': 6374, '에르메스': 6375, '파이널': 6376, '화마': 6377, '그리스': 6378, '고대': 6379, '리쌍': 6380, '광대': 6381, '취약점': 6382, '브룩스': 6383, '뻥': 6384, '직면': 6385, '리셋': 6386, '나성범': 6387, '박보영': 6388, '김기현': 6389, '녹': 6390, '이즈': 6391, '넉': 6392, '하데스': 6393, '머릿속': 6394, '위성': 6395, '감시': 6396, '우스': 6397, '홈런왕': 6398, '싱가포르': 6399, '포드': 6400, '고삐': 6401, '창경궁': 6402, '유임': 6403, '본명': 6404, '문세윤': 6405, '조장혁': 6406, '유공자': 6407, '제고': 6408, '사령탑': 6409, '교익': 6410, '이종원': 6411, '지우개': 6412, '서클': 6413, '디스': 6414, '테스트': 6415, '자유주의자': 6416, '부친': 6417, '연전': 6418, '환갑': 6419, '식단': 6420, '박재': 6421, '누명': 6422, '속사정': 6423, '이블': 6424, '요거': 6425, '열애': 6426, '급가속': 6427, '달기': 6428, '빠빠': 6429, '펠': 6430, '제개': 6431, '나상': 6432, '초이스': 6433, '페미니스트': 6434, '모험': 6435, '절세': 6436, '튜버': 6437, '국민은행': 6438, '지곡': 6439, '무아지경': 6440, '온에어': 6441, '모건': 6442, '서태지': 6443, '쉐보레': 6444, '종국': 6445, '셰프': 6446, '막국수': 6447, '용산구': 6448, '골퍼': 6449, '마력': 6450, '로드스터': 6451, '박미선': 6452, '알콜': 6453, '그랜드': 6454, '낚시': 6455, '갤럭시': 6456, '장보기': 6457, '서버': 6458, '재재': 6459, '휴지': 6460, '칸': 6461, '출동': 6462, '구현': 6463, '노회찬': 6464, '시계': 6465, '김재중': 6466, '앞장': 6467, '갈피': 6468, '이도현': 6469, '전락': 6470, '부총리': 6471, '목숨': 6472, '파괴': 6473, '시위': 6474, '이광자': 6475, '스타인웨이': 6476, '양산': 6477, '여운': 6478, '이동환': 6479, '잭': 6480, '키다리': 6481, '리딩': 6482, '원해': 6483, '김지수': 6484, '통신망': 6485, '형평': 6486, '단장': 6487, '학살': 6488, '박성광': 6489, '번지': 6490, '뼘': 6491, '김영흠': 6492, '베토벤': 6493, '꽃비': 6494, '발달': 6495, '리니지': 6496, '숙제': 6497, '친동생': 6498, '남규리': 6499, '피타': 6500, '롬': 6501, '탐정': 6502, '김승현': 6503, '용돈': 6504, '시기': 6505, '와이프': 6506, '출근길': 6507, '원피스': 6508, '마이크': 6509, '프레시안': 6510, '후기': 6511, '쿠폰': 6512, '동천': 6513, '꼬리표': 6514, '소회': 6515, '상태': 6516, '성장주': 6517, '개장': 6518, '불륜': 6519, '주저': 6520, '루키': 6521, '어웨이': 6522, '분기': 6523, '동부': 6524, '시그': 6525, '여랑': 6526, '야랑': 6527, '신동욱': 6528, '래프': 6529, '증량': 6530, '잉꼬부부': 6531, '샌디에이고': 6532, '배경': 6533, '매주': 6534, '하이드': 6535, '과기': 6536, '정통부': 6537, '이은형': 6538, '말씀': 6539, '강인': 6540, '워터': 6541, '비즈': 6542, '스카우트': 6543, '연맹': 6544, '총량': 6545, '수출입': 6546, '교육감': 6547, '야심작': 6548, '사진관': 6549, '텐': 6550, '교단': 6551, '인천대': 6552, '탄력': 6553, '이응광': 6554, '금소': 6555, '원투': 6556, '링크': 6557, '전승': 6558, '문학관': 6559, '강좌': 6560, '메카': 6561, '낭만주의': 6562, '김도영': 6563, '레스콧': 6564, '떡볶이': 6565, '가이': 6566, '박광선': 6567, '배달': 6568, '제창': 6569, '징크스': 6570, '남원시': 6571, '하락': 6572, '이주': 6573, '어둠': 6574, '감미': 6575, '자두지미': 6576, '해고': 6577, '처장': 6578, '포퓰리즘': 6579, '제주항공': 6580, '대륙': 6581, '아무것': 6582, '홍범': 6583, '답장': 6584, '휴식': 6585, '주승': 6586, '승우': 6587, '비행': 6588, '윤리': 6589, '문화원': 6590, '문정': 6591, '복임': 6592, '오경': 6593, '실태': 6594, '오커': 6595, '중국해': 6596, '전월세': 6597, '개정안': 6598, '성훈': 6599, '카리나': 6600, '글쎄': 6601, '패럴': 6602, '출판': 6603, '쏙': 6604, '자화자찬': 6605, '벗': 6606, '최유정': 6607, '텀': 6608, '부교': 6609, '생파': 6610, '뮤즈': 6611, '피트': 6612, '성균관': 6613, '심산': 6614, '김창숙': 6615, '독립운동가': 6616, '월세': 6617, '여남': 6618, '버지니아': 6619, '당선자': 6620, '나들이': 6621, '무안': 6622, '키치': 6623, '점용': 6624, '럭비': 6625, '하이트진로': 6626, '하슬': 6627, '이진곤': 6628, '지요': 6629, '유죄': 6630, '흥국생명': 6631, '인삼': 6632, '해방구': 6633, '남포동': 6634, '함성': 6635, '정영학': 6636, '신고자': 6637, '이터': 6638, '레포츠': 6639, '연미': 6640, '재': 6641, '펜타곤': 6642, '미복': 6643, '한금': 6644, '환매': 6645, '안간힘': 6646, '최장기': 6647, '영아': 6648, '설득력': 6649, '도어': 6650, '쿠퍼': 6651, '홍석우': 6652, '유의미': 6653, '더보': 6654, '이즈오': 6655, '크롭': 6656, '입길': 6657, '파더스': 6658, '어택': 6659, '모범': 6660, '지배': 6661, '다언': 6662, '컨셉': 6663, '안예은': 6664, '오반': 6665, '김채한': 6666, '잎': 6667, '낙엽': 6668, '추풍낙엽': 6669, '매혹': 6670, '쌍마': 6671, '세련미': 6672, '금당도': 6673, '길이': 6674, '대명사': 6675, '교재': 6676, '핑': 6677, '미스티': 6678, '다자녀': 6679, '교통정리': 6680, '외통수': 6681, '검사역': 6682, '이덕환': 6683, '마음고생': 6684, '박광태': 6685, '매년': 6686, '디오': 6687, '전소연': 6688, '흑화': 6689, '적정': 6690, '칼날': 6691, '향방': 6692, '미관': 6693, '혈우병': 6694, '핑계': 6695, '조건부': 6696, '지평선': 6697, '로맨티시스트': 6698, '오사수나': 6699, '토레스': 6700, '방산': 6701, '초정': 6702, '안락': 6703, '제박': 6704, '망령': 6705, '술집': 6706, '티어스': 6707, '이식': 6708, '전기금': 6709, '파일럿': 6710, '국군': 6711, '이경': 6712, '동공': 6713, '문화상': 6714, '식이': 6715, '요법': 6716, '다리': 6717, '비시': 6718, '아웃랜더': 6719, '프라임': 6720, '정순균': 6721, '시필': 6722, '변비': 6723, '애드웨어': 6724, '서민석': 6725, '로빈': 6726, '후드': 6727, '핀테크': 6728, '정문성': 6729, '심심': 6730, '조르지뉴': 6731, '심골': 6732, '약시': 6733, '샛별': 6734, '다이아몬드': 6735, '로브스키': 6736, '시중': 6737, '김성한': 6738, '문법': 6739, '세태': 6740, '대림': 6741, '연락처': 6742, '교환': 6743, '영주': 6744, '이상현': 6745, '달빛': 6746, '백연': 6747, '원앙': 6748, '포의': 6749, '진천': 6750, '사이트': 6751, '극위': 6752, '박장': 6753, '현위': 6754, '박나래': 6755, '오대수': 6756, '코스프레': 6757, '도시바': 6758, '겹경사': 6759, '도망': 6760, '권순직': 6761, '저항': 6762, '녀석들': 6763, '만행': 6764, '은인': 6765, '초안': 6766, '합당': 6767, '은폐': 6768, '외강내유': 6769, '디펜더': 6770, '김오수': 6771, '신현빈': 6772, '담론': 6773, '배턴': 6774, '애즈': 6775, '덕목': 6776, '홀드': 6777, '아들놈': 6778, '뺨': 6779, '정홍원': 6780, '해프닝': 6781, '드비': 6782, '합성': 6783, '복권': 6784, '시청각': 6785, '무시': 6786, '노웅래': 6787, '환피': 6788, '재조합': 6789, '진통': 6790, '상한선': 6791, '아킬레스건': 6792, '건염': 6793, '내시경': 6794, '여명': 6795, '볼링': 6796, '동호인': 6797, '바우처': 6798, '식생활': 6799, '정현경': 6800, '어로': 6801, '응집': 6802, '필릭스': 6803, '수현': 6804, '오르막길': 6805, '오픈카': 6806, '일확천금': 6807, '해선': 6808, '블랙홀': 6809, '청룡': 6810, '서판': 6811, '부양': 6812, '부양료': 6813, '이탄희': 6814, '벼락': 6815, '온기': 6816, '유출': 6817, '대백': 6818, '언니네': 6819, '원도': 6820, '급사': 6821, '하도급': 6822, '대금': 6823, '직계': 6824, '다행': 6825, '화장지': 6826, '사재기': 6827, '안색': 6828, '엄지원': 6829, '군종': 6830, '구동': 6831, '리시브': 6832, '이대로': 6833, '도태': 6834, '장인어른': 6835, '예절': 6836, '임차': 6837, '적치': 6838, '일당': 6839, '검거': 6840, '부유': 6841, '맹세': 6842, '마소': 6843, '옴니': 6844, '장윤': 6845, '고령군': 6846, '지바고': 6847, '아담스': 6848, '뻐꾸기': 6849, '차인표': 6850, '손질': 6851, '드라이빙': 6852, '준중': 6853, '티구안': 6854, '가성': 6855, '알레그': 6856, '반애': 6857, '니원': 6858, '첸': 6859, '조회': 6860, '화력': 6861, '강석': 6862, '자태': 6863, '증액': 6864, '고속철': 6865, '공공성': 6866, '동대문구': 6867, '규칙': 6868, '홍종선': 6869, '메모리즈': 6870, '성격': 6871, '한현희': 6872, '노모': 6873, '노환': 6874, '보건복지위': 6875, '사무장': 6876, '꽁': 6877, '최영일': 6878, '결단': 6879, '와우': 6880, '량도': 6881, '냉정': 6882, '운동장': 6883, '강윤성': 6884, '당원': 6885, '이튿날': 6886, '다각도': 6887, '갱죽': 6888, '쉽싸리': 6889, '다시마': 6890, '석관': 6891, '조합원': 6892, '연대보증': 6893, '족쇄': 6894, '김웅': 6895, '공작': 6896, '먹잇감': 6897, '배럴': 6898, '래시': 6899, '가드': 6900, '영진': 6901, '우회': 6902, '버튼': 6903, '절절': 6904, '이타': 6905, '자박': 6906, '재항': 6907, '순혈주의': 6908, '플로렌스': 6909, '퓨': 6910, '콩트': 6911, '마임': 6912, '망드': 6913, '리플레이': 6914, '상상력': 6915, '황선홍': 6916, '모자': 6917, '백옥': 6918, '만물상': 6919, '춘천시': 6920, '프리스타일': 6921, '최진이': 6922, '접속': 6923, '비축': 6924, '환향': 6925, '재탈환': 6926, '박정호': 6927, '코오롱': 6928, '이웅열': 6929, '박민지': 6930, '김종석': 6931, '매립지': 6932, '반입': 6933, '보좌': 6934, '소망': 6935, '선우': 6936, '여조': 6937, '담종': 6938, '관악구': 6939, '광진구': 6940, '리터치': 6941, '겐트': 6942, '대서': 6943, '오십견': 6944, '초음파': 6945, '유착': 6946, '박리': 6947, '박보검': 6948, '정해인': 6949, '법승': 6950, '쌈': 6951, '스카웃': 6952, '출고': 6953, '독소': 6954, '조항': 6955, '이대호': 6956, '김희국': 6957, '소신': 6958, '흔적': 6959, '원혼': 6960, '스토커': 6961, '원석': 6962, '양주시': 6963, '장욱진': 6964, '위태': 6965, '관문': 6966, '아산시': 6967, '정비사': 6968, '덕산': 6969, '곡신': 6970, '형주': 6971, '벌점': 6972, '적십자사': 6973, '매혈': 6974, '협력자': 6975, '소닉': 6976, '슬립': 6977, '세일': 6978, '심도': 6979, '징역형': 6980, '탑재': 6981, '천안': 6982, '사투': 6983, '과로사': 6984, '장덕준': 6985, '유가족': 6986, '내조': 6987, '안선영': 6988, '신정환': 6989, '섭': 6990, '배슬기': 6991, '똥배': 6992, '조연호': 6993, '빌라도': 6994, '두개골': 6995, '히메네스': 6996, '지은': 6997, '지운': 6998, '에필로그': 6999, '백창주': 7000, '제스': 7001, '최민식': 7002, '실용': 7003, '코나': 7004, '석민': 7005, '김대업': 7006, '법인세법': 7007, '시행령': 7008, '제호': 7009, '가목': 7010, '록펠러': 7011, '딘': 7012, '고란': 7013, '처지': 7014, '라이선스': 7015, '레아': 7016, '세이두': 7017, '바라': 7018, '정훈희': 7019, '쇼초': 7020, '구석구석': 7021, '서오산': 7022, '휴': 7023, '전편': 7024, '고리': 7025, '소년비행': 7026, '여아': 7027, '헛구호': 7028, '조달': 7029, '디딤돌': 7030, '신선도': 7031, '코팅': 7032, '판례': 7033, '화물': 7034, '리카이': 7035, '불자': 7036, '수강': 7037, '책임감': 7038, '진도': 7039, '저고리': 7040, '노랑': 7041, '누룩': 7042, '송아지': 7043, '캐시': 7044, '계': 7045, '국그릇': 7046, '강동철': 7047, '손시헌': 7048, '술래잡기': 7049, '신배': 7050, '운동회': 7051, '정종': 7052, '일편단심': 7053, '방침': 7054, '정혁': 7055, '재선': 7056, '꼴': 7057, '불협화음': 7058, '용띠': 7059, '원숭이띠': 7060, '시내': 7061, '이주노': 7062, '동자': 7063, '카메오': 7064, '분담': 7065, '나주환': 7066, '렙': 7067, '유능': 7068, '초특급': 7069, '크러시': 7070, '원자력': 7071, '출두': 7072, '대전시': 7073, '최고조': 7074, '두번째': 7075, '기초자': 7076, '적왕': 7077, '헨리': 7078, '에브리': 7079, '팬시': 7080, '걸림돌': 7081, '할매': 7082, '최협': 7083, '국립': 7084, '코람코': 7085, '속임수': 7086, '경일': 7087, '모인': 7088, '면접': 7089, '전파': 7090, '면담': 7091, '방콕': 7092, '난관': 7093, '희': 7094, '최민환': 7095, '대가족': 7096, '이혜성': 7097, '게구이': 7098, '발걸음': 7099, '맹승지': 7100, '박제': 7101, '죗값': 7102, '브론': 7103, '멍에': 7104, '시투': 7105, '기원': 7106, '년수': 7107, '련관': 7108, '트레이닝': 7109, '세션': 7110, '볼일': 7111, '여행기': 7112, '네덜란드': 7113, '병장': 7114, '내무반': 7115, '계부': 7116, '단순': 7117, '리자': 7118, '악용': 7119, '오영수': 7120, '로드맨': 7121, '다나카': 7122, '착수': 7123, '카스': 7124, '살리나': 7125, '신문호': 7126, '매매': 7127, '양해': 7128, '각서': 7129, '올여름': 7130, '지성': 7131, '생곡': 7132, '에너지원': 7133, '체커': 7134, '대리': 7135, '플라자': 7136, '차승재': 7137, '신바람': 7138, '초청': 7139, '군민': 7140, '코리': 7141, '디케이': 7142, '수민': 7143, '장첸': 7144, '우영미': 7145, '제아': 7146, '저음': 7147, '산면': 7148, '달력': 7149, '배부': 7150, '무대소': 7151, '품의': 7152, '시냅스': 7153, '정원석': 7154, '암바니': 7155, '김상호': 7156, '탄탄': 7157, '도미': 7158, '야스': 7159, '뉴캐슬': 7160, '시험지': 7161, '돼지고기': 7162, '브리트니': 7163, '스피어스': 7164, '라이오넬': 7165, '리치': 7166, '점입가경': 7167, '반등': 7168, '기절': 7169, '박진배': 7170, '보스턴': 7171, '미전': 7172, '묵언': 7173, '박전': 7174, '도전자': 7175, '수류': 7176, '중형': 7177, '판자촌': 7178, '애니멀': 7179, '호더': 7180, '집결지': 7181, '역주': 7182, '웨': 7183, '자재': 7184, '권유': 7185, '스테레오': 7186, '스파클': 7187, '사오리': 7188, '루팅': 7189, '정민': 7190, '도겸': 7191, '엑스칼리버': 7192, '탈영병': 7193, '추격기': 7194, '최용학': 7195, '민회': 7196, '이사장': 7197, '김구': 7198, '이드': 7199, '오만석': 7200, '정성화': 7201, '휴대': 7202, '전봉준': 7203, '박헌영': 7204, '호죽': 7205, '이스타': 7206, '관비': 7207, '줄다리기': 7208, '어포': 7209, '본회의': 7210, '예결': 7211, '소위': 7212, '민정': 7213, '호명': 7214, '감사원': 7215, '임대차': 7216, '임금제': 7217, '무용지물': 7218, '늦더위': 7219, '팔뚝': 7220, '남윤수': 7221, '엽서': 7222, '정승제': 7223, '권혁수': 7224, '금술': 7225, '산우': 7226, '저금리': 7227, '라이즈': 7228, '투신': 7229, '휩': 7230, '김세호': 7231, '쌍방울': 7232, '총성': 7233, '최고참': 7234, '서인영': 7235, '로그인': 7236, '클락': 7237, '상희': 7238, '은정': 7239, '민경훈': 7240, '아형': 7241, '선언문': 7242, '수중': 7243, '키타': 7244, '하시시': 7245, '경마': 7246, '건아': 7247, '베다': 7248, '쏘': 7249, '내추럴': 7250, '응시': 7251, '고요': 7252, '김한': 7253, '로새': 7254, '다이렉트': 7255, '건강미': 7256, '쇳물': 7257, '안심': 7258, '점령': 7259, '김연자': 7260, '웅산': 7261, '산사': 7262, '채희봉': 7263, '파주시': 7264, '강혜진': 7265, '이시영': 7266, '인감도장': 7267, '콘테': 7268, '귀족': 7269, '소주': 7270, '오비': 7271, '결혼기념일': 7272, '황윤성': 7273, '신성호': 7274, '장률': 7275, '예탁': 7276, '간호': 7277, '사복': 7278, '수간호사': 7279, '거창': 7280, '구인모': 7281, '종사자': 7282, '굳히기': 7283, '대접': 7284, '진학': 7285, '평창': 7286, '소마': 7287, '퓨레': 7288, '면직': 7289, '도경수': 7290, '윤정용': 7291, '마인드': 7292, '성별': 7293, '이유일': 7294, '극악': 7295, '루틴': 7296, '강하늘': 7297, '작문': 7298, '서강준': 7299, '오뚜기': 7300, '함': 7301, '최광호': 7302, '전서': 7303, '진퇴양난': 7304, '태교': 7305, '직역': 7306, '엄정': 7307, '과자': 7308, '재고': 7309, '떨': 7310, '구체': 7311, '알비': 7312, '무오': 7313, '소비문화': 7314, '훅': 7315, '김운성': 7316, '본질': 7317, '주방': 7318, '퇴직자': 7319, '일감': 7320, '브레이너': 7321, '백억': 7322, '성모병원': 7323, '호스피스': 7324, '시신': 7325, '심야토론': 7326, '파장': 7327, '원위': 7328, '워싱턴': 7329, '포위': 7330, '원동력': 7331, '정면충돌': 7332, '만두피': 7333, '식감': 7334, '일품': 7335, '초비': 7336, '상월': 7337, '유행': 7338, '논평': 7339, '백만장자': 7340, '서유기': 7341, '독점권': 7342, '정준': 7343, '김종관': 7344, '세경': 7345, '트레이딩': 7346, '엔리케': 7347, '자강': 7348, '노바': 7349, '막전': 7350, '막후': 7351, '만사': 7352, '기정': 7353, '통부': 7354, '터커': 7355, '수호천사': 7356, '이정': 7357, '사무총장': 7358, '치사': 7359, '통영': 7360, '에피소드': 7361, '신근호': 7362, '통일전망대': 7363, '종주': 7364, '나종': 7365, '숨통': 7366, '주비': 7367, '층간': 7368, '소음': 7369, '윗집': 7370, '초인종': 7371, '세븐일레븐': 7372, '양말': 7373, '장윤식': 7374, '이주하': 7375, '지목': 7376, '부스타': 7377, '전선': 7378, '이승기': 7379, '채영': 7380, '자회사': 7381, '중부': 7382, '최전선': 7383, '전지윤': 7384, '허가윤': 7385, '셀러': 7386, '브리': 7387, '바이러스': 7388, '번영': 7389, '용광로': 7390, '덴티': 7391, '열매': 7392, '붓': 7393, '카톨릭': 7394, '교도': 7395, '위로금': 7396, '천명': 7397, '실음': 7398, '문성혁': 7399, '북항': 7400, '손성빈': 7401, '광복회': 7402, '총사령': 7403, '박상진': 7404, '외곽': 7405, '슛': 7406, '부지런': 7407, '게이트': 7408, '레이싱': 7409, '임정': 7410, '아워': 7411, '량': 7412, '노현희': 7413, '서효명': 7414, '악녀': 7415, '강림': 7416, '엘': 7417, '원태': 7418, '지명자': 7419, '좌완': 7420, '조원태': 7421, '이종욱': 7422, '노정': 7423, '교섭': 7424, '깻잎': 7425, '성욕': 7426, '우이': 7427, '혼서': 7428, '서남용': 7429, '류승범': 7430, '해치': 7431, '배운성': 7432, '깨달음': 7433, '우원식': 7434, '재창': 7435, '소극': 7436, '초긴장': 7437, '제국': 7438, '페어링': 7439, '창세기': 7440, '우리은행': 7441, '립스틱': 7442, '다비': 7443, '반수': 7444, '학력': 7445, '고월': 7446, '만나': 7447, '방음벽': 7448, '스티커': 7449, '새들': 7450, '주루': 7451, '증오': 7452, '고사': 7453, '이수미': 7454, '유쾌': 7455, '서튼': 7456, '이규형': 7457, '김재원': 7458, '대치': 7459, '조원대': 7460, '낙찰': 7461, '천당': 7462, '가평읍': 7463, '김승혜': 7464, '가로등': 7465, '지방채': 7466, '이혜영': 7467, '최준호': 7468, '김재열': 7469, '삼각관계': 7470, '배신감': 7471, '장석': 7472, '해변': 7473, '몰도바': 7474, '문형식': 7475, '렉서스': 7476, '토끼': 7477, '주행성': 7478, '능자': 7479, '퇴짜': 7480, '깃': 7481, '등락': 7482, '웰': 7483, '미니콘': 7484, '파이브돌스': 7485, '한서': 7486, '작렬': 7487, '툴리': 7488, '눔': 7489, '도매상': 7490, '탐욕': 7491, '안개': 7492, '프랑켄슈타인': 7493, '뉴트럴': 7494, '리비': 7495, '안락사': 7496, '보호자': 7497, '똘': 7498, '박과': 7499, '의생': 7500, '매료': 7501, '로케': 7502, '격화': 7503, '미야': 7504, '일원': 7505, '기재': 7506, '표기': 7507, '헌정': 7508, '새아빠': 7509, '키퍼': 7510, '사익스': 7511, '남구': 7512, '재건축': 7513, '유현상': 7514, '김경호': 7515, '수목드라마': 7516, '정용화': 7517, '강홍석': 7518, '고성능': 7519, '자유자재': 7520, '운전법': 7521, '술친구': 7522, '타블로': 7523, '강혜정': 7524, '레인보우': 7525, '지장': 7526, '투여': 7527, '신용호': 7528, '시시각각': 7529, '일산대교': 7530, '왕국': 7531, '트렌디': 7532, '초이스상': 7533, '김성철': 7534, '등촌': 7535, '당근': 7536, '안해': 7537, '링컨': 7538, '서브': 7539, '한수': 7540, '성지': 7541, '순례': 7542, '백지화': 7543, '온신': 7544, '거리감': 7545, '배분': 7546, '어프': 7547, '레미': 7548, '프리킥': 7549, '은형': 7550, '옥수동': 7551, '승승장구': 7552, '부시': 7553, '소녀대': 7554, '엄기준': 7555, '여름철': 7556, '생략': 7557, '주홍': 7558, '글씨': 7559, '김학선': 7560, '진국': 7561, '계발': 7562, '데미안': 7563, '릴라드': 7564, '추정': 7565, '낙평': 7566, '과수원': 7567, '아르바이트': 7568, '명우': 7569, '영월': 7570, '홍게': 7571, '장새': 7572, '우장': 7573, '섬마을': 7574, '앙투아네트': 7575, '박탐희': 7576, '옥진': 7577, '디데이': 7578, '소집': 7579, '부정행': 7580, '어사': 7581, '김혜윤': 7582, '채원': 7583, '이상희': 7584, '목요': 7585, '세평': 7586, '소송비용': 7587, '절약': 7588, '재능': 7589, '좌우': 7590, '빌리지': 7591, '이현준': 7592, '인질': 7593, '류경': 7594, '황정민': 7595, '추격': 7596, '신서': 7597, '언어행위': 7598, '아렌트': 7599, '백지': 7600, '우즈': 7601, '조승연': 7602, '김종길': 7603, '늙은이': 7604, '앎': 7605, '댄스댄스': 7606, '대보': 7607, '탁주': 7608, '전통주': 7609, '청신호': 7610, '가뭄': 7611, '아랍': 7612, '한식': 7613, '금침': 7614, '박주연': 7615, '프란치스코': 7616, '교황': 7617, '노드': 7618, '약이': 7619, '거실': 7620, '풍선': 7621, '칠순': 7622, '안태환': 7623, '제타': 7624, '사양': 7625, '사극': 7626, '불능': 7627, '스포일러': 7628, '스완': 7629, '혜미': 7630, '이방인': 7631, '허홍구': 7632, '합법화': 7633, '금슬': 7634, '우신': 7635, '억울': 7636, '송구': 7637, '스리': 7638, '원내': 7639, '김건수': 7640, '남포': 7641, '유조선': 7642, '정박': 7643, '정지아': 7644, '저거': 7645, '서예지': 7646, '평행': 7647, '이론': 7648, '천하': 7649, '이채영': 7650, '출수': 7651, '에스파뇰': 7652, '대훈': 7653, '손연재': 7654, '거포': 7655, '이상우': 7656, '수다': 7657, '승구': 7658, '본길': 7659, '씨름': 7660, '나뭇잎': 7661, '생명력': 7662, '이스탄불': 7663, '비소': 7664, '낙후': 7665, '차안': 7666, '청담동': 7667, '행정부': 7668, '뉴타운': 7669, '등분': 7670, '마차': 7671, '군산시': 7672, '실': 7673, '척이': 7674, '지로': 7675, '불효자': 7676, '양띠': 7677, '독단': 7678, '오름세': 7679, '국영': 7680, '이수': 7681, '과목': 7682, '조현정': 7683, '무릎': 7684, '제초기': 7685, '민병': 7686, '흑인': 7687, '대의': 7688, '피아': 7689, '나자': 7690, '임차료': 7691, '임차인': 7692, '토스': 7693, '송선미': 7694, '행중': 7695, '토픽': 7696, '윈도우': 7697, '스매시': 7698, '마취': 7699, '신약': 7700, '격년': 7701, '디싱': 7702, '선예': 7703, '박정아': 7704, '마찰': 7705, '새끼': 7706, '막내딸': 7707, '테이블': 7708, '스파크': 7709, '진상': 7710, '베이직': 7711, '안주': 7712, '가산점': 7713, '강산': 7714, '전술': 7715, '김연': 7716, '시차': 7717, '로꼬': 7718, '일동': 7719, '초원': 7720, '생업': 7721, '임현기': 7722, '일축': 7723, '익위': 7724, '종결': 7725, '만취': 7726, '정용진': 7727, '출제': 7728, '커닝': 7729, '산강': 7730, '쌍곡선': 7731, '슈어저': 7732, '스윗소로우': 7733, '영산': 7734, '폰': 7735, '수영복': 7736, '쉼': 7737, '임한': 7738, '교과서': 7739, '턱스': 7740, '송진아': 7741, '함양군': 7742, '영등포': 7743, '쪽방': 7744, '촌명': 7745, '절놀이': 7746, '인벤': 7747, '당첨자': 7748, '도도': 7749, '기획사': 7750, '지향': 7751, '국치일': 7752, '그것': 7753, '상속세': 7754, '병아리': 7755, '황태자': 7756, '광진': 7757, '폐막식': 7758, '별재': 7759, '안전망': 7760, '양가': 7761, '외식업': 7762, '손주': 7763, '노부부': 7764, '민요': 7765, '콜백': 7766, '이동일': 7767, '분담금': 7768, '입시': 7769, '포인핸드': 7770, '길고양이': 7771, '선택지': 7772, '파정': 7773, '겁': 7774, '장흥군': 7775, '아비': 7776, '무아': 7777, '감겁': 7778, '전소민': 7779, '우울증': 7780, '임대인': 7781, '제이비': 7782, '나중': 7783, '박재범': 7784, '콜로': 7785, '하이': 7786, '교정': 7787, '윗니': 7788, '박지성': 7789, '리라': 7790, '신승태': 7791, '어린이재단': 7792, '발족': 7793, '가덕': 7794, '배후': 7795, '이슬람': 7796, '무슬림': 7797, '키런': 7798, '휴일': 7799, '합헌': 7800, '고층': 7801, '발코니': 7802, '방화': 7803, '김아중': 7804, '사망설': 7805, '맥아더': 7806, '동갑내기': 7807, '화웨이': 7808, '풀숲': 7809, '외딴': 7810, '기피': 7811, '방접': 7812, '문위': 7813, '성인': 7814, '탈주': 7815, '해독제': 7816, '아도': 7817, '마동석': 7818, '팔로우': 7819, '계정': 7820, '김진우': 7821, '이승훈': 7822, '인서': 7823, '점집': 7824, '노림수': 7825, '엄지발가락': 7826, '지외': 7827, '반증': 7828, '이라이': 7829, '촉각': 7830, '탱': 7831, '클랜': 7832, '잔류': 7833, '훈련복': 7834, '마피아': 7835, '체각': 7836, '다라스': 7837, '정형근': 7838, '화폐': 7839, '홍남기': 7840, '엘리베이터': 7841, '망상': 7842, '장년': 7843, '찍': 7844, '명실상부': 7845, '치안': 7846, '지명전': 7847, '전염성': 7848, '결핵': 7849, '떡': 7850, '수난사': 7851, '어머님': 7852, '킹콩': 7853, '등대': 7854, '고민환': 7855, '김박사': 7856, '차징': 7857, '지원자': 7858, '제재': 7859, '식량': 7860, '곳간': 7861, '복사': 7862, '위궤양': 7863, '악조건': 7864, '피카소': 7865, '전사': 7866, '명감': 7867, '음유': 7868, '포에버': 7869, '그린우드': 7870, '참고': 7871, '유성구': 7872, '세치': 7873, '축': 7874, '미드필더': 7875, '이영주': 7876, '이자연': 7877, '임희숙': 7878, '여행스케치': 7879, '항년': 7880, '언덕': 7881, '미레': 7882, '보톡스': 7883, '집행정지': 7884, '맞대응': 7885, '등록금': 7886, '차등': 7887, '실점': 7888, '써브웨이': 7889, '광고비': 7890, '홀란드': 7891, '윤석민': 7892, '부원장': 7893, '이용우': 7894, '이찬우': 7895, '삼환기업': 7896, '이지안': 7897, '전교': 7898, '덩치': 7899, '관전': 7900, '박정': 7901, '현도': 7902, '이력서': 7903, '증명서': 7904, '쌍꺼풀': 7905, '광속': 7906, '수분': 7907, '오다': 7908, '룸': 7909, '하용조': 7910, '소천': 7911, '스웨터': 7912, '김영만': 7913, '상벽': 7914, '혜빈': 7915, '조박': 7916, '항서': 7917, '인승': 7918, '전환점': 7919, '바운티': 7920, '보디': 7921, '보통': 7922, '신재범': 7923, '디엠': 7924, '래퍼': 7925, '화위': 7926, '홍명기': 7927, '한상': 7928, '족적': 7929, '목동': 7930, '코스타': 7931, '리카': 7932, '이성재': 7933, '조승환': 7934, '맨발': 7935, '세계선': 7936, '휘발': 7937, '윳': 7938, '요트': 7939, '부검': 7940, '학자': 7941, '장문': 7942, '꿈속': 7943, '유카': 7944, '송파': 7945, '장지동': 7946, '멘토링': 7947, '조약': 7948, '우연': 7949, '주점': 7950, '조정치': 7951, '임근형': 7952, '주관': 7953, '양평군': 7954, '올인': 7955, '장전': 7956, '한의원': 7957, '소매': 7958, '사청': 7959, '물자': 7960, '오케스트라': 7961, '개화사': 7962, '주지': 7963, '강스': 7964, '서영교': 7965, '음식점': 7966, '업마': 7967, '옥정': 7968, '소류지': 7969, '마름': 7970, '수질': 7971, '오염': 7972, '악취': 7973, '위이': 7974, '시조': 7975, '문학상': 7976, '족부': 7977, '족저': 7978, '근막염': 7979, '가이드라인': 7980, '협동': 7981, '고래': 7982, '꼬리': 7983, '모티브': 7984, '피켓': 7985, '다락방': 7986, '권역': 7987, '진태': 7988, '직구': 7989, '농어': 7990, '업인': 7991, '농수산': 7992, '편파': 7993, '분란': 7994, '내홍': 7995, '홍콩인': 7996, '매염방': 7997, '왕단': 7998, '명장면': 7999, '영합': 8000, '작황': 8001, '가을철': 8002, '우박': 8003, '유정은': 8004, '지유나': 8005, '스테이션': 8006, '환산': 8007, '기한': 8008, '리거': 8009, '한만': 8010, '고풍': 8011, '퇴식': 8012, '클라스': 8013, '회생': 8014, '만년필': 8015, '구자열': 8016, '횡포': 8017, '제패': 8018, '보존': 8019, '치환': 8020, '연일': 8021, '방국': 8022, '김충섭': 8023, '연기파': 8024, '가수요': 8025, '신용대': 8026, '출도': 8027, '한도': 8028, '영업시간': 8029, '라이드': 8030, '마쉬': 8031, '동경': 8032, '데이비드': 8033, '확충': 8034, '김주영': 8035, '체납액': 8036, '신요': 8037, '소수': 8038, '늑장': 8039, '배임': 8040, '스파이': 8041, '구속력': 8042, '이주호': 8043, '청계천': 8044, '서울관광': 8045, '길기': 8046, '칸나': 8047, '김창동': 8048, '전우': 8049, '철거': 8050, '유족': 8051, '관련자': 8052, '김건': 8053, '입호': 8054, '관통': 8055, '민영이': 8056, '김장훈': 8057, '진행형': 8058, '동행': 8059, '광주대': 8060, '음악학': 8061, '연주회': 8062, '오수진': 8063, '이경훈': 8064, '임성재': 8065, '자극제': 8066, '트라이애슬론': 8067, '선고': 8068, '배기가스': 8069, '국립묘지': 8070, '정지택': 8071, '무보수': 8072, '불구': 8073, '증가세': 8074, '기태영': 8075, '맞벌이': 8076, '구경': 8077, '용두': 8078, '용미': 8079, '락다운': 8080, '평점': 8081, '맏형': 8082, '반지': 8083, '굿바이': 8084, '시체': 8085, '김혜원': 8086, '천호': 8087, '케어': 8088, '늦가을': 8089, '김원': 8090, '안건': 8091, '필': 8092, '옵션': 8093, '해원': 8094, '항공우주': 8095, '선임': 8096, '연고': 8097, '피에로': 8098, '심혈': 8099, '히어로즈': 8100, '암초': 8101, '입주': 8102, '헌신짝': 8103, '티스푼': 8104, '대교': 8105, '전략산업': 8106, '레코드': 8107, '셈': 8108, '모스': 8109, '김지환': 8110, '충원': 8111, '돋보기': 8112, '은하수': 8113, '올림피아드': 8114, '자왜': 8115, '박성준': 8116, '민대홍': 8117, '베리': 8118, '기준점': 8119, '권영세': 8120, '연극제': 8121, '동예': 8122, '신풍': 8123, '폭죽': 8124, '토대': 8125, '섭렵': 8126, '파나메라': 8127, '주전': 8128, '외인구단': 8129, '건축비': 8130, '임의': 8131, '대변': 8132, '좌불안석': 8133, '수서': 8134, '겹눈': 8135, '선우정아': 8136, '리퍼': 8137, '스토리보드': 8138, '전손': 8139, '이창훈': 8140, '박소진': 8141, '안재석': 8142, '수비': 8143, '영남': 8144, '학업': 8145, '틈새': 8146, '제로섬': 8147, '말자': 8148, '누더기': 8149, '대재': 8150, '애초': 8151, '김성': 8152, '성유빈': 8153, '가오리': 8154, '기독': 8155, '존립': 8156, '모형': 8157, '성석': 8158, '선교': 8159, '회구': 8160, '벤처': 8161, '새판': 8162, '태권': 8163, '경률': 8164, '한국사': 8165, '클라시': 8166, '솜방망이': 8167, '히터': 8168, '패전': 8169, '윤민수': 8170, '촬영기': 8171, '임풍성': 8172, '차출': 8173, '급훈': 8174, '뽐': 8175, '찬성': 8176, '그래머': 8177, '연곡': 8178, '매임': 8179, '박성': 8180, '부적': 8181, '김병욱': 8182, '성심': 8183, '엑시트': 8184, '탈영': 8185, '감염원': 8186, '소홀': 8187, '내주': 8188, '구분': 8189, '편성표': 8190, '명함': 8191, '밤차': 8192, '백약': 8193, '플라이': 8194, '원화': 8195, '총결산': 8196, '의뢰': 8197, '단혼': 8198, '시빅': 8199, '이외': 8200, '농지법': 8201, '토지': 8202, '연동': 8203, '잿밥': 8204, '미인': 8205, '운로': 8206, '고등어': 8207, '큰일': 8208, '이다영': 8209, '잔소리': 8210, '자책': 8211, '공전': 8212, '첩첩산중': 8213, '시한폭탄': 8214, '국대급': 8215, '세레나데': 8216, '뉴트': 8217, '별내': 8218, '단지': 8219, '주차장': 8220, '차량': 8221, '치카': 8222, '훅스': 8223, '케냐': 8224, '흡혈귀': 8225, '살인마': 8226, '탈옥': 8227, '고비': 8228, '김연기': 8229, '사기죄': 8230, '피고인': 8231, '입선': 8232, '김춘기': 8233, '청제': 8234, '들판': 8235, '무근': 8236, '윤재근': 8237, '세인': 8238, '진용': 8239, '투싼': 8240, '타전': 8241, '의정': 8242, '교본': 8243, '대물림': 8244, '정유경': 8245, '회고': 8246, '대백과': 8247, '낙': 8248, '한소정': 8249, '다변화': 8250, '강화도': 8251, '사흘': 8252, '양효진': 8253, '고속도로': 8254, '밀물': 8255, '썰물': 8256, '콤플렉스': 8257, '구설': 8258, '소연': 8259, '자아': 8260, '무형': 8261, '택견': 8262, '서울특별시': 8263, '무형문화재': 8264, '신진': 8265, '전승자': 8266, '여청': 8267, '계장': 8268, '사채': 8269, '단체장': 8270, '김동규': 8271, '연고지': 8272, '장원영': 8273, '아이브': 8274, '장신': 8275, '송은이': 8276, '말리': 8277, '큐레이팅': 8278, '고서': 8279, '한상춘': 8280, '일방통행': 8281, '일진': 8282, '병진': 8283, '리안': 8284, '시미즈': 8285, '부업': 8286, '국수': 8287, '멎': 8288, '서빙': 8289, '최상위': 8290, '배기성': 8291, '자석': 8292, '점프': 8293, '병맛': 8294, '대환': 8295, '함안': 8296, '입곡': 8297, '군립': 8298, '스토리텔링': 8299, '르네상스': 8300, '염려증': 8301, '구치소': 8302, '인근': 8303, '충전기': 8304, '만기': 8305, '발판': 8306, '현지': 8307, '김정호': 8308, '자판기': 8309, '천영길': 8310, '너리': 8311, '맥컬럼': 8312, '온가': 8313, '족사': 8314, '도미노': 8315, '루피': 8316, '명언': 8317, '엄마야': 8318, '공청회': 8319, '설계': 8320, '용역': 8321, '감정선': 8322, '공동체': 8323, '아날로그': 8324, '취미': 8325, '지직': 8326, '박미희': 8327, '특산물': 8328, '탈락자': 8329, '기자단': 8330, '중재': 8331, '법기': 8332, '레기': 8333, '기성': 8334, '트라이브': 8335, '꽃꽂이': 8336, '패턴': 8337, '번지수': 8338, '하연수': 8339, '저세상': 8340, '해멀스': 8341, '다저스': 8342, '라멜라': 8343, '벼': 8344, '락스타': 8345, '서효림': 8346, '김수미': 8347, '명가': 8348, '미생': 8349, '설유': 8350, '연강': 8351, '관념': 8352, '대법원': 8353, '김명수': 8354, '큐브': 8355, '절규': 8356, '이곳': 8357, '탄생회': 8358, '원탑': 8359, '정준모': 8360, '장유정': 8361, '정류장': 8362, '상한': 8363, '조니': 8364, '뎁': 8365, '대혁명': 8366, '거지': 8367, '특공': 8368, '큐커': 8369, '안단테': 8370, '가포': 8371, '입주자': 8372, '리스': 8373, '바늘구멍': 8374, '눈치': 8375, '김주리': 8376, '전시관': 8377, '삼양': 8378, '딕펑스': 8379, '김태현': 8380, '예진': 8381, '조정장': 8382, '부천': 8383, '시유지': 8384, '취업': 8385, '사업채': 8386, '용자': 8387, '추격자': 8388, '증도': 8389, '구사': 8390, '도륙': 8391, '에드시런': 8392, '라이언즈': 8393, '복학': 8394, '지석진': 8395, '수의': 8396, '놀러': 8397, '재화': 8398, '매크로': 8399, '승격': 8400, '이우형': 8401, '강주': 8402, '이기홍': 8403, '이진욱': 8404, '수염': 8405, '레베카': 8406, '엘리자벳': 8407, '위엄': 8408, '기어': 8409, '마타': 8410, '출처': 8411, '수출국': 8412, '도심': 8413, '핵': 8414, '핵우산': 8415, '보현산': 8416, '짚': 8417, '와이어': 8418, '단풍철': 8419, '김원형': 8420, '채병용': 8421, '품명': 8422, '독립영화': 8423, '충무': 8424, '화분': 8425, '공소심': 8426, '조희연': 8427, '비서': 8428, '실장': 8429, '금세기': 8430, '이카': 8431, '무상원': 8432, '비자': 8433, '페노': 8434, '메코': 8435, '얘': 8436, '깃털': 8437, '인년': 8438, '광양시': 8439, '만관': 8440, '제본': 8441, '최성은': 8442, '체인': 8443, '변주': 8444, '기식': 8445, '횡설수설': 8446, '박중현': 8447, '금정': 8448, '질리': 8449, '흉터': 8450, '레깅스': 8451, '난독': 8452, '다산': 8453, '철학': 8454, '정문': 8455, '대추': 8456, '항저우': 8457, '직거래': 8458, '중세': 8459, '재료': 8460, '분법': 8461, '법률안': 8462, '기일': 8463, '발전기': 8464, '민감': 8465, '나경': 8466, '벤투': 8467, '대퇴': 8468, '용설': 8469, '안전도': 8470, '부실': 8471, '서시': 8472, '곡마': 8473, '필라테스': 8474, '마네킹': 8475, '허스키': 8476, '모창': 8477, '와이드': 8478, '콜드플레이': 8479, '최개': 8480, '장재': 8481, '속살': 8482, '베투': 8483, '구입': 8484, '액수': 8485, '수오': 8486, '징어': 8487, '급병': 8488, '로운': 8489, '신세계백화점': 8490, '롯데월드': 8491, '김병현': 8492, '서초구': 8493, '기쿠치': 8494, '소녀자': 8495, '양육자': 8496, '확신': 8497, '최용제': 8498, '새내기': 8499, '교보문고': 8500, '기행': 8501, '이봉련': 8502, '사무': 8503, '홈구장': 8504, '사직': 8505, '비약': 8506, '암살': 8507, '후렴': 8508, '산정': 8509, '집사': 8510, '두부': 8511, '흙': 8512, '인민일보': 8513, '우인': 8514, '버추얼': 8515, '크라운': 8516, '구스': 8517, '콘차': 8518, '쿠션': 8519, '지라시': 8520, '흑자': 8521, '임형준': 8522, '미성년': 8523, '보험금': 8524, '당해': 8525, '집념': 8526, '스펙터클': 8527, '수문장': 8528, '송호성': 8529, '남정호': 8530, '퍼스': 8531, '펙': 8532, '극초음속': 8533, '방심': 8534, '방공': 8535, '폄하': 8536, '의심': 8537, '철군': 8538, '닷새': 8539, '보복': 8540, '윤영필': 8541, '사이즈': 8542, '폴라': 8543, '삼성전기': 8544, '취': 8545, '인더': 8546, '이백규': 8547, '김형석': 8548, '국조': 8549, '채무': 8550, '낙하산': 8551, '한산': 8552, '인권위': 8553, '정기회': 8554, '한성숙': 8555, '꾸러미': 8556, '약사': 8557, '법제': 8558, '봉안': 8559, '대하': 8560, '대중교통': 8561, '단종': 8562, '극양': 8563, '지은정': 8564, '초겨울': 8565, '지자체': 8566, '허술': 8567, '구조물': 8568, '다이슨': 8569, '스피어': 8570, '하드': 8571, '캐리': 8572, '맹탕': 8573, '노바소닉': 8574, '미띠': 8575, '케이트': 8576, '상청': 8577, '수백만': 8578, '무사통과': 8579, '으로': 8580, '페헤이라': 8581, '격파': 8582, '다재다능': 8583, '김소정': 8584, '금동': 8585, '채소': 8586, '직행': 8587, '난투': 8588, '재향군인회': 8589, '철도망': 8590, '사면초가': 8591, '가세': 8592, '리메': 8593, '하하': 8594, '자식': 8595, '프로파일러': 8596, '백병원': 8597, '박현아': 8598, '김상균': 8599, '뉴스초점': 8600, '이송': 8601, '민저': 8602, '특보': 8603, '에이치': 8604, '항거': 8605, '매경': 8606, '명령': 8607, '청부': 8608, '합공': 8609, '매체': 8610, '선호도': 8611, '유유': 8612, '괴담': 8613, '화이트데이': 8614, '찬희': 8615, '귀문': 8616, '김소혜': 8617, '수교': 8618, '권덕철': 8619, '시평': 8620, '럭': 8621, '이영헌': 8622, '영동군': 8623, '공산당': 8624, '입맛': 8625, '수신료': 8626, '조정안': 8627, '신세기': 8628, '명화': 8629, '환골탈태': 8630, '경쟁사': 8631, '경력자': 8632, '냉탕': 8633, '온탕': 8634, '허승범': 8635, '김진국': 8636, '카타니': 8637, '최윤범': 8638, '교집합': 8639, '별종': 8640, '취급': 8641, '역도': 8642, '박시환': 8643, '호류': 8644, '영채': 8645, '입수': 8646, '승낙': 8647, '래드윔프스': 8648, '가위': 8649, '기프': 8650, '킬': 8651, '하이퍼': 8652, '캐주얼': 8653, '알로하': 8654, '캐넌': 8655, '컬렉터': 8656, '문고': 8657, '프레디': 8658, '서울우유': 8659, '원유': 8660, '함량': 8661, '정가': 8662, '철학자': 8663, '초보': 8664, '호요': 8665, '미해결': 8666, '불가항력': 8667, '물리치료사': 8668, '알바트': 8669, '배동성': 8670, '장빈': 8671, '보증금': 8672, '옥션': 8673, '분수대': 8674, '유류분': 8675, '가약': 8676, '낙제점': 8677, '일기장': 8678, '혜인': 8679, '탬': 8680, '파베': 8681, '백발': 8682, '콜렉션': 8683, '김용임': 8684, '결혼정보회사': 8685, '미혼': 8686, '에이전트': 8687, '대구은행': 8688, '은어': 8689, '슬럼프': 8690, '와조': 8691, '전환성': 8692, '남진': 8693, '우승권': 8694, '역시': 8695, '송환': 8696, '에릭': 8697, '슈미트': 8698, '노트르담': 8699, '계투': 8700, '수취인': 8701, '장대': 8702, '아이이': 8703, '김웅민': 8704, '현주': 8705, '창살': 8706, '플라워': 8707, '박민우': 8708, '전사자': 8709, '이랜드': 8710, '냉감': 8711, '블루칩': 8712, '아젠다': 8713, '시스타': 8714, '별똥별': 8715, '광명시': 8716, '경쟁심': 8717, '분량': 8718, '분개': 8719, '교부세': 8720, '브라운관': 8721, '퇴근길': 8722, '은지원': 8723, '이세은': 8724, '창의': 8725, '요나스': 8726, '요나손': 8727, '겨루기': 8728, '카스텔라': 8729, '포크': 8730, '팔레트': 8731, '베디': 8732, '샤데': 8733, '궁중': 8734, '연회': 8735, '충': 8736, '박규완': 8737, '말문': 8738, '피격': 8739, '원천': 8740, '냄새': 8741, '크라': 8742, '매물': 8743, '철벽': 8744, '방어': 8745, '보현': 8746, '웅': 8747, '즐거움': 8748, '드립': 8749, '단짝': 8750, '외조': 8751, '털기': 8752, '정화': 8753, '책방': 8754, '계승': 8755, '산화': 8756, '서서': 8757, '역세': 8758, '의왕': 8759, '급행열차': 8760, '안전벨트': 8761, '과속': 8762, '미필': 8763, '김원근': 8764, '증거조사': 8765, '정시': 8766, '계통': 8767, '자유분방': 8768, '비빔밥': 8769, '월즈': 8770, '바이퍼': 8771, '박도현': 8772, '스탠딩': 8773, '풍미': 8774, '된장국': 8775, '껌': 8776, '도지': 8777, '연작': 8778, '임경희': 8779, '퍼퓸': 8780, '이아이': 8781, '호라이즌': 8782, '포비': 8783, '핫뉴스': 8784, '산울림': 8785, '선릉역': 8786, '정상태': 8787, '세상사': 8788, '김대건': 8789, '원행': 8790, '한선': 8791, '어웨이크': 8792, '김서환': 8793, '윤재호': 8794, '문답': 8795, '셀카': 8796, '영동': 8797, '자계': 8798, '산골': 8799, '앵': 8800, '현진': 8801, '열연': 8802, '연회비': 8803, '실상': 8804, '장청': 8805, '총영사': 8806, '변상': 8807, '적시': 8808, '루타': 8809, '무승부': 8810, '발레리나': 8811, '김현문': 8812, '티쳐': 8813, '어울림': 8814, '뱀파이어': 8815, '실효성': 8816, '구제책': 8817, '스트리트': 8818, '재일': 8819, '조선인': 8820, '유고': 8821, '명태': 8822, '서정성': 8823, '팬레터': 8824, '김정태': 8825, '임시완': 8826, '축의금': 8827, '봉투': 8828, '단여': 8829, '서정진': 8830, '천종윤': 8831, '공로': 8832, '금달': 8833, '라진': 8834, '신동진': 8835, '도열병': 8836, '서규석': 8837, '사한국': 8838, '야인시대': 8839, '시멘트': 8840, '순익': 8841, '황신혜': 8842, '다사': 8843, '월화': 8844, '신흥': 8845, '불우': 8846, '가정사': 8847, '양부': 8848, '심현보': 8849, '김어준': 8850, '편향성': 8851, '카펠라': 8852, '김도진': 8853, '시엔': 8854, '거점': 8855, '운동가': 8856, '예고편': 8857, '과대': 8858, '코끝': 8859, '밸': 8860, '박탈감': 8861, '권소현': 8862, '일만': 8863, '뉴질랜드': 8864, '프린지': 8865, '나주': 8866, '헌혈증': 8867, '일상복': 8868, '사송': 8869, '인맥': 8870, '마요르카': 8871, '순댓국': 8872, '패스트푸드': 8873, '징벌': 8874, '포용': 8875, '김희철': 8876, '적응': 8877, '홍상수': 8878, '김민희': 8879, '주흥철': 8880, '국산화': 8881, '표류': 8882, '오페라단': 8883, '설립': 8884, '불모': 8885, '지노': 8886, '그래미': 8887, '비틀즈': 8888, '잭슨': 8889, '동급': 8890, '김제': 8891, '검산동': 8892, '삼계탕': 8893, '페이도': 8894, '차량기지': 8895, '자편': 8896, '이충걸': 8897, '필동': 8898, '멘션': 8899, '유민': 8900, '명세빈': 8901, '해물': 8902, '피자': 8903, '누룽지': 8904, '카나페': 8905, '연유': 8906, '김결': 8907, '허울': 8908, '눈독': 8909, '무용': 8910, '품작': 8911, '소프라노': 8912, '정아영': 8913, '귀국': 8914, '허태정': 8915, '심순': 8916, '낙점': 8917, '무인점포': 8918, '진옥동': 8919, '서울패밀리': 8920, '편곡': 8921, '뒷받침': 8922, '금지곡': 8923, '반열': 8924, '모터스포츠': 8925, '랠리': 8926, '총체': 8927, '난맥': 8928, '항암제': 8929, '클라라': 8930, '넘사벽': 8931, '피지컬': 8932, '파이': 8933, '이미숙': 8934, '애씨': 8935, '아버님': 8936, '생신': 8937, '원필': 8938, '데이너': 8939, '김수영': 8940, '정인지': 8941, '라이나': 8942, '얼만데': 8943, '양진석': 8944, '최충': 8945, '섰다': 8946, '김준형': 8947, '개최지': 8948, '미스틱': 8949, '진성준': 8950, '울주군': 8951, '매립': 8952, '바르': 8953, '재취업': 8954, '수용자': 8955, '관행': 8956, '상간자': 8957, '침입': 8958, '소형차': 8959, '가삼현': 8960, '우려감': 8961, '국립대': 8962, '무자비': 8963, '코디': 8964, '화신': 8965, '이봉주': 8966, '허리': 8967, '아유미': 8968, '조항우': 8969, '박호산': 8970, '군통': 8971, '감나무': 8972, '집계': 8973, '고흥': 8974, '아투': 8975, '욕심쟁이': 8976, '터프': 8977, '김동하': 8978, '뉴노': 8979, '멀': 8980, '리듬': 8981, '큐티': 8982, '댄디': 8983, '스위티': 8984, '프라': 8985, '임포': 8986, '여대': 8987, '융합': 8988, '지상렬': 8989, '베스트셀러': 8990, '이재준': 8991, '인신공희': 8992, '잔혹사': 8993, '외식': 8994, '폐점': 8995, '홍재': 8996, '개포동': 8997, '이륜차': 8998, '투쟁심': 8999, '집안': 9000, '초록': 9001, '식물': 9002, '담이': 9003, '휴머니즘': 9004, '서사시': 9005, '레미제라블': 9006, '하태경': 9007, '세검': 9008, '수완': 9009, '음료': 9010, '거래일': 9011, '전철': 9012, '억불': 9013, '가평군': 9014, '조종': 9015, '지점': 9016, '간장': 9017, '뇌섹남': 9018, '심성': 9019, '파인애플': 9020, '정덕': 9021, '첩보': 9022, '대국민': 9023, '대로': 9024, '선샤인': 9025, '스냅': 9026, '팸': 9027, '유권자': 9028, '리모': 9029, '피엠': 9030, '음악극': 9031, '무법천지': 9032, '실습생': 9033, '사업장': 9034, '오버랩': 9035, '제나': 9036, '문하생': 9037, '친': 9038, '문파': 9039, '휴직': 9040, '득남': 9041, '예의': 9042, '트립': 9043, '결판': 9044, '위피': 9045, '이지혜': 9046, '이선호': 9047, '여영국': 9048, '싸이클': 9049, '필리핀': 9050, '장성': 9051, '고위직': 9052, '월여': 9053, '지하도': 9054, '날강도': 9055, '통행료': 9056, '고지서': 9057, '담원': 9058, '콜라': 9059, '보곡': 9060, '리트': 9061, '용부': 9062, '귀염': 9063, '장마철': 9064, '헤리티지': 9065, '메트로': 9066, '일자': 9067, '연상녀': 9068, '비박': 9069, '주객': 9070, '말복': 9071, '기운': 9072, '한풀': 9073, '액체': 9074, '생검': 9075, '관부': 9076, '한국관광공사': 9077, '홈피': 9078, '의사당대로': 9079, '여가': 9080, '폐지론': 9081, '블랙박스': 9082, '코세': 9083, '이완': 9084, '이보미': 9085, '매부': 9086, '원묘': 9087, '강민숙': 9088, '김준태': 9089, '리포터': 9090, '요금': 9091, '바가지': 9092, '석': 9093, '시공사': 9094, '잡음': 9095, '이득': 9096, '저커버그': 9097, '벅': 9098, '이상윤': 9099, '신랑감': 9100, '운임': 9101, '엉덩이': 9102, '시작점': 9103, '리니어': 9104, '펌': 9105, '친밀감': 9106, '정성호': 9107, '허성태': 9108, '성대모사': 9109, '급감': 9110, '호톱': 9111, '농촌': 9112, '모면': 9113, '김대희': 9114, '섭취': 9115, '단백질': 9116, '야채': 9117, '피닉스': 9118, '휴대폰': 9119, '결일': 9120, '자산관리': 9121, '신탁': 9122, '임팩트': 9123, '새만금': 9124, '국무원': 9125, '혼조': 9126, '연말연시': 9127, '신종': 9128, '우후죽순': 9129, '데버': 9130, '펠드먼': 9131, '의향': 9132, '문화일보': 9133, '모래시계': 9134, '코스모스': 9135, '여덟': 9136, '재주': 9137, '난방': 9138, '미세먼지': 9139, '청정기': 9140, '정명섭': 9141, '김래호': 9142, '서리': 9143, '상강': 9144, '불시': 9145, '불감증': 9146, '출입': 9147, '제지': 9148, '트렌트': 9149, '파스': 9150, '토일': 9151, '개념': 9152, '훌': 9153, '다둥': 9154, '졸지': 9155, '하객': 9156, '강중': 9157, '보니': 9158, '마인': 9159, '이보영': 9160, '이현욱': 9161, '극전': 9162, '넘버스': 9163, '디스플레이': 9164, '활개': 9165, '함평군': 9166, '함평': 9167, '특색': 9168, '반영': 9169, '재출': 9170, '정진': 9171, '서촌': 9172, '이남경': 9173, '통계': 9174, '겟': 9175, '조던': 9176, '칼루야': 9177, '앨리슨': 9178, '웃음꽃': 9179, '허광': 9180, '끈기': 9181, '뇌졸중': 9182, '중성': 9183, '구본': 9184, '구자기': 9185, '편법': 9186, '텍사스': 9187, '역설': 9188, '정민성': 9189, '에코': 9190, '끝내기': 9191, '만회': 9192, '로컬': 9193, '이강호': 9194, '준신': 9195, '행복감': 9196, '한정애': 9197, '탁재훈': 9198, '박정민': 9199, '아스톤': 9200, '빌라': 9201, '더글라스': 9202, '루이스': 9203, '알리샤': 9204, '레만': 9205, '거기': 9206, '인대': 9207, '교통난': 9208, '고가': 9209, '서민주택': 9210, '담쟁이': 9211, '김나영': 9212, '빨래': 9213, '도추': 9214, '식음료': 9215, '찾기': 9216, '장혜진': 9217, '연이': 9218, '탐지': 9219, '파타': 9220, '버나드': 9221, '쌤': 9222, '초딩': 9223, '고잔': 9224, '연립': 9225, '유인물': 9226, '임파서블': 9227, '사피엔스': 9228, '업적': 9229, '광전': 9230, '서일': 9231, '청바지': 9232, '발렌티노': 9233, '스에': 9234, '정태건': 9235, '오예': 9236, '윤동식': 9237, '자질': 9238, '박스오피스': 9239, '프로덕션': 9240, '재물': 9241, '캐치': 9242, '국판': 9243, '카바나': 9244, '케이카': 9245, '반추': 9246, '시드': 9247, '메드베데프': 9248, '사단': 9249, '공시': 9250, '미칼': 9251, '김선배': 9252, '신대': 9253, '귀요미': 9254, '생니': 9255, '방부제': 9256, '외유': 9257, '빈발': 9258, '민트': 9259, '비키니': 9260, '복근': 9261, '장례식': 9262, '상조': 9263, '여파': 9264, '싹쓸이': 9265, '하도': 9266, '공연장': 9267, '박용하': 9268, '소방법': 9269, '예방법': 9270, '농어민': 9271, '대만해협': 9272, '현상': 9273, '영작': 9274, '이슬': 9275, '마흔': 9276, '상존': 9277, '학계': 9278, '서평': 9279, '간염': 9280, '이종구': 9281, '김해': 9282, '빨대': 9283, '소프': 9284, '넛': 9285, '공지': 9286, '천서': 9287, '쥐띠': 9288, '절호': 9289, '뱀띠': 9290, '기대주': 9291, '오아시스': 9292, '단국': 9293, '조서희': 9294, '회진면': 9295, '홀몸': 9296, '송인서': 9297, '출판계': 9298, '생사': 9299, '대흥': 9300, '패드': 9301, '해킹': 9302, '장녀': 9303, '장남': 9304, '태풍': 9305, '저임금': 9306, '써니힐': 9307, '빛나': 9308, '정선군': 9309, '으뜸': 9310, '봉사상': 9311, '시상': 9312, '호랑나비': 9313, '역행': 9314, '목회': 9315, '자여': 9316, '도순': 9317, '복음': 9318, '김윤일': 9319, '추위': 9320, '이철우': 9321, '금오': 9322, '박정희': 9323, '박건하': 9324, '정의용': 9325, '판서': 9326, '반중': 9327, '동맹': 9328, '냉전': 9329, '사고방식': 9330, '송진우': 9331, '조은유': 9332, '제니': 9333, '애드': 9334, '복기': 9335, '된장': 9336, '임재범': 9337, '완결': 9338, '아필': 9339, '박장대소': 9340, '변정호': 9341, '조향': 9342, '최진솔': 9343, '김성준': 9344, '서지유': 9345, '전재수': 9346, '고난': 9347, '상권': 9348, '다성': 9349, '장현': 9350, '용산': 9351, '구장': 9352, '상담소': 9353, '약세': 9354, '닥': 9355, '손준성': 9356, '고발장': 9357, '동아': 9358, '이영광': 9359, '만경': 9360, '영항': 9361, '불효자식': 9362, '서부': 9363, '물류': 9364, '일반인': 9365, '실연': 9366, '구원': 9367, '분규': 9368, '순탄': 9369, '여혐': 9370, '돈벌이': 9371, '백래시': 9372, '방관': 9373, '예지': 9374, '자존심': 9375, '자전': 9376, '태리': 9377, '남주': 9378, '투헬': 9379, '열대야': 9380, '보령': 9381, '해경': 9382, '레저': 9383, '적발': 9384, '국내외': 9385, '서적': 9386, '바질': 9387, '페스': 9388, '레슬러': 9389, '유오': 9390, '청중': 9391, '검투사': 9392, '마크롱': 9393, '구로구': 9394, '건가': 9395, '진승호': 9396, '성찰': 9397, '전전': 9398, '조제': 9399, '라이프치히': 9400, '선율': 9401, '실어': 9402, '경성': 9403, '게이머': 9404, '여니': 9405, '세균': 9406, '역풍': 9407, '승유': 9408, '무단이탈': 9409, '태업': 9410, '통역사': 9411, '제거': 9412, '순경': 9413, '김진영': 9414, '바울': 9415, '본드': 9416, '이병근': 9417, '유형': 9418, '다이내믹': 9419, '댄싱': 9420, '카니발': 9421, '김지민': 9422, '코뿔소': 9423, '청산': 9424, '내숭': 9425, '터부': 9426, '손오공': 9427, '호텔신라': 9428, '악극': 9429, '여로': 9430, '대공연': 9431, '장서': 9432, '동방신기': 9433, '주재우': 9434, '일촉즉발': 9435, '정태': 9436, '소방서': 9437, '구슬땀': 9438, '푸르지오': 9439, '분통': 9440, '이란': 9441, '브라이튼': 9442, '맹비난': 9443, '박유천': 9444, '팔과': 9445, '혜리': 9446, '조경희': 9447, '취직': 9448, '송이': 9449, '나기': 9450, '겸비': 9451, '싱크홀': 9452, '손익': 9453, '분기점': 9454, '사칭': 9455, '김누리': 9456, '어답터': 9457, '조금': 9458, '마음속': 9459, '노무': 9460, '웃음바다': 9461, '교원': 9462, '임명': 9463, '디스커버리': 9464, '역모': 9465, '배틀쉽': 9466, '청각': 9467, '이다연': 9468, '스스로': 9469, '주효': 9470, '수난': 9471, '상임위': 9472, '코멕스': 9473, '친모': 9474, '피안': 9475, '휴먼': 9476, '잉글리쉬': 9477, '촬영가': 9478, '품지': 9479, '우동': 9480, '이근': 9481, '지연수': 9482, '일라이': 9483, '등현': 9484, '까지': 9485, '선종': 9486, '능가경': 9487, '잡채': 9488, '초고속': 9489, '다발': 9490, '필리': 9491, '외길': 9492, '김현민': 9493, '장민': 9494, '호란': 9495, '닥터지': 9496, '혼신': 9497, '박희': 9498, '아의': 9499, '본사': 9500, '설국': 9501, '군포': 9502, '명시': 9503, '어리': 9504, '사철': 9505, '로이터': 9506, '마누엘': 9507, '미란다': 9508, '조너선': 9509, '라슨': 9510, '몽고메리': 9511, '페레즈': 9512, '캐논': 9513, '메디': 9514, '부속': 9515, '상호': 9516, '총액': 9517, '광풍': 9518, '최상급': 9519, '감정정': 9520, '리가': 9521, '공직': 9522, '화순군': 9523, '인구': 9524, '귀향': 9525, '신데렐라': 9526, '열류': 9527, '몬스터': 9528, '필터': 9529, '컬처': 9530, '박자': 9531, '트레이드': 9532, '유오성': 9533, '각자': 9534, '헤비메탈': 9535, '척추': 9536, '관정': 9537, '방류': 9538, '지하수': 9539, '만인': 9540, '희랑': 9541, '대대': 9542, '자릿수': 9543, '명도': 9544, '미네르바': 9545, '덴': 9546, '장윤근': 9547, '티티': 9548, '쌍감': 9549, '초중': 9550, '고등': 9551, '시험': 9552, '불명예': 9553, '외접': 9554, '대북': 9555, '홍민지': 9556, '희생자': 9557, '친자': 9558, '정적': 9559, '커튼': 9560, '연극인': 9561, '도라지': 9562, '유기농': 9563, '오버롤': 9564, '아미': 9565, '베베': 9566, '윤하': 9567, '광음': 9568, '향초': 9569, '음파': 9570, '침습': 9571, '갑상선': 9572, '상감': 9573, '청자': 9574, '도공': 9575, '그릇': 9576, '택배': 9577, '무로': 9578, '경보': 9579, '납품': 9580, '문희옥': 9581, '신델': 9582, '라마': 9583, '리아신': 9584, '이미배': 9585, '신계행': 9586, '조성희': 9587, '향상': 9588, '전문직': 9589, '블루원': 9590, '세의': 9591, '알렉스': 9592, '조근제': 9593, '국립암센터': 9594, '보건부': 9595, '편작': 9596, '당대': 9597, '신의': 9598, '김주혁': 9599, '구태': 9600, '셔틀': 9601, '레드카드': 9602, '심판': 9603, '악수': 9604, '매너': 9605, '무민': 9606, '뒷말': 9607, '법조': 9608, '방위': 9609, '민재': 9610, '공화국': 9611, '원더걸스': 9612, '바디': 9613, '노가리': 9614, '장갑': 9615, '서산시': 9616, '야로': 9617, '베를린': 9618, '란도': 9619, '빛깔': 9620, '알브레히트': 9621, '발레': 9622, '남녀노소': 9623, '올라운드': 9624, '석굴암': 9625, '불국사': 9626, '해인사': 9627, '용암굴': 9628, '고인돌': 9629, '여행길': 9630, '레이더': 9631, '시카': 9632, '리프': 9633, '진자': 9634, '동서': 9635, '무리죽음': 9636, '패기': 9637, '정안': 9638, '준서': 9639, '광고판': 9640, '낯': 9641, '가려': 9642, '별로': 9643, '이상엽': 9644, '남지현': 9645, '채종': 9646, '앞바다': 9647, '금계': 9648, '정경호': 9649, '최수영': 9650, '반할': 9651, '타석': 9652, '퐁': 9653, '상어': 9654, '홍자': 9655, '한국남': 9656, '동발': 9657, '각양각색': 9658, '외출': 9659, '엄': 9660, '수리': 9661, '정재': 9662, '저도': 9663, '야경': 9664, '사이언': 9665, '게재': 9666, '오락': 9667, '선단': 9668, '체장': 9669, '유키스': 9670, '시윤': 9671, '투고': 9672, '의존': 9673, '딜레마': 9674, '공고': 9675, '선부동': 9676, '조부모': 9677, '미사': 9678, '캠퍼': 9679, '찬바람': 9680, '부니': 9681, '플리스': 9682, '테라': 9683, '메탄가스': 9684, '가중': 9685, '기후학': 9686, '박광석': 9687, '투쟁': 9688, '일괄': 9689, '접점': 9690, '권혁': 9691, '닮은꼴': 9692, '별점': 9693, '개중': 9694, '구원자': 9695, '냉장고': 9696, '축구장': 9697, '희로애락': 9698, '여보': 9699, '앤마리': 9700, '기지배': 9701, '변박': 9702, '응방': 9703, '키드니': 9704, '그릴': 9705, '에이드': 9706, '투척': 9707, '휴스턴': 9708, '곽용석': 9709, '번복': 9710, '최하점': 9711, '바이에른': 9712, '뮌헨': 9713, '스트라이커': 9714, '게르트': 9715, '뮐러': 9716, '이용찬': 9717, '이중성': 9718, '속미': 9719, '송재호': 9720, '외국환': 9721, '데일리안': 9722, '양자': 9723, '아워홈': 9724, '성형외과': 9725, '졸속': 9726, '홍진': 9727, '영위': 9728, '세그먼트': 9729, '결식아동': 9730, '기부장': 9731, '민호': 9732, '양희': 9733, '박찬민': 9734, '손범규': 9735, '최기환': 9736, '삼지연': 9737, '씨티': 9738, '권영석': 9739, '글래시': 9740, '지우기': 9741, '유발자': 9742, '지킴이': 9743, '선봉': 9744, '미스터리': 9745, '총합': 9746, '여우': 9747, '이유미': 9748, '세연': 9749, '접속자': 9750, '은우': 9751, '목덜미': 9752, '자국': 9753, '고왕': 9754, '세부': 9755, '김포시': 9756, '백마도': 9757, '보공': 9758, '건고': 9759, '소고': 9760, '남동구': 9761, '구월동': 9762, '폐건전지': 9763, '경희대병원': 9764, '공문': 9765, '규': 9766, '방사선': 9767, '단점': 9768, '호시노': 9769, '겐': 9770, '절함': 9771, '깜': 9772, '오디오': 9773, '폭격': 9774, '와카': 9775, '위화': 9776, '양석환': 9777, '한성일': 9778, '제왕': 9779, '거인': 9780, '정찬': 9781, '긴축': 9782, '발작': 9783, '부양책': 9784, '파주': 9785, '우편': 9786, '인쇄물': 9787, '지시': 9788, '벌금형': 9789, '고흥군': 9790, '싼타페': 9791, '쏘렌토': 9792, '홍수': 9793, '초토화': 9794, '온천': 9795, '재건': 9796, '다트': 9797, '강정호': 9798, '왕문': 9799, '설경구': 9800, '허준호': 9801, '조연상': 9802, '배일호': 9803, '조항조': 9804, '디보': 9805, '일생': 9806, '원산지': 9807, '옥상': 9808, '자벨': 9809, '초조': 9810, '추나요법': 9811, '환전소': 9812, '김유': 9813, '하세': 9814, '경무': 9815, '명부': 9816, '숙박업': 9817, '업주': 9818, '하늬': 9819, '윤금선': 9820, '무용단': 9821, '오정해': 9822, '협연': 9823, '대첩': 9824, '진가': 9825, '용곤': 9826, '수명': 9827, '루스': 9828, '보은군': 9829, '천기누설': 9830, '단양': 9831, '누리': 9832, '아쿠아리움': 9833, '아영': 9834, '유리구슬': 9835, '애도': 9836, '우렁': 9837, '각시': 9838, '선불': 9839, '장법': 9840, '프랭크': 9841, '시련': 9842, '이경미': 9843, '비구니': 9844, '주대': 9845, '관중석': 9846, '포수': 9847, '박세혁': 9848, '채': 9849, '진동': 9850, '한기웅': 9851, '김희정': 9852, '친딸': 9853, '사계절': 9854, '시은': 9855, '비평가': 9856, '발드': 9857, '중립인': 9858, '팜': 9859, '한화이글스': 9860, '프리미어': 9861, '양지원': 9862, '중연': 9863, '사다리': 9864, '코스닥': 9865, '사천': 9866, '추경호': 9867, '박병석': 9868, '증정식': 9869, '고문서': 9870, '김세형': 9871, '쥬얼리': 9872, '이지현': 9873, '머리숱': 9874, '잔인': 9875, '엽기': 9876, '지호': 9877, '승희': 9878, '삼행시': 9879, '문정부': 9880, '공염불': 9881, '고하승': 9882, '이방원': 9883, '박상영': 9884, '공학자': 9885, '재원': 9886, '김정미': 9887, '현대제철': 9888, '비보': 9889, '효제': 9890, '연합뉴스': 9891, '이분법': 9892, '장판': 9893, '강임': 9894, '최은주': 9895, '산모': 9896, '에세': 9897, '치히로': 9898, '옹알이': 9899, '눈웃음': 9900, '조카': 9901, '고모': 9902, '범키': 9903, '슬로건': 9904, '히틀러': 9905, '관광국': 9906, '쇄골': 9907, '오토바이': 9908, '구용': 9909, '브레이커': 9910, '소동': 9911, '이채연': 9912, '송배전망': 9913, '레퍼런스': 9914, '문빈': 9915, '박상은': 9916, '북부': 9917, '혼주': 9918, '트리': 9919, '비개': 9920, '금년': 9921, '쟈니': 9922, '주의자': 9923, '기생': 9924, '황진': 9925, '김순옥': 9926, '서귀포': 9927, '당서': 9928, '모른다': 9929, '세레': 9930, '모니': 9931, '옥택연': 9932, '입맞춤': 9933, '궁금': 9934, '대장전': 9935, '이진혁': 9936, '플리': 9937, '혜림': 9938, '로렌스': 9939, '슈나이더': 9940, '일렉트릭': 9941, '동아시아': 9942, '소양강': 9943, '요제': 9944, '흥보': 9945, '판소리': 9946, '파행': 9947, '정쟁': 9948, '이욱정': 9949, '돌알': 9950, '스릴러극': 9951, '윈터': 9952, '달상': 9953, '자루': 9954, '춤사위': 9955, '모우라': 9956, '엠버': 9957, '더': 9958, '김재영': 9959, '파국': 9960, '윤택근': 9961, '비빔': 9962, '추방': 9963, '청정': 9964, '밑그림': 9965, '김아림': 9966, '레드페이스': 9967, '아편': 9968, '꼬라지': 9969, '김혜식': 9970, '김두영': 9971, '김진웅': 9972, '딴지': 9973, '곰': 9974, '악당': 9975, '맹점': 9976, '정항': 9977, '겨울나기': 9978, '동하': 9979, '보감': 9980, '비어': 9981, '대파': 9982, '사르르': 9983, '요두': 9984, '쿠바': 9985, '연주가': 9986, '길은정': 9987, '날갯짓': 9988, '리즌': 9989, '전장': 9990, '크리스': 9991, '울진': 9992, '괄목': 9993, '기술력': 9994, '장유상': 9995, '탄도': 9996, '강도': 9997, '회룡': 9998, '감상': 9999, '킹왕짱': 10000, '윤태환': 10001, '월요': 10002, '구애': 10003, '녹음실': 10004, '우선권': 10005, '만왕': 10006, '장난': 10007, '소대장': 10008, '지휘관': 10009, '인양': 10010, '뷰어': 10011, '업자': 10012, '찬탄': 10013, '아스': 10014, '로스트': 10015, '재결': 10016, '밑거름': 10017, '느': 10018, '온스타인': 10019, '씨앗': 10020, '고마': 10021, '망명': 10022, '미만': 10023, '대학원생': 10024, '발기부전': 10025, '고지혈증': 10026, '도전기': 10027, '버킨': 10028, '전문점': 10029, '세전': 10030, '파키스탄': 10031, '유적지': 10032, '양용태': 10033, '김미영': 10034, '상액': 10035, '몰락': 10036, '주축': 10037, '생방': 10038, '재무': 10039, '학과': 10040, '판독': 10041, '외풍': 10042, '업종': 10043, '포옹': 10044, '파투': 10045, '짝꿍': 10046, '딜리버리': 10047, '애환': 10048, '시초': 10049, '떨림': 10050, '뚱딴지': 10051, '혁파': 10052, '퇴설': 10053, '베스티': 10054, '신인왕': 10055, '덕담': 10056, '랭스': 10057, '리세': 10058, '유하': 10059, '불경기': 10060, '이숙영': 10061, '차세찌': 10062, '한채아': 10063, '차범근': 10064, '발란스': 10065, '가로수길': 10066, '호수': 10067, '택호': 10068, '호반': 10069, '신스': 10070, '틸러': 10071, '조현철': 10072, '토반': 10073, '미정': 10074, '달인': 10075, '우유': 10076, '온수': 10077, '의료기': 10078, '행시': 10079, '윤희영': 10080, '차일드': 10081, '이장준': 10082, '세조': 10083, '용필': 10084, '무리뉴': 10085, '에이브러햄': 10086, '급성': 10087, '백혈병': 10088, '차베스': 10089, '스포티파이': 10090, '활판': 10091, '합보': 10092, '여지': 10093, '근': 10094, '리추': 10095, '김혁건': 10096, '장애인': 10097, '세직': 10098, '초과': 10099, '충분': 10100, '만발': 10101, '주력': 10102, '케이크': 10103, '최파': 10104, '조우진': 10105, '자손': 10106, '전담': 10107, '유입량': 10108, '차상현': 10109, '안전거리': 10110, '윤혜은': 10111, '다각화': 10112, '백호': 10113, '윤산': 10114, '하유태': 10115, '이주찬': 10116, '대사관': 10117, '하모': 10118, '조용': 10119, '코요태': 10120, '공소': 10121, '여추': 10122, '성명': 10123, '최성': 10124, '로나': 10125, '머리발': 10126, '유제': 10127, '눈시울': 10128, '잠적': 10129, '루수': 10130, '낙담': 10131, '군부': 10132, '트랜': 10133, '디렉': 10134, '터스': 10135, '감독판': 10136, '듬': 10137, '참관기': 10138, '캘리포니아': 10139, '이창민': 10140, '천명훈': 10141, '노유민': 10142, '기후대': 10143, '꽃가루': 10144, '허니': 10145, '적후': 10146, '고영배': 10147, '이태욱': 10148, '체불': 10149, '간악': 10150, '만천': 10151, '작괘천': 10152, '야영': 10153, '암울': 10154, '소방차': 10155, '인기투표': 10156, '아시니': 10157, '현명': 10158, '김해준': 10159, '부끄': 10160, '뚱': 10161, '분간': 10162, '저마다': 10163, '비료': 10164, '버벌진트': 10165, '공영제': 10166, '종점': 10167, '부안군': 10168, '공영': 10169, '빈센트': 10170, '정전': 10171, '국인': 10172, '상의': 10173, '삼성생명': 10174, '정희철': 10175, '연패': 10176, '부상자': 10177, '온누리': 10178, '다승': 10179, '약대': 10180, '뇌': 10181, '허불': 10182, '교학': 10183, '술상': 10184, '팔리': 10185, '문헌': 10186, '마성': 10187, '갈망': 10188, '외교부': 10189, '대변인': 10190, '후반기': 10191, '입국': 10192, '윤상근': 10193, '맥락': 10194, '트러스트': 10195, '관세': 10196, '대국': 10197, '우대': 10198, '근거리': 10199, '매칭': 10200, '에피': 10201, '반주': 10202, '동안미녀': 10203, '레이몽': 10204, '아롱': 10205, '노영희': 10206, '사이다': 10207, '우상호': 10208, '농지': 10209, '이은상': 10210, '시댁': 10211, '박은석': 10212, '로건': 10213, '브런치': 10214, '명분': 10215, '현대로템': 10216, '매튜': 10217, '페퍼': 10218, '저축': 10219, '범조': 10220, '굴리': 10221, '탄로': 10222, '덕아웃': 10223, '플레': 10224, '알찬': 10225, '주만': 10226, '캐롤': 10227, '기기': 10228, '순설': 10229, '렘': 10230, '윤하야나': 10231, '딸기': 10232, '한수정': 10233, '스타디움': 10234, '실습': 10235, '담보': 10236, '성동일': 10237, '김희원': 10238, '박소': 10239, '삼공사': 10240, '문성곤': 10241, '이재도': 10242, '배종찬': 10243, '대반': 10244, '권숙': 10245, '타계': 10246, '조주': 10247, '이용빈': 10248, '나나': 10249, '어록': 10250, '포터': 10251, '이건희': 10252, '송도호': 10253, '취항': 10254, '유목': 10255, '기병': 10256, '장료': 10257, '신다희': 10258, '오승아': 10259, '압력': 10260, '건가요': 10261, '쿠페': 10262, '버프': 10263, '메가톤': 10264, '너지': 10265, '미혼모': 10266, '에이즈': 10267, '차임': 10268, '세린': 10269, '협박': 10270, '이상민': 10271, '타협점': 10272, '조경태': 10273, '마치': 10274, '육박': 10275, '생물': 10276, '카본': 10277, '서곡': 10278, '숙의': 10279, '청소부': 10280, '사모곡': 10281, '염태영': 10282, '한반도기': 10283, '퇴색': 10284, '장효조': 10285, '추도': 10286, '일구회': 10287, '이우성': 10288, '체육부': 10289, '당호': 10290, '출렁다리': 10291, '대진': 10292, '전폭': 10293, '윤석': 10294, '강민아': 10295, '실업자': 10296, '전진': 10297, '노크': 10298, '뭇매': 10299, '취감': 10300, '도청도설': 10301, '전비': 10302, '청주': 10303, '하수': 10304, '무주군': 10305, '전라남도': 10306, '무쇠': 10307, '선수협': 10308, '채윤': 10309, '추경': 10310, '지양': 10311, '비엔날레': 10312, '호실': 10313, '올레': 10314, '가결': 10315, '이상돈': 10316, '신제': 10317, '해결사': 10318, '타선': 10319, '악바리': 10320, '김효종': 10321, '비상사태': 10322, '배정': 10323, '애슐리': 10324, '일주': 10325, '애호가': 10326, '권영찬': 10327, '방영': 10328, '신선': 10329, '후시': 10330, '박진규': 10331, '세법': 10332, '공소사실': 10333, '윤현준': 10334, '채성욱': 10335, '게인': 10336, '상명': 10337, '대순': 10338, '천향': 10339, '외대': 10340, '비위': 10341, '영전': 10342, '고찰': 10343, '결함': 10344, '절망': 10345, '중산': 10346, '중개료': 10347, '건당': 10348, '속승': 10349, '방점': 10350, '절개': 10351, '선비': 10352, '상징': 10353, '산야': 10354, '서양': 10355, '트릴': 10356, '이지우': 10357, '망신': 10358, '상욱': 10359, '보름달': 10360, '가해자': 10361, '향미': 10362, '이입': 10363, '하의': 10364, '수설': 10365, '디프': 10366, '가공': 10367, '의아': 10368, '거장': 10369, '커': 10370, '박시후': 10371, '신혜선': 10372, '황금빛': 10373, '기립': 10374, '스탠리': 10375, '브리지': 10376, '포트리스': 10377, '이모저모': 10378, '일산': 10379, '대통': 10380, '예견': 10381, '단골집': 10382, '레디': 10383, '오유진': 10384, '지사장': 10385, '발차기': 10386, '임시': 10387, '구력': 10388, '찻값': 10389, '김영탁': 10390, '박환희': 10391, '주지훈': 10392, '제작사': 10393, '안일': 10394, '박스터': 10395, '미성년자': 10396, '상속법': 10397, '거액': 10398, '하숙집': 10399, '이불': 10400, '민학수': 10401, '이종현': 10402, '점주': 10403, '절경': 10404, '람': 10405, '메르': 10406, '무어': 10407, '루치아': 10408, '얀센': 10409, '항체': 10410, '미월': 10411, '부스터': 10412, '타이젠': 10413, '재갈': 10414, '사냥': 10415, '오피스텔': 10416, '면적': 10417, '공군': 10418, '중사': 10419, '정대': 10420, '택': 10421, '로열': 10422, '블러드': 10423, '김성대': 10424, '음': 10425, '유익': 10426, '자행': 10427, '회무': 10428, '휠라': 10429, '케이티': 10430, '안성현': 10431, '테라스': 10432, '폐': 10433, '탐험': 10434, '소금': 10435, '따귀': 10436, '무의': 10437, '마을버스': 10438, '장예원': 10439, '윤채경': 10440, '전성현': 10441, '무기력': 10442, '김우석': 10443, '위스': 10444, '원제': 10445, '프라우드': 10446, '이데이': 10447, '헨더슨': 10448, '미묘': 10449, '종설': 10450, '시마': 10451, '이브랜드': 10452, '꽃물': 10453, '노령': 10454, '차감': 10455, '레스토랑': 10456, '포관': 10457, '민지영': 10458, '이상준': 10459, '동백': 10460, '소요': 10461, '홈페이지': 10462, '인토': 10463, '당선': 10464, '손현주': 10465, '무례': 10466, '소취': 10467, '거북': 10468, '비행기': 10469, '가득': 10470, '확립': 10471, '청출어람': 10472, '박주미': 10473, '레닌': 10474, '김현영': 10475, '홍석': 10476, '우자': 10477, '샘플': 10478, '계주': 10479, '탈시': 10480, '호출': 10481, '페이스': 10482, '기려': 10483, '발령': 10484, '차급': 10485, '윤상현': 10486, '반격': 10487, '서포트': 10488, '곰발': 10489, '박강성': 10490, '린지': 10491, '새해': 10492, '겁쟁이': 10493, '이혁': 10494, '소찬휘': 10495, '소향': 10496, '토인': 10497, '기현상': 10498, '곽동현': 10499, '박상돈': 10500, '다과상': 10501, '화요일': 10502, '박원순': 10503, '전용': 10504, '캐롯': 10505, '아나필락시스': 10506, '입금': 10507, '감원': 10508, '김성희': 10509, '논설위원': 10510, '야구부': 10511, '목마': 10512, '매거진': 10513, '설가': 10514, '추성훈': 10515, '야노시호': 10516, '하와이': 10517, '마포': 10518, '초록빛': 10519, '시간표': 10520, '사이드암': 10521, '애곡': 10522, '도매': 10523, '용서': 10524, '죄자': 10525, '두지': 10526, '최유진': 10527, '카와구치': 10528, '평시': 10529, '자이언츠': 10530, '유홍초': 10531, '가을맞이': 10532, '박령': 10533, '스트비': 10534, '과소비': 10535, '주범': 10536, '무과': 10537, '예술단': 10538, '황성연': 10539, '단원': 10540, '홀리데이': 10541, '버드': 10542, '공존': 10543, '싱커': 10544, '오케': 10545, '윤주상': 10546, '고원희': 10547, '수척': 10548, '에이지': 10549, '쿠오모': 10550, '다방면': 10551, '퍼': 10552, '포먼': 10553, '칼로리': 10554, '사임': 10555, '요코하마': 10556, '계륵': 10557, '애도사': 10558, '되풀이': 10559, '파리채': 10560, '굿모닝': 10561, '만주': 10562, '양세봉': 10563, '흉상': 10564, '조선혁명': 10565, '사령관': 10566, '숭앙': 10567, '공멸': 10568, '야구팬': 10569, '화음': 10570, '차두리': 10571, '유스': 10572, '산고': 10573, '비내': 10574, '토토': 10575, '상실': 10576, '국지': 10577, '재검토': 10578, '출몰': 10579, '헤이리': 10580, '김정': 10581, '한반도': 10582, '국수주의': 10583, '회귀': 10584, '슈즈': 10585, '향': 10586, '금쪽': 10587, '팔순': 10588, '원자탄': 10589, '초고': 10590, '용식': 10591, '체형': 10592, '라빈': 10593, '해장': 10594, '국숫집': 10595, '이원재': 10596, '키르기스스탄': 10597, '불모지': 10598, '물주': 10599, '윤가은': 10600, '항공권': 10601, '액티비티': 10602, '코딩': 10603, '화장실': 10604, '지켜줘': 10605, '테리어': 10606, '양집': 10607, '신생아': 10608, '문성': 10609, '재기': 10610, '드론': 10611, '무방비': 10612, '눈썹': 10613, '최익성': 10614, '포춘': 10615, '한국전력': 10616, '촉박': 10617, '각': 10618, '배틀러': 10619, '기념식': 10620, '생활비': 10621, '양주': 10622, '콜라주': 10623, '성준': 10624, '송승환': 10625, '선악': 10626, '식별': 10627, '기타': 10628, '신수현': 10629, '의류': 10630, '수거': 10631, '쓰레기통': 10632, '판박이': 10633, '고창군': 10634, '윤범모': 10635, '홍라희': 10636, '관장': 10637, '발전사': 10638, '정민철': 10639, '유불리': 10640, '부역': 10641, '보안법': 10642, '시한부': 10643, '견과': 10644, '별한': 10645, '식문화': 10646, '카트': 10647, '친환': 10648, '발전시설': 10649, '챔프': 10650, '얼라': 10651, '송우': 10652, '맥시멈': 10653, '문병란': 10654, '복원': 10655, '어두움': 10656, '서경': 10657, '김진균': 10658, '수협': 10659, '은행장': 10660, '모니터링': 10661, '교향곡': 10662, '브로드밴드': 10663, '리부트': 10664, '업로드': 10665, '린저': 10666, '유입': 10667, '하임': 10668, '부서': 10669, '범접': 10670, '곽병선': 10671, '요령': 10672, '이육사': 10673, '한용운': 10674, '심훈': 10675, '이상화': 10676, '조명희': 10677, '시편': 10678, '폐쇄': 10679, '항생제': 10680, '클러스터': 10681, '운함': 10682, '이투데이': 10683, '불용': 10684, '테크노스트레스': 10685, '신희': 10686, '타강': 10687, '오항': 10688, '녕': 10689, '훈민정음': 10690, '리플리': 10691, '증후군': 10692, '소문': 10693, '악귀': 10694, '조병규': 10695, '유준상': 10696, '신조': 10697, '로또': 10698, '복덩이': 10699, '소다': 10700, '사냐': 10701, '에반젤리스타': 10702, '남불': 10703, '원로': 10704, '코러스': 10705, '박찬수': 10706, '루스벨트': 10707, '이승우': 10708, '걸음마': 10709, '시구': 10710, '터미널': 10711, '칵테일': 10712, '고진감래': 10713, '국현': 10714, '미코': 10715, '신조어': 10716, '모리배': 10717, '능멸': 10718, '회식': 10719, '미식가': 10720, '북촌': 10721, '프리랜서': 10722, '습격': 10723, '소아': 10724, '시박': 10725, '안주머니': 10726, '오바마': 10727, '클린턴': 10728, '아이덴티티': 10729, '브리지스톤': 10730, '논쟁자': 10731, '영업자': 10732, '임신자': 10733, '입상': 10734, '조성관': 10735, '엘튼': 10736, '다이애나': 10737, '경쟁자': 10738, '이기면': 10739, '연서': 10740, '원수': 10741, '대입': 10742, '최산': 10743, '셔츠': 10744, '제소': 10745, '오클랜드': 10746, '마이너': 10747, '마돈나': 10748, '쾌조': 10749, '매가': 10750, '이비': 10751, '파트라': 10752, '구척장신': 10753, '김서정': 10754, '종로구': 10755, '백석': 10756, '고마리': 10757, '한나나': 10758, '비브': 10759, '론': 10760, '위생법': 10761, '평년': 10762, '올가을': 10763, '후계자': 10764, '적료': 10765, '순매도': 10766, '명유': 10767, '영철': 10768, '스탁': 10769, '덜': 10770, '체감': 10771, '이은': 10772, '공주병': 10773, '대장암': 10774, '아데나': 10775, '프리드먼': 10776, '알파카': 10777, '구사일생': 10778, '청소기': 10779, '오브제': 10780, '올인원': 10781, '먼지': 10782, '물청소': 10783, '자동': 10784, '의협': 10785, '혈액': 10786, '초신성': 10787, '일거수일투족': 10788, '부적응': 10789, '메아리': 10790, '김한호': 10791, '다원': 10792, '휘영': 10793, '자충수': 10794, '경솔': 10795, '분관': 10796, '헤드윅': 10797, '관리자': 10798, '류세라': 10799, '피처': 10800, '최진영': 10801, '가비엔제이': 10802, '장희영': 10803, '창일': 10804, '닛산': 10805, '호유': 10806, '네이마르': 10807, '레이나': 10808, '능통': 10809, '팰리스': 10810, '모터보트': 10811, '회춘': 10812, '독기': 10813, '인간미': 10814, '오리지날': 10815, '신전': 10816, '성분': 10817, '국비': 10818, '반납': 10819, '코끼리': 10820, '물리학': 10821, '호야': 10822, '하정우': 10823, '전말': 10824, '대황': 10825, '현조': 10826, '팀제': 10827, '양평': 10828, '히든': 10829, '댄': 10830, '타이브레이크': 10831, '거두': 10832, '클로': 10833, '이도희': 10834, '이시이': 10835, '통역': 10836, '이용한': 10837, '훼방': 10838, '대답': 10839, '양양': 10840, '약자': 10841, '일방': 10842, '유일무이': 10843, '긴긴밤': 10844, '파생': 10845, '페멕스': 10846, '콩나물': 10847, '목발': 10848, '박경수': 10849, '곽순': 10850, '유와': 10851, '남여': 10852, '모액': 10853, '바사': 10854, '사냥꾼': 10855, '다큐멘터리': 10856, '비대위': 10857, '빙시': 10858, '사이드': 10859, '스쿼드': 10860, '갤': 10861, '피날': 10862, '다년': 10863, '장중': 10864, '사자': 10865, '팀킬': 10866, '옆집': 10867, '설도': 10868, '식유': 10869, '윤혜진': 10870, '토슈즈': 10871, '허재': 10872, '보양': 10873, '박정림': 10874, '저리': 10875, '저소득층': 10876, '혁진': 10877, '상임': 10878, '겸직': 10879, '야수': 10880, '공격력': 10881, '최하': 10882, '집행': 10883, '발명': 10884, '아담': 10885, '드라이버': 10886, '맷': 10887, '데이먼': 10888, '이동경': 10889, '트레블': 10890, '전군표': 10891, '국세': 10892, '풋살': 10893, '청력': 10894, '화색': 10895, '중구난방': 10896, '장거리': 10897, '재래식': 10898, '핵전략': 10899, '송종국': 10900, '해발': 10901, '호두': 10902, '랩스': 10903, '양방향': 10904, '한라산': 10905, '반지하': 10906, '강재준': 10907, '아나': 10908, '윔': 10909, '그레타': 10910, '스컴': 10911, '티베트': 10912, '파견': 10913, '아리안': 10914, '페르노리카': 10915, '설탕': 10916, '첨가': 10917, '수박': 10918, '결과주의': 10919, '바이어': 10920, '미슐랭': 10921, '전미': 10922, '핸드폰': 10923, '홍원식': 10924, '공진항': 10925, '황정아': 10926, '김규철': 10927, '춘몽': 10928, '터틀': 10929, '주변기기': 10930, '장선': 10931, '누수': 10932, '문연': 10933, '수영장': 10934, '정태화': 10935, '산파역': 10936, '정동국': 10937, '판과': 10938, '카프': 10939, '근원': 10940, '원활': 10941, '설명': 10942, '배틀로얄': 10943, '이정표': 10944, '스테이트': 10945, '박종훈': 10946, '하병필': 10947, '극성팬': 10948, '다회': 10949, '억대': 10950, '능력주의': 10951, '입신양명': 10952, '김송호': 10953, '전율': 10954, '섹': 10955, '송강': 10956, '착각': 10957, '위력': 10958, '부심': 10959, '사난': 10960, '멘': 10961, '최우성': 10962, '트래블': 10963, '룰': 10964, '촉매': 10965, '매장': 10966, '에센': 10967, '시아': 10968, '연식': 10969, '전동': 10970, '보드': 10971, '피땀': 10972, '건축재': 10973, '전반전': 10974, '선제골': 10975, '환경재단': 10976, '무등': 10977, '안전장치': 10978, '저성장': 10979, '삼매경': 10980, '행정명령': 10981, '양친': 10982, '대타협': 10983, '산다라': 10984, '아아': 10985, '배식': 10986, '필라델피아': 10987, '식서': 10988, '재택': 10989, '간판': 10990, '명성': 10991, '댁': 10992, '김승일': 10993, '장밋빛': 10994, '동연': 10995, '윤혜정': 10996, '주현': 10997, '선글라스': 10998, '터리': 10999, '치악산': 11000, '둘레길': 11001, '방지법': 11002, '윈도': 11003, '정종순': 11004, '오니': 11005, '호이': 11006, '안창림': 11007, '욕망': 11008, '용가': 11009, '미수': 11010, '각지': 11011, '유재': 11012, '유니크': 11013, '연정': 11014, '맥기니스': 11015, '제수씨': 11016, '김소니아': 11017, '선례': 11018, '특화': 11019, '산업단지': 11020, '해바라기': 11021, '근속': 11022, '구자근': 11023, '몽드': 11024, '현대홈쇼핑': 11025, '이수영': 11026, '파이낸셜': 11027, '배영만': 11028, '이유애린': 11029, '왕지혜': 11030, '이혼남': 11031, '소폭': 11032, '미하엘': 11033, '슈마허': 11034, '기담': 11035, '홀리다': 11036, '이동규': 11037, '김보경': 11038, '김용우': 11039, '울프': 11040, '크로니클': 11041, '로스터': 11042, '밍': 11043, '케': 11044, '팥': 11045, '찐빵': 11046, '승무원': 11047, '재질': 11048, '광고주': 11049, '종신': 11050, '자필': 11051, '플라잉': 11052, '오종혁': 11053, '신혼집': 11054, '앞집': 11055, '만필': 11056, '김주연': 11057, '자폐증': 11058, '템플': 11059, '그랜딘': 11060, '크레디트': 11061, '주현미': 11062, '구련': 11063, '세미콜론': 11064, '납': 11065, '역차별': 11066, '젖': 11067, '대유행': 11068, '청량감': 11069, '납부': 11070, '배재정': 11071, '계파': 11072, '합의금': 11073, '이용구': 11074, '등산': 11075, '유전자': 11076, '로버타': 11077, '플랙': 11078, '피보': 11079, '브라이슨': 11080, '딸라': 11081, '학창': 11082, '미로': 11083, '스스': 11084, '본안': 11085, '정홍': 11086, '식종': 11087, '귀농': 11088, '박태': 11089, '원태연': 11090, '정소': 11091, '무용가': 11092, '수건춤': 11093, '탐구생활': 11094, '구직': 11095, '수당': 11096, '다중': 11097, '업소': 11098, '모르쇠': 11099, '유사시': 11100, '인명': 11101, '호가': 11102, '이국주': 11103, '툴': 11104, '유격수': 11105, '타이거즈': 11106, '예담': 11107, '사찰': 11108, '던전': 11109, '디자이너': 11110, '말잔치': 11111, '연남동': 11112, '서교동': 11113, '마포구': 11114, '상업': 11115, '보디빌더': 11116, '공황': 11117, '박선주': 11118, '후폭풍': 11119, '항목': 11120, '이경전': 11121, '경희대': 11122, '양씨': 11123, '닭살': 11124, '위탁': 11125, '신동재': 11126, '격분': 11127, '실거': 11128, '세입자': 11129, '동의': 11130, '제일제당': 11131, '이디야': 11132, '사슴': 11133, '레몬': 11134, '밀리언': 11135, '스윙': 11136, '수생': 11137, '임상': 11138, '영양사': 11139, '협조': 11140, '피치': 11141, '이동준': 11142, '만끽': 11143, '돌고래': 11144, '빈티지': 11145, '바캉스': 11146, '관제': 11147, '강준만': 11148, '직설': 11149, '독식': 11150, '툴루즈': 11151, '어학': 11152, '카세': 11153, '레빌': 11154, '발원지': 11155, '윤동섭': 11156, '연세대': 11157, '중공군': 11158, '미화': 11159, '남중': 11160, '발만': 11161, '위험천만': 11162, '사회장': 11163, '내음': 11164, '권력': 11165, '일행': 11166, '임산부': 11167, '니시코리': 11168, '연표': 11169, '오즈마': 11170, '호랑이': 11171, '온몸': 11172, '텐션': 11173, '두타산': 11174, '두타': 11175, '마사': 11176, '뒤통수': 11177, '김혜선': 11178, '김민호': 11179, '고건': 11180, '로망': 11181, '찌꺼기': 11182, '연필': 11183, '국성': 11184, '학파': 11185, '쾌거': 11186, '체력': 11187, '방전': 11188, '최승재': 11189, '망라': 11190, '선거구': 11191, '획정': 11192, '증원': 11193, '축전': 11194, '은메달': 11195, '갈라': 11196, '불시착': 11197, '모기': 11198, '역습': 11199, '나태': 11200, '엄수': 11201, '이유식': 11202, '생일상': 11203, '원빈': 11204, '섭외': 11205, '이정현': 11206, '신정': 11207, '일군': 11208, '료모': 11209, '아와': 11210, '주호민': 11211, '어음': 11212, '자금난': 11213, '심화': 11214, '가석방': 11215, '약재': 11216, '계선': 11217, '베이징': 11218, '교문': 11219, '보헤미안': 11220, '로브': 11221, '용형': 11222, '학자금': 11223, '슈퍼맨': 11224, '괴력': 11225, '슈팅': 11226, '브라질': 11227, '백인': 11228, '우월주의': 11229, '소굴': 11230, '잠입': 11231, '극단주의': 11232, '한낮': 11233, '최진리': 11234, '과천': 11235, '대토': 11236, '회서': 11237, '정일우': 11238, '신현승': 11239, '대디': 11240, '버블시스터즈': 11241, '김건모': 11242, '모범택시': 11243, '카투사': 11244, '돌기와': 11245, '이탈리아': 11246, '최용준': 11247, '장현철': 11248, '문동주': 11249, '초등학교': 11250, '꾸러기': 11251, '수장': 11252, '심정': 11253, '지약': 11254, '명년': 11255, '인천항': 11256, '위스키': 11257, '김일주': 11258, '물리치료': 11259, '월급제': 11260, '시무': 11261, '리우': 11262, '아콰': 11263, '피나': 11264, '단서': 11265, '오산천': 11266, '전기뱀장어': 11267, '황인경': 11268, '강속구': 11269, '개그우먼': 11270, '스코어러': 11271, '크리에이터': 11272, '분방': 11273, '왕눈이': 11274, '두리': 11275, '만장일치': 11276, '보름': 11277, '공사비': 11278, '일취월장': 11279, '드럼': 11280, '사자후': 11281, '위원단': 11282, '혼선': 11283, '세미파이널': 11284, '복병': 11285, '기침': 11286, '먹통': 11287, '제보': 11288, '직감': 11289, '헤이': 11290, '앙숙': 11291, '신우식': 11292, '성체': 11293, '바바': 11294, '온과': 11295, '스톡옵션': 11296, '웹젠': 11297, '송영': 11298, '덕조': 11299, '준범': 11300, '녹십자': 11301, '이현정': 11302, '강금실': 11303, '외치': 11304, '김난도': 11305, '준우': 11306, '태형': 11307, '컴프레서': 11308, '저변': 11309, '시일': 11310, '창속': 11311, '최종회': 11312, '스마': 11313, '도둑': 11314, '미용실': 11315, '노고': 11316, '집중력': 11317, '빈손': 11318, '패닉': 11319, '유념': 11320, '초아': 11321, '분열': 11322, '이지은': 11323, '여진구': 11324, '김하준': 11325, '셰익스피어': 11326, '설레': 11327, '창조': 11328, '타의': 11329, '추종': 11330, '불허': 11331, '플릭스': 11332, '생존자': 11333, '김상진': 11334, '문지영': 11335, '리사이틀': 11336, '김태균': 11337, '속물': 11338, '한상덕': 11339, '금요': 11340, '이동순': 11341, '잔향': 11342, '갤럽': 11343, '영미': 11344, '가위바위보': 11345, '고뇌': 11346, '리원': 11347, '민애경': 11348, '수석교사': 11349, '본교': 11350, '진아': 11351, '내연': 11352, '혼미': 11353, '방화복': 11354, '체납자': 11355, '유치장': 11356, '감치': 11357, '교부': 11358, '발효': 11359, '반년': 11360, '전해성': 11361, '발신': 11362, '파멸': 11363, '수향': 11364, '원씨': 11365, '기싸움': 11366, '팔색조': 11367, '크레이크': 11368, '레거시': 11369, '정영주': 11370, '김호영': 11371, '우리금융그룹': 11372, '제작자': 11373, '최준선': 11374, '올가': 11375, '김경일': 11376, '스케줄': 11377, '숙박업소': 11378, '박경태': 11379, '외로움': 11380, '빈주': 11381, '대견': 11382, '상한가': 11383, '김보라': 11384, '태명': 11385, '공주시': 11386, '퀴즈쇼': 11387, '입연': 11388, '장혁': 11389, '증언': 11390, '천식': 11391, '유니클로': 11392, '상하': 11393, '농원': 11394, '콩떡': 11395, '잔멸': 11396, '이정동': 11397, '축적': 11398, '사핀': 11399, '해리포터': 11400, '이상언': 11401, '김만배': 11402, '기각': 11403, '무능': 11404, '역전승': 11405, '저지': 11406, '스코어': 11407, '백과사전': 11408, '연재': 11409, '진교': 11410, '정수라': 11411, '온난': 11412, '야권': 11413, '더듬이': 11414, '운행': 11415, '세차': 11416, '최병철': 11417, '이성희': 11418, '노포': 11419, '진세연': 11420, '대탈출': 11421, '호황': 11422, '업사': 11423, '무조': 11424, '팟': 11425, '준척': 11426, '복용': 11427, '학개': 11428, '고승범': 11429, '상보': 11430, '중학교': 11431, '교': 11432, '학연': 11433, '삼립': 11434, '신념': 11435, '음식물': 11436, '세척': 11437, '도년': 11438, '운집': 11439, '안드로이드': 11440, '세출': 11441, '김동관': 11442, '부문장': 11443, '기념행사': 11444, '천연기념물': 11445, '진돗개': 11446, '백색가전': 11447, '유색': 11448, '보닛': 11449, '생활관': 11450, '광주광역시': 11451, '증진': 11452, '전달식': 11453, '심재용': 11454, '체육상': 11455, '박초롱': 11456, '김홍남': 11457, '하승진': 11458, '천이슬': 11459, '마우스': 11460, '수트': 11461, '태세': 11462, '웰스': 11463, '권순일': 11464, '박혜원': 11465, '남부': 11466, '경식': 11467, '거제': 11468, '당부': 11469, '무법자': 11470, '존엄성': 11471, '문장': 11472, '열도': 11473, '설기현': 11474, '미소년': 11475, '파랑새': 11476, '체온': 11477, '논단': 11478, '보험법': 11479, '해상': 11480, '고지': 11481, '워런': 11482, '마니산': 11483, '제사': 11484, '변천': 11485, '단군': 11486, '다완': 11487, '불면증': 11488, '김지운': 11489, '이선균': 11490, '오리': 11491, '재정부': 11492, '밀양시': 11493, '체류': 11494, '김종인': 11495, '임안': 11496, '무등산': 11497, '백일장': 11498, '이수인': 11499, '탁계석': 11500, '평론가': 11501, '추도사': 11502, '직위': 11503, '감액': 11504, '리투아니아': 11505, '단교': 11506, '대인배': 11507, '출사': 11508, '표조': 11509, '투초': 11510, '대석': 11511, '개인정보': 11512, '퇴': 11513, '저점': 11514, '찐만두': 11515, '남기남': 11516, '정훈': 11517, '단시간': 11518, '조리': 11519, '요알': 11520, '외야': 11521, '통지서': 11522, '도령': 11523, '환송': 11524, '홍콩': 11525, '국제기구': 11526, '내정': 11527, '간섭': 11528, '현정택': 11529, '세상보기': 11530, '빚잔치': 11531, '재확인': 11532, '버크셔': 11533, '건강보험공단': 11534, '극대': 11535, '이민영': 11536, '김영록': 11537, '경영인': 11538, '어업': 11539, '운항': 11540, '아홉': 11541, '대모': 11542, '에인절스': 11543, '보이즈': 11544, '담소': 11545, '김길원': 11546, '박제균': 11547, '이상주': 11548, '분취': 11549, '인기리': 11550, '로데이': 11551, '관경': 11552, '집중포화': 11553, '투항': 11554, '간밤': 11555, '칭상': 11556, '리밋': 11557, '수퍼스타': 11558, '감사용': 11559, '크로스오버': 11560, '돌핀스': 11561, '채식': 11562, '데스크톱': 11563, '엘제이': 11564, '송호범': 11565, '회동': 11566, '이장': 11567, '생체': 11568, '파지': 11569, '면역력': 11570, '특징': 11571, '원자재': 11572, '급등': 11573, '일보': 11574, '신춘문예': 11575, '소설가': 11576, '김승옥': 11577, '조절': 11578, '제스처': 11579, '대군': 11580, '손우현': 11581, '환율': 11582, '망가': 11583, '트린': 11584, '충실': 11585, '독살': 11586, '불가리아': 11587, '부패': 11588, '신생': 11589, '비관': 11590, '노심초사': 11591, '아이언맨': 11592, '박철우': 11593, '대실': 11594, '코리안': 11595, '최윤수': 11596, '나만': 11597, '유키': 11598, '이상국': 11599, '레사': 11600, '권력자': 11601, '페북': 11602, '홍현희': 11603, '로스쿨': 11604, '수기': 11605, '경산시': 11606, '신속': 11607, '내면': 11608, '벡터': 11609, '항공기': 11610, '손바닥': 11611, '표자': 11612, '궤변': 11613, '양경수': 11614, '석방': 11615, '압축': 11616, '준법': 11617, '배꼽': 11618, '엔지니어링': 11619, '과금': 11620, '콘센트': 11621, '숲길': 11622, '정일근': 11623, '링스': 11624, '버블': 11625, '오만': 11626, '밸런스': 11627, '민지': 11628, '손짓': 11629, '악동': 11630, '쇼트커트': 11631, '엄친': 11632, '강유미': 11633, '일치': 11634, '엔': 11635, '브금': 11636, '바르다': 11637, '연골': 11638, '줄기세포': 11639, '야외': 11640, '중구': 11641, '청렴': 11642, '이원영': 11643, '김성환': 11644, '민형배': 11645, '허영': 11646, '김남주': 11647, '김승우': 11648, '영재': 11649, '그곳': 11650, '아들딸': 11651, '패럴림픽': 11652, '배상액': 11653, '실익': 11654, '국학': 11655, '국학원': 11656, '용감한형제': 11657, '송파구': 11658, '유린': 11659, '강수': 11660, '엑스레이': 11661, '우원': 11662, '미나미': 11663, '무더기': 11664, '볼넷': 11665, '지헌': 11666, '브러시': 11667, '검색어': 11668, '동종': 11669, '진피': 11670, '이식술': 11671, '힘줄': 11672, '변성': 11673, '약진': 11674, '마스터슬레이브': 11675, '자민': 11676, '문사': 11677, '최우혁': 11678, '기년': 11679, '학점제': 11680, '교직': 11681, '위연': 11682, '곡성': 11683, '무풍지대': 11684, '산청군': 11685, '개실': 11686, '부나': 11687, '정익진': 11688, '핸섬': 11689, '클루니': 11690, '복장': 11691, '규탄': 11692, '빈부': 11693, '피임법': 11694, '꺼': 11695, '렛': 11696, '니지': 11697, '에디': 11698, '브룩': 11699, '심비': 11700, '오트': 11701, '좌충우돌': 11702, '동방': 11703, '렌즈': 11704, '접대': 11705, '책임자': 11706, '이광호': 11707, '한시': 11708, '인원': 11709, '예대': 11710, '심상훈': 11711, '금상첨화': 11712, '이병률': 11713, '너머': 11714, '귀스타브': 11715, '건수': 11716, '만삼': 11717, '클리스': 11718, '람보르기니': 11719, '우루스': 11720, '나래': 11721, '소아암': 11722, '환우': 11723, '항성': 11724, '달란트': 11725, '서방': 11726, '이주민': 11727, '급성장': 11728, '내실': 11729, '김승연': 11730, '한화그룹': 11731, '단합': 11732, '갤러리': 11733, '애프터눈': 11734, '김아미': 11735, '김희수': 11736, '일극': 11737, '윤지운': 11738, '파한집': 11739, '궁사': 11740, '솔라': 11741, '담양': 11742, '졸업식': 11743, '비욘세': 11744, '니트': 11745, '단결력': 11746, '신원호': 11747, '쥬라기': 11748, '콘스탄틴': 11749, '알포인트': 11750, '린이': 11751, '김원중': 11752, '서울문화재단': 11753, '서교': 11754, '텀블러': 11755, '김민준': 11756, '강성민': 11757, '잠수함': 11758, '활공': 11759, '부산진구': 11760, '행나무': 11761, '프리마': 11762, '켓': 11763, '신포동': 11764, '자분': 11765, '장미': 11766, '서기': 11767, '경제난': 11768, '고소득': 11769, '인체': 11770, '용시': 11771, '험결': 11772, '박민': 11773, '에반': 11774, '게리온': 11775, '현복': 11776, '광양': 11777, '역점': 11778, '턴': 11779, '대항마': 11780, '카이엔': 11781, '뉘': 11782, '부르크': 11783, '산더미': 11784, '적자': 11785, '김은혜': 11786, '머슴': 11787, '중실': 11788, '집약': 11789, '재생지': 11790, '보호사': 11791, '미심': 11792, '격투': 11793, '아사쿠라': 11794, '금일봉': 11795, '공진': 11796, '웨이브': 11797, '여건': 11798, '드리': 11799, '교인': 11800, '일문': 11801, '초밥왕': 11802, '초밥': 11803, '애드리브': 11804, '버즈': 11805, '색상': 11806, '큐레이션': 11807, '음압': 11808, '사명감': 11809, '제언': 11810, '축물': 11811, '법령': 11812, '국채': 11813, '그건': 11814, '한화건설': 11815, '힙스터': 11816, '성량': 11817, '석귀': 11818, '수만': 11819, '피오': 11820, '차승훈': 11821, '우승컵': 11822, '간경': 11823, '팔달': 11824, '소나기': 11825, '남양': 11826, '다툼': 11827, '양현석': 11828, '송골매': 11829, '전도사': 11830, '청담': 11831, '식사': 11832, '고객감동': 11833, '프로게이머': 11834, '사개': 11835, '안톤': 11836, '홉': 11837, '강설': 11838, '민조': 11839, '이시현': 11840, '김나윤': 11841, '농축': 11842, '청탁': 11843, '최규성': 11844, '러스트': 11845, '저주': 11846, '김수철': 11847, '페더급': 11848, '월장': 11849, '재수생': 11850, '오정연': 11851, '리어': 11852, '막공': 11853, '간직': 11854, '비크': 11855, '서편제': 11856, '오정': 11857, '아역': 11858, '행렬': 11859, '세울': 11860, '상욕': 11861, '적어': 11862, '훈정': 11863, '민성': 11864, '오차': 11865, '가객': 11866, '지지층': 11867, '골머리': 11868, '체포': 11869, '사형': 11870, '요기': 11871, '뎅이': 11872, '김성재': 11873, '재소': 11874, '환부': 11875, '달초': 11876, '식빵': 11877, '신효범': 11878, '박선영': 11879, '강원도': 11880, '불세출': 11881, '세모': 11882, '베이스': 11883, '잠식': 11884, '김산': 11885, '장철': 11886, '카르다노': 11887, '설립자': 11888, '수의사': 11889, '분쟁': 11890, '양봉': 11891, '핑클': 11892, '이진': 11893, '김소현': 11894, '김한나': 11895, '서태건': 11896, '코로나도': 11897, '염두': 11898, '반칙': 11899, '미각': 11900, '정종현': 11901, '모태범': 11902, '권아솔': 11903, '진윤': 11904, '시드니': 11905, '통학': 11906, '뜬금': 11907, '첫선': 11908, '주담': 11909, '왕서': 11910, '구독': 11911, '여유': 11912, '못': 11913, '고충': 11914, '교감': 11915, '중국집': 11916, '고깃집': 11917, '콕': 11918, '살인죄': 11919, '태영': 11920, '계열': 11921, '폭리': 11922, '당일': 11923, '충주': 11924, '서재진': 11925, '아베': 11926, '진료비': 11927, '함은정': 11928, '릴': 11929, '양다리': 11930, '전곡': 11931, '성명서': 11932, '결자해지': 11933, '새아버지': 11934, '일대기': 11935, '김나정': 11936, '산타': 11937, '현대미': 11938, '술제': 11939, '방한': 11940, '부사': 11941, '장망': 11942, '조석': 11943, '견명': 11944, '찰': 11945, '하이코': 11946, '전유진': 11947, '플리즈': 11948, '불금': 11949, '헌의': 11950, '습득': 11951, '고체': 11952, '초소형': 11953, '김평호': 11954, '팍': 11955, '이미자': 11956, '누락': 11957, '홍빈': 11958, '설레발': 11959, '문신': 11960, '잉글랜드': 11961, '얼터너티브': 11962, '아디오스': 11963, '오디': 11964, '김상희': 11965, '임창제': 11966, '현숙': 11967, '공훈': 11968, '개사': 11969, '체재': 11970, '샷다': 11971, '장철민': 11972, '해우소': 11973, '뜨락': 11974, '정동환': 11975, '연주': 11976, '경주시': 11977, '동물보호': 11978, '전희': 11979, '서재': 11980, '스마트폰': 11981, '판결문': 11982, '비공개': 11983, '밀실': 11984, '임윤아': 11985, '코레': 11986, '네트': 11987, '웍스': 11988, '부응': 11989, '대가야': 11990, '벨트': 11991, '부흥': 11992, '전력투구': 11993, '이종': 11994, '종편': 11995, '그늘': 11996, '갱년기': 11997, '미란': 11998, '컨소시엄': 11999, '클로이': 12000, '패리스': 12001, '힐튼': 12002, '수령': 12003, '의구심': 12004, '채리나': 12005, '홍성흔': 12006, '김가영': 12007, '캐스터': 12008, '만수': 12009, '쌍두마차': 12010, '오페레타': 12011, '박쥐': 12012, '비평': 12013, '결투': 12014, '나무숲': 12015, '한유미': 12016, '구공': 12017, '백지훈': 12018, '급소': 12019, '강타': 12020, '조준호': 12021, '희극': 12022, '고딩': 12023, '에미상': 12024, '병상': 12025, '하천': 12026, '강촌역': 12027, '암호': 12028, '효자동': 12029, '림랜드': 12030, '공통': 12031, '칠흑': 12032, '탄성': 12033, '천문대': 12034, '홍미희': 12035, '셴': 12036, '브룬': 12037, '궁전': 12038, '우서': 12039, '하이힐': 12040, '방조': 12041, '컴포트': 12042, '삼복': 12043, '가운데': 12044, '소꼬리': 12045, '여행지': 12046, '최윤': 12047, '피부병': 12048, '아밤': 12049, '크리에이티브': 12050, '재량권': 12051, '청사진': 12052, '치과': 12053, '자취': 12054, '슈스케': 12055, '수십억': 12056, '도구': 12057, '정몽진': 12058, '카세트': 12059, '적중': 12060, '서태훈': 12061, '경수진': 12062, '육아일': 12063, '워킹': 12064, '조충현': 12065, '반환점': 12066, '명서': 12067, '정준하': 12068, '승원': 12069, '쉽': 12070, '묘소': 12071, '참배': 12072, '가로': 12073, '하위': 12074, '강등': 12075, '이근승': 12076, '지렁': 12077, '천과': 12078, '산길': 12079, '물길': 12080, '행주산성': 12081, '잠재력': 12082, '레슨': 12083, '이재성': 12084, '호재': 12085, '숍': 12086, '릴보이': 12087, '우기': 12088, '와인': 12089, '신하': 12090, '박해민': 12091, '노우': 12092, '군인': 12093, '야홍': 12094, '효자': 12095, '김윤경': 12096, '모로': 12097, '젠': 12098, '생물학': 12099, '체어': 12100, '광역시': 12101, '여주인공': 12102, '카오': 12103, '물세': 12104, '보건소': 12105, '결과지': 12106, '이세영': 12107, '일본인': 12108, '재능기부': 12109, '이택근': 12110, '놓': 12111, '청과': 12112, '룩셈부르크': 12113, '닭고기': 12114, '정채': 12115, '실체': 12116, '다조': 12117, '조문': 12118, '세터': 12119, '현대건설': 12120, '김다인': 12121, '청양군': 12122, '한파': 12123, '물티슈': 12124, '종착지': 12125, '과도기': 12126, '심의위': 12127, '수단': 12128, '퇴소': 12129, '박하선': 12130, '삼매': 12131, '경전': 12132, '췌장암': 12133, '강애리자': 12134, '박용수': 12135, '분홍빛': 12136, '최우': 12137, '수작': 12138, '비욘': 12139, '피의자': 12140, '청취': 12141, '이집트': 12142, '보류': 12143, '지형준': 12144, '과르디올라': 12145, '김태완': 12146, '투컷': 12147, '말꼬리': 12148}\n",
      "단어 사전 개수 : 12147\n"
     ]
    }
   ],
   "source": [
    "#정수 부여\n",
    "oov_tok = '<OOV>'\n",
    "vocab_size = vocab_size\n",
    "\n",
    "tokenizer = Tokenizer(oov_token = oov_tok, num_words = vocab_size)\n",
    "tokenizer.fit_on_texts(x_train)\n",
    "print(tokenizer.word_index)\n",
    "print('단어 사전 개수 :', len(tokenizer.word_counts))"
   ]
  },
  {
   "cell_type": "code",
   "execution_count": 826,
   "id": "4566cc16",
   "metadata": {},
   "outputs": [
    {
     "name": "stdout",
     "output_type": "stream",
     "text": [
      "4059     [빅마마, 스테이, 씨, 커버, 증명, 귀환]\n",
      "11476          [하이트진로, 사랑, 김장, 김치]\n",
      "Name: title, dtype: object\n",
      "[[24, 459, 161, 366, 935, 673], [6626, 5, 3820, 845]]\n"
     ]
    }
   ],
   "source": [
    "#정수로 바꿈\n",
    "print(x_train[:2])\n",
    "train_sequences = tokenizer.texts_to_sequences(x_train)\n",
    "valid_sequences = tokenizer.texts_to_sequences(x_test)\n",
    "print(train_sequences[:2])"
   ]
  },
  {
   "cell_type": "code",
   "execution_count": 827,
   "id": "ca61d616",
   "metadata": {},
   "outputs": [
    {
     "name": "stdout",
     "output_type": "stream",
     "text": [
      "문장 최대 길이 : 16\n"
     ]
    }
   ],
   "source": [
    "max_length = max(len(x) for x in train_sequences)\n",
    "print('문장 최대 길이 :', max_length)"
   ]
  },
  {
   "cell_type": "code",
   "execution_count": 828,
   "id": "7bcd073c",
   "metadata": {},
   "outputs": [
    {
     "name": "stdout",
     "output_type": "stream",
     "text": [
      "샘플 :  [[ 24 459 161 366 935 673   0   0   0   0   0   0   0   0   0   0]]\n"
     ]
    }
   ],
   "source": [
    "# 문장 길이 맞추기 (패딩)\n",
    "trunc_type = 'post'\n",
    "padding_type = 'post'\n",
    "\n",
    "train_padded = pad_sequences(train_sequences,\n",
    "                            truncating = trunc_type,\n",
    "                            padding = padding_type,\n",
    "                            maxlen = max_length)\n",
    "\n",
    "valid_padded = pad_sequences(valid_sequences,\n",
    "                            truncating = trunc_type,\n",
    "                            padding = padding_type,\n",
    "                            maxlen = max_length)\n",
    "\n",
    "y_train = np.asarray(y_train)\n",
    "y_test = np.asarray(y_test)\n",
    "print('샘플 : ',train_padded[:1])"
   ]
  },
  {
   "cell_type": "code",
   "execution_count": 830,
   "id": "62c2ac15",
   "metadata": {},
   "outputs": [
    {
     "data": {
      "text/plain": [
       "0      싱어송라이터 라디 새 프로듀싱 싱글 Easy love 금일 발표\n",
       "1    수현온유 정인 오르막길에 우리 무대 방송 안 나가도 돼 바라던 바다\n",
       "2                    라디 싱글 화풀어 일 발매가창자는 민서\n",
       "3                 쏠 복면가왕 출연 소감 첫 예능 굉장히 떨려\n",
       "4            쏠 출연소감 첫 예능 복면가왕 굉장히 떨려 눈물날 뻔\n",
       "Name: title, dtype: object"
      ]
     },
     "execution_count": 830,
     "metadata": {},
     "output_type": "execute_result"
    }
   ],
   "source": [
    "#워드투벡 임베딩 레이어 생성을 위한 article_title 데이터 로드\n",
    "import json\n",
    "with open('./article_title3.json', 'r',encoding = 'utf8') as f:\n",
    "    json_data = json.load(f)\n",
    "\n",
    "corp = []\n",
    "for i in json_data:\n",
    "    corp.append(i['article_title'])\n",
    "\n",
    "for_train=pd.DataFrame(corp,columns=['title'])\n",
    "for_train['title'] = for_train['title'].str.replace(\"[^A-za-z가-힣ㄱ-ㅎㅏㅡㅣ ]\",\"\")\n",
    "for_train['title'].head()"
   ]
  },
  {
   "cell_type": "code",
   "execution_count": 832,
   "id": "ebbcfd5d",
   "metadata": {},
   "outputs": [
    {
     "data": {
      "text/plain": [
       "0    [싱어, 송라이터, 라디, 프로, 듀, 싱, 싱글, 금일, 발표]\n",
       "1      [수현, 온유, 정인, 오르막길, 우리, 무대, 방송, 바다]\n",
       "2              [라디, 싱글, 화, 일, 발매, 창자, 민서]\n",
       "3                 [쏠, 복면, 가왕, 출연, 소감, 예능]\n",
       "4       [쏠, 출연, 소감, 예능, 복면, 가왕, 눈물, 날, 뻔]\n",
       "Name: title, dtype: object"
      ]
     },
     "execution_count": 832,
     "metadata": {},
     "output_type": "execute_result"
    }
   ],
   "source": [
    "data2 = for_train['title'].apply(lambda x : word_tokenization(x))\n",
    "data2.head()"
   ]
  },
  {
   "cell_type": "code",
   "execution_count": 834,
   "id": "09ad8f3f",
   "metadata": {},
   "outputs": [],
   "source": [
    "#워드투벡 단어사전 생성\n",
    "from gensim.models.word2vec import Word2Vec\n",
    "\n",
    "wv = Word2Vec( sentences=data2, vector_size = 100, epochs= 100,window = 5, workers =4, min_count =1, sg =1)"
   ]
  },
  {
   "cell_type": "code",
   "execution_count": 835,
   "id": "701fd035",
   "metadata": {
    "scrolled": true
   },
   "outputs": [],
   "source": [
    "# from gensim.models.word2vec import Word2Vec\n",
    "\n",
    "# wv = Word2Vec( sentences=x_train, vector_size = 100, epochs= 100,window = 5, workers =4, min_count =1, sg =1)"
   ]
  },
  {
   "cell_type": "code",
   "execution_count": 865,
   "id": "c0d41f8d",
   "metadata": {},
   "outputs": [
    {
     "data": {
      "text/plain": [
       "(12149, 100)"
      ]
     },
     "execution_count": 865,
     "metadata": {},
     "output_type": "execute_result"
    }
   ],
   "source": [
    "# 임베딩 레이어에 주입할 임베딩 매트릭스 생성\n",
    "# 단어 집합 크기의 행과 300개의 열을 가지는 행렬 생성. 값은 전부 0으로 채워진다.\n",
    "embedding_matrix = np.zeros((vocab_size+2, 100))\n",
    "np.shape(embedding_matrix)"
   ]
  },
  {
   "cell_type": "code",
   "execution_count": 866,
   "id": "efeb2c93",
   "metadata": {},
   "outputs": [],
   "source": [
    "def get_vector(word):\n",
    "    if word in wv.wv:\n",
    "        return wv.wv[word]\n",
    "    else:\n",
    "        return None"
   ]
  },
  {
   "cell_type": "code",
   "execution_count": 867,
   "id": "a59fbb73",
   "metadata": {},
   "outputs": [],
   "source": [
    "for word, index in tokenizer.word_index.items():\n",
    "    # 단어와 맵핑되는 사전 훈련된 임베딩 벡터값\n",
    "    vector_value = get_vector(word)\n",
    "    if vector_value is not None:\n",
    "        embedding_matrix[index] = vector_value"
   ]
  },
  {
   "cell_type": "code",
   "execution_count": 868,
   "id": "b4409fb8",
   "metadata": {},
   "outputs": [
    {
     "name": "stdout",
     "output_type": "stream",
     "text": [
      "단어 음악의 정수 인덱스 : 30\n"
     ]
    }
   ],
   "source": [
    "print('단어 음악의 정수 인덱스 :', tokenizer.word_index['음악'])"
   ]
  },
  {
   "cell_type": "code",
   "execution_count": 870,
   "id": "8322d495",
   "metadata": {},
   "outputs": [
    {
     "data": {
      "text/plain": [
       "array([ True,  True,  True,  True,  True,  True,  True,  True,  True,\n",
       "        True,  True,  True,  True,  True,  True,  True,  True,  True,\n",
       "        True,  True,  True,  True,  True,  True,  True,  True,  True,\n",
       "        True,  True,  True,  True,  True,  True,  True,  True,  True,\n",
       "        True,  True,  True,  True,  True,  True,  True,  True,  True,\n",
       "        True,  True,  True,  True,  True,  True,  True,  True,  True,\n",
       "        True,  True,  True,  True,  True,  True,  True,  True,  True,\n",
       "        True,  True,  True,  True,  True,  True,  True,  True,  True,\n",
       "        True,  True,  True,  True,  True,  True,  True,  True,  True,\n",
       "        True,  True,  True,  True,  True,  True,  True,  True,  True,\n",
       "        True,  True,  True,  True,  True,  True,  True,  True,  True,\n",
       "        True])"
      ]
     },
     "execution_count": 870,
     "metadata": {},
     "output_type": "execute_result"
    }
   ],
   "source": [
    "# 인덱스 같은지 확인\n",
    "wv.wv['음악'] == embedding_matrix[30]"
   ]
  },
  {
   "cell_type": "code",
   "execution_count": 871,
   "id": "abef02ed",
   "metadata": {},
   "outputs": [
    {
     "name": "stdout",
     "output_type": "stream",
     "text": [
      "Model: \"sequential_106\"\n",
      "_________________________________________________________________\n",
      "Layer (type)                 Output Shape              Param #   \n",
      "=================================================================\n",
      "embedding_106 (Embedding)    (None, 16, 100)           1214900   \n",
      "_________________________________________________________________\n",
      "bidirectional_104 (Bidirecti (None, 16, 64)            34048     \n",
      "_________________________________________________________________\n",
      "dropout_273 (Dropout)        (None, 16, 64)            0         \n",
      "_________________________________________________________________\n",
      "dense_393 (Dense)            (None, 16, 64)            4160      \n",
      "_________________________________________________________________\n",
      "batch_normalization_272 (Bat (None, 16, 64)            256       \n",
      "_________________________________________________________________\n",
      "re_lu_221 (ReLU)             (None, 16, 64)            0         \n",
      "_________________________________________________________________\n",
      "dropout_274 (Dropout)        (None, 16, 64)            0         \n",
      "_________________________________________________________________\n",
      "dense_394 (Dense)            (None, 16, 64)            4160      \n",
      "_________________________________________________________________\n",
      "batch_normalization_273 (Bat (None, 16, 64)            256       \n",
      "_________________________________________________________________\n",
      "re_lu_222 (ReLU)             (None, 16, 64)            0         \n",
      "_________________________________________________________________\n",
      "dropout_275 (Dropout)        (None, 16, 64)            0         \n",
      "_________________________________________________________________\n",
      "dense_395 (Dense)            (None, 16, 1)             65        \n",
      "=================================================================\n",
      "Total params: 1,257,845\n",
      "Trainable params: 42,689\n",
      "Non-trainable params: 1,215,156\n",
      "_________________________________________________________________\n"
     ]
    }
   ],
   "source": [
    "# 모델 설계\n",
    "import tensorflow as tf\n",
    "from tensorflow.keras import Sequential\n",
    "from tensorflow.keras.layers import Dense, LSTM, Embedding, Bidirectional, Dropout, BatchNormalization, ReLU, LeakyReLU\n",
    "\n",
    " \n",
    "\n",
    "def create_model():\n",
    "    model = Sequential([\n",
    "        Embedding(vocab_size+2, 100,input_length=16, weights=[embedding_matrix], trainable=False),\n",
    "        Bidirectional(LSTM(32,return_sequences=True, recurrent_dropout = 0.2)),\n",
    "#         Dense(64),\n",
    "#         BatchNormalization(),\n",
    "#         ReLU(),\n",
    "        Dropout(0.3),\n",
    "        Dense(64),\n",
    "        BatchNormalization(),\n",
    "        ReLU(),\n",
    "        Dropout(0.3),\n",
    "        Dense(64),\n",
    "        BatchNormalization(),\n",
    "        ReLU(),\n",
    "        Dropout(0.3),\n",
    "        Dense(1, activation='sigmoid')\n",
    "    ])\n",
    "    model.compile(loss='binary_crossentropy', optimizer='adam', metrics=['accuracy'])\n",
    "    return model\n",
    "\n",
    "model = create_model()\n",
    "model.summary()"
   ]
  },
  {
   "cell_type": "code",
   "execution_count": 858,
   "id": "8cd482f3",
   "metadata": {},
   "outputs": [],
   "source": [
    "checkpoint_path = 'best_performed_model.ckpt'\n",
    "checkpoint = tf.keras.callbacks.ModelCheckpoint(checkpoint_path,\n",
    "                                               save_weights_only = True,\n",
    "                                               save_best_only = True,\n",
    "                                               monitor = 'val_loss',\n",
    "                                               verbose = 1)"
   ]
  },
  {
   "cell_type": "code",
   "execution_count": 859,
   "id": "1ec3fbf9",
   "metadata": {},
   "outputs": [
    {
     "name": "stdout",
     "output_type": "stream",
     "text": [
      "Epoch 1/20\n",
      "\n",
      "Epoch 00001: val_loss improved from inf to 0.69418, saving model to best_performed_model.ckpt\n",
      "84/84 - 3s - loss: 0.7460 - accuracy: 0.5049 - val_loss: 0.6942 - val_accuracy: 0.5037\n",
      "Epoch 2/20\n",
      "\n",
      "Epoch 00002: val_loss improved from 0.69418 to 0.69371, saving model to best_performed_model.ckpt\n",
      "84/84 - 3s - loss: 0.7139 - accuracy: 0.5074 - val_loss: 0.6937 - val_accuracy: 0.5088\n",
      "Epoch 3/20\n",
      "\n",
      "Epoch 00003: val_loss improved from 0.69371 to 0.68866, saving model to best_performed_model.ckpt\n",
      "84/84 - 3s - loss: 0.7001 - accuracy: 0.5254 - val_loss: 0.6887 - val_accuracy: 0.5386\n",
      "Epoch 4/20\n",
      "\n",
      "Epoch 00004: val_loss improved from 0.68866 to 0.68088, saving model to best_performed_model.ckpt\n",
      "84/84 - 3s - loss: 0.6845 - accuracy: 0.5610 - val_loss: 0.6809 - val_accuracy: 0.5662\n",
      "Epoch 5/20\n",
      "\n",
      "Epoch 00005: val_loss improved from 0.68088 to 0.66372, saving model to best_performed_model.ckpt\n",
      "84/84 - 3s - loss: 0.6621 - accuracy: 0.6008 - val_loss: 0.6637 - val_accuracy: 0.5922\n",
      "Epoch 6/20\n",
      "\n",
      "Epoch 00006: val_loss improved from 0.66372 to 0.65210, saving model to best_performed_model.ckpt\n",
      "84/84 - 3s - loss: 0.6344 - accuracy: 0.6370 - val_loss: 0.6521 - val_accuracy: 0.6104\n",
      "Epoch 7/20\n",
      "\n",
      "Epoch 00007: val_loss did not improve from 0.65210\n",
      "84/84 - 4s - loss: 0.6060 - accuracy: 0.6647 - val_loss: 0.6541 - val_accuracy: 0.6155\n",
      "Epoch 8/20\n",
      "\n",
      "Epoch 00008: val_loss did not improve from 0.65210\n",
      "84/84 - 3s - loss: 0.5787 - accuracy: 0.6893 - val_loss: 0.6574 - val_accuracy: 0.6193\n"
     ]
    }
   ],
   "source": [
    "early_stop = tf.keras.callbacks.EarlyStopping(monitor = 'val_loss', patience =2)\n",
    "\n",
    "history = model.fit(train_padded, y_train,\n",
    "                   validation_data = (valid_padded, y_test),\n",
    "                   callbacks=[early_stop, checkpoint],\n",
    "                   batch_size=128, epochs=20, verbose=2)"
   ]
  },
  {
   "cell_type": "code",
   "execution_count": 862,
   "id": "3a7cfa40",
   "metadata": {},
   "outputs": [
    {
     "data": {
      "image/png": "[encoded data removed]",
      "text/plain": [
       "<Figure size 432x288 with 1 Axes>"
      ]
     },
     "metadata": {
      "needs_background": "light"
     },
     "output_type": "display_data"
    }
   ],
   "source": [
    "# 훈련셋 검증셋 accuracy 비교\n",
    "def plot_graphs(history, metric):\n",
    "    plt.plot(history.history[metric])\n",
    "    plt.plot(history.history['val_'+metric],'')\n",
    "    plt.xlabel('epochs')\n",
    "    plt.ylabel(metric)\n",
    "    plt.legend([metric, 'val_'+metric])\n",
    "    plt.show()\n",
    "plot_graphs(history, 'accuracy')"
   ]
  },
  {
   "cell_type": "code",
   "execution_count": 863,
   "id": "9a6023c1",
   "metadata": {},
   "outputs": [
    {
     "data": {
      "image/png": "[encoded data removed]",
      "text/plain": [
       "<Figure size 432x288 with 1 Axes>"
      ]
     },
     "metadata": {
      "needs_background": "light"
     },
     "output_type": "display_data"
    }
   ],
   "source": [
    "# 훈련셋 검증셋 loss 비교\n",
    "plot_graphs(history, 'loss')"
   ]
  },
  {
   "cell_type": "markdown",
   "id": "1123afc6",
   "metadata": {},
   "source": [
    "### fasttext pre-trained 데이터 사용"
   ]
  },
  {
   "cell_type": "code",
   "execution_count": 555,
   "id": "5626b29b",
   "metadata": {},
   "outputs": [],
   "source": [
    "from gensim import models\n",
    "\n",
    "ko_model = models.fasttext.load_facebook_model('cc.ko.300.bin')"
   ]
  },
  {
   "cell_type": "code",
   "execution_count": 563,
   "id": "5cd6918c",
   "metadata": {},
   "outputs": [
    {
     "data": {
      "text/plain": [
       "[('수사하였다', 0.5473684072494507),\n",
       " ('선금으로', 0.5044214725494385),\n",
       " ('수사중이다', 0.5015312433242798),\n",
       " ('기소유예처분을', 0.4754725694656372),\n",
       " ('수사하였으나', 0.4627087116241455),\n",
       " ('정직처분을', 0.4576045870780945),\n",
       " ('입건해', 0.4500114619731903),\n",
       " ('현대차로부터', 0.4496087431907654),\n",
       " ('경찰조사를', 0.44953498244285583),\n",
       " ('청구했고', 0.4484669864177704)]"
      ]
     },
     "execution_count": 563,
     "metadata": {},
     "output_type": "execute_result"
    }
   ],
   "source": [
    "ko_model.wv.most_similar(\"뮤직카우\")"
   ]
  }
 ],
 "metadata": {
  "kernelspec": {
   "display_name": "Python 3",
   "language": "python",
   "name": "python3"
  },
  "language_info": {
   "codemirror_mode": {
    "name": "ipython",
    "version": 3
   },
   "file_extension": ".py",
   "mimetype": "text/x-python",
   "name": "python",
   "nbconvert_exporter": "python",
   "pygments_lexer": "ipython3",
   "version": "3.8.8"
  }
 },
 "nbformat": 4,
 "nbformat_minor": 5
}
