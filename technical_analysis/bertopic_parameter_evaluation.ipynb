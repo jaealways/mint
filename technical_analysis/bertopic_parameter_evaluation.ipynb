{
 "cells": [
  {
   "cell_type": "code",
   "execution_count": 54,
   "id": "d8ee6e5d",
   "metadata": {},
   "outputs": [],
   "source": [
    "import sys\n",
    "sys.path.append(\"..\")\n",
    "\n",
    "from pymongo import MongoClient\n",
    "import pandas as pd\n",
    "import numpy as np\n",
    "from data_transformation.db_env import DbEnv, db\n",
    "from data_modeling.nlp_modeling import NLPModeling\n",
    "from bertopic import BERTopic\n",
    "from datetime import datetime\n",
    "from sklearn.feature_extraction.text import CountVectorizer\n",
    "from dateutil.relativedelta import relativedelta\n",
    "from gensim.models import CoherenceModel\n",
    "from gensim.corpora import Dictionary"
   ]
  },
  {
   "cell_type": "code",
   "execution_count": 55,
   "id": "c7b0dfcd",
   "metadata": {},
   "outputs": [],
   "source": [
    "conn, cursor = DbEnv().connect_sql()\n",
    "\n",
    "sql = \"SELECT token, tag, date, doc_num FROM newssentoken WHERE artist ='%s'\" % ('뮤직카우')\n",
    "# sql = \"SELECT token, tag, date FROM newssentoken\"\n",
    "cursor.execute(sql)\n",
    "conn.commit()\n",
    "tuple_sql = cursor.fetchall()\n",
    "array_token = np.array(tuple_sql)"
   ]
  },
  {
   "cell_type": "code",
   "execution_count": 56,
   "id": "0b866bdf",
   "metadata": {
    "scrolled": true
   },
   "outputs": [],
   "source": [
    "list_token_temp = list(map(lambda x: np.asarray(x[0].split(', ')), tuple_sql))\n",
    "list_tag = list(map(lambda x: np.asarray(x[1].split(', ')), tuple_sql))\n",
    "list_token = list(map(lambda x, y: np.stack((x, y), axis=1), list_token_temp, list_tag))\n",
    "\n",
    "list_tokens = list(map(lambda x: x[(x[:, 1] == 'NNP') | (x[:, 1] == 'NNG')][:, 0].tolist(), list_token))\n",
    "list_tokens = list(map(lambda x: ' '.join(x), list_tokens))\n",
    "\n",
    "list_time = array_token[:, 2]"
   ]
  },
  {
   "cell_type": "code",
   "execution_count": 57,
   "id": "f0e9cfe5",
   "metadata": {},
   "outputs": [
    {
     "data": {
      "text/plain": [
       "['셀 럽 이슈 뮤직카우 규제 리스크 불신 뮤직카우 대표 정현경 김지수 플랫 폼 업계 시선 뮤직카우 음원 소비 팝 시장 조각 투자 저작 관 심도 음반 제작 관련자 일반',\n",
       " '돈 증권 토큰 시장 본격 개막 미래 선두 펀 블 부동산 카사 부동산 뮤직카우 음악 저작권료 미술품 분할 소유 플랫 폼 서비스 준비 이랜드 넥스트 이노 플 테사 협력 관계 구축 올해 연초 한국 정보 인증 블록체인 전문 기업',\n",
       " '선점 전쟁 서막 키움증권 초반 주도 이후 혁신 금융 서비스 지정 펀 블 부동산 카사 부동산 뮤직카우 음악 저작권료 협력 미술품 분할 소유 플랫 폼 서비스 준비 이랜드 넥스트 이노 플 테사 체결 투자처',\n",
       " '아트 테크 바람 아트 증권사 교보 증권 아트 테크 플랫 폼 테사 투자 진행 키움증권 테사 뮤직카우 업무 협약 아트 테크 사업 진출 신한 투자 증권 서울 옥션 블루 미술품 조각 투자 플랫폼 조각 투자',\n",
       " '문화 금융 생태 뮤직카우 아티스트 응원 아티스트 팬 특별 저작 공유 문화 음악 저작 대중 관심 저작 인식 개선 노력 뮤직카우 이용자 편의 즐거움 뮤직카우',\n",
       " '백전 무패 국내 상륙 애플 페이 뮤직카우 음악 저작 카사 펀 블 소유 부동산 뮤직카우 수익 증권 조각 투자 증권 형태 롤린 상장 상승 저작권료 참여 청구',\n",
       " '인터뷰 아트 지주 희 정태완 웹 첨단 서비스 소셜 플 뮤직카우 음원 카사 부동산 조각 투자 서비스 성공 지난해 조각 투자 업체 혁신 금융 서비스 신청 미술품 한우 조각 투자 투자 계약 증권 증권',\n",
       " '임창정 소주 잔 이름 소주 출시 론 제품 애정 한편 저작권료 거래 플랫 폼 뮤직카우 공개 임창정 소주 잔 곡 저작권료',\n",
       " '리 테일 키움증권 증권 토큰 시장 왕좌 키움증권 부동산 브릭 펀 블 카사 음악 저작 뮤직카우 미술품 이랜드 넥스트 테사 자체 플랫 폼 페어 스퀘어 랩 다양 분야 업체 협력 박혜진 대신 증권 연구원 키움증권 뮤직카우',\n",
       " '회원 거래 규모 음악 저작 시장 성장 뮤직카우 뮤직카우 이용자 편의 즐거움 뮤직카우 시대 예고 아티스트 응원 가수 송가인 리스 음악 특별 가치 공유',\n",
       " '토큰 증권 제도 편입 배경 의의 지난해 뮤직카우 업무 협약 전략 투자 브릭 펀 블 카사 테사 이랜드 넥스트 기업 협업 토큰 증권 유통 플랫 폼 준비 토큰 증권 제도 편입',\n",
       " '증권 토큰 허용 증권사 신규 먹거리 선점 속도전 뮤직카우 카사 펀 블 다수 블록체인 업체 업무 협약 체결 사업 준비 업계 개인 투자자 비율 키움증권 사업 유리 박혜진 대신 증권',\n",
       " '시대 개막 토큰 증권 선점 증권사 공격 경쟁 돌입 증권사 마찬가지 펀 블 카사 뮤직카우 페어 스퀘어 랩 곳 업무 협약 체결 조각 투자 플랫 폼 사업 계획 구상 키움증권 관계자 시장 선점 업무 협약 준비',\n",
       " '선점 증권사 먹거리 카사 뮤직카우 페어 스퀘어 랩 곳 업무 협약 체결 조각 투자 플랫 폼 사업 계획 본격 추진 대신 증권 플랫 폼 관련 경쟁력 제고 부동산 조각 투자 플랫 폼 카사 코리아 인수',\n",
       " '토큰 증권 합법화 증권사 먹거리 셈법 분주 지난해 뮤직카우 업무 협약 전략 투자 브릭 펀 블 카사 테사 관련 기업 협업 토큰 증권 유통 플랫 폼 준비 박 연구원 적극 회사',\n",
       " '이날 키움증권 시장 강자 조각 투자 업계 규모 뮤직카우 상환 전환 우선주 방식 투자 올해 한국 정보 인증 페어 스퀘어 랩 토큰 증권 발행 유통 플랫 폼 구축 협업 타사 협력',\n",
       " '토큰 증권 제도 편입 시장 증권 업계 먹거리 부동산 음악 저작권료 뮤직카우 미술품 테사 이랜드 넥스트 분야 관련 기업 협업 진행 기업 협업 증권 토큰 유통 플랫 폼 준비 중소형 증권사 가운데',\n",
       " '선점 경쟁 대신 먹거리 관련 업체 인수 제휴 봇 키움증권 조각 투자 플랫 폼 뮤직카우 지난해 업무 협약 전략 투자 유치 뮤직카우 이용자 키움증권 계좌 자금 예치 자산 보호 서비스 키움증권',\n",
       " '증권 토큰 증권 시장 진출 금 조각 투자 준비 키움증권 브로 커리지 강점 활용 음악 저작 판매 플랫 폼 뮤직카우 업무 협약 신한 투자 증권 투자 증권 증권 조각 투자 블록체인 사업자 협의 구축',\n",
       " '청년 투자 불안 미래 자이 낸스 조각 투자 플랫 폼 음원 저작 조각 투자 뮤직카우 뮤직카우 앱 연령 사용자 이하 비중 전체 순 뮤직카우 원저 작자 자신 곡 저작',\n",
       " '베스트 트 공모 확정 코스닥 상장 회사 하이브 펄 어비스 카카오 게임즈 초기 투자 배 이상 수익 현재 신사 블리 뮤직카우 구성 포트폴리오 보유',\n",
       " '수요 예측 흥행 물꼬 베스트 트 공모 밴드 상단 뮤직카우 블리 스탠다드 에너지 리브스 메드 신사 유니콘 발돋움 포트폴리오 다수 확보 회사 성장 잠재력 기업 초기 적극 투자 집행 선택',\n",
       " '증권사 도입 업무 협약 기업 인수 경쟁 음악 저작 판매 뮤직카우 부동산 플랫 폼 카사 펀 블 협력 이랜드 넥스트 이노 플 테사 업무 협약 체결 눈길 금융 지주 증권사 협의 체 구축 금융 지주 증권사',\n",
       " '베스트 트 이달 상장 하이브 카카오 게임즈 대표 하이브 펄 어비스 직방 카카오 게임즈 초기 투자 유니콘 기업 배 이상 수익 기록 현재 신사 블리 뮤직카우 속도 성장 넥스트',\n",
       " '업력 베 상장 중대 펀드 운용 유니콘 발굴 경쟁력 현재 회사 신사 블리 뮤직카우 속도 성장 넥스트 유니콘 포트폴리오 보유 최근 베스트 이상 중대 펀드 중점 결성 운용 난이도',\n",
       " '현미경 하이브 펄 어비스 발굴 베스트 트 코스닥 시장 노크 현재 신사 블리 뮤직카우 속도 성장 넥스트 유니콘 포트폴리오 보유 누적 투자 규모 운용 자산 규모 운용 펀드 평균',\n",
       " '범 그룹 대형 벤처 캐피탈 베스트 트 도전 조 달성 현재 신사 블리 뮤직카우 속도 성장 넥스트 유니콘 포트폴리오 보유 베스트 전자 전선 출자 설립 창업 투자 후신 베스트 트',\n",
       " '업력 범 베스트 트 상장 글로벌 벤처 명가 도약 이외 신사 뮤직카우 블리 스탠다드 에너지 랩 다양 기업 투자 중국 법인 중국 현지 기업 투자 진행 지난해 말 기준 누적 투자 펀드 운용 자산',\n",
       " '베스트 트 코스닥 상장 글로벌 벤처 투자 명가 도약 현재 신사 블리 뮤직카우 속도 성장 넥스트 유니콘 포트폴리오 보유 상장 이후 베스트 운용 펀드 보유 포트폴리오 회수',\n",
       " '베스트 트 운용 자산 조 확대 글로벌 투자 명가 도 현재 신사 블리 뮤직카우 속도 성장 넥스트 유니콘 포트폴리오 보유 베스트 트 운용 펀드 평균 내부 수익 정도',\n",
       " '베스트 트 도전 명가 도약 뮤직카우 에이 블리 잠재 후보 다수 확보 상태 펀드 운용 성과 베스트 트 운용 이상 중대 펀드 평균 내부 수익 투자 기간',\n",
       " '베스트 트 상장 도전장 글로벌 벤처 투자 명가 도약 목 현재 신사 블리 뮤직카우 속도 성장 넥스트 유니콘 포트폴리오 보유 선택 집중 전략 차별 강점 업계 최고 수준 성과 국내 최고 수준 파트너십 산업 특화',\n",
       " '박기호 베스트 트 대표 글로벌 벤처 투자 명가 도약 현재 신사 블리 뮤직카우 속도 성장 넥스트 유니콘 포트폴리오 보유 설립 창업 투자 후신 베스트 동안 국내외 유망 기업 투자',\n",
       " '베 상장 글로벌 벤처 투자 명가 도약 현재 신사 블리 뮤직카우 투자 베 지난해 분기 누적 매출액 영업 이익 연간 매출액 영업 이익 상장',\n",
       " '증시 어택 자금 조달 후 사업 고도 공모주 소개 현재 신사 블리 뮤직카우 속도 성장 넥스트 유니콘 포트폴리오 보유 이번 상장 만주 공모 주당 희망 최대 공모 예정 금액',\n",
       " '골프 회원권 동향 자산 시장 토큰 증권 도입 골프 산업 조각 투자 부동산 예술품 지적 재산 일부 금융 규제 샌드박스 예외 사업 상품 존재 뮤직카우 일부 업체 혁신 금융 서비스 지정',\n",
       " '뮤직카우 내실 깡통 실적 브레이브걸스 성공 사례 시작 뮤직카우 한국 조각 투자 열풍 혁신 내실 속 깡통 모양새 뮤직카우 공개 발라드 힙합 댄스 곡 곡 마켓',\n",
       " '강성 증권 토큰 핵심 투자 계약 증권 금융 위 뮤직카우 상품 증권 청구 판단 조건 사업자 조각 투자 수익 배분 손실 회피 경우 사업자 운영 유통 시장 성패 수익 영향 경우 조각 투자 상품 가격 상승',\n",
       " '골프 회원권 시장 동향 자산 시장 토큰 증권 이슈 골프 산업 도입 가능 논란 뮤직카우 업체 논란 법 내용 수정 혁신 금융 서비스 지정 증권 논란 음원 저작 조각 투자 상품 출시 바탕 최근 레저 업체',\n",
       " '토큰 증권 증권가 먹거리 한때 광풍 토큰 증권 국내 조각 투자 플랫 폼 뮤직카우 대표 정현경 김지수 경우 지난해 기준 누적 거래 규모 집계 유가증권 시장 시가총액 수준 음원']"
      ]
     },
     "execution_count": 57,
     "metadata": {},
     "output_type": "execute_result"
    }
   ],
   "source": [
    "list_tokens"
   ]
  },
  {
   "cell_type": "code",
   "execution_count": 62,
   "id": "45df82c6",
   "metadata": {},
   "outputs": [],
   "source": [
    "dictionary = Dictionary([doc.split() for doc in list_tokens])"
   ]
  },
  {
   "cell_type": "code",
   "execution_count": 58,
   "id": "33f146e9",
   "metadata": {},
   "outputs": [],
   "source": [
    "# topic_num = proper_topic_num()\n",
    "topic_num = round(len(list_tokens) ** 0.25)"
   ]
  },
  {
   "cell_type": "code",
   "execution_count": 59,
   "id": "5e1bf0cb",
   "metadata": {},
   "outputs": [],
   "source": [
    "vectorizer = CountVectorizer(input=list_tokens, max_features=3000)\n",
    "model = BERTopic(embedding_model=\"sentence-transformers/xlm-r-100langs-bert-base-nli-stsb-mean-tokens\", \\\n",
    "                 vectorizer_model=vectorizer, nr_topics=topic_num, top_n_words=10, calculate_probabilities=True)\n"
   ]
  },
  {
   "cell_type": "code",
   "execution_count": 75,
   "id": "214d2d02",
   "metadata": {},
   "outputs": [
    {
     "data": {
      "text/plain": [
       "<bertopic._bertopic.BERTopic at 0x1c61d7f8a00>"
      ]
     },
     "execution_count": 75,
     "metadata": {},
     "output_type": "execute_result"
    }
   ],
   "source": [
    "# topics, _ = model.fit_transform(list_tokens)\n",
    "model.fit(list_tokens)"
   ]
  },
  {
   "cell_type": "code",
   "execution_count": 87,
   "id": "12b6fdbf",
   "metadata": {},
   "outputs": [],
   "source": [
    "topics=[[x[0] for x in model.get_topic(topic)] for topic in range(len(model.get_topics()))[:-1]]"
   ]
  },
  {
   "cell_type": "code",
   "execution_count": 88,
   "id": "42a46fc4",
   "metadata": {},
   "outputs": [
    {
     "data": {
      "text/plain": [
       "[['뮤직카우', '투자', '베스트', '조각', '유니콘', '현재', '증권', '플랫', '신사', '블리'],\n",
       " ['증권', '투자', '뮤직카우', '키움증권', '토큰', '금융', '조각', '서비스', '업무', '협약']]"
      ]
     },
     "execution_count": 88,
     "metadata": {},
     "output_type": "execute_result"
    }
   ],
   "source": [
    "topics"
   ]
  },
  {
   "cell_type": "code",
   "execution_count": 91,
   "id": "8d96abbc",
   "metadata": {},
   "outputs": [],
   "source": [
    "coherence_model = CoherenceModel(\n",
    "    topics=[[x[0] for x in model.get_topic(topic)] for topic in range(len(model.get_topics()))[:-1]],    texts=[doc.split() for doc in list_tokens],\n",
    "    dictionary=dictionary,\n",
    "    coherence='c_v',\n",
    "    topn=10\n",
    ")\n",
    "coherence_scores = coherence_model.get_coherence_per_topic()\n",
    "agg_score = coherence_model.aggregate_measures(coherence_scores)"
   ]
  },
  {
   "cell_type": "code",
   "execution_count": 95,
   "id": "1d2aba11",
   "metadata": {},
   "outputs": [
    {
     "name": "stdout",
     "output_type": "stream",
     "text": [
      "[0.2726634290539248, 0.599485569122189]\n"
     ]
    },
    {
     "data": {
      "text/plain": [
       "0.4360744990880569"
      ]
     },
     "execution_count": 95,
     "metadata": {},
     "output_type": "execute_result"
    }
   ],
   "source": [
    "print(coherence_scores)\n",
    "agg_score"
   ]
  },
  {
   "cell_type": "code",
   "execution_count": 51,
   "id": "95972932",
   "metadata": {},
   "outputs": [],
   "source": [
    "repre_docs = model.representative_docs"
   ]
  },
  {
   "cell_type": "code",
   "execution_count": 53,
   "id": "f1101b1a",
   "metadata": {},
   "outputs": [
    {
     "data": {
      "text/plain": [
       "['경북 과학 영재교육 원 최고상 과기 정통부 장관 개상 수상 북대 류 창빈 이예준 정성우 학생 팀 수학 분야 최고상 과기 정통부 장관 상 강수정 신정훈 차 유진 학생 팀 생물 분야 과학 기술원 장상 류 언 신석 이동윤 이채훈',\n",
       " '영남 공대 대구대 계명 문화 대 경북 대 대학 소식 경북 류 창빈 성광 이예준 성중 정성우 침산 학생 팀 수학 분야 최고상 과학 기술 정보 통신부 장관 상 경북 수학 양승엽 교수 지도 팀 수학 루빅스 큐브',\n",
       " '군 백기 男 아이돌 통법 가요 공감 지난해 사회 복무 요원 대체 복무 그룹 엑소 백현 대표 소통 왕 팬 근황 진이 입소 사단 신병교육대 훈련병 휴대폰 사용 시범 부대 선정',\n",
       " '이선희 경북 의원 대한민국 지방 자치 평가 의정 정책 비전 대상 최우수 지방 자치 활성 공로 의정 정책 비전 대상 부문 최우수 수상 이선희 경북 의원 청도 이선희 의원 경북 의회 초대 예산 결산 특별 위원장 기획 경제 위원회 위원 선진 지방 회구 현',\n",
       " '이선희 경북 의원 대한민국 지방 자치 평가 의정 정책 비전 대상 최우 수상 사진 경북 의회 제공 이선희 경북 의원 청도 대한민국 지방 자치 평가 의정 정책 비전 대상 이선희 의원 지방 자치 발전 도민 목소리 지방 정부 운영 반영 가능 일',\n",
       " '이선희 경북 의원 대한민국 지방 자치 평가 의정 정책 비전 대상 최우수 수상 이선희 경북 의원 청도 국민 힘 대한민국 지방 자치 평가 의정 정책 비전 대상 경북 의회 제공 이선희 경북 의원 청도 국민 힘 사진 대한민국 지방 자치 평가 의정 정책 비전 대상',\n",
       " '가수 김종국 각별 안양사 고향 사랑기 부제 동참 가수 김종국 최근 고향 사랑 음 안양시 고항 사랑기 부제 동참 안양시 안양 명학 초등 학교 신성 고등학교 졸업 안양 김종국 인조 보이 그룹 터보 음악',\n",
       " '가수 김종국 안양시 고향 사랑기 부제 동참 사진 안양시 가수 김종국 최근 고향 사랑 음 안양시 고항 사랑기 부제 동참 안양 명학 초등 학교 신성 고등학교 졸업 안양 김종국 인조 보이 그룹 터보 음악 활동 시작',\n",
       " '안양 아들 가수 김종국 고향 사랑기 부제 동참 안양시 가수 김종국 최근 고향 사랑 음 안양시 고항 사랑기 부제 동참 안양 명학 초등 학교 신성 고등학교 졸업 안양 김종국 인조 보이 그룹 터보 음악 활동',\n",
       " '인사 충남 급 신규 임용 투자 통상 정책 관 윤주영 급 교류 재정 협력 관 김재중 일자',\n",
       " '인사 충남 박성민 기자 급 신규 임용 투자 통상 정책 관 윤주영 급 교류 재정 협력 관 김재중',\n",
       " '인사 충남 급 신규 임용 투자 통상 정책 관 윤주영 급 교류 재정 협력 관 김재중']"
      ]
     },
     "execution_count": 53,
     "metadata": {},
     "output_type": "execute_result"
    }
   ],
   "source": [
    "repre_docs[3]"
   ]
  },
  {
   "cell_type": "code",
   "execution_count": 48,
   "id": "08fd86dd",
   "metadata": {},
   "outputs": [],
   "source": [
    "df_time = model.topics_over_time(list_tokens, topics, list_time, nr_bins=20)"
   ]
  },
  {
   "cell_type": "code",
   "execution_count": 49,
   "id": "da99d675",
   "metadata": {},
   "outputs": [],
   "source": [
    "fig = model.visualize_topics_over_time(df_time, top_n_topics=10, width=900)"
   ]
  },
  {
   "cell_type": "code",
   "execution_count": 50,
   "id": "f9ec4ec1",
   "metadata": {},
   "outputs": [
    {
     "data": {
      "application/vnd.plotly.v1+json": {
       "config": {
        "plotlyServerURL": "https://plot.ly"
       },
       "data": [
        {
         "hoverinfo": "text",
         "hovertext": [
          "<b>Topic -1</b><br>Words: 외국인, 천명훈, 가수, 엄선, 동창회",
          "<b>Topic -1</b><br>Words: 회수, 순위, 차트, 가수, 허각",
          "<b>Topic -1</b><br>Words: 회수, 순위, 차트, 진스, 기록",
          "<b>Topic -1</b><br>Words: 브로, 가수, 단체, 관욕, 유닛",
          "<b>Topic -1</b><br>Words: 회수, 순위, 구성, 차트, 차은우",
          "<b>Topic -1</b><br>Words: 차은우, 아일랜드, 매력, 슈퍼주니어, 티빙",
          "<b>Topic -1</b><br>Words: 차은우, 모델, 페스티벌, 앰버, 드레스",
          "<b>Topic -1</b><br>Words: 회수, 순위, 차트, 차은우, 웹툰",
          "<b>Topic -1</b><br>Words: 차은우, 진스, 단독, 방탄소년단, 평판",
          "<b>Topic -1</b><br>Words: 회수, 코리아, 브로드밴드, 파트너, 에이블",
          "<b>Topic -1</b><br>Words: 조장혁, 차은우, 엔터, 예리, 가수",
          "<b>Topic -1</b><br>Words: 회장, 가수, 차은우, 동두천시, 단독",
          "<b>Topic -1</b><br>Words: 쌍용, 자동차, 뉴이스트, 수출, 중동",
          "<b>Topic -1</b><br>Words: 차은우, 워너원, 샤이니, 방탄소년단, 브랜드",
          "<b>Topic -1</b><br>Words: 유재석, 이다인, 이승기, 사회, 결혼식",
          "<b>Topic -1</b><br>Words: 가수, 임영웅, 진스, 강다니엘, 김호중",
          "<b>Topic -1</b><br>Words: 바비, 증권, 스케줄, 소찬휘, 토큰",
          "<b>Topic -1</b><br>Words: 최유리, 사랑, 말해요, 오왠, 참여"
         ],
         "marker": {
          "color": "#E69F00"
         },
         "mode": "lines",
         "name": "-1_차은우_가수_진스_회수",
         "type": "scatter",
         "x": [
          "2022-12-18T21:51:50.400000",
          "2022-12-23T10:48:00",
          "2022-12-27T21:36:00",
          "2023-01-01T08:24:00",
          "2023-01-05T19:12:00",
          "2023-01-10T06:00:00",
          "2023-01-14T16:48:00",
          "2023-01-19T03:36:00",
          "2023-01-23T14:24:00",
          "2023-01-28T01:12:00",
          "2023-02-01T12:00:00",
          "2023-02-05T22:48:00",
          "2023-02-10T09:36:00",
          "2023-02-14T20:24:00",
          "2023-02-19T07:12:00",
          "2023-02-23T18:00:00",
          "2023-03-09T02:24:00",
          "2023-03-13T13:12:00"
         ],
         "y": [
          4,
          9,
          4,
          8,
          10,
          19,
          61,
          6,
          44,
          39,
          19,
          43,
          14,
          21,
          17,
          31,
          4,
          11
         ]
        },
        {
         "hoverinfo": "text",
         "hovertext": [
          "<b>Topic 1</b><br>Words: 기부, 범키, 드림, 아바, 데이",
          "<b>Topic 1</b><br>Words: 그룹, 홍승성, 큐브, 회장, 엔터",
          "<b>Topic 1</b><br>Words: 구만, 아월, 이유나, 이민혁, 노리플라이",
          "<b>Topic 1</b><br>Words: 체인, 로꼬, 효린, 듀오, 설립",
          "<b>Topic 1</b><br>Words: 요한, 인상, 스틸, 오이스터, 웨딩",
          "<b>Topic 1</b><br>Words: 차은우, 최태준, 정국, 고객, 이준기",
          "<b>Topic 1</b><br>Words: 응모, 고객, 티빙, 주살, 선발",
          "<b>Topic 1</b><br>Words: 레게, 블루스, 장난, 평화, 신촌블루스",
          "<b>Topic 1</b><br>Words: 코나, 축구, 선수, 터보, 브랜드",
          "<b>Topic 1</b><br>Words: 부친상, 블루홀, 조두인, 스튜디오, 대표",
          "<b>Topic 1</b><br>Words: 뮤직카우, 투자, 점수, 이선희, 증권",
          "<b>Topic 1</b><br>Words: 쌍용, 수출, 중동, 확대, 자동차",
          "<b>Topic 1</b><br>Words: 전후, 뉴이스트, 엔터, 투자, 하이브",
          "<b>Topic 1</b><br>Words: 그룹, 대결, 플래닛, 보이즈, 워너원",
          "<b>Topic 1</b><br>Words: 이승기, 거래, 브랜드, 강다니엘, 전속",
          "<b>Topic 1</b><br>Words: 네트, 웍스, 투자, 기업, 김사무엘",
          "<b>Topic 1</b><br>Words: 투자, 증권, 최종, 네트, 웍스",
          "<b>Topic 1</b><br>Words: 투자, 뮤직카우, 운용, 펀드, 베스트"
         ],
         "marker": {
          "color": "#56B4E9"
         },
         "mode": "lines",
         "name": "1_투자_네트_웍스_기업",
         "type": "scatter",
         "x": [
          "2022-12-18T21:51:50.400000",
          "2022-12-23T10:48:00",
          "2023-01-01T08:24:00",
          "2023-01-05T19:12:00",
          "2023-01-10T06:00:00",
          "2023-01-14T16:48:00",
          "2023-01-19T03:36:00",
          "2023-01-23T14:24:00",
          "2023-01-28T01:12:00",
          "2023-02-01T12:00:00",
          "2023-02-05T22:48:00",
          "2023-02-10T09:36:00",
          "2023-02-14T20:24:00",
          "2023-02-19T07:12:00",
          "2023-02-23T18:00:00",
          "2023-03-04T15:36:00",
          "2023-03-09T02:24:00",
          "2023-03-13T13:12:00"
         ],
         "y": [
          5,
          4,
          2,
          1,
          3,
          7,
          4,
          1,
          6,
          22,
          33,
          6,
          7,
          2,
          6,
          14,
          3,
          14
         ]
        },
        {
         "hoverinfo": "text",
         "hovertext": [
          "<b>Topic 2</b><br>Words: 범키, 콜라보, 실력파, 설립, 힙합",
          "<b>Topic 2</b><br>Words: 엔터, 그룹, 홍태, 미다스, 비스트",
          "<b>Topic 2</b><br>Words: 아이돌, 다이아, 유닛, 달샤벳, 이슈",
          "<b>Topic 2</b><br>Words: 매니지먼트, 밸류, 극대, 유닛, 대표",
          "<b>Topic 2</b><br>Words: 블링, 참여, 케이지, 비오, 완성도",
          "<b>Topic 2</b><br>Words: 소향, 허각, 컴백, 주가, 더블유",
          "<b>Topic 2</b><br>Words: 유주, 예린, 소원, 은하, 엄지",
          "<b>Topic 2</b><br>Words: 신촌블루스, 가명, 앨범, 남편, 노래",
          "<b>Topic 2</b><br>Words: 유주, 영탁, 스테이씨, 윤하, 한터",
          "<b>Topic 2</b><br>Words: 베리, 정동원, 김호중, 스테이씨, 블리",
          "<b>Topic 2</b><br>Words: 베리, 블리, 스테이씨, 루시, 빌리",
          "<b>Topic 2</b><br>Words: 베리, 공민지, 손준호, 블리, 서인영",
          "<b>Topic 2</b><br>Words: 뉴이스트, 베리, 샤이니, 황민현, 에스엠",
          "<b>Topic 2</b><br>Words: 노을, 앨범, 발매, 방구석, 황민현",
          "<b>Topic 2</b><br>Words: 언더, 공동, 진영, 문제, 혼다",
          "<b>Topic 2</b><br>Words: 리메이크, 발매, 빅마마, 이예준, 먼데이",
          "<b>Topic 2</b><br>Words: 뮤직카우, 노래, 날씨, 청량, 브레이브걸스",
          "<b>Topic 2</b><br>Words: 베스트, 블리, 신사, 투자, 뮤직카우"
         ],
         "marker": {
          "color": "#009E73"
         },
         "mode": "lines",
         "name": "2_베리_스테이씨_유주_블리",
         "type": "scatter",
         "x": [
          "2022-12-18T21:51:50.400000",
          "2022-12-23T10:48:00",
          "2022-12-27T21:36:00",
          "2023-01-01T08:24:00",
          "2023-01-05T19:12:00",
          "2023-01-10T06:00:00",
          "2023-01-14T16:48:00",
          "2023-01-23T14:24:00",
          "2023-01-28T01:12:00",
          "2023-02-01T12:00:00",
          "2023-02-05T22:48:00",
          "2023-02-10T09:36:00",
          "2023-02-14T20:24:00",
          "2023-02-19T07:12:00",
          "2023-02-23T18:00:00",
          "2023-03-04T15:36:00",
          "2023-03-09T02:24:00",
          "2023-03-13T13:12:00"
         ],
         "y": [
          1,
          1,
          1,
          3,
          2,
          3,
          3,
          2,
          9,
          5,
          39,
          25,
          9,
          3,
          3,
          2,
          2,
          6
         ]
        },
        {
         "hoverinfo": "text",
         "hovertext": [
          "<b>Topic 3</b><br>Words: 연예, 가수, 외국인, 방송인, 김현철",
          "<b>Topic 3</b><br>Words: 그룹, 키스, 보컬, 대중, 가수",
          "<b>Topic 3</b><br>Words: 송골매, 전국, 비행, 가수, 작가",
          "<b>Topic 3</b><br>Words: 김흥국, 회화, 소장, 광진구, 방송인",
          "<b>Topic 3</b><br>Words: 관계, 자숙, 예언서, 구원자, 주살",
          "<b>Topic 3</b><br>Words: 스파, 목표, 대표, 시장, 창업",
          "<b>Topic 3</b><br>Words: 김남길, 티빙, 성준, 이다희, 토요일",
          "<b>Topic 3</b><br>Words: 김종국, 고향, 안양시, 안양, 사랑기",
          "<b>Topic 3</b><br>Words: 김종국, 안양, 안양시, 사랑기, 아들",
          "<b>Topic 3</b><br>Words: 경북, 옥외, 안전, 관리, 행사",
          "<b>Topic 3</b><br>Words: 경북, 지방, 이선희, 의원, 자치",
          "<b>Topic 3</b><br>Words: 충남, 김재중, 정책, 재정, 윤주영",
          "<b>Topic 3</b><br>Words: 결혼식, 이다인, 이승기, 사회, 유재석",
          "<b>Topic 3</b><br>Words: 씨야, 연재, 정치, 소설, 추리",
          "<b>Topic 3</b><br>Words: 손담비, 유튜브, 전격, 절친, 의혹"
         ],
         "marker": {
          "color": "#F0E442"
         },
         "mode": "lines",
         "name": "3_경북_정책_김종국_가수",
         "type": "scatter",
         "x": [
          "2022-12-18T21:51:50.400000",
          "2022-12-27T21:36:00",
          "2023-01-01T08:24:00",
          "2023-01-05T19:12:00",
          "2023-01-10T06:00:00",
          "2023-01-14T16:48:00",
          "2023-01-19T03:36:00",
          "2023-01-23T14:24:00",
          "2023-01-28T01:12:00",
          "2023-02-01T12:00:00",
          "2023-02-05T22:48:00",
          "2023-02-10T09:36:00",
          "2023-02-23T18:00:00",
          "2023-03-09T02:24:00",
          "2023-03-13T13:12:00"
         ],
         "y": [
          8,
          3,
          5,
          4,
          1,
          1,
          4,
          16,
          7,
          3,
          23,
          15,
          1,
          2,
          1
         ]
        },
        {
         "hoverinfo": "text",
         "hovertext": [
          "<b>Topic 4</b><br>Words: 엑소, 컴백, 백기, 수호, 완전체",
          "<b>Topic 4</b><br>Words: 지수, 브랜드, 평판, 분석, 방탄소년단",
          "<b>Topic 4</b><br>Words: 브랜드, 지수, 평판, 방탄소년단, 분석",
          "<b>Topic 4</b><br>Words: 현대차, 소형, 코나, 최선호, 책임",
          "<b>Topic 4</b><br>Words: 지민, 분석, 긍정, 데이터, 지수",
          "<b>Topic 4</b><br>Words: 브랜드, 지수, 평판, 분석, 방탄소년단",
          "<b>Topic 4</b><br>Words: 지수, 브랜드, 평판, 분석, 미디어",
          "<b>Topic 4</b><br>Words: 백현, 소집, 해제, 복무, 엑소",
          "<b>Topic 4</b><br>Words: 백현, 엑소, 소집, 해제, 복무",
          "<b>Topic 4</b><br>Words: 지수, 브랜드, 평판, 분석, 보이",
          "<b>Topic 4</b><br>Words: 지수, 브랜드, 평판, 분석, 방탄소년단",
          "<b>Topic 4</b><br>Words: 연극, 차선우, 오델로, 도전, b1a4",
          "<b>Topic 4</b><br>Words: 지수, 브랜드, 평판, 분석, 미디어",
          "<b>Topic 4</b><br>Words: 몽골, 현지, 해결, 기후, 발생"
         ],
         "marker": {
          "color": "#D55E00"
         },
         "mode": "lines",
         "name": "4_지수_브랜드_평판_분석",
         "type": "scatter",
         "x": [
          "2023-01-01T08:24:00",
          "2023-01-05T19:12:00",
          "2023-01-10T06:00:00",
          "2023-01-14T16:48:00",
          "2023-01-19T03:36:00",
          "2023-01-23T14:24:00",
          "2023-01-28T01:12:00",
          "2023-02-01T12:00:00",
          "2023-02-05T22:48:00",
          "2023-02-10T09:36:00",
          "2023-02-14T20:24:00",
          "2023-02-19T07:12:00",
          "2023-02-23T18:00:00",
          "2023-03-13T13:12:00"
         ],
         "y": [
          1,
          7,
          13,
          7,
          3,
          13,
          3,
          14,
          4,
          12,
          5,
          1,
          6,
          1
         ]
        },
        {
         "hoverinfo": "text",
         "hovertext": [
          "<b>Topic 5</b><br>Words: 박재범, 2pm, 케이, 골프, 김민수",
          "<b>Topic 5</b><br>Words: 홍콩, 황찬성, 2pm, 한가인, 영화",
          "<b>Topic 5</b><br>Words: 황찬성, 2pm, 주상욱, 하우스, 조교",
          "<b>Topic 5</b><br>Words: 생활, 2pm, 군대, 황찬성, 신병교육대",
          "<b>Topic 5</b><br>Words: 하우스, 2pm, 황찬성, 주상욱, 연기",
          "<b>Topic 5</b><br>Words: 이준호, 2pm, 월드, 비전, 에티오피아",
          "<b>Topic 5</b><br>Words: 2pm, 일정, 콘서트, 계획, 완전체",
          "<b>Topic 5</b><br>Words: 2pm, 황찬성, 데보라, 보라, 드라마",
          "<b>Topic 5</b><br>Words: 이루마, 영역, 연주, 애니메이션, 백지영"
         ],
         "marker": {
          "color": "#0072B2"
         },
         "mode": "lines",
         "name": "5_2pm_황찬성_하우스_주상욱",
         "type": "scatter",
         "x": [
          "2023-01-05T19:12:00",
          "2023-01-10T06:00:00",
          "2023-01-14T16:48:00",
          "2023-01-19T03:36:00",
          "2023-01-23T14:24:00",
          "2023-01-28T01:12:00",
          "2023-02-01T12:00:00",
          "2023-02-05T22:48:00",
          "2023-02-14T20:24:00"
         ],
         "y": [
          8,
          6,
          33,
          2,
          5,
          6,
          1,
          6,
          1
         ]
        }
       ],
       "layout": {
        "height": 450,
        "hoverlabel": {
         "bgcolor": "white",
         "font": {
          "family": "Rockwell",
          "size": 16
         }
        },
        "legend": {
         "title": {
          "text": "<b>Global Topic Representation"
         }
        },
        "template": {
         "data": {
          "bar": [
           {
            "error_x": {
             "color": "rgb(36,36,36)"
            },
            "error_y": {
             "color": "rgb(36,36,36)"
            },
            "marker": {
             "line": {
              "color": "white",
              "width": 0.5
             },
             "pattern": {
              "fillmode": "overlay",
              "size": 10,
              "solidity": 0.2
             }
            },
            "type": "bar"
           }
          ],
          "barpolar": [
           {
            "marker": {
             "line": {
              "color": "white",
              "width": 0.5
             },
             "pattern": {
              "fillmode": "overlay",
              "size": 10,
              "solidity": 0.2
             }
            },
            "type": "barpolar"
           }
          ],
          "carpet": [
           {
            "aaxis": {
             "endlinecolor": "rgb(36,36,36)",
             "gridcolor": "white",
             "linecolor": "white",
             "minorgridcolor": "white",
             "startlinecolor": "rgb(36,36,36)"
            },
            "baxis": {
             "endlinecolor": "rgb(36,36,36)",
             "gridcolor": "white",
             "linecolor": "white",
             "minorgridcolor": "white",
             "startlinecolor": "rgb(36,36,36)"
            },
            "type": "carpet"
           }
          ],
          "choropleth": [
           {
            "colorbar": {
             "outlinewidth": 1,
             "tickcolor": "rgb(36,36,36)",
             "ticks": "outside"
            },
            "type": "choropleth"
           }
          ],
          "contour": [
           {
            "colorbar": {
             "outlinewidth": 1,
             "tickcolor": "rgb(36,36,36)",
             "ticks": "outside"
            },
            "colorscale": [
             [
              0,
              "#440154"
             ],
             [
              0.1111111111111111,
              "#482878"
             ],
             [
              0.2222222222222222,
              "#3e4989"
             ],
             [
              0.3333333333333333,
              "#31688e"
             ],
             [
              0.4444444444444444,
              "#26828e"
             ],
             [
              0.5555555555555556,
              "#1f9e89"
             ],
             [
              0.6666666666666666,
              "#35b779"
             ],
             [
              0.7777777777777778,
              "#6ece58"
             ],
             [
              0.8888888888888888,
              "#b5de2b"
             ],
             [
              1,
              "#fde725"
             ]
            ],
            "type": "contour"
           }
          ],
          "contourcarpet": [
           {
            "colorbar": {
             "outlinewidth": 1,
             "tickcolor": "rgb(36,36,36)",
             "ticks": "outside"
            },
            "type": "contourcarpet"
           }
          ],
          "heatmap": [
           {
            "colorbar": {
             "outlinewidth": 1,
             "tickcolor": "rgb(36,36,36)",
             "ticks": "outside"
            },
            "colorscale": [
             [
              0,
              "#440154"
             ],
             [
              0.1111111111111111,
              "#482878"
             ],
             [
              0.2222222222222222,
              "#3e4989"
             ],
             [
              0.3333333333333333,
              "#31688e"
             ],
             [
              0.4444444444444444,
              "#26828e"
             ],
             [
              0.5555555555555556,
              "#1f9e89"
             ],
             [
              0.6666666666666666,
              "#35b779"
             ],
             [
              0.7777777777777778,
              "#6ece58"
             ],
             [
              0.8888888888888888,
              "#b5de2b"
             ],
             [
              1,
              "#fde725"
             ]
            ],
            "type": "heatmap"
           }
          ],
          "heatmapgl": [
           {
            "colorbar": {
             "outlinewidth": 1,
             "tickcolor": "rgb(36,36,36)",
             "ticks": "outside"
            },
            "colorscale": [
             [
              0,
              "#440154"
             ],
             [
              0.1111111111111111,
              "#482878"
             ],
             [
              0.2222222222222222,
              "#3e4989"
             ],
             [
              0.3333333333333333,
              "#31688e"
             ],
             [
              0.4444444444444444,
              "#26828e"
             ],
             [
              0.5555555555555556,
              "#1f9e89"
             ],
             [
              0.6666666666666666,
              "#35b779"
             ],
             [
              0.7777777777777778,
              "#6ece58"
             ],
             [
              0.8888888888888888,
              "#b5de2b"
             ],
             [
              1,
              "#fde725"
             ]
            ],
            "type": "heatmapgl"
           }
          ],
          "histogram": [
           {
            "marker": {
             "line": {
              "color": "white",
              "width": 0.6
             }
            },
            "type": "histogram"
           }
          ],
          "histogram2d": [
           {
            "colorbar": {
             "outlinewidth": 1,
             "tickcolor": "rgb(36,36,36)",
             "ticks": "outside"
            },
            "colorscale": [
             [
              0,
              "#440154"
             ],
             [
              0.1111111111111111,
              "#482878"
             ],
             [
              0.2222222222222222,
              "#3e4989"
             ],
             [
              0.3333333333333333,
              "#31688e"
             ],
             [
              0.4444444444444444,
              "#26828e"
             ],
             [
              0.5555555555555556,
              "#1f9e89"
             ],
             [
              0.6666666666666666,
              "#35b779"
             ],
             [
              0.7777777777777778,
              "#6ece58"
             ],
             [
              0.8888888888888888,
              "#b5de2b"
             ],
             [
              1,
              "#fde725"
             ]
            ],
            "type": "histogram2d"
           }
          ],
          "histogram2dcontour": [
           {
            "colorbar": {
             "outlinewidth": 1,
             "tickcolor": "rgb(36,36,36)",
             "ticks": "outside"
            },
            "colorscale": [
             [
              0,
              "#440154"
             ],
             [
              0.1111111111111111,
              "#482878"
             ],
             [
              0.2222222222222222,
              "#3e4989"
             ],
             [
              0.3333333333333333,
              "#31688e"
             ],
             [
              0.4444444444444444,
              "#26828e"
             ],
             [
              0.5555555555555556,
              "#1f9e89"
             ],
             [
              0.6666666666666666,
              "#35b779"
             ],
             [
              0.7777777777777778,
              "#6ece58"
             ],
             [
              0.8888888888888888,
              "#b5de2b"
             ],
             [
              1,
              "#fde725"
             ]
            ],
            "type": "histogram2dcontour"
           }
          ],
          "mesh3d": [
           {
            "colorbar": {
             "outlinewidth": 1,
             "tickcolor": "rgb(36,36,36)",
             "ticks": "outside"
            },
            "type": "mesh3d"
           }
          ],
          "parcoords": [
           {
            "line": {
             "colorbar": {
              "outlinewidth": 1,
              "tickcolor": "rgb(36,36,36)",
              "ticks": "outside"
             }
            },
            "type": "parcoords"
           }
          ],
          "pie": [
           {
            "automargin": true,
            "type": "pie"
           }
          ],
          "scatter": [
           {
            "marker": {
             "colorbar": {
              "outlinewidth": 1,
              "tickcolor": "rgb(36,36,36)",
              "ticks": "outside"
             }
            },
            "type": "scatter"
           }
          ],
          "scatter3d": [
           {
            "line": {
             "colorbar": {
              "outlinewidth": 1,
              "tickcolor": "rgb(36,36,36)",
              "ticks": "outside"
             }
            },
            "marker": {
             "colorbar": {
              "outlinewidth": 1,
              "tickcolor": "rgb(36,36,36)",
              "ticks": "outside"
             }
            },
            "type": "scatter3d"
           }
          ],
          "scattercarpet": [
           {
            "marker": {
             "colorbar": {
              "outlinewidth": 1,
              "tickcolor": "rgb(36,36,36)",
              "ticks": "outside"
             }
            },
            "type": "scattercarpet"
           }
          ],
          "scattergeo": [
           {
            "marker": {
             "colorbar": {
              "outlinewidth": 1,
              "tickcolor": "rgb(36,36,36)",
              "ticks": "outside"
             }
            },
            "type": "scattergeo"
           }
          ],
          "scattergl": [
           {
            "marker": {
             "colorbar": {
              "outlinewidth": 1,
              "tickcolor": "rgb(36,36,36)",
              "ticks": "outside"
             }
            },
            "type": "scattergl"
           }
          ],
          "scattermapbox": [
           {
            "marker": {
             "colorbar": {
              "outlinewidth": 1,
              "tickcolor": "rgb(36,36,36)",
              "ticks": "outside"
             }
            },
            "type": "scattermapbox"
           }
          ],
          "scatterpolar": [
           {
            "marker": {
             "colorbar": {
              "outlinewidth": 1,
              "tickcolor": "rgb(36,36,36)",
              "ticks": "outside"
             }
            },
            "type": "scatterpolar"
           }
          ],
          "scatterpolargl": [
           {
            "marker": {
             "colorbar": {
              "outlinewidth": 1,
              "tickcolor": "rgb(36,36,36)",
              "ticks": "outside"
             }
            },
            "type": "scatterpolargl"
           }
          ],
          "scatterternary": [
           {
            "marker": {
             "colorbar": {
              "outlinewidth": 1,
              "tickcolor": "rgb(36,36,36)",
              "ticks": "outside"
             }
            },
            "type": "scatterternary"
           }
          ],
          "surface": [
           {
            "colorbar": {
             "outlinewidth": 1,
             "tickcolor": "rgb(36,36,36)",
             "ticks": "outside"
            },
            "colorscale": [
             [
              0,
              "#440154"
             ],
             [
              0.1111111111111111,
              "#482878"
             ],
             [
              0.2222222222222222,
              "#3e4989"
             ],
             [
              0.3333333333333333,
              "#31688e"
             ],
             [
              0.4444444444444444,
              "#26828e"
             ],
             [
              0.5555555555555556,
              "#1f9e89"
             ],
             [
              0.6666666666666666,
              "#35b779"
             ],
             [
              0.7777777777777778,
              "#6ece58"
             ],
             [
              0.8888888888888888,
              "#b5de2b"
             ],
             [
              1,
              "#fde725"
             ]
            ],
            "type": "surface"
           }
          ],
          "table": [
           {
            "cells": {
             "fill": {
              "color": "rgb(237,237,237)"
             },
             "line": {
              "color": "white"
             }
            },
            "header": {
             "fill": {
              "color": "rgb(217,217,217)"
             },
             "line": {
              "color": "white"
             }
            },
            "type": "table"
           }
          ]
         },
         "layout": {
          "annotationdefaults": {
           "arrowhead": 0,
           "arrowwidth": 1
          },
          "autotypenumbers": "strict",
          "coloraxis": {
           "colorbar": {
            "outlinewidth": 1,
            "tickcolor": "rgb(36,36,36)",
            "ticks": "outside"
           }
          },
          "colorscale": {
           "diverging": [
            [
             0,
             "rgb(103,0,31)"
            ],
            [
             0.1,
             "rgb(178,24,43)"
            ],
            [
             0.2,
             "rgb(214,96,77)"
            ],
            [
             0.3,
             "rgb(244,165,130)"
            ],
            [
             0.4,
             "rgb(253,219,199)"
            ],
            [
             0.5,
             "rgb(247,247,247)"
            ],
            [
             0.6,
             "rgb(209,229,240)"
            ],
            [
             0.7,
             "rgb(146,197,222)"
            ],
            [
             0.8,
             "rgb(67,147,195)"
            ],
            [
             0.9,
             "rgb(33,102,172)"
            ],
            [
             1,
             "rgb(5,48,97)"
            ]
           ],
           "sequential": [
            [
             0,
             "#440154"
            ],
            [
             0.1111111111111111,
             "#482878"
            ],
            [
             0.2222222222222222,
             "#3e4989"
            ],
            [
             0.3333333333333333,
             "#31688e"
            ],
            [
             0.4444444444444444,
             "#26828e"
            ],
            [
             0.5555555555555556,
             "#1f9e89"
            ],
            [
             0.6666666666666666,
             "#35b779"
            ],
            [
             0.7777777777777778,
             "#6ece58"
            ],
            [
             0.8888888888888888,
             "#b5de2b"
            ],
            [
             1,
             "#fde725"
            ]
           ],
           "sequentialminus": [
            [
             0,
             "#440154"
            ],
            [
             0.1111111111111111,
             "#482878"
            ],
            [
             0.2222222222222222,
             "#3e4989"
            ],
            [
             0.3333333333333333,
             "#31688e"
            ],
            [
             0.4444444444444444,
             "#26828e"
            ],
            [
             0.5555555555555556,
             "#1f9e89"
            ],
            [
             0.6666666666666666,
             "#35b779"
            ],
            [
             0.7777777777777778,
             "#6ece58"
            ],
            [
             0.8888888888888888,
             "#b5de2b"
            ],
            [
             1,
             "#fde725"
            ]
           ]
          },
          "colorway": [
           "#1F77B4",
           "#FF7F0E",
           "#2CA02C",
           "#D62728",
           "#9467BD",
           "#8C564B",
           "#E377C2",
           "#7F7F7F",
           "#BCBD22",
           "#17BECF"
          ],
          "font": {
           "color": "rgb(36,36,36)"
          },
          "geo": {
           "bgcolor": "white",
           "lakecolor": "white",
           "landcolor": "white",
           "showlakes": true,
           "showland": true,
           "subunitcolor": "white"
          },
          "hoverlabel": {
           "align": "left"
          },
          "hovermode": "closest",
          "mapbox": {
           "style": "light"
          },
          "paper_bgcolor": "white",
          "plot_bgcolor": "white",
          "polar": {
           "angularaxis": {
            "gridcolor": "rgb(232,232,232)",
            "linecolor": "rgb(36,36,36)",
            "showgrid": false,
            "showline": true,
            "ticks": "outside"
           },
           "bgcolor": "white",
           "radialaxis": {
            "gridcolor": "rgb(232,232,232)",
            "linecolor": "rgb(36,36,36)",
            "showgrid": false,
            "showline": true,
            "ticks": "outside"
           }
          },
          "scene": {
           "xaxis": {
            "backgroundcolor": "white",
            "gridcolor": "rgb(232,232,232)",
            "gridwidth": 2,
            "linecolor": "rgb(36,36,36)",
            "showbackground": true,
            "showgrid": false,
            "showline": true,
            "ticks": "outside",
            "zeroline": false,
            "zerolinecolor": "rgb(36,36,36)"
           },
           "yaxis": {
            "backgroundcolor": "white",
            "gridcolor": "rgb(232,232,232)",
            "gridwidth": 2,
            "linecolor": "rgb(36,36,36)",
            "showbackground": true,
            "showgrid": false,
            "showline": true,
            "ticks": "outside",
            "zeroline": false,
            "zerolinecolor": "rgb(36,36,36)"
           },
           "zaxis": {
            "backgroundcolor": "white",
            "gridcolor": "rgb(232,232,232)",
            "gridwidth": 2,
            "linecolor": "rgb(36,36,36)",
            "showbackground": true,
            "showgrid": false,
            "showline": true,
            "ticks": "outside",
            "zeroline": false,
            "zerolinecolor": "rgb(36,36,36)"
           }
          },
          "shapedefaults": {
           "fillcolor": "black",
           "line": {
            "width": 0
           },
           "opacity": 0.3
          },
          "ternary": {
           "aaxis": {
            "gridcolor": "rgb(232,232,232)",
            "linecolor": "rgb(36,36,36)",
            "showgrid": false,
            "showline": true,
            "ticks": "outside"
           },
           "baxis": {
            "gridcolor": "rgb(232,232,232)",
            "linecolor": "rgb(36,36,36)",
            "showgrid": false,
            "showline": true,
            "ticks": "outside"
           },
           "bgcolor": "white",
           "caxis": {
            "gridcolor": "rgb(232,232,232)",
            "linecolor": "rgb(36,36,36)",
            "showgrid": false,
            "showline": true,
            "ticks": "outside"
           }
          },
          "title": {
           "x": 0.05
          },
          "xaxis": {
           "automargin": true,
           "gridcolor": "rgb(232,232,232)",
           "linecolor": "rgb(36,36,36)",
           "showgrid": false,
           "showline": true,
           "ticks": "outside",
           "title": {
            "standoff": 15
           },
           "zeroline": false,
           "zerolinecolor": "rgb(36,36,36)"
          },
          "yaxis": {
           "automargin": true,
           "gridcolor": "rgb(232,232,232)",
           "linecolor": "rgb(36,36,36)",
           "showgrid": false,
           "showline": true,
           "ticks": "outside",
           "title": {
            "standoff": 15
           },
           "zeroline": false,
           "zerolinecolor": "rgb(36,36,36)"
          }
         }
        },
        "title": {
         "font": {
          "color": "Black",
          "size": 22
         },
         "text": "<b>Topics over Time",
         "x": 0.4,
         "xanchor": "center",
         "y": 0.95,
         "yanchor": "top"
        },
        "width": 900,
        "xaxis": {
         "showgrid": true
        },
        "yaxis": {
         "showgrid": true,
         "title": {
          "text": "Frequency"
         }
        }
       }
      },
      "text/html": [
       "<div>                            <div id=\"a818ab29-69f3-4c36-a3cf-cbb12498e7df\" class=\"plotly-graph-div\" style=\"height:450px; width:900px;\"></div>            <script type=\"text/javascript\">                require([\"plotly\"], function(Plotly) {                    window.PLOTLYENV=window.PLOTLYENV || {};                                    if (document.getElementById(\"a818ab29-69f3-4c36-a3cf-cbb12498e7df\")) {                    Plotly.newPlot(                        \"a818ab29-69f3-4c36-a3cf-cbb12498e7df\",                        [{\"hoverinfo\":\"text\",\"hovertext\":[\"<b>Topic -1</b><br>Words: \\uc678\\uad6d\\uc778, \\ucc9c\\uba85\\ud6c8, \\uac00\\uc218, \\uc5c4\\uc120, \\ub3d9\\ucc3d\\ud68c\",\"<b>Topic -1</b><br>Words: \\ud68c\\uc218, \\uc21c\\uc704, \\ucc28\\ud2b8, \\uac00\\uc218, \\ud5c8\\uac01\",\"<b>Topic -1</b><br>Words: \\ud68c\\uc218, \\uc21c\\uc704, \\ucc28\\ud2b8, \\uc9c4\\uc2a4, \\uae30\\ub85d\",\"<b>Topic -1</b><br>Words: \\ube0c\\ub85c, \\uac00\\uc218, \\ub2e8\\uccb4, \\uad00\\uc695, \\uc720\\ub2db\",\"<b>Topic -1</b><br>Words: \\ud68c\\uc218, \\uc21c\\uc704, \\uad6c\\uc131, \\ucc28\\ud2b8, \\ucc28\\uc740\\uc6b0\",\"<b>Topic -1</b><br>Words: \\ucc28\\uc740\\uc6b0, \\uc544\\uc77c\\ub79c\\ub4dc, \\ub9e4\\ub825, \\uc288\\ud37c\\uc8fc\\ub2c8\\uc5b4, \\ud2f0\\ube59\",\"<b>Topic -1</b><br>Words: \\ucc28\\uc740\\uc6b0, \\ubaa8\\ub378, \\ud398\\uc2a4\\ud2f0\\ubc8c, \\uc570\\ubc84, \\ub4dc\\ub808\\uc2a4\",\"<b>Topic -1</b><br>Words: \\ud68c\\uc218, \\uc21c\\uc704, \\ucc28\\ud2b8, \\ucc28\\uc740\\uc6b0, \\uc6f9\\ud230\",\"<b>Topic -1</b><br>Words: \\ucc28\\uc740\\uc6b0, \\uc9c4\\uc2a4, \\ub2e8\\ub3c5, \\ubc29\\ud0c4\\uc18c\\ub144\\ub2e8, \\ud3c9\\ud310\",\"<b>Topic -1</b><br>Words: \\ud68c\\uc218, \\ucf54\\ub9ac\\uc544, \\ube0c\\ub85c\\ub4dc\\ubc34\\ub4dc, \\ud30c\\ud2b8\\ub108, \\uc5d0\\uc774\\ube14\",\"<b>Topic -1</b><br>Words: \\uc870\\uc7a5\\ud601, \\ucc28\\uc740\\uc6b0, \\uc5d4\\ud130, \\uc608\\ub9ac, \\uac00\\uc218\",\"<b>Topic -1</b><br>Words: \\ud68c\\uc7a5, \\uac00\\uc218, \\ucc28\\uc740\\uc6b0, \\ub3d9\\ub450\\ucc9c\\uc2dc, \\ub2e8\\ub3c5\",\"<b>Topic -1</b><br>Words: \\uc30d\\uc6a9, \\uc790\\ub3d9\\ucc28, \\ub274\\uc774\\uc2a4\\ud2b8, \\uc218\\ucd9c, \\uc911\\ub3d9\",\"<b>Topic -1</b><br>Words: \\ucc28\\uc740\\uc6b0, \\uc6cc\\ub108\\uc6d0, \\uc0e4\\uc774\\ub2c8, \\ubc29\\ud0c4\\uc18c\\ub144\\ub2e8, \\ube0c\\ub79c\\ub4dc\",\"<b>Topic -1</b><br>Words: \\uc720\\uc7ac\\uc11d, \\uc774\\ub2e4\\uc778, \\uc774\\uc2b9\\uae30, \\uc0ac\\ud68c, \\uacb0\\ud63c\\uc2dd\",\"<b>Topic -1</b><br>Words: \\uac00\\uc218, \\uc784\\uc601\\uc6c5, \\uc9c4\\uc2a4, \\uac15\\ub2e4\\ub2c8\\uc5d8, \\uae40\\ud638\\uc911\",\"<b>Topic -1</b><br>Words: \\ubc14\\ube44, \\uc99d\\uad8c, \\uc2a4\\ucf00\\uc904, \\uc18c\\ucc2c\\ud718, \\ud1a0\\ud070\",\"<b>Topic -1</b><br>Words: \\ucd5c\\uc720\\ub9ac, \\uc0ac\\ub791, \\ub9d0\\ud574\\uc694, \\uc624\\uc660, \\ucc38\\uc5ec\"],\"marker\":{\"color\":\"#E69F00\"},\"mode\":\"lines\",\"name\":\"-1_\\ucc28\\uc740\\uc6b0_\\uac00\\uc218_\\uc9c4\\uc2a4_\\ud68c\\uc218\",\"x\":[\"2022-12-18T21:51:50.400000\",\"2022-12-23T10:48:00\",\"2022-12-27T21:36:00\",\"2023-01-01T08:24:00\",\"2023-01-05T19:12:00\",\"2023-01-10T06:00:00\",\"2023-01-14T16:48:00\",\"2023-01-19T03:36:00\",\"2023-01-23T14:24:00\",\"2023-01-28T01:12:00\",\"2023-02-01T12:00:00\",\"2023-02-05T22:48:00\",\"2023-02-10T09:36:00\",\"2023-02-14T20:24:00\",\"2023-02-19T07:12:00\",\"2023-02-23T18:00:00\",\"2023-03-09T02:24:00\",\"2023-03-13T13:12:00\"],\"y\":[4,9,4,8,10,19,61,6,44,39,19,43,14,21,17,31,4,11],\"type\":\"scatter\"},{\"hoverinfo\":\"text\",\"hovertext\":[\"<b>Topic 1</b><br>Words: \\uae30\\ubd80, \\ubc94\\ud0a4, \\ub4dc\\ub9bc, \\uc544\\ubc14, \\ub370\\uc774\",\"<b>Topic 1</b><br>Words: \\uadf8\\ub8f9, \\ud64d\\uc2b9\\uc131, \\ud050\\ube0c, \\ud68c\\uc7a5, \\uc5d4\\ud130\",\"<b>Topic 1</b><br>Words: \\uad6c\\ub9cc, \\uc544\\uc6d4, \\uc774\\uc720\\ub098, \\uc774\\ubbfc\\ud601, \\ub178\\ub9ac\\ud50c\\ub77c\\uc774\",\"<b>Topic 1</b><br>Words: \\uccb4\\uc778, \\ub85c\\uaf2c, \\ud6a8\\ub9b0, \\ub4c0\\uc624, \\uc124\\ub9bd\",\"<b>Topic 1</b><br>Words: \\uc694\\ud55c, \\uc778\\uc0c1, \\uc2a4\\ud2f8, \\uc624\\uc774\\uc2a4\\ud130, \\uc6e8\\ub529\",\"<b>Topic 1</b><br>Words: \\ucc28\\uc740\\uc6b0, \\ucd5c\\ud0dc\\uc900, \\uc815\\uad6d, \\uace0\\uac1d, \\uc774\\uc900\\uae30\",\"<b>Topic 1</b><br>Words: \\uc751\\ubaa8, \\uace0\\uac1d, \\ud2f0\\ube59, \\uc8fc\\uc0b4, \\uc120\\ubc1c\",\"<b>Topic 1</b><br>Words: \\ub808\\uac8c, \\ube14\\ub8e8\\uc2a4, \\uc7a5\\ub09c, \\ud3c9\\ud654, \\uc2e0\\ucd0c\\ube14\\ub8e8\\uc2a4\",\"<b>Topic 1</b><br>Words: \\ucf54\\ub098, \\ucd95\\uad6c, \\uc120\\uc218, \\ud130\\ubcf4, \\ube0c\\ub79c\\ub4dc\",\"<b>Topic 1</b><br>Words: \\ubd80\\uce5c\\uc0c1, \\ube14\\ub8e8\\ud640, \\uc870\\ub450\\uc778, \\uc2a4\\ud29c\\ub514\\uc624, \\ub300\\ud45c\",\"<b>Topic 1</b><br>Words: \\ubba4\\uc9c1\\uce74\\uc6b0, \\ud22c\\uc790, \\uc810\\uc218, \\uc774\\uc120\\ud76c, \\uc99d\\uad8c\",\"<b>Topic 1</b><br>Words: \\uc30d\\uc6a9, \\uc218\\ucd9c, \\uc911\\ub3d9, \\ud655\\ub300, \\uc790\\ub3d9\\ucc28\",\"<b>Topic 1</b><br>Words: \\uc804\\ud6c4, \\ub274\\uc774\\uc2a4\\ud2b8, \\uc5d4\\ud130, \\ud22c\\uc790, \\ud558\\uc774\\ube0c\",\"<b>Topic 1</b><br>Words: \\uadf8\\ub8f9, \\ub300\\uacb0, \\ud50c\\ub798\\ub2db, \\ubcf4\\uc774\\uc988, \\uc6cc\\ub108\\uc6d0\",\"<b>Topic 1</b><br>Words: \\uc774\\uc2b9\\uae30, \\uac70\\ub798, \\ube0c\\ub79c\\ub4dc, \\uac15\\ub2e4\\ub2c8\\uc5d8, \\uc804\\uc18d\",\"<b>Topic 1</b><br>Words: \\ub124\\ud2b8, \\uc6cd\\uc2a4, \\ud22c\\uc790, \\uae30\\uc5c5, \\uae40\\uc0ac\\ubb34\\uc5d8\",\"<b>Topic 1</b><br>Words: \\ud22c\\uc790, \\uc99d\\uad8c, \\ucd5c\\uc885, \\ub124\\ud2b8, \\uc6cd\\uc2a4\",\"<b>Topic 1</b><br>Words: \\ud22c\\uc790, \\ubba4\\uc9c1\\uce74\\uc6b0, \\uc6b4\\uc6a9, \\ud380\\ub4dc, \\ubca0\\uc2a4\\ud2b8\"],\"marker\":{\"color\":\"#56B4E9\"},\"mode\":\"lines\",\"name\":\"1_\\ud22c\\uc790_\\ub124\\ud2b8_\\uc6cd\\uc2a4_\\uae30\\uc5c5\",\"x\":[\"2022-12-18T21:51:50.400000\",\"2022-12-23T10:48:00\",\"2023-01-01T08:24:00\",\"2023-01-05T19:12:00\",\"2023-01-10T06:00:00\",\"2023-01-14T16:48:00\",\"2023-01-19T03:36:00\",\"2023-01-23T14:24:00\",\"2023-01-28T01:12:00\",\"2023-02-01T12:00:00\",\"2023-02-05T22:48:00\",\"2023-02-10T09:36:00\",\"2023-02-14T20:24:00\",\"2023-02-19T07:12:00\",\"2023-02-23T18:00:00\",\"2023-03-04T15:36:00\",\"2023-03-09T02:24:00\",\"2023-03-13T13:12:00\"],\"y\":[5,4,2,1,3,7,4,1,6,22,33,6,7,2,6,14,3,14],\"type\":\"scatter\"},{\"hoverinfo\":\"text\",\"hovertext\":[\"<b>Topic 2</b><br>Words: \\ubc94\\ud0a4, \\ucf5c\\ub77c\\ubcf4, \\uc2e4\\ub825\\ud30c, \\uc124\\ub9bd, \\ud799\\ud569\",\"<b>Topic 2</b><br>Words: \\uc5d4\\ud130, \\uadf8\\ub8f9, \\ud64d\\ud0dc, \\ubbf8\\ub2e4\\uc2a4, \\ube44\\uc2a4\\ud2b8\",\"<b>Topic 2</b><br>Words: \\uc544\\uc774\\ub3cc, \\ub2e4\\uc774\\uc544, \\uc720\\ub2db, \\ub2ec\\uc0e4\\ubcb3, \\uc774\\uc288\",\"<b>Topic 2</b><br>Words: \\ub9e4\\ub2c8\\uc9c0\\uba3c\\ud2b8, \\ubc38\\ub958, \\uadf9\\ub300, \\uc720\\ub2db, \\ub300\\ud45c\",\"<b>Topic 2</b><br>Words: \\ube14\\ub9c1, \\ucc38\\uc5ec, \\ucf00\\uc774\\uc9c0, \\ube44\\uc624, \\uc644\\uc131\\ub3c4\",\"<b>Topic 2</b><br>Words: \\uc18c\\ud5a5, \\ud5c8\\uac01, \\ucef4\\ubc31, \\uc8fc\\uac00, \\ub354\\ube14\\uc720\",\"<b>Topic 2</b><br>Words: \\uc720\\uc8fc, \\uc608\\ub9b0, \\uc18c\\uc6d0, \\uc740\\ud558, \\uc5c4\\uc9c0\",\"<b>Topic 2</b><br>Words: \\uc2e0\\ucd0c\\ube14\\ub8e8\\uc2a4, \\uac00\\uba85, \\uc568\\ubc94, \\ub0a8\\ud3b8, \\ub178\\ub798\",\"<b>Topic 2</b><br>Words: \\uc720\\uc8fc, \\uc601\\ud0c1, \\uc2a4\\ud14c\\uc774\\uc528, \\uc724\\ud558, \\ud55c\\ud130\",\"<b>Topic 2</b><br>Words: \\ubca0\\ub9ac, \\uc815\\ub3d9\\uc6d0, \\uae40\\ud638\\uc911, \\uc2a4\\ud14c\\uc774\\uc528, \\ube14\\ub9ac\",\"<b>Topic 2</b><br>Words: \\ubca0\\ub9ac, \\ube14\\ub9ac, \\uc2a4\\ud14c\\uc774\\uc528, \\ub8e8\\uc2dc, \\ube4c\\ub9ac\",\"<b>Topic 2</b><br>Words: \\ubca0\\ub9ac, \\uacf5\\ubbfc\\uc9c0, \\uc190\\uc900\\ud638, \\ube14\\ub9ac, \\uc11c\\uc778\\uc601\",\"<b>Topic 2</b><br>Words: \\ub274\\uc774\\uc2a4\\ud2b8, \\ubca0\\ub9ac, \\uc0e4\\uc774\\ub2c8, \\ud669\\ubbfc\\ud604, \\uc5d0\\uc2a4\\uc5e0\",\"<b>Topic 2</b><br>Words: \\ub178\\uc744, \\uc568\\ubc94, \\ubc1c\\ub9e4, \\ubc29\\uad6c\\uc11d, \\ud669\\ubbfc\\ud604\",\"<b>Topic 2</b><br>Words: \\uc5b8\\ub354, \\uacf5\\ub3d9, \\uc9c4\\uc601, \\ubb38\\uc81c, \\ud63c\\ub2e4\",\"<b>Topic 2</b><br>Words: \\ub9ac\\uba54\\uc774\\ud06c, \\ubc1c\\ub9e4, \\ube45\\ub9c8\\ub9c8, \\uc774\\uc608\\uc900, \\uba3c\\ub370\\uc774\",\"<b>Topic 2</b><br>Words: \\ubba4\\uc9c1\\uce74\\uc6b0, \\ub178\\ub798, \\ub0a0\\uc528, \\uccad\\ub7c9, \\ube0c\\ub808\\uc774\\ube0c\\uac78\\uc2a4\",\"<b>Topic 2</b><br>Words: \\ubca0\\uc2a4\\ud2b8, \\ube14\\ub9ac, \\uc2e0\\uc0ac, \\ud22c\\uc790, \\ubba4\\uc9c1\\uce74\\uc6b0\"],\"marker\":{\"color\":\"#009E73\"},\"mode\":\"lines\",\"name\":\"2_\\ubca0\\ub9ac_\\uc2a4\\ud14c\\uc774\\uc528_\\uc720\\uc8fc_\\ube14\\ub9ac\",\"x\":[\"2022-12-18T21:51:50.400000\",\"2022-12-23T10:48:00\",\"2022-12-27T21:36:00\",\"2023-01-01T08:24:00\",\"2023-01-05T19:12:00\",\"2023-01-10T06:00:00\",\"2023-01-14T16:48:00\",\"2023-01-23T14:24:00\",\"2023-01-28T01:12:00\",\"2023-02-01T12:00:00\",\"2023-02-05T22:48:00\",\"2023-02-10T09:36:00\",\"2023-02-14T20:24:00\",\"2023-02-19T07:12:00\",\"2023-02-23T18:00:00\",\"2023-03-04T15:36:00\",\"2023-03-09T02:24:00\",\"2023-03-13T13:12:00\"],\"y\":[1,1,1,3,2,3,3,2,9,5,39,25,9,3,3,2,2,6],\"type\":\"scatter\"},{\"hoverinfo\":\"text\",\"hovertext\":[\"<b>Topic 3</b><br>Words: \\uc5f0\\uc608, \\uac00\\uc218, \\uc678\\uad6d\\uc778, \\ubc29\\uc1a1\\uc778, \\uae40\\ud604\\ucca0\",\"<b>Topic 3</b><br>Words: \\uadf8\\ub8f9, \\ud0a4\\uc2a4, \\ubcf4\\uceec, \\ub300\\uc911, \\uac00\\uc218\",\"<b>Topic 3</b><br>Words: \\uc1a1\\uace8\\ub9e4, \\uc804\\uad6d, \\ube44\\ud589, \\uac00\\uc218, \\uc791\\uac00\",\"<b>Topic 3</b><br>Words: \\uae40\\ud765\\uad6d, \\ud68c\\ud654, \\uc18c\\uc7a5, \\uad11\\uc9c4\\uad6c, \\ubc29\\uc1a1\\uc778\",\"<b>Topic 3</b><br>Words: \\uad00\\uacc4, \\uc790\\uc219, \\uc608\\uc5b8\\uc11c, \\uad6c\\uc6d0\\uc790, \\uc8fc\\uc0b4\",\"<b>Topic 3</b><br>Words: \\uc2a4\\ud30c, \\ubaa9\\ud45c, \\ub300\\ud45c, \\uc2dc\\uc7a5, \\ucc3d\\uc5c5\",\"<b>Topic 3</b><br>Words: \\uae40\\ub0a8\\uae38, \\ud2f0\\ube59, \\uc131\\uc900, \\uc774\\ub2e4\\ud76c, \\ud1a0\\uc694\\uc77c\",\"<b>Topic 3</b><br>Words: \\uae40\\uc885\\uad6d, \\uace0\\ud5a5, \\uc548\\uc591\\uc2dc, \\uc548\\uc591, \\uc0ac\\ub791\\uae30\",\"<b>Topic 3</b><br>Words: \\uae40\\uc885\\uad6d, \\uc548\\uc591, \\uc548\\uc591\\uc2dc, \\uc0ac\\ub791\\uae30, \\uc544\\ub4e4\",\"<b>Topic 3</b><br>Words: \\uacbd\\ubd81, \\uc625\\uc678, \\uc548\\uc804, \\uad00\\ub9ac, \\ud589\\uc0ac\",\"<b>Topic 3</b><br>Words: \\uacbd\\ubd81, \\uc9c0\\ubc29, \\uc774\\uc120\\ud76c, \\uc758\\uc6d0, \\uc790\\uce58\",\"<b>Topic 3</b><br>Words: \\ucda9\\ub0a8, \\uae40\\uc7ac\\uc911, \\uc815\\ucc45, \\uc7ac\\uc815, \\uc724\\uc8fc\\uc601\",\"<b>Topic 3</b><br>Words: \\uacb0\\ud63c\\uc2dd, \\uc774\\ub2e4\\uc778, \\uc774\\uc2b9\\uae30, \\uc0ac\\ud68c, \\uc720\\uc7ac\\uc11d\",\"<b>Topic 3</b><br>Words: \\uc528\\uc57c, \\uc5f0\\uc7ac, \\uc815\\uce58, \\uc18c\\uc124, \\ucd94\\ub9ac\",\"<b>Topic 3</b><br>Words: \\uc190\\ub2f4\\ube44, \\uc720\\ud29c\\ube0c, \\uc804\\uaca9, \\uc808\\uce5c, \\uc758\\ud639\"],\"marker\":{\"color\":\"#F0E442\"},\"mode\":\"lines\",\"name\":\"3_\\uacbd\\ubd81_\\uc815\\ucc45_\\uae40\\uc885\\uad6d_\\uac00\\uc218\",\"x\":[\"2022-12-18T21:51:50.400000\",\"2022-12-27T21:36:00\",\"2023-01-01T08:24:00\",\"2023-01-05T19:12:00\",\"2023-01-10T06:00:00\",\"2023-01-14T16:48:00\",\"2023-01-19T03:36:00\",\"2023-01-23T14:24:00\",\"2023-01-28T01:12:00\",\"2023-02-01T12:00:00\",\"2023-02-05T22:48:00\",\"2023-02-10T09:36:00\",\"2023-02-23T18:00:00\",\"2023-03-09T02:24:00\",\"2023-03-13T13:12:00\"],\"y\":[8,3,5,4,1,1,4,16,7,3,23,15,1,2,1],\"type\":\"scatter\"},{\"hoverinfo\":\"text\",\"hovertext\":[\"<b>Topic 4</b><br>Words: \\uc5d1\\uc18c, \\ucef4\\ubc31, \\ubc31\\uae30, \\uc218\\ud638, \\uc644\\uc804\\uccb4\",\"<b>Topic 4</b><br>Words: \\uc9c0\\uc218, \\ube0c\\ub79c\\ub4dc, \\ud3c9\\ud310, \\ubd84\\uc11d, \\ubc29\\ud0c4\\uc18c\\ub144\\ub2e8\",\"<b>Topic 4</b><br>Words: \\ube0c\\ub79c\\ub4dc, \\uc9c0\\uc218, \\ud3c9\\ud310, \\ubc29\\ud0c4\\uc18c\\ub144\\ub2e8, \\ubd84\\uc11d\",\"<b>Topic 4</b><br>Words: \\ud604\\ub300\\ucc28, \\uc18c\\ud615, \\ucf54\\ub098, \\ucd5c\\uc120\\ud638, \\ucc45\\uc784\",\"<b>Topic 4</b><br>Words: \\uc9c0\\ubbfc, \\ubd84\\uc11d, \\uae0d\\uc815, \\ub370\\uc774\\ud130, \\uc9c0\\uc218\",\"<b>Topic 4</b><br>Words: \\ube0c\\ub79c\\ub4dc, \\uc9c0\\uc218, \\ud3c9\\ud310, \\ubd84\\uc11d, \\ubc29\\ud0c4\\uc18c\\ub144\\ub2e8\",\"<b>Topic 4</b><br>Words: \\uc9c0\\uc218, \\ube0c\\ub79c\\ub4dc, \\ud3c9\\ud310, \\ubd84\\uc11d, \\ubbf8\\ub514\\uc5b4\",\"<b>Topic 4</b><br>Words: \\ubc31\\ud604, \\uc18c\\uc9d1, \\ud574\\uc81c, \\ubcf5\\ubb34, \\uc5d1\\uc18c\",\"<b>Topic 4</b><br>Words: \\ubc31\\ud604, \\uc5d1\\uc18c, \\uc18c\\uc9d1, \\ud574\\uc81c, \\ubcf5\\ubb34\",\"<b>Topic 4</b><br>Words: \\uc9c0\\uc218, \\ube0c\\ub79c\\ub4dc, \\ud3c9\\ud310, \\ubd84\\uc11d, \\ubcf4\\uc774\",\"<b>Topic 4</b><br>Words: \\uc9c0\\uc218, \\ube0c\\ub79c\\ub4dc, \\ud3c9\\ud310, \\ubd84\\uc11d, \\ubc29\\ud0c4\\uc18c\\ub144\\ub2e8\",\"<b>Topic 4</b><br>Words: \\uc5f0\\uadf9, \\ucc28\\uc120\\uc6b0, \\uc624\\ub378\\ub85c, \\ub3c4\\uc804, b1a4\",\"<b>Topic 4</b><br>Words: \\uc9c0\\uc218, \\ube0c\\ub79c\\ub4dc, \\ud3c9\\ud310, \\ubd84\\uc11d, \\ubbf8\\ub514\\uc5b4\",\"<b>Topic 4</b><br>Words: \\ubabd\\uace8, \\ud604\\uc9c0, \\ud574\\uacb0, \\uae30\\ud6c4, \\ubc1c\\uc0dd\"],\"marker\":{\"color\":\"#D55E00\"},\"mode\":\"lines\",\"name\":\"4_\\uc9c0\\uc218_\\ube0c\\ub79c\\ub4dc_\\ud3c9\\ud310_\\ubd84\\uc11d\",\"x\":[\"2023-01-01T08:24:00\",\"2023-01-05T19:12:00\",\"2023-01-10T06:00:00\",\"2023-01-14T16:48:00\",\"2023-01-19T03:36:00\",\"2023-01-23T14:24:00\",\"2023-01-28T01:12:00\",\"2023-02-01T12:00:00\",\"2023-02-05T22:48:00\",\"2023-02-10T09:36:00\",\"2023-02-14T20:24:00\",\"2023-02-19T07:12:00\",\"2023-02-23T18:00:00\",\"2023-03-13T13:12:00\"],\"y\":[1,7,13,7,3,13,3,14,4,12,5,1,6,1],\"type\":\"scatter\"},{\"hoverinfo\":\"text\",\"hovertext\":[\"<b>Topic 5</b><br>Words: \\ubc15\\uc7ac\\ubc94, 2pm, \\ucf00\\uc774, \\uace8\\ud504, \\uae40\\ubbfc\\uc218\",\"<b>Topic 5</b><br>Words: \\ud64d\\ucf69, \\ud669\\ucc2c\\uc131, 2pm, \\ud55c\\uac00\\uc778, \\uc601\\ud654\",\"<b>Topic 5</b><br>Words: \\ud669\\ucc2c\\uc131, 2pm, \\uc8fc\\uc0c1\\uc6b1, \\ud558\\uc6b0\\uc2a4, \\uc870\\uad50\",\"<b>Topic 5</b><br>Words: \\uc0dd\\ud65c, 2pm, \\uad70\\ub300, \\ud669\\ucc2c\\uc131, \\uc2e0\\ubcd1\\uad50\\uc721\\ub300\",\"<b>Topic 5</b><br>Words: \\ud558\\uc6b0\\uc2a4, 2pm, \\ud669\\ucc2c\\uc131, \\uc8fc\\uc0c1\\uc6b1, \\uc5f0\\uae30\",\"<b>Topic 5</b><br>Words: \\uc774\\uc900\\ud638, 2pm, \\uc6d4\\ub4dc, \\ube44\\uc804, \\uc5d0\\ud2f0\\uc624\\ud53c\\uc544\",\"<b>Topic 5</b><br>Words: 2pm, \\uc77c\\uc815, \\ucf58\\uc11c\\ud2b8, \\uacc4\\ud68d, \\uc644\\uc804\\uccb4\",\"<b>Topic 5</b><br>Words: 2pm, \\ud669\\ucc2c\\uc131, \\ub370\\ubcf4\\ub77c, \\ubcf4\\ub77c, \\ub4dc\\ub77c\\ub9c8\",\"<b>Topic 5</b><br>Words: \\uc774\\ub8e8\\ub9c8, \\uc601\\uc5ed, \\uc5f0\\uc8fc, \\uc560\\ub2c8\\uba54\\uc774\\uc158, \\ubc31\\uc9c0\\uc601\"],\"marker\":{\"color\":\"#0072B2\"},\"mode\":\"lines\",\"name\":\"5_2pm_\\ud669\\ucc2c\\uc131_\\ud558\\uc6b0\\uc2a4_\\uc8fc\\uc0c1\\uc6b1\",\"x\":[\"2023-01-05T19:12:00\",\"2023-01-10T06:00:00\",\"2023-01-14T16:48:00\",\"2023-01-19T03:36:00\",\"2023-01-23T14:24:00\",\"2023-01-28T01:12:00\",\"2023-02-01T12:00:00\",\"2023-02-05T22:48:00\",\"2023-02-14T20:24:00\"],\"y\":[8,6,33,2,5,6,1,6,1],\"type\":\"scatter\"}],                        {\"template\":{\"data\":{\"barpolar\":[{\"marker\":{\"line\":{\"color\":\"white\",\"width\":0.5},\"pattern\":{\"fillmode\":\"overlay\",\"size\":10,\"solidity\":0.2}},\"type\":\"barpolar\"}],\"bar\":[{\"error_x\":{\"color\":\"rgb(36,36,36)\"},\"error_y\":{\"color\":\"rgb(36,36,36)\"},\"marker\":{\"line\":{\"color\":\"white\",\"width\":0.5},\"pattern\":{\"fillmode\":\"overlay\",\"size\":10,\"solidity\":0.2}},\"type\":\"bar\"}],\"carpet\":[{\"aaxis\":{\"endlinecolor\":\"rgb(36,36,36)\",\"gridcolor\":\"white\",\"linecolor\":\"white\",\"minorgridcolor\":\"white\",\"startlinecolor\":\"rgb(36,36,36)\"},\"baxis\":{\"endlinecolor\":\"rgb(36,36,36)\",\"gridcolor\":\"white\",\"linecolor\":\"white\",\"minorgridcolor\":\"white\",\"startlinecolor\":\"rgb(36,36,36)\"},\"type\":\"carpet\"}],\"choropleth\":[{\"colorbar\":{\"outlinewidth\":1,\"tickcolor\":\"rgb(36,36,36)\",\"ticks\":\"outside\"},\"type\":\"choropleth\"}],\"contourcarpet\":[{\"colorbar\":{\"outlinewidth\":1,\"tickcolor\":\"rgb(36,36,36)\",\"ticks\":\"outside\"},\"type\":\"contourcarpet\"}],\"contour\":[{\"colorbar\":{\"outlinewidth\":1,\"tickcolor\":\"rgb(36,36,36)\",\"ticks\":\"outside\"},\"colorscale\":[[0.0,\"#440154\"],[0.1111111111111111,\"#482878\"],[0.2222222222222222,\"#3e4989\"],[0.3333333333333333,\"#31688e\"],[0.4444444444444444,\"#26828e\"],[0.5555555555555556,\"#1f9e89\"],[0.6666666666666666,\"#35b779\"],[0.7777777777777778,\"#6ece58\"],[0.8888888888888888,\"#b5de2b\"],[1.0,\"#fde725\"]],\"type\":\"contour\"}],\"heatmapgl\":[{\"colorbar\":{\"outlinewidth\":1,\"tickcolor\":\"rgb(36,36,36)\",\"ticks\":\"outside\"},\"colorscale\":[[0.0,\"#440154\"],[0.1111111111111111,\"#482878\"],[0.2222222222222222,\"#3e4989\"],[0.3333333333333333,\"#31688e\"],[0.4444444444444444,\"#26828e\"],[0.5555555555555556,\"#1f9e89\"],[0.6666666666666666,\"#35b779\"],[0.7777777777777778,\"#6ece58\"],[0.8888888888888888,\"#b5de2b\"],[1.0,\"#fde725\"]],\"type\":\"heatmapgl\"}],\"heatmap\":[{\"colorbar\":{\"outlinewidth\":1,\"tickcolor\":\"rgb(36,36,36)\",\"ticks\":\"outside\"},\"colorscale\":[[0.0,\"#440154\"],[0.1111111111111111,\"#482878\"],[0.2222222222222222,\"#3e4989\"],[0.3333333333333333,\"#31688e\"],[0.4444444444444444,\"#26828e\"],[0.5555555555555556,\"#1f9e89\"],[0.6666666666666666,\"#35b779\"],[0.7777777777777778,\"#6ece58\"],[0.8888888888888888,\"#b5de2b\"],[1.0,\"#fde725\"]],\"type\":\"heatmap\"}],\"histogram2dcontour\":[{\"colorbar\":{\"outlinewidth\":1,\"tickcolor\":\"rgb(36,36,36)\",\"ticks\":\"outside\"},\"colorscale\":[[0.0,\"#440154\"],[0.1111111111111111,\"#482878\"],[0.2222222222222222,\"#3e4989\"],[0.3333333333333333,\"#31688e\"],[0.4444444444444444,\"#26828e\"],[0.5555555555555556,\"#1f9e89\"],[0.6666666666666666,\"#35b779\"],[0.7777777777777778,\"#6ece58\"],[0.8888888888888888,\"#b5de2b\"],[1.0,\"#fde725\"]],\"type\":\"histogram2dcontour\"}],\"histogram2d\":[{\"colorbar\":{\"outlinewidth\":1,\"tickcolor\":\"rgb(36,36,36)\",\"ticks\":\"outside\"},\"colorscale\":[[0.0,\"#440154\"],[0.1111111111111111,\"#482878\"],[0.2222222222222222,\"#3e4989\"],[0.3333333333333333,\"#31688e\"],[0.4444444444444444,\"#26828e\"],[0.5555555555555556,\"#1f9e89\"],[0.6666666666666666,\"#35b779\"],[0.7777777777777778,\"#6ece58\"],[0.8888888888888888,\"#b5de2b\"],[1.0,\"#fde725\"]],\"type\":\"histogram2d\"}],\"histogram\":[{\"marker\":{\"line\":{\"color\":\"white\",\"width\":0.6}},\"type\":\"histogram\"}],\"mesh3d\":[{\"colorbar\":{\"outlinewidth\":1,\"tickcolor\":\"rgb(36,36,36)\",\"ticks\":\"outside\"},\"type\":\"mesh3d\"}],\"parcoords\":[{\"line\":{\"colorbar\":{\"outlinewidth\":1,\"tickcolor\":\"rgb(36,36,36)\",\"ticks\":\"outside\"}},\"type\":\"parcoords\"}],\"pie\":[{\"automargin\":true,\"type\":\"pie\"}],\"scatter3d\":[{\"line\":{\"colorbar\":{\"outlinewidth\":1,\"tickcolor\":\"rgb(36,36,36)\",\"ticks\":\"outside\"}},\"marker\":{\"colorbar\":{\"outlinewidth\":1,\"tickcolor\":\"rgb(36,36,36)\",\"ticks\":\"outside\"}},\"type\":\"scatter3d\"}],\"scattercarpet\":[{\"marker\":{\"colorbar\":{\"outlinewidth\":1,\"tickcolor\":\"rgb(36,36,36)\",\"ticks\":\"outside\"}},\"type\":\"scattercarpet\"}],\"scattergeo\":[{\"marker\":{\"colorbar\":{\"outlinewidth\":1,\"tickcolor\":\"rgb(36,36,36)\",\"ticks\":\"outside\"}},\"type\":\"scattergeo\"}],\"scattergl\":[{\"marker\":{\"colorbar\":{\"outlinewidth\":1,\"tickcolor\":\"rgb(36,36,36)\",\"ticks\":\"outside\"}},\"type\":\"scattergl\"}],\"scattermapbox\":[{\"marker\":{\"colorbar\":{\"outlinewidth\":1,\"tickcolor\":\"rgb(36,36,36)\",\"ticks\":\"outside\"}},\"type\":\"scattermapbox\"}],\"scatterpolargl\":[{\"marker\":{\"colorbar\":{\"outlinewidth\":1,\"tickcolor\":\"rgb(36,36,36)\",\"ticks\":\"outside\"}},\"type\":\"scatterpolargl\"}],\"scatterpolar\":[{\"marker\":{\"colorbar\":{\"outlinewidth\":1,\"tickcolor\":\"rgb(36,36,36)\",\"ticks\":\"outside\"}},\"type\":\"scatterpolar\"}],\"scatter\":[{\"marker\":{\"colorbar\":{\"outlinewidth\":1,\"tickcolor\":\"rgb(36,36,36)\",\"ticks\":\"outside\"}},\"type\":\"scatter\"}],\"scatterternary\":[{\"marker\":{\"colorbar\":{\"outlinewidth\":1,\"tickcolor\":\"rgb(36,36,36)\",\"ticks\":\"outside\"}},\"type\":\"scatterternary\"}],\"surface\":[{\"colorbar\":{\"outlinewidth\":1,\"tickcolor\":\"rgb(36,36,36)\",\"ticks\":\"outside\"},\"colorscale\":[[0.0,\"#440154\"],[0.1111111111111111,\"#482878\"],[0.2222222222222222,\"#3e4989\"],[0.3333333333333333,\"#31688e\"],[0.4444444444444444,\"#26828e\"],[0.5555555555555556,\"#1f9e89\"],[0.6666666666666666,\"#35b779\"],[0.7777777777777778,\"#6ece58\"],[0.8888888888888888,\"#b5de2b\"],[1.0,\"#fde725\"]],\"type\":\"surface\"}],\"table\":[{\"cells\":{\"fill\":{\"color\":\"rgb(237,237,237)\"},\"line\":{\"color\":\"white\"}},\"header\":{\"fill\":{\"color\":\"rgb(217,217,217)\"},\"line\":{\"color\":\"white\"}},\"type\":\"table\"}]},\"layout\":{\"annotationdefaults\":{\"arrowhead\":0,\"arrowwidth\":1},\"autotypenumbers\":\"strict\",\"coloraxis\":{\"colorbar\":{\"outlinewidth\":1,\"tickcolor\":\"rgb(36,36,36)\",\"ticks\":\"outside\"}},\"colorscale\":{\"diverging\":[[0.0,\"rgb(103,0,31)\"],[0.1,\"rgb(178,24,43)\"],[0.2,\"rgb(214,96,77)\"],[0.3,\"rgb(244,165,130)\"],[0.4,\"rgb(253,219,199)\"],[0.5,\"rgb(247,247,247)\"],[0.6,\"rgb(209,229,240)\"],[0.7,\"rgb(146,197,222)\"],[0.8,\"rgb(67,147,195)\"],[0.9,\"rgb(33,102,172)\"],[1.0,\"rgb(5,48,97)\"]],\"sequential\":[[0.0,\"#440154\"],[0.1111111111111111,\"#482878\"],[0.2222222222222222,\"#3e4989\"],[0.3333333333333333,\"#31688e\"],[0.4444444444444444,\"#26828e\"],[0.5555555555555556,\"#1f9e89\"],[0.6666666666666666,\"#35b779\"],[0.7777777777777778,\"#6ece58\"],[0.8888888888888888,\"#b5de2b\"],[1.0,\"#fde725\"]],\"sequentialminus\":[[0.0,\"#440154\"],[0.1111111111111111,\"#482878\"],[0.2222222222222222,\"#3e4989\"],[0.3333333333333333,\"#31688e\"],[0.4444444444444444,\"#26828e\"],[0.5555555555555556,\"#1f9e89\"],[0.6666666666666666,\"#35b779\"],[0.7777777777777778,\"#6ece58\"],[0.8888888888888888,\"#b5de2b\"],[1.0,\"#fde725\"]]},\"colorway\":[\"#1F77B4\",\"#FF7F0E\",\"#2CA02C\",\"#D62728\",\"#9467BD\",\"#8C564B\",\"#E377C2\",\"#7F7F7F\",\"#BCBD22\",\"#17BECF\"],\"font\":{\"color\":\"rgb(36,36,36)\"},\"geo\":{\"bgcolor\":\"white\",\"lakecolor\":\"white\",\"landcolor\":\"white\",\"showlakes\":true,\"showland\":true,\"subunitcolor\":\"white\"},\"hoverlabel\":{\"align\":\"left\"},\"hovermode\":\"closest\",\"mapbox\":{\"style\":\"light\"},\"paper_bgcolor\":\"white\",\"plot_bgcolor\":\"white\",\"polar\":{\"angularaxis\":{\"gridcolor\":\"rgb(232,232,232)\",\"linecolor\":\"rgb(36,36,36)\",\"showgrid\":false,\"showline\":true,\"ticks\":\"outside\"},\"bgcolor\":\"white\",\"radialaxis\":{\"gridcolor\":\"rgb(232,232,232)\",\"linecolor\":\"rgb(36,36,36)\",\"showgrid\":false,\"showline\":true,\"ticks\":\"outside\"}},\"scene\":{\"xaxis\":{\"backgroundcolor\":\"white\",\"gridcolor\":\"rgb(232,232,232)\",\"gridwidth\":2,\"linecolor\":\"rgb(36,36,36)\",\"showbackground\":true,\"showgrid\":false,\"showline\":true,\"ticks\":\"outside\",\"zeroline\":false,\"zerolinecolor\":\"rgb(36,36,36)\"},\"yaxis\":{\"backgroundcolor\":\"white\",\"gridcolor\":\"rgb(232,232,232)\",\"gridwidth\":2,\"linecolor\":\"rgb(36,36,36)\",\"showbackground\":true,\"showgrid\":false,\"showline\":true,\"ticks\":\"outside\",\"zeroline\":false,\"zerolinecolor\":\"rgb(36,36,36)\"},\"zaxis\":{\"backgroundcolor\":\"white\",\"gridcolor\":\"rgb(232,232,232)\",\"gridwidth\":2,\"linecolor\":\"rgb(36,36,36)\",\"showbackground\":true,\"showgrid\":false,\"showline\":true,\"ticks\":\"outside\",\"zeroline\":false,\"zerolinecolor\":\"rgb(36,36,36)\"}},\"shapedefaults\":{\"fillcolor\":\"black\",\"line\":{\"width\":0},\"opacity\":0.3},\"ternary\":{\"aaxis\":{\"gridcolor\":\"rgb(232,232,232)\",\"linecolor\":\"rgb(36,36,36)\",\"showgrid\":false,\"showline\":true,\"ticks\":\"outside\"},\"baxis\":{\"gridcolor\":\"rgb(232,232,232)\",\"linecolor\":\"rgb(36,36,36)\",\"showgrid\":false,\"showline\":true,\"ticks\":\"outside\"},\"bgcolor\":\"white\",\"caxis\":{\"gridcolor\":\"rgb(232,232,232)\",\"linecolor\":\"rgb(36,36,36)\",\"showgrid\":false,\"showline\":true,\"ticks\":\"outside\"}},\"title\":{\"x\":0.05},\"xaxis\":{\"automargin\":true,\"gridcolor\":\"rgb(232,232,232)\",\"linecolor\":\"rgb(36,36,36)\",\"showgrid\":false,\"showline\":true,\"ticks\":\"outside\",\"title\":{\"standoff\":15},\"zeroline\":false,\"zerolinecolor\":\"rgb(36,36,36)\"},\"yaxis\":{\"automargin\":true,\"gridcolor\":\"rgb(232,232,232)\",\"linecolor\":\"rgb(36,36,36)\",\"showgrid\":false,\"showline\":true,\"ticks\":\"outside\",\"title\":{\"standoff\":15},\"zeroline\":false,\"zerolinecolor\":\"rgb(36,36,36)\"}}},\"xaxis\":{\"showgrid\":true},\"yaxis\":{\"showgrid\":true,\"title\":{\"text\":\"Frequency\"}},\"title\":{\"font\":{\"size\":22,\"color\":\"Black\"},\"text\":\"<b>Topics over Time\",\"y\":0.95,\"x\":0.4,\"xanchor\":\"center\",\"yanchor\":\"top\"},\"hoverlabel\":{\"font\":{\"size\":16,\"family\":\"Rockwell\"},\"bgcolor\":\"white\"},\"width\":900,\"height\":450,\"legend\":{\"title\":{\"text\":\"<b>Global Topic Representation\"}}},                        {\"responsive\": true}                    ).then(function(){\n",
       "                            \n",
       "var gd = document.getElementById('a818ab29-69f3-4c36-a3cf-cbb12498e7df');\n",
       "var x = new MutationObserver(function (mutations, observer) {{\n",
       "        var display = window.getComputedStyle(gd).display;\n",
       "        if (!display || display === 'none') {{\n",
       "            console.log([gd, 'removed!']);\n",
       "            Plotly.purge(gd);\n",
       "            observer.disconnect();\n",
       "        }}\n",
       "}});\n",
       "\n",
       "// Listen for the removal of the full notebook cells\n",
       "var notebookContainer = gd.closest('#notebook-container');\n",
       "if (notebookContainer) {{\n",
       "    x.observe(notebookContainer, {childList: true});\n",
       "}}\n",
       "\n",
       "// Listen for the clearing of the current output cell\n",
       "var outputEl = gd.closest('.output');\n",
       "if (outputEl) {{\n",
       "    x.observe(outputEl, {childList: true});\n",
       "}}\n",
       "\n",
       "                        })                };                });            </script>        </div>"
      ]
     },
     "metadata": {},
     "output_type": "display_data"
    }
   ],
   "source": [
    "fig"
   ]
  }
 ],
 "metadata": {
  "kernelspec": {
   "display_name": "Python 3",
   "language": "python",
   "name": "python3"
  },
  "language_info": {
   "codemirror_mode": {
    "name": "ipython",
    "version": 3
   },
   "file_extension": ".py",
   "mimetype": "text/x-python",
   "name": "python",
   "nbconvert_exporter": "python",
   "pygments_lexer": "ipython3",
   "version": "3.8.8"
  }
 },
 "nbformat": 4,
 "nbformat_minor": 5
}
