{
 "cells": [
  {
   "cell_type": "markdown",
   "id": "9f9d22d7",
   "metadata": {},
   "source": [
    "##### 기사 제목, 본문 21년 06 월 까지 쿼리"
   ]
  },
  {
   "cell_type": "code",
   "execution_count": 90,
   "id": "0f211814",
   "metadata": {},
   "outputs": [],
   "source": [
    "from pymongo import MongoClient\n",
    "import itertools\n",
    "client = MongoClient('localhost', 27017)\n",
    "db = client.article\n",
    "\n",
    "col = db.article_info1\n",
    "articles1 = col.find({'$and': [{'text':{'$exists':True}},\n",
    "                             {'$or':[{'date':{'$regex':'2022-01'}},{'date':{'$regex':'2021-12'}},\n",
    "                           {'date':{'$regex':'2021-11'}},{'date':{'$regex':'2021-10'}},\n",
    "                           {'date':{'$regex':'2021-09'}},{'date':{'$regex':'2021-08'}},\n",
    "                                    {'date':{'$regex':'2021-07'}},{'date':{'$regex':'2021-06'}}]}]})\n",
    "title1 = list(map(lambda x : x['article_title'], articles1))\n",
    "articles1 = col.find({'$and': [{'text':{'$exists':True}},\n",
    "                             {'$or':[{'date':{'$regex':'2022-01'}},{'date':{'$regex':'2021-12'}},\n",
    "                           {'date':{'$regex':'2021-11'}},{'date':{'$regex':'2021-10'}},\n",
    "                           {'date':{'$regex':'2021-09'}},{'date':{'$regex':'2021-08'}},\n",
    "                                    {'date':{'$regex':'2021-07'}},{'date':{'$regex':'2021-06'}}]}]})\n",
    "text1 = list(map(lambda x : x['text'], articles1))\n",
    "\n",
    "col = db.article_info2\n",
    "articles2 = col.find({'$and': [{'text':{'$exists':True}},\n",
    "                             {'$or':[{'date':{'$regex':'2022-01'}},{'date':{'$regex':'2021-12'}},\n",
    "                           {'date':{'$regex':'2021-11'}},{'date':{'$regex':'2021-10'}},\n",
    "                           {'date':{'$regex':'2021-09'}},{'date':{'$regex':'2021-08'}},\n",
    "                                    {'date':{'$regex':'2021-07'}},{'date':{'$regex':'2021-06'}}]}]})\n",
    "title2 = list(map(lambda x : x['article_title'], articles2))\n",
    "articles2 = col.find({'$and': [{'text':{'$exists':True}},\n",
    "                             {'$or':[{'date':{'$regex':'2022-01'}},{'date':{'$regex':'2021-12'}},\n",
    "                           {'date':{'$regex':'2021-11'}},{'date':{'$regex':'2021-10'}},\n",
    "                           {'date':{'$regex':'2021-09'}},{'date':{'$regex':'2021-08'}},\n",
    "                                    {'date':{'$regex':'2021-07'}},{'date':{'$regex':'2021-06'}}]}]})\n",
    "text2 = list(map(lambda x : x['text'], articles2))\n",
    "\n",
    "col = db.article_info3\n",
    "articles3 = col.find({'$and': [{'text':{'$exists':True}},\n",
    "                             {'$or':[{'date':{'$regex':'2022-01'}},{'date':{'$regex':'2021-12'}},\n",
    "                           {'date':{'$regex':'2021-11'}},{'date':{'$regex':'2021-10'}},\n",
    "                           {'date':{'$regex':'2021-09'}},{'date':{'$regex':'2021-08'}},\n",
    "                                    {'date':{'$regex':'2021-07'}},{'date':{'$regex':'2021-06'}}]}]})\n",
    "title3 = list(map(lambda x : x['article_title'], articles3))\n",
    "articles3 = col.find({'$and': [{'text':{'$exists':True}},\n",
    "                             {'$or':[{'date':{'$regex':'2022-01'}},{'date':{'$regex':'2021-12'}},\n",
    "                           {'date':{'$regex':'2021-11'}},{'date':{'$regex':'2021-10'}},\n",
    "                           {'date':{'$regex':'2021-09'}},{'date':{'$regex':'2021-08'}},\n",
    "                                    {'date':{'$regex':'2021-07'}},{'date':{'$regex':'2021-06'}}]}]})\n",
    "text3 = list(map(lambda x : x['text'], articles3))\n"
   ]
  },
  {
   "cell_type": "markdown",
   "id": "b4be7b84",
   "metadata": {},
   "source": [
    "##### 기사 제목, 본문을 합치고 전처리하는 과정"
   ]
  },
  {
   "cell_type": "code",
   "execution_count": 91,
   "id": "3797d298",
   "metadata": {},
   "outputs": [],
   "source": [
    "# 이중 리스트를 하나의 리스트로 묶어주는 작업\n",
    "tmp_list = list(map(lambda x: x.split('. '),text1))\n",
    "texts1 = list(itertools.chain(*tmp_list))\n",
    "tmp_list = list(map(lambda x: x.split('. '),text2))\n",
    "texts2 = list(itertools.chain(*tmp_list))\n",
    "tmp_list = list(map(lambda x: x.split('. '),text3))\n",
    "texts3 = list(itertools.chain(*tmp_list))"
   ]
  },
  {
   "cell_type": "code",
   "execution_count": 92,
   "id": "5e780644",
   "metadata": {},
   "outputs": [],
   "source": [
    "sentences = title1+title2+title3+texts1+texts2+texts3"
   ]
  },
  {
   "cell_type": "code",
   "execution_count": 93,
   "id": "487c673e",
   "metadata": {},
   "outputs": [],
   "source": [
    "# 특수기호 제거\n",
    "pre_sentences = list(map(lambda x : x.replace(\"[^A-za-z가-힣ㄱ-ㅎㅏㅡㅣ ]\",\"\").strip(), sentences))\n",
    "pre_sentences = list(map(lambda x : x.replace('[',''), pre_sentences))\n",
    "pre_sentences = list(map(lambda x : x.replace(']',''), pre_sentences))\n",
    "pre_sentences = list(map(lambda x : x.replace('\"',''), pre_sentences))"
   ]
  },
  {
   "cell_type": "code",
   "execution_count": 94,
   "id": "be29659b",
   "metadata": {},
   "outputs": [
    {
     "data": {
      "text/plain": [
       "3933902"
      ]
     },
     "execution_count": 94,
     "metadata": {},
     "output_type": "execute_result"
    }
   ],
   "source": [
    "len(pre_sentences)"
   ]
  },
  {
   "cell_type": "code",
   "execution_count": 95,
   "id": "8562a3e8",
   "metadata": {},
   "outputs": [],
   "source": [
    "import pandas as pd\n",
    "sen_df = pd.DataFrame(pre_sentences, columns = ['text'])"
   ]
  },
  {
   "cell_type": "code",
   "execution_count": 42,
   "id": "87cd06cd",
   "metadata": {},
   "outputs": [
    {
     "data": {
      "text/html": [
       "<div>\n",
       "<style scoped>\n",
       "    .dataframe tbody tr th:only-of-type {\n",
       "        vertical-align: middle;\n",
       "    }\n",
       "\n",
       "    .dataframe tbody tr th {\n",
       "        vertical-align: top;\n",
       "    }\n",
       "\n",
       "    .dataframe thead th {\n",
       "        text-align: right;\n",
       "    }\n",
       "</style>\n",
       "<table border=\"1\" class=\"dataframe\">\n",
       "  <thead>\n",
       "    <tr style=\"text-align: right;\">\n",
       "      <th></th>\n",
       "      <th>text</th>\n",
       "    </tr>\n",
       "  </thead>\n",
       "  <tbody>\n",
       "    <tr>\n",
       "      <th>0</th>\n",
       "      <td>한선화 숙취해소법? 라면 먹고 아이스크림</td>\n",
       "    </tr>\n",
       "    <tr>\n",
       "      <th>1</th>\n",
       "      <td>한선화, 군복무 중 동생 한승우 면회? 이렇게 사이좋은 남매라니</td>\n",
       "    </tr>\n",
       "    <tr>\n",
       "      <th>2</th>\n",
       "      <td>한선화, 군인 동생 한승우 면회..누나 덕에 선임들 예쁨 받겠네</td>\n",
       "    </tr>\n",
       "    <tr>\n",
       "      <th>3</th>\n",
       "      <td>연우→김소정, 배우 전향…'연기돌' 계보 이을까 ST이슈</td>\n",
       "    </tr>\n",
       "    <tr>\n",
       "      <th>4</th>\n",
       "      <td>시크릿 출신 전효성, 점프도 잘해..깜찍발랄 비주얼</td>\n",
       "    </tr>\n",
       "    <tr>\n",
       "      <th>...</th>\n",
       "      <td>...</td>\n",
       "    </tr>\n",
       "    <tr>\n",
       "      <th>2359850</th>\n",
       "      <td>'비비고'를 검색하면 'CJ제일제당'과 'CJ씨푸드'가 나오는 등 종목 검색을 쉽게...</td>\n",
       "    </tr>\n",
       "    <tr>\n",
       "      <th>2359851</th>\n",
       "      <td>복잡한 주가차트도 간소화했는데, 이런 영향인지 출범한 지 3개월 만에 350만명의 ...</td>\n",
       "    </tr>\n",
       "    <tr>\n",
       "      <th>2359852</th>\n",
       "      <td>제가 '좋니'라는 음악으로 수익률 50%를 기록한 것처럼 익숙하고 친근한 상품에 투...</td>\n",
       "    </tr>\n",
       "    <tr>\n",
       "      <th>2359853</th>\n",
       "      <td>하지만 이런 투자도 손실이 발생할 수 있기 때문에 사전에 다각적 점검은 꼭 필요하겠죠</td>\n",
       "    </tr>\n",
       "    <tr>\n",
       "      <th>2359854</th>\n",
       "      <td>지금까지 이지효 기자였습니다.</td>\n",
       "    </tr>\n",
       "  </tbody>\n",
       "</table>\n",
       "<p>2359855 rows × 1 columns</p>\n",
       "</div>"
      ],
      "text/plain": [
       "                                                      text\n",
       "0                                   한선화 숙취해소법? 라면 먹고 아이스크림\n",
       "1                      한선화, 군복무 중 동생 한승우 면회? 이렇게 사이좋은 남매라니\n",
       "2                      한선화, 군인 동생 한승우 면회..누나 덕에 선임들 예쁨 받겠네\n",
       "3                          연우→김소정, 배우 전향…'연기돌' 계보 이을까 ST이슈\n",
       "4                             시크릿 출신 전효성, 점프도 잘해..깜찍발랄 비주얼\n",
       "...                                                    ...\n",
       "2359850  '비비고'를 검색하면 'CJ제일제당'과 'CJ씨푸드'가 나오는 등 종목 검색을 쉽게...\n",
       "2359851  복잡한 주가차트도 간소화했는데, 이런 영향인지 출범한 지 3개월 만에 350만명의 ...\n",
       "2359852  제가 '좋니'라는 음악으로 수익률 50%를 기록한 것처럼 익숙하고 친근한 상품에 투...\n",
       "2359853    하지만 이런 투자도 손실이 발생할 수 있기 때문에 사전에 다각적 점검은 꼭 필요하겠죠\n",
       "2359854                                   지금까지 이지효 기자였습니다.\n",
       "\n",
       "[2359855 rows x 1 columns]"
      ]
     },
     "execution_count": 42,
     "metadata": {},
     "output_type": "execute_result"
    }
   ],
   "source": [
    "sen_df"
   ]
  },
  {
   "cell_type": "code",
   "execution_count": 44,
   "id": "1dae21df",
   "metadata": {},
   "outputs": [],
   "source": [
    "from konlpy.tag import Mecab\n",
    "mecab = Mecab(dicpath = r'C:\\mecab\\mecab-ko-dic')"
   ]
  },
  {
   "cell_type": "code",
   "execution_count": 96,
   "id": "f898a454",
   "metadata": {},
   "outputs": [],
   "source": [
    "# 토크나이즈 컬럼 생성\n",
    "sen_df['pre_text'] = sen_df.text.apply(lambda x : mecab.nouns(x))"
   ]
  },
  {
   "cell_type": "code",
   "execution_count": 97,
   "id": "a875ce17",
   "metadata": {},
   "outputs": [
    {
     "data": {
      "text/html": [
       "<div>\n",
       "<style scoped>\n",
       "    .dataframe tbody tr th:only-of-type {\n",
       "        vertical-align: middle;\n",
       "    }\n",
       "\n",
       "    .dataframe tbody tr th {\n",
       "        vertical-align: top;\n",
       "    }\n",
       "\n",
       "    .dataframe thead th {\n",
       "        text-align: right;\n",
       "    }\n",
       "</style>\n",
       "<table border=\"1\" class=\"dataframe\">\n",
       "  <thead>\n",
       "    <tr style=\"text-align: right;\">\n",
       "      <th></th>\n",
       "      <th>text</th>\n",
       "      <th>pre_text</th>\n",
       "    </tr>\n",
       "  </thead>\n",
       "  <tbody>\n",
       "    <tr>\n",
       "      <th>0</th>\n",
       "      <td>한선화 숙취해소법? 라면 먹고 아이스크림</td>\n",
       "      <td>[한선, 숙취, 소법, 라면, 아이스크림]</td>\n",
       "    </tr>\n",
       "    <tr>\n",
       "      <th>1</th>\n",
       "      <td>한선화, 군복무 중 동생 한승우 면회? 이렇게 사이좋은 남매라니</td>\n",
       "      <td>[한선화, 군, 복무, 중, 동생, 한승우, 면회, 사이, 남매]</td>\n",
       "    </tr>\n",
       "    <tr>\n",
       "      <th>2</th>\n",
       "      <td>한선화, 군인 동생 한승우 면회..누나 덕에 선임들 예쁨 받겠네</td>\n",
       "      <td>[한선화, 군인, 동생, 한승우, 면회, 누나, 덕, 선임]</td>\n",
       "    </tr>\n",
       "    <tr>\n",
       "      <th>3</th>\n",
       "      <td>연우→김소정, 배우 전향…'연기돌' 계보 이을까 ST이슈</td>\n",
       "      <td>[연우, 김소정, 배우, 전향, 연기, 돌, 계보]</td>\n",
       "    </tr>\n",
       "    <tr>\n",
       "      <th>4</th>\n",
       "      <td>시크릿 출신 전효성, 점프도 잘해..깜찍발랄 비주얼</td>\n",
       "      <td>[시크릿, 출신, 전효성, 점프, 비주얼]</td>\n",
       "    </tr>\n",
       "    <tr>\n",
       "      <th>...</th>\n",
       "      <td>...</td>\n",
       "      <td>...</td>\n",
       "    </tr>\n",
       "    <tr>\n",
       "      <th>3933897</th>\n",
       "      <td>최근 뮤직카우는 브레이브 걸스의 역주행 인기로 두각을...</td>\n",
       "      <td>[최근, 뮤직카우, 브레이브, 걸스, 역주행, 인기, 두각]</td>\n",
       "    </tr>\n",
       "    <tr>\n",
       "      <th>3933898</th>\n",
       "      <td>헤럴드경제 = 서병기 선임기자K-콘텐츠 전문 투자 플랫폼 ‘펀더풀’ 윤성욱 대표는 ...</td>\n",
       "      <td>[헤럴드, 경제, 서병기, 선임, 기자, 콘텐츠, 전문, 투자, 플랫, 폼, 펀, ...</td>\n",
       "    </tr>\n",
       "    <tr>\n",
       "      <th>3933899</th>\n",
       "      <td>이를 통해 기업 투자자의 전유물이었던 콘텐츠 투자 영역에 일반인도 쉽게 투자할 수 ...</td>\n",
       "      <td>[이, 기업, 투자자, 전유물, 콘텐츠, 투자, 영역, 일반인, 투자, 수, 투자,...</td>\n",
       "    </tr>\n",
       "    <tr>\n",
       "      <th>3933900</th>\n",
       "      <td>펀더풀뿐 아니라 저작권 투자가 가능한 ‘뮤직카우’, 앤디워홀 등 아트 작품에 투자할...</td>\n",
       "      <td>[펀, 뿐, 저작, 투자, 가능, 뮤직카우, 앤디워홀, 등, 아트, 작품, 투자, ...</td>\n",
       "    </tr>\n",
       "    <tr>\n",
       "      <th>3933901</th>\n",
       "      <td>또한 문화 콘텐츠 제작을 돕는 것을 넘어 콘텐츠 성장이 자산 형성에 기여하는 선순환...</td>\n",
       "      <td>[문화, 콘텐츠, 제작, 것, 콘텐츠, 성장, 자산, 형성, 기여, 선, 순환, 자...</td>\n",
       "    </tr>\n",
       "  </tbody>\n",
       "</table>\n",
       "<p>3933902 rows × 2 columns</p>\n",
       "</div>"
      ],
      "text/plain": [
       "                                                      text  \\\n",
       "0                                   한선화 숙취해소법? 라면 먹고 아이스크림   \n",
       "1                      한선화, 군복무 중 동생 한승우 면회? 이렇게 사이좋은 남매라니   \n",
       "2                      한선화, 군인 동생 한승우 면회..누나 덕에 선임들 예쁨 받겠네   \n",
       "3                          연우→김소정, 배우 전향…'연기돌' 계보 이을까 ST이슈   \n",
       "4                             시크릿 출신 전효성, 점프도 잘해..깜찍발랄 비주얼   \n",
       "...                                                    ...   \n",
       "3933897                   최근 뮤직카우는 브레이브 걸스의 역주행 인기로 두각을...   \n",
       "3933898  헤럴드경제 = 서병기 선임기자K-콘텐츠 전문 투자 플랫폼 ‘펀더풀’ 윤성욱 대표는 ...   \n",
       "3933899  이를 통해 기업 투자자의 전유물이었던 콘텐츠 투자 영역에 일반인도 쉽게 투자할 수 ...   \n",
       "3933900  펀더풀뿐 아니라 저작권 투자가 가능한 ‘뮤직카우’, 앤디워홀 등 아트 작품에 투자할...   \n",
       "3933901  또한 문화 콘텐츠 제작을 돕는 것을 넘어 콘텐츠 성장이 자산 형성에 기여하는 선순환...   \n",
       "\n",
       "                                                  pre_text  \n",
       "0                                  [한선, 숙취, 소법, 라면, 아이스크림]  \n",
       "1                     [한선화, 군, 복무, 중, 동생, 한승우, 면회, 사이, 남매]  \n",
       "2                        [한선화, 군인, 동생, 한승우, 면회, 누나, 덕, 선임]  \n",
       "3                             [연우, 김소정, 배우, 전향, 연기, 돌, 계보]  \n",
       "4                                  [시크릿, 출신, 전효성, 점프, 비주얼]  \n",
       "...                                                    ...  \n",
       "3933897                  [최근, 뮤직카우, 브레이브, 걸스, 역주행, 인기, 두각]  \n",
       "3933898  [헤럴드, 경제, 서병기, 선임, 기자, 콘텐츠, 전문, 투자, 플랫, 폼, 펀, ...  \n",
       "3933899  [이, 기업, 투자자, 전유물, 콘텐츠, 투자, 영역, 일반인, 투자, 수, 투자,...  \n",
       "3933900  [펀, 뿐, 저작, 투자, 가능, 뮤직카우, 앤디워홀, 등, 아트, 작품, 투자, ...  \n",
       "3933901  [문화, 콘텐츠, 제작, 것, 콘텐츠, 성장, 자산, 형성, 기여, 선, 순환, 자...  \n",
       "\n",
       "[3933902 rows x 2 columns]"
      ]
     },
     "execution_count": 97,
     "metadata": {},
     "output_type": "execute_result"
    }
   ],
   "source": [
    "sen_df"
   ]
  },
  {
   "cell_type": "code",
   "execution_count": 72,
   "id": "eda5e901",
   "metadata": {},
   "outputs": [
    {
     "name": "stdout",
     "output_type": "stream",
     "text": [
      "총 단어 개수: 97419\n"
     ]
    }
   ],
   "source": [
    "from tensorflow.keras.preprocessing.text import Tokenizer\n",
    "from tensorflow.keras.preprocessing.sequence import pad_sequences\n",
    "\n",
    "tokenizer = Tokenizer()\n",
    "tokenizer.fit_on_texts(sen_df['pre_text'])\n",
    "print('총 단어 개수:', len(tokenizer.word_index))"
   ]
  },
  {
   "cell_type": "code",
   "execution_count": 73,
   "id": "d278b847",
   "metadata": {},
   "outputs": [
    {
     "data": {
      "text/plain": [
       "17.666923024841072"
      ]
     },
     "execution_count": 73,
     "metadata": {},
     "output_type": "execute_result"
    }
   ],
   "source": [
    "# 워드투벡 생성시 고유 단어 수^0.25 가 적절한 차원 수란 얘기가 있는데 잘 모르겠음\n",
    "len(tokenizer.word_index)**0.25"
   ]
  },
  {
   "cell_type": "code",
   "execution_count": 98,
   "id": "68ca3815",
   "metadata": {},
   "outputs": [],
   "source": [
    "from gensim.models.word2vec import Word2Vec\n",
    "\n",
    "wv = Word2Vec( sentences=sen_df['pre_text'], vector_size = 50, epochs= 10,window = 5, workers =4, min_count =3, sg =1)"
   ]
  },
  {
   "cell_type": "code",
   "execution_count": 99,
   "id": "9e5ab5dc",
   "metadata": {},
   "outputs": [],
   "source": [
    "wv.save('근6개월치.model')"
   ]
  },
  {
   "cell_type": "code",
   "execution_count": 123,
   "id": "04bb3860",
   "metadata": {},
   "outputs": [
    {
     "data": {
      "text/plain": [
       "[('자산', 0.8411035537719727),\n",
       " ('펀드', 0.8318650722503662),\n",
       " ('해시드', 0.8259373307228088),\n",
       " ('상장지수', 0.8241746425628662),\n",
       " ('證', 0.8234809041023254),\n",
       " ('투자자', 0.8193813562393188),\n",
       " ('기업공개', 0.8173936009407043),\n",
       " ('투자처', 0.8113041520118713),\n",
       " ('애널리스트', 0.8105679154396057),\n",
       " ('증권', 0.809446394443512),\n",
       " ('자금', 0.8054743409156799),\n",
       " ('운용', 0.8042000532150269),\n",
       " ('출자자', 0.8004212975502014),\n",
       " ('주식', 0.7996504902839661),\n",
       " ('지분', 0.7972466349601746),\n",
       " ('한금', 0.7965776920318604),\n",
       " ('인수', 0.7939862608909607),\n",
       " ('캐피털', 0.791592001914978),\n",
       " ('소액', 0.7901537418365479),\n",
       " ('조달', 0.7901169061660767)]"
      ]
     },
     "execution_count": 123,
     "metadata": {},
     "output_type": "execute_result"
    }
   ],
   "source": [
    "wv.wv.most_similar('',topn = 20)"
   ]
  }
 ],
 "metadata": {
  "kernelspec": {
   "display_name": "Python 3",
   "language": "python",
   "name": "python3"
  },
  "language_info": {
   "codemirror_mode": {
    "name": "ipython",
    "version": 3
   },
   "file_extension": ".py",
   "mimetype": "text/x-python",
   "name": "python",
   "nbconvert_exporter": "python",
   "pygments_lexer": "ipython3",
   "version": "3.8.8"
  }
 },
 "nbformat": 4,
 "nbformat_minor": 5
}
