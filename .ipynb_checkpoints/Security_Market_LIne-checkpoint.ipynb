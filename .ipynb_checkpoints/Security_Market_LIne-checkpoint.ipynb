{
 "cells": [
  {
   "cell_type": "code",
   "execution_count": 1,
   "metadata": {},
   "outputs": [],
   "source": [
    "from pymongo import MongoClient\n",
    "import pandas as pd\n",
    "import numpy as np"
   ]
  },
  {
   "cell_type": "code",
   "execution_count": 2,
   "metadata": {
    "pycharm": {
     "name": "#%%\n"
    }
   },
   "outputs": [],
   "source": [
    "client = MongoClient('localhost', 27017)\n",
    "\n",
    "db1 = client.music_cow\n",
    "col1 = db1.daily_music_cow\n",
    "col2 = db1.MCPI"
   ]
  },
  {
   "cell_type": "code",
   "execution_count": 3,
   "metadata": {
    "pycharm": {
     "name": "#%%\n"
    }
   },
   "outputs": [],
   "source": [
    "list_price = col1.find({}, {'num': {\"$slice\": [1, 1]}})\n",
    "list_index = col2.find({}, {'num': {\"$slice\": [1, 1]}})\n",
    "\n",
    "data = []\n",
    "df_price = pd.DataFrame(data, columns=['num'])\n",
    "df_index = pd.DataFrame(data, columns=['num'])"
   ]
  },
  {
   "cell_type": "code",
   "execution_count": 4,
   "metadata": {
    "pycharm": {
     "name": "#%%\n"
    }
   },
   "outputs": [],
   "source": [
    "\n",
    "for x in list_price:\n",
    "    temp_price = x.copy()\n",
    "    del(temp_price['num'], temp_price['_id'], temp_price['song_title'], temp_price['song_artist'])\n",
    "    # temp_price.pop('num'), temp_price.pop('_id'), temp_price.pop('song_title'), temp_price.pop('song_artist')\n",
    "    temp_date = {}\n",
    "    for key, value in temp_price.items():\n",
    "        temp_date[key] = value['price']\n",
    "    temp_date['num'] = x['num']\n",
    "    df_price = df_price.append(temp_date, ignore_index=True)"
   ]
  },
  {
   "cell_type": "code",
   "execution_count": 5,
   "metadata": {
    "pycharm": {
     "name": "#%%\n"
    }
   },
   "outputs": [],
   "source": [
    "for y in list_index:\n",
    "    df_index = df_index.append(y, ignore_index=True)"
   ]
  },
  {
   "cell_type": "code",
   "execution_count": 6,
   "metadata": {
    "pycharm": {
     "name": "#%%\n"
    }
   },
   "outputs": [
    {
     "name": "stdout",
     "output_type": "stream",
     "text": [
      "      num 2021-06-03 2021-06-04 2021-06-05 2021-06-06 2021-06-07 2021-06-08  \\\n",
      "0      26      29000      29000      29000      28500      29100      29100   \n",
      "1      27      26000      26000      26000      26000      26000      26000   \n",
      "2      28      24000      24000      23700      23500      24900      24900   \n",
      "3      29      52800      52800      52800      52800      52800      52800   \n",
      "4      30      13500      13500      13500      13500      13500      13500   \n",
      "..    ...        ...        ...        ...        ...        ...        ...   \n",
      "809  1550        NaN        NaN        NaN        NaN        NaN        NaN   \n",
      "810  1551        NaN        NaN        NaN        NaN        NaN        NaN   \n",
      "811  1556        NaN        NaN        NaN        NaN        NaN        NaN   \n",
      "812  1558        NaN        NaN        NaN        NaN        NaN        NaN   \n",
      "813  1559        NaN        NaN        NaN        NaN        NaN        NaN   \n",
      "\n",
      "    2021-06-09 2021-06-10 2021-06-11  ... 2021-10-21 2021-10-22 2021-10-23  \\\n",
      "0        27700      27700      28000  ...      37900      36500      37000   \n",
      "1        26000      26000      26000  ...      40200      40200      40200   \n",
      "2        24900      24900      25000  ...      30000      33300      30100   \n",
      "3        52800      52800      52800  ...     105000     122000     122000   \n",
      "4        13500      13500      13500  ...      32200      30000      30000   \n",
      "..         ...        ...        ...  ...        ...        ...        ...   \n",
      "809        NaN        NaN        NaN  ...      19000      19000      18900   \n",
      "810        NaN        NaN        NaN  ...      22200      20500      24500   \n",
      "811        NaN        NaN        NaN  ...      41000      52900      49700   \n",
      "812        NaN        NaN        NaN  ...      20000      18800      19600   \n",
      "813        NaN        NaN        NaN  ...      19900      19900      19900   \n",
      "\n",
      "    2021-10-24 2021-10-25 2021-10-26 2021-10-27 2021-10-28 2021-10-29  \\\n",
      "0        36900      36900      36500      36700      36500      34200   \n",
      "1        40200      47000      47000      40300      40300      40300   \n",
      "2        30200      33300      33300      33300      33300      30000   \n",
      "3       122000     122000     122000     103100     103100     103100   \n",
      "4        38000      38000      30100      30000      30000      30000   \n",
      "..         ...        ...        ...        ...        ...        ...   \n",
      "809      17500      17500      17700      17700      17700      15800   \n",
      "810      25000      23800      24500      23600      21100      21500   \n",
      "811      49700      49700      42000      49800      45000      45000   \n",
      "812      20400      20000      19000      20400      18700      18800   \n",
      "813      18500      18500      17800      18900      18900      18700   \n",
      "\n",
      "    2021-10-30  \n",
      "0        34200  \n",
      "1        40300  \n",
      "2        30100  \n",
      "3       103100  \n",
      "4        30000  \n",
      "..         ...  \n",
      "809      17900  \n",
      "810      21500  \n",
      "811      53100  \n",
      "812      18900  \n",
      "813      18700  \n",
      "\n",
      "[814 rows x 151 columns]\n",
      "   num                                                 19  \\\n",
      "0  NaN  [None, None, None, None, None, None, None, Non...   \n",
      "\n",
      "                                                  20  \\\n",
      "0  [None, None, None, None, None, None, None, Non...   \n",
      "\n",
      "                                                  21 Title  \\\n",
      "0  {'01': [None, None, None, None, None, None, No...  MCPI   \n",
      "\n",
      "                        _id  \n",
      "0  614dd29ba5dcfb21284b307d  \n"
     ]
    }
   ],
   "source": [
    "df_price.to_pickle('df_price.pkl')\n",
    "df_index.to_pickle('df_index.pkl')\n",
    "\n",
    "print(df_price)\n",
    "print(df_index)\n"
   ]
  },
  {
   "cell_type": "code",
   "execution_count": null,
   "metadata": {},
   "outputs": [],
   "source": []
  }
 ],
 "metadata": {
  "kernelspec": {
   "display_name": "Python 3 (ipykernel)",
   "language": "python",
   "name": "python3"
  },
  "language_info": {
   "codemirror_mode": {
    "name": "ipython",
    "version": 3
   },
   "file_extension": ".py",
   "mimetype": "text/x-python",
   "name": "python",
   "nbconvert_exporter": "python",
   "pygments_lexer": "ipython3",
   "version": "3.8.11"
  }
 },
 "nbformat": 4,
 "nbformat_minor": 1
}
